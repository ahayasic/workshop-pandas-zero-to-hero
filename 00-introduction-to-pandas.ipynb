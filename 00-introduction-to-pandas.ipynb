{
 "cells": [
  {
   "cell_type": "code",
   "execution_count": 1,
   "id": "65db82d7-8e3b-4f29-92c2-8be3a79eb323",
   "metadata": {},
   "outputs": [],
   "source": [
    "import numpy as np\n",
    "import pandas as pd"
   ]
  },
  {
   "cell_type": "markdown",
   "id": "9aa9f1f7-2e27-4781-a393-31245d1ada56",
   "metadata": {},
   "source": [
    "# Introduction to Pandas\n",
    "\n",
    "Pandas is a Python package created that provides high-level data structures and methods for data manipulation and analysis. It was created in 2010 by Wes McKinney.\n",
    "\n",
    "The core components of pandas are:\n",
    "\n",
    "- **Series:** A labeled one-dimensional array.\n",
    "- **DataFrame:** A tabular data structure with labeled rows and columns.\n",
    "\n",
    "Initially built on top of NumPy, pandas extends numerical computing with n-dimensional homogeneous arrays to a SQL-like data structures and manipulation idiom. It includes integrated time series support, automatic data alignment, and robust handling of missing data. These features make pandas highly effective for tasks like data selection, aggregation, element-wise transformations, user-defined function (UDF) applications, and relational operations (e.g., joins).\n",
    "\n",
    "With over 200 million downloads per month, pandas is currently the most popular data manipulation tool in the Python ecosystem. It supports NumPy, Apache Arrow, and integrates with numerous other tools that enhances your capabilities."
   ]
  },
  {
   "cell_type": "markdown",
   "id": "35f44e74-618b-43e6-997c-2ac9933dfe45",
   "metadata": {},
   "source": [
    "# Fundamental Data Structures\n",
    "\n",
    "Pandas data manipulation occurs through the core data structures: `Series` and `DataFrame`. \n",
    "\n",
    "Complementing these, pandas also has the `Index` data structure, which enhances the behavior and capabilities of both `Series` and `DataFrame`."
   ]
  },
  {
   "cell_type": "markdown",
   "id": "fa2ab5e1-aa1b-4599-ad0b-c71b4e0eb7a7",
   "metadata": {},
   "source": [
    "## Series \n",
    "\n",
    "A Series is a one-dimensional, array-like data structure that contains values of the same type and an associated index.\n",
    "\n",
    "You can create a Series from scratch in various ways, such as using an array-like object (e.g., NumPy arrays), an iterable, a dictionary, or a scalar value. \n",
    "\n",
    "Series objects comes with a range of useful metadata attributes that help in understanding the data being manipulated. Common attributes include:\n",
    "\n",
    "- `dtype`/`dtypes`: data type of the values\n",
    "- `shape`: shape of the underlying data\n",
    "- `size`: number of elements in the Series\n",
    "- `nbytes`: Size in bytes of Series data\n",
    "- `values`: ndarray (or ndarray-like) of Series values\n"
   ]
  },
  {
   "cell_type": "code",
   "execution_count": 2,
   "id": "c7be9b84-be3d-4f9f-90ae-f8f6b50a60cc",
   "metadata": {},
   "outputs": [
    {
     "data": {
      "text/plain": [
       "0    10\n",
       "1    20\n",
       "2    30\n",
       "3    40\n",
       "dtype: int64"
      ]
     },
     "execution_count": 2,
     "metadata": {},
     "output_type": "execute_result"
    }
   ],
   "source": [
    "s = pd.Series([10, 20, 30, 40])\n",
    "s"
   ]
  },
  {
   "cell_type": "code",
   "execution_count": 3,
   "id": "986196cf-afd7-45a5-bf41-1fd368925825",
   "metadata": {},
   "outputs": [
    {
     "data": {
      "text/plain": [
       "dtype('int64')"
      ]
     },
     "execution_count": 3,
     "metadata": {},
     "output_type": "execute_result"
    }
   ],
   "source": [
    "s.dtypes"
   ]
  },
  {
   "cell_type": "code",
   "execution_count": 4,
   "id": "ed623696-b718-4c84-a05d-85921a166267",
   "metadata": {},
   "outputs": [
    {
     "data": {
      "text/plain": [
       "(4,)"
      ]
     },
     "execution_count": 4,
     "metadata": {},
     "output_type": "execute_result"
    }
   ],
   "source": [
    "s.shape"
   ]
  },
  {
   "cell_type": "code",
   "execution_count": 5,
   "id": "ea763f93-e2ac-4dc4-96b7-0f5b6a31ff99",
   "metadata": {},
   "outputs": [
    {
     "data": {
      "text/plain": [
       "4"
      ]
     },
     "execution_count": 5,
     "metadata": {},
     "output_type": "execute_result"
    }
   ],
   "source": [
    "s.size"
   ]
  },
  {
   "cell_type": "code",
   "execution_count": 6,
   "id": "17ad3a76-b63a-4796-a634-014aa785bedb",
   "metadata": {},
   "outputs": [
    {
     "data": {
      "text/plain": [
       "32"
      ]
     },
     "execution_count": 6,
     "metadata": {},
     "output_type": "execute_result"
    }
   ],
   "source": [
    "s.nbytes"
   ]
  },
  {
   "cell_type": "code",
   "execution_count": 7,
   "id": "9880f2dc-1f18-42ef-96e6-6781142eca85",
   "metadata": {},
   "outputs": [
    {
     "data": {
      "text/plain": [
       "array([10, 20, 30, 40])"
      ]
     },
     "execution_count": 7,
     "metadata": {},
     "output_type": "execute_result"
    }
   ],
   "source": [
    "s.values"
   ]
  },
  {
   "cell_type": "markdown",
   "id": "2cda046d-7cb0-458d-99fc-89c60460f77f",
   "metadata": {},
   "source": [
    "Every pandas object (Series or DataFrame) has an associated Index. If an index is not explicitly defined, a Series is created with an index consisting of the integers 0 through N - 1 (where N is the length of the data).\n",
    "\n",
    "The index values serve as labels and can be used for various data selection operations. Given the importance and fit between pandas objects and their indexes, you can also create it with custom labels.\n",
    "\n",
    "Additionaly, you can retrieve the Index of a Series using the `index` attribute."
   ]
  },
  {
   "cell_type": "code",
   "execution_count": 8,
   "id": "b1d31c39-0e80-4a96-b66f-393e3401c309",
   "metadata": {},
   "outputs": [
    {
     "data": {
      "text/plain": [
       "a    10\n",
       "b    20\n",
       "c    30\n",
       "d    40\n",
       "dtype: int64"
      ]
     },
     "execution_count": 8,
     "metadata": {},
     "output_type": "execute_result"
    }
   ],
   "source": [
    "s = pd.Series([10, 20, 30, 40], index=['a', 'b', 'c', 'd'])\n",
    "s"
   ]
  },
  {
   "cell_type": "code",
   "execution_count": 9,
   "id": "30308d3b-b0e5-4a6d-801e-f549f5a1af0e",
   "metadata": {},
   "outputs": [
    {
     "data": {
      "text/plain": [
       "Index(['a', 'b', 'c', 'd'], dtype='object')"
      ]
     },
     "execution_count": 9,
     "metadata": {},
     "output_type": "execute_result"
    }
   ],
   "source": [
    "s.index"
   ]
  },
  {
   "cell_type": "code",
   "execution_count": 10,
   "id": "1c0b2352-74fa-4ce9-a52a-8840195e6721",
   "metadata": {},
   "outputs": [
    {
     "data": {
      "text/plain": [
       "20"
      ]
     },
     "execution_count": 10,
     "metadata": {},
     "output_type": "execute_result"
    }
   ],
   "source": [
    "s['b']"
   ]
  },
  {
   "cell_type": "markdown",
   "id": "124d07a2-710e-4010-9785-0b748b884e2b",
   "metadata": {},
   "source": [
    "Finally, with a Series, you can perform numerous data transformations, including filtering, binary operations, aggregations, element-wise transformations, and many others."
   ]
  },
  {
   "cell_type": "markdown",
   "id": "baf96634-373a-43a0-965f-7a5e39582a87",
   "metadata": {},
   "source": [
    "## DataFrames\n",
    "\n",
    "A DataFrame is a two-dimensional heterogeneous data structure that behaves like a table or spreadsheet. It has rows and columns, where each column can have a different data type (e.g., integer, float, string). The DataFrame's rows and columns are labeled, allowing for easy indexing and retrieval of data.\n",
    "\n",
    "There are many ways to create DataFrames from scratch. The most common methods are: a list of dictionaries, a dictionary of equal-length lists, or NumPy arrays.\n",
    "\n",
    "Just like Series, an index will be automatically assigned if not provided. Columns are `Index` objects too, so if not explicitly defined, they will be automatically assigned in the 0 to N-1 fashion (where N is the number of columns in the data). The columns are ordered according to the order of the keys in the data (which depends on their insertion order in the dictionary, for example). All Index methods can be applied to both row indices and columns.\n",
    "\n",
    "Additionally, DataFrames have a range of useful metadata attributes that help in understanding the data being manipulated. Common attributes include:\n",
    "\n",
    "- `dtypes`: The data types of the columns.\n",
    "- `shape`: The dimensionality of the DataFrame (rows, columns).\n",
    "- `size`: The number of elements in the DataFrame.\n",
    "- `columns`: The column labels.\n",
    "- `values`: The underlying NumPy array of values in the DataFrame."
   ]
  },
  {
   "cell_type": "code",
   "execution_count": 11,
   "id": "ca220e3d-aa62-4a8c-8c32-9d03ee1b6721",
   "metadata": {},
   "outputs": [
    {
     "data": {
      "text/html": [
       "<div>\n",
       "<style scoped>\n",
       "    .dataframe tbody tr th:only-of-type {\n",
       "        vertical-align: middle;\n",
       "    }\n",
       "\n",
       "    .dataframe tbody tr th {\n",
       "        vertical-align: top;\n",
       "    }\n",
       "\n",
       "    .dataframe thead th {\n",
       "        text-align: right;\n",
       "    }\n",
       "</style>\n",
       "<table border=\"1\" class=\"dataframe\">\n",
       "  <thead>\n",
       "    <tr style=\"text-align: right;\">\n",
       "      <th></th>\n",
       "      <th>Fruit</th>\n",
       "      <th>Quantity</th>\n",
       "      <th>Price</th>\n",
       "    </tr>\n",
       "  </thead>\n",
       "  <tbody>\n",
       "    <tr>\n",
       "      <th>0</th>\n",
       "      <td>Apple</td>\n",
       "      <td>10</td>\n",
       "      <td>5</td>\n",
       "    </tr>\n",
       "    <tr>\n",
       "      <th>1</th>\n",
       "      <td>Banana</td>\n",
       "      <td>20</td>\n",
       "      <td>3</td>\n",
       "    </tr>\n",
       "    <tr>\n",
       "      <th>2</th>\n",
       "      <td>Cherry</td>\n",
       "      <td>15</td>\n",
       "      <td>1</td>\n",
       "    </tr>\n",
       "    <tr>\n",
       "      <th>3</th>\n",
       "      <td>Dragon Fruit</td>\n",
       "      <td>30</td>\n",
       "      <td>15</td>\n",
       "    </tr>\n",
       "    <tr>\n",
       "      <th>4</th>\n",
       "      <td>Elderberry</td>\n",
       "      <td>5</td>\n",
       "      <td>20</td>\n",
       "    </tr>\n",
       "  </tbody>\n",
       "</table>\n",
       "</div>"
      ],
      "text/plain": [
       "          Fruit  Quantity  Price\n",
       "0         Apple        10      5\n",
       "1        Banana        20      3\n",
       "2        Cherry        15      1\n",
       "3  Dragon Fruit        30     15\n",
       "4    Elderberry         5     20"
      ]
     },
     "execution_count": 11,
     "metadata": {},
     "output_type": "execute_result"
    }
   ],
   "source": [
    "df = pd.DataFrame({\n",
    "    'Fruit': ['Apple', 'Banana', 'Cherry', 'Dragon Fruit', 'Elderberry'],\n",
    "    'Quantity': [10, 20, 15, 30, 5],\n",
    "    'Price': [5, 3, 1, 15, 20]\n",
    "})\n",
    "df"
   ]
  },
  {
   "cell_type": "code",
   "execution_count": 12,
   "id": "b710b43c-6500-44d7-b17b-680c05ccc737",
   "metadata": {},
   "outputs": [
    {
     "data": {
      "text/plain": [
       "Fruit       object\n",
       "Quantity     int64\n",
       "Price        int64\n",
       "dtype: object"
      ]
     },
     "execution_count": 12,
     "metadata": {},
     "output_type": "execute_result"
    }
   ],
   "source": [
    "df.dtypes"
   ]
  },
  {
   "cell_type": "code",
   "execution_count": 13,
   "id": "0f3b90f5-bc78-43c7-a895-f7ddb9c09e09",
   "metadata": {},
   "outputs": [
    {
     "data": {
      "text/plain": [
       "(5, 3)"
      ]
     },
     "execution_count": 13,
     "metadata": {},
     "output_type": "execute_result"
    }
   ],
   "source": [
    "df.shape"
   ]
  },
  {
   "cell_type": "code",
   "execution_count": 14,
   "id": "8f65ef0f-1076-4d91-8719-8e58a55be933",
   "metadata": {},
   "outputs": [
    {
     "data": {
      "text/plain": [
       "15"
      ]
     },
     "execution_count": 14,
     "metadata": {},
     "output_type": "execute_result"
    }
   ],
   "source": [
    "df.size"
   ]
  },
  {
   "cell_type": "code",
   "execution_count": 15,
   "id": "4982d494-d1f8-463a-b931-ec806f90228e",
   "metadata": {},
   "outputs": [
    {
     "data": {
      "text/plain": [
       "RangeIndex(start=0, stop=5, step=1)"
      ]
     },
     "execution_count": 15,
     "metadata": {},
     "output_type": "execute_result"
    }
   ],
   "source": [
    "df.index"
   ]
  },
  {
   "cell_type": "code",
   "execution_count": 16,
   "id": "672ca3fc-16d5-4481-9ab5-9fac842fc5a3",
   "metadata": {},
   "outputs": [
    {
     "data": {
      "text/plain": [
       "Index(['Fruit', 'Quantity', 'Price'], dtype='object')"
      ]
     },
     "execution_count": 16,
     "metadata": {},
     "output_type": "execute_result"
    }
   ],
   "source": [
    "df.columns"
   ]
  },
  {
   "cell_type": "code",
   "execution_count": 17,
   "id": "2bbbc273-50c4-412b-9c12-2f5d85a9579a",
   "metadata": {},
   "outputs": [
    {
     "data": {
      "text/plain": [
       "array([['Apple', 10, 5],\n",
       "       ['Banana', 20, 3],\n",
       "       ['Cherry', 15, 1],\n",
       "       ['Dragon Fruit', 30, 15],\n",
       "       ['Elderberry', 5, 20]], dtype=object)"
      ]
     },
     "execution_count": 17,
     "metadata": {},
     "output_type": "execute_result"
    }
   ],
   "source": [
    "df.values"
   ]
  },
  {
   "cell_type": "markdown",
   "id": "833bba85-7c56-4522-b982-579b593463b4",
   "metadata": {},
   "source": [
    "With a DataFrame, you can perform various data transformations, including filtering, grouping, merging, and applying UDF functions to rows or columns."
   ]
  },
  {
   "cell_type": "markdown",
   "id": "6d479b5e-8817-41ec-92a2-2079e377df23",
   "metadata": {},
   "source": [
    "## Quick Description Methods\n",
    "\n",
    "Pandas objects has some basic methods that provide a quick description and overview of the data structure. The most commonly used are:\n",
    "\n",
    "- `head()`: returns the first n rows of the Series. By default, it returns the first 5 rows.\n",
    "- `tail()`: returns the last n rows of the DataFrame. By default, it returns the last 5 rows.\n",
    "- `info()`: provides a concise summary of the DataFrame, including the index dtype and column dtypes, non-null values, and memory usage.\n",
    "- `describe():` provides descriptive statistics that summarize the central tendency, dispersion, and shape of a dataset’s distribution, excluding NaN values."
   ]
  },
  {
   "cell_type": "code",
   "execution_count": 18,
   "id": "a7f95351-1933-4e6a-9846-c0d728fead66",
   "metadata": {},
   "outputs": [
    {
     "data": {
      "text/html": [
       "<div>\n",
       "<style scoped>\n",
       "    .dataframe tbody tr th:only-of-type {\n",
       "        vertical-align: middle;\n",
       "    }\n",
       "\n",
       "    .dataframe tbody tr th {\n",
       "        vertical-align: top;\n",
       "    }\n",
       "\n",
       "    .dataframe thead th {\n",
       "        text-align: right;\n",
       "    }\n",
       "</style>\n",
       "<table border=\"1\" class=\"dataframe\">\n",
       "  <thead>\n",
       "    <tr style=\"text-align: right;\">\n",
       "      <th></th>\n",
       "      <th>Fruit</th>\n",
       "      <th>Quantity</th>\n",
       "      <th>Price</th>\n",
       "    </tr>\n",
       "  </thead>\n",
       "  <tbody>\n",
       "    <tr>\n",
       "      <th>0</th>\n",
       "      <td>Apple</td>\n",
       "      <td>10</td>\n",
       "      <td>5</td>\n",
       "    </tr>\n",
       "    <tr>\n",
       "      <th>1</th>\n",
       "      <td>Banana</td>\n",
       "      <td>20</td>\n",
       "      <td>3</td>\n",
       "    </tr>\n",
       "    <tr>\n",
       "      <th>2</th>\n",
       "      <td>Cherry</td>\n",
       "      <td>15</td>\n",
       "      <td>1</td>\n",
       "    </tr>\n",
       "  </tbody>\n",
       "</table>\n",
       "</div>"
      ],
      "text/plain": [
       "    Fruit  Quantity  Price\n",
       "0   Apple        10      5\n",
       "1  Banana        20      3\n",
       "2  Cherry        15      1"
      ]
     },
     "execution_count": 18,
     "metadata": {},
     "output_type": "execute_result"
    }
   ],
   "source": [
    "df.head(3)"
   ]
  },
  {
   "cell_type": "code",
   "execution_count": 19,
   "id": "0987c699-a8eb-4964-b5cc-27843586f18f",
   "metadata": {},
   "outputs": [
    {
     "data": {
      "text/html": [
       "<div>\n",
       "<style scoped>\n",
       "    .dataframe tbody tr th:only-of-type {\n",
       "        vertical-align: middle;\n",
       "    }\n",
       "\n",
       "    .dataframe tbody tr th {\n",
       "        vertical-align: top;\n",
       "    }\n",
       "\n",
       "    .dataframe thead th {\n",
       "        text-align: right;\n",
       "    }\n",
       "</style>\n",
       "<table border=\"1\" class=\"dataframe\">\n",
       "  <thead>\n",
       "    <tr style=\"text-align: right;\">\n",
       "      <th></th>\n",
       "      <th>Fruit</th>\n",
       "      <th>Quantity</th>\n",
       "      <th>Price</th>\n",
       "    </tr>\n",
       "  </thead>\n",
       "  <tbody>\n",
       "    <tr>\n",
       "      <th>2</th>\n",
       "      <td>Cherry</td>\n",
       "      <td>15</td>\n",
       "      <td>1</td>\n",
       "    </tr>\n",
       "    <tr>\n",
       "      <th>3</th>\n",
       "      <td>Dragon Fruit</td>\n",
       "      <td>30</td>\n",
       "      <td>15</td>\n",
       "    </tr>\n",
       "    <tr>\n",
       "      <th>4</th>\n",
       "      <td>Elderberry</td>\n",
       "      <td>5</td>\n",
       "      <td>20</td>\n",
       "    </tr>\n",
       "  </tbody>\n",
       "</table>\n",
       "</div>"
      ],
      "text/plain": [
       "          Fruit  Quantity  Price\n",
       "2        Cherry        15      1\n",
       "3  Dragon Fruit        30     15\n",
       "4    Elderberry         5     20"
      ]
     },
     "execution_count": 19,
     "metadata": {},
     "output_type": "execute_result"
    }
   ],
   "source": [
    "df.tail(3)"
   ]
  },
  {
   "cell_type": "code",
   "execution_count": 20,
   "id": "1f3d78c4-efd9-41e8-a70c-905f6c2f8770",
   "metadata": {},
   "outputs": [
    {
     "name": "stdout",
     "output_type": "stream",
     "text": [
      "<class 'pandas.core.frame.DataFrame'>\n",
      "RangeIndex: 5 entries, 0 to 4\n",
      "Data columns (total 3 columns):\n",
      " #   Column    Non-Null Count  Dtype \n",
      "---  ------    --------------  ----- \n",
      " 0   Fruit     5 non-null      object\n",
      " 1   Quantity  5 non-null      int64 \n",
      " 2   Price     5 non-null      int64 \n",
      "dtypes: int64(2), object(1)\n",
      "memory usage: 532.0 bytes\n"
     ]
    }
   ],
   "source": [
    "df.info(memory_usage='deep')"
   ]
  },
  {
   "cell_type": "code",
   "execution_count": 21,
   "id": "22860e84-6d19-422e-a2af-50a147664a26",
   "metadata": {},
   "outputs": [
    {
     "data": {
      "text/html": [
       "<div>\n",
       "<style scoped>\n",
       "    .dataframe tbody tr th:only-of-type {\n",
       "        vertical-align: middle;\n",
       "    }\n",
       "\n",
       "    .dataframe tbody tr th {\n",
       "        vertical-align: top;\n",
       "    }\n",
       "\n",
       "    .dataframe thead th {\n",
       "        text-align: right;\n",
       "    }\n",
       "</style>\n",
       "<table border=\"1\" class=\"dataframe\">\n",
       "  <thead>\n",
       "    <tr style=\"text-align: right;\">\n",
       "      <th></th>\n",
       "      <th>Quantity</th>\n",
       "      <th>Price</th>\n",
       "    </tr>\n",
       "  </thead>\n",
       "  <tbody>\n",
       "    <tr>\n",
       "      <th>count</th>\n",
       "      <td>5.000000</td>\n",
       "      <td>5.000000</td>\n",
       "    </tr>\n",
       "    <tr>\n",
       "      <th>mean</th>\n",
       "      <td>16.000000</td>\n",
       "      <td>8.800000</td>\n",
       "    </tr>\n",
       "    <tr>\n",
       "      <th>std</th>\n",
       "      <td>9.617692</td>\n",
       "      <td>8.258329</td>\n",
       "    </tr>\n",
       "    <tr>\n",
       "      <th>min</th>\n",
       "      <td>5.000000</td>\n",
       "      <td>1.000000</td>\n",
       "    </tr>\n",
       "    <tr>\n",
       "      <th>25%</th>\n",
       "      <td>10.000000</td>\n",
       "      <td>3.000000</td>\n",
       "    </tr>\n",
       "    <tr>\n",
       "      <th>50%</th>\n",
       "      <td>15.000000</td>\n",
       "      <td>5.000000</td>\n",
       "    </tr>\n",
       "    <tr>\n",
       "      <th>75%</th>\n",
       "      <td>20.000000</td>\n",
       "      <td>15.000000</td>\n",
       "    </tr>\n",
       "    <tr>\n",
       "      <th>max</th>\n",
       "      <td>30.000000</td>\n",
       "      <td>20.000000</td>\n",
       "    </tr>\n",
       "  </tbody>\n",
       "</table>\n",
       "</div>"
      ],
      "text/plain": [
       "        Quantity      Price\n",
       "count   5.000000   5.000000\n",
       "mean   16.000000   8.800000\n",
       "std     9.617692   8.258329\n",
       "min     5.000000   1.000000\n",
       "25%    10.000000   3.000000\n",
       "50%    15.000000   5.000000\n",
       "75%    20.000000  15.000000\n",
       "max    30.000000  20.000000"
      ]
     },
     "execution_count": 21,
     "metadata": {},
     "output_type": "execute_result"
    }
   ],
   "source": [
    "df.describe()"
   ]
  },
  {
   "cell_type": "markdown",
   "id": "280c0c5b-5fe2-4593-ab5e-27ec14438c25",
   "metadata": {},
   "source": [
    "## Index Objects\n",
    "\n",
    "Pandas' `Index` objects are responsible for holding axis labels (including a DataFrame's column names) and other metadata (like axis names). They provide the infrastructure necessary for lookups, data alignment, and reindexing.\n",
    "\n",
    "You can create an Index by using any array or sequence of labels with the `index` parameter when declaring a Series or DataFrame."
   ]
  },
  {
   "cell_type": "code",
   "execution_count": 22,
   "id": "e1f51a45-2bdc-46ff-99c7-a1886cbe9415",
   "metadata": {},
   "outputs": [
    {
     "data": {
      "text/html": [
       "<div>\n",
       "<style scoped>\n",
       "    .dataframe tbody tr th:only-of-type {\n",
       "        vertical-align: middle;\n",
       "    }\n",
       "\n",
       "    .dataframe tbody tr th {\n",
       "        vertical-align: top;\n",
       "    }\n",
       "\n",
       "    .dataframe thead th {\n",
       "        text-align: right;\n",
       "    }\n",
       "</style>\n",
       "<table border=\"1\" class=\"dataframe\">\n",
       "  <thead>\n",
       "    <tr style=\"text-align: right;\">\n",
       "      <th></th>\n",
       "      <th>A</th>\n",
       "      <th>B</th>\n",
       "    </tr>\n",
       "  </thead>\n",
       "  <tbody>\n",
       "    <tr>\n",
       "      <th>row1</th>\n",
       "      <td>1</td>\n",
       "      <td>4</td>\n",
       "    </tr>\n",
       "    <tr>\n",
       "      <th>row2</th>\n",
       "      <td>2</td>\n",
       "      <td>5</td>\n",
       "    </tr>\n",
       "    <tr>\n",
       "      <th>row3</th>\n",
       "      <td>3</td>\n",
       "      <td>6</td>\n",
       "    </tr>\n",
       "  </tbody>\n",
       "</table>\n",
       "</div>"
      ],
      "text/plain": [
       "      A  B\n",
       "row1  1  4\n",
       "row2  2  5\n",
       "row3  3  6"
      ]
     },
     "execution_count": 22,
     "metadata": {},
     "output_type": "execute_result"
    }
   ],
   "source": [
    "data = {\n",
    "    'A': [1, 2, 3],\n",
    "    'B': [4, 5, 6],\n",
    "}\n",
    "index = ['row1', 'row2', 'row3']\n",
    "\n",
    "df = pd.DataFrame(data, index=index)\n",
    "df"
   ]
  },
  {
   "cell_type": "markdown",
   "id": "df01e704-ac1d-4c9b-b253-ae21cf20ba13",
   "metadata": {},
   "source": [
    "An important characteristic of `Index` objects is their immutability, meaning they cannot be modified by the user once created.\n",
    "\n",
    "This immutability ensures that sharing `Index` objects among data structures is safe, as changes to an index result in a new `Index` object rather than altering the original.\n",
    "\n",
    "For example, consider the following:"
   ]
  },
  {
   "cell_type": "code",
   "execution_count": 23,
   "id": "f90938b5-8aed-489c-b33e-91337ae72ffa",
   "metadata": {},
   "outputs": [
    {
     "name": "stdout",
     "output_type": "stream",
     "text": [
      "Original DataFrame:\n",
      "      A  B\n",
      "row1  1  4\n",
      "row2  2  5\n",
      "row3  3  6\n",
      "Original Index object ID: 4811346448\n",
      "\n",
      "DataFrame after adding a row:\n",
      "      A  B\n",
      "row1  1  4\n",
      "row2  2  5\n",
      "row3  3  6\n",
      "row4  7  8\n",
      "New Index object ID: 4811350336\n",
      "\n",
      "DataFrame after dropping a row:\n",
      "      A  B\n",
      "row2  2  5\n",
      "row3  3  6\n",
      "row4  7  8\n",
      "New Index object ID: 4811354752\n"
     ]
    }
   ],
   "source": [
    "data = {'A': [1, 2, 3], 'B': [4, 5, 6]}\n",
    "index = ['row1', 'row2', 'row3']\n",
    "df = pd.DataFrame(data, index=index)\n",
    "\n",
    "print(\"Original DataFrame:\")\n",
    "print(df)\n",
    "print(\"Original Index object ID:\", id(df.index))\n",
    "\n",
    "df.loc['row4'] = [7, 8]\n",
    "print(\"\\nDataFrame after adding a row:\")\n",
    "print(df)\n",
    "print(\"New Index object ID:\", id(df.index))\n",
    "\n",
    "df = df.drop('row1')\n",
    "print(\"\\nDataFrame after dropping a row:\")\n",
    "print(df)\n",
    "print(\"New Index object ID:\", id(df.index))"
   ]
  },
  {
   "cell_type": "markdown",
   "id": "d50b06dd-f6a8-44bc-b234-de6fd6dff24e",
   "metadata": {},
   "source": [
    "Although powerful, some users may not explicitly take advantage of Index capabilities. However, understanding how Index objects work is important, especially in relation to data alignment.\n",
    "\n",
    "In pandas, operations such as arithmetic, selection, and filtering are based on data alignment. This means that these operations depend on the matching of indexes and columns between the involved DataFrames or Series. If the indexes or columns do not align, pandas will reindex the data structures to enforce alignment before performing the operation. Consequently, any mismatched labels will result in NaN values in the output to indicate the lack of corresponding data points.\n",
    "\n",
    "By maintaining and aligning indices and columns, pandas ensures that data operations always preserve context. This prevents errors that can occur when working with heterogeneous or misaligned data, providing a more reliable and consistent data manipulation experience."
   ]
  },
  {
   "cell_type": "code",
   "execution_count": 24,
   "id": "ee26b270-1d37-445a-81f6-5ac279a01572",
   "metadata": {},
   "outputs": [
    {
     "data": {
      "text/html": [
       "<div>\n",
       "<style scoped>\n",
       "    .dataframe tbody tr th:only-of-type {\n",
       "        vertical-align: middle;\n",
       "    }\n",
       "\n",
       "    .dataframe tbody tr th {\n",
       "        vertical-align: top;\n",
       "    }\n",
       "\n",
       "    .dataframe thead th {\n",
       "        text-align: right;\n",
       "    }\n",
       "</style>\n",
       "<table border=\"1\" class=\"dataframe\">\n",
       "  <thead>\n",
       "    <tr style=\"text-align: right;\">\n",
       "      <th></th>\n",
       "      <th>A</th>\n",
       "      <th>B</th>\n",
       "    </tr>\n",
       "  </thead>\n",
       "  <tbody>\n",
       "    <tr>\n",
       "      <th>a</th>\n",
       "      <td>1</td>\n",
       "      <td>4</td>\n",
       "    </tr>\n",
       "    <tr>\n",
       "      <th>b</th>\n",
       "      <td>2</td>\n",
       "      <td>5</td>\n",
       "    </tr>\n",
       "    <tr>\n",
       "      <th>c</th>\n",
       "      <td>3</td>\n",
       "      <td>6</td>\n",
       "    </tr>\n",
       "  </tbody>\n",
       "</table>\n",
       "</div>"
      ],
      "text/plain": [
       "   A  B\n",
       "a  1  4\n",
       "b  2  5\n",
       "c  3  6"
      ]
     },
     "execution_count": 24,
     "metadata": {},
     "output_type": "execute_result"
    }
   ],
   "source": [
    "df1 = pd.DataFrame({'A': [1, 2, 3], 'B': [4, 5, 6]}, index=['a', 'b', 'c'])\n",
    "df1"
   ]
  },
  {
   "cell_type": "code",
   "execution_count": 25,
   "id": "833b8d99-c9bd-440f-9dfc-d38ce9101766",
   "metadata": {},
   "outputs": [
    {
     "data": {
      "text/html": [
       "<div>\n",
       "<style scoped>\n",
       "    .dataframe tbody tr th:only-of-type {\n",
       "        vertical-align: middle;\n",
       "    }\n",
       "\n",
       "    .dataframe tbody tr th {\n",
       "        vertical-align: top;\n",
       "    }\n",
       "\n",
       "    .dataframe thead th {\n",
       "        text-align: right;\n",
       "    }\n",
       "</style>\n",
       "<table border=\"1\" class=\"dataframe\">\n",
       "  <thead>\n",
       "    <tr style=\"text-align: right;\">\n",
       "      <th></th>\n",
       "      <th>A</th>\n",
       "      <th>B</th>\n",
       "    </tr>\n",
       "  </thead>\n",
       "  <tbody>\n",
       "    <tr>\n",
       "      <th>b</th>\n",
       "      <td>7</td>\n",
       "      <td>10</td>\n",
       "    </tr>\n",
       "    <tr>\n",
       "      <th>c</th>\n",
       "      <td>8</td>\n",
       "      <td>11</td>\n",
       "    </tr>\n",
       "    <tr>\n",
       "      <th>d</th>\n",
       "      <td>9</td>\n",
       "      <td>12</td>\n",
       "    </tr>\n",
       "  </tbody>\n",
       "</table>\n",
       "</div>"
      ],
      "text/plain": [
       "   A   B\n",
       "b  7  10\n",
       "c  8  11\n",
       "d  9  12"
      ]
     },
     "execution_count": 25,
     "metadata": {},
     "output_type": "execute_result"
    }
   ],
   "source": [
    "df2 = pd.DataFrame({'A': [7, 8, 9], 'B': [10, 11, 12]}, index=['b', 'c', 'd'])\n",
    "df2"
   ]
  },
  {
   "cell_type": "code",
   "execution_count": 26,
   "id": "7eafaf9f-3c58-4a8d-bfa2-ba9b73a4a203",
   "metadata": {},
   "outputs": [
    {
     "data": {
      "text/html": [
       "<div>\n",
       "<style scoped>\n",
       "    .dataframe tbody tr th:only-of-type {\n",
       "        vertical-align: middle;\n",
       "    }\n",
       "\n",
       "    .dataframe tbody tr th {\n",
       "        vertical-align: top;\n",
       "    }\n",
       "\n",
       "    .dataframe thead th {\n",
       "        text-align: right;\n",
       "    }\n",
       "</style>\n",
       "<table border=\"1\" class=\"dataframe\">\n",
       "  <thead>\n",
       "    <tr style=\"text-align: right;\">\n",
       "      <th></th>\n",
       "      <th>A</th>\n",
       "      <th>B</th>\n",
       "    </tr>\n",
       "  </thead>\n",
       "  <tbody>\n",
       "    <tr>\n",
       "      <th>a</th>\n",
       "      <td>NaN</td>\n",
       "      <td>NaN</td>\n",
       "    </tr>\n",
       "    <tr>\n",
       "      <th>b</th>\n",
       "      <td>9.0</td>\n",
       "      <td>15.0</td>\n",
       "    </tr>\n",
       "    <tr>\n",
       "      <th>c</th>\n",
       "      <td>11.0</td>\n",
       "      <td>17.0</td>\n",
       "    </tr>\n",
       "    <tr>\n",
       "      <th>d</th>\n",
       "      <td>NaN</td>\n",
       "      <td>NaN</td>\n",
       "    </tr>\n",
       "  </tbody>\n",
       "</table>\n",
       "</div>"
      ],
      "text/plain": [
       "      A     B\n",
       "a   NaN   NaN\n",
       "b   9.0  15.0\n",
       "c  11.0  17.0\n",
       "d   NaN   NaN"
      ]
     },
     "execution_count": 26,
     "metadata": {},
     "output_type": "execute_result"
    }
   ],
   "source": [
    "df1 + df2"
   ]
  },
  {
   "cell_type": "markdown",
   "id": "f00befef-9aae-4d49-9413-435a7d51a26d",
   "metadata": {},
   "source": [
    "# References\n",
    "\n",
    "- [Python for Data Analysis by Wes McKinney (3e)](https://wesmckinney.com/book/)\n",
    "- [Pandas Official Documentation](https://pandas.pydata.org/docs/user_guide/10min.html)\n",
    "- [Frequently Asked Questions (FAQ) on Pandas](https://pandas.pydata.org/docs/user_guide/gotchas.html)"
   ]
  }
 ],
 "metadata": {
  "kernelspec": {
   "display_name": "Python 3 (ipykernel)",
   "language": "python",
   "name": "python3"
  },
  "language_info": {
   "codemirror_mode": {
    "name": "ipython",
    "version": 3
   },
   "file_extension": ".py",
   "mimetype": "text/x-python",
   "name": "python",
   "nbconvert_exporter": "python",
   "pygments_lexer": "ipython3",
   "version": "3.10.13"
  }
 },
 "nbformat": 4,
 "nbformat_minor": 5
}
