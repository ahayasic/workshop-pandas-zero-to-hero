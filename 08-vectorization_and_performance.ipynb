{
 "cells": [
  {
   "cell_type": "code",
   "execution_count": 1,
   "id": "076f42c0-f537-4dcd-a163-9b8a1da6aed4",
   "metadata": {},
   "outputs": [],
   "source": [
    "import numpy as np\n",
    "import pandas as pd"
   ]
  },
  {
   "cell_type": "code",
   "execution_count": 2,
   "id": "93cc85fa-d317-4385-822a-7cdbf72d78c3",
   "metadata": {},
   "outputs": [],
   "source": [
    "np.random.seed(0)"
   ]
  },
  {
   "cell_type": "code",
   "execution_count": 3,
   "id": "f0387aa2-526e-4c05-8667-bb1e99becb09",
   "metadata": {},
   "outputs": [],
   "source": [
    "pd.options.mode.copy_on_write = True"
   ]
  },
  {
   "cell_type": "markdown",
   "id": "e1577cf8-ab6c-4ac8-9423-d24d29f1bf51",
   "metadata": {},
   "source": [
    "# Vectorization and Loops\n",
    "\n",
    "In pandas, vectorization refers to performing operations on entire arrays of data at once, rather than iterating over values one by one using a Python for loop. This way, you can run operations across a whole Series, Index, or DataFrame in a single shot, which can significantly enhance the performance depending on the operations you're running. Examples of vectorized operations include arithmetic and boolean operations, as well as string manipulations using `.str` methods on text columns.\n",
    "\n",
    "## NumPy Vectorization\n",
    "\n",
    "NumPy, short for Numerical Python, is a foundational package for numerical computing in Python. It provides efficient multidimensional array capabilities, fast array-oriented arithmetic operations, and flexible broadcasting. NumPy's performance benefits come from its implementation in C and its use of homogeneous arrays which allows for an optimized memory layout.\n",
    "\n",
    "NumPy's optimized memory layout enhances memory handling and maximizes data locality, reducing the frequency of cache misses and thereby speeding up operations due to better cache utilization.\n",
    "\n",
    "Pandas leverages NumPy as its default backend engine. This means pandas can use NumPy’s vectorization capabilities to perform operations on Series, Index, and DataFrames much faster than vanilla Python.\n",
    "\n",
    "Note, however, that the term vectorization also refers to running operations on arrays using SIMD (Single Instruction, Multiple Data) parallelism, which is a key technique for speeding up numerical operations on data arrays. Starting with NumPy 1.23, SIMD capabilities were introduced to take full advantage of CPU capabilities and cache, significantly speeding up numeric operations.\n",
    "\n",
    "## Pandas Vectorization\n",
    "\n",
    "As mentioned, in pandas, vectorization refers to performing operations across an entire Series, Index, or DataFrame at once. On the other hand, in NumPy, it means running element-wise operations using optimized C loops instead of Python loops. From version 1.23, these C loops may utilize SIMD capabilities.\n",
    "\n",
    "Using pandas vectorization, you can leverage NumPy's ability to execute operations in machine code, depending on the operation. For instance, element-wise arithmetic and boolean operations over numeric data in pandas will use SIMD instructions supported by NumPy. Otherwise, pandas will run a specialized Python loop with numerous optimizations, particularly related to memory arrangement, resulting in better performance than a traditional Python for loop.\n"
   ]
  },
  {
   "cell_type": "markdown",
   "id": "384fa008-6b3f-4e8b-b73e-df9f0fb9b72f",
   "metadata": {},
   "source": [
    "# Benchmark\n",
    "\n",
    "To clarify the performance differences between various vectorized and non-vectorized operations in pandas, this section presents a very naive and straightforward benchmark. In this benchmark, we examine the performance differences when using Python loops (iterrows), apply, map, specialized numpy operations, string operations, and other considerations."
   ]
  },
  {
   "cell_type": "markdown",
   "id": "916e52da-41fa-4e65-aebd-3cef59b84f9b",
   "metadata": {},
   "source": [
    "## Vectorized Operations x Python Loops\n",
    "\n",
    "This section contains a benchmark that explores the performance differences in arithmetic operations between vectorized (overloaded operators) and non-vectorized (loop & apply) methods."
   ]
  },
  {
   "cell_type": "code",
   "execution_count": 4,
   "id": "6e9d140f-4732-4e60-a7ea-e4fadab390c9",
   "metadata": {},
   "outputs": [
    {
     "data": {
      "text/html": [
       "<div>\n",
       "<style scoped>\n",
       "    .dataframe tbody tr th:only-of-type {\n",
       "        vertical-align: middle;\n",
       "    }\n",
       "\n",
       "    .dataframe tbody tr th {\n",
       "        vertical-align: top;\n",
       "    }\n",
       "\n",
       "    .dataframe thead th {\n",
       "        text-align: right;\n",
       "    }\n",
       "</style>\n",
       "<table border=\"1\" class=\"dataframe\">\n",
       "  <thead>\n",
       "    <tr style=\"text-align: right;\">\n",
       "      <th></th>\n",
       "      <th>col_0</th>\n",
       "      <th>col_1</th>\n",
       "    </tr>\n",
       "  </thead>\n",
       "  <tbody>\n",
       "    <tr>\n",
       "      <th>0</th>\n",
       "      <td>54</td>\n",
       "      <td>57</td>\n",
       "    </tr>\n",
       "    <tr>\n",
       "      <th>1</th>\n",
       "      <td>74</td>\n",
       "      <td>77</td>\n",
       "    </tr>\n",
       "    <tr>\n",
       "      <th>2</th>\n",
       "      <td>77</td>\n",
       "      <td>19</td>\n",
       "    </tr>\n",
       "    <tr>\n",
       "      <th>3</th>\n",
       "      <td>93</td>\n",
       "      <td>31</td>\n",
       "    </tr>\n",
       "    <tr>\n",
       "      <th>4</th>\n",
       "      <td>46</td>\n",
       "      <td>97</td>\n",
       "    </tr>\n",
       "  </tbody>\n",
       "</table>\n",
       "</div>"
      ],
      "text/plain": [
       "   col_0  col_1\n",
       "0     54     57\n",
       "1     74     77\n",
       "2     77     19\n",
       "3     93     31\n",
       "4     46     97"
      ]
     },
     "execution_count": 4,
     "metadata": {},
     "output_type": "execute_result"
    }
   ],
   "source": [
    "n_rows = 1_000_000\n",
    "n_cols = 2\n",
    "\n",
    "values = np.random.randint(low=10, high=100, size=(n_rows, n_cols))\n",
    "columns = [f'col_{i}' for i in range(0, n_cols)]\n",
    "df = pd.DataFrame(values, columns=columns)\n",
    "\n",
    "df.head()"
   ]
  },
  {
   "cell_type": "code",
   "execution_count": 5,
   "id": "ca00b659-b457-4a6f-aa94-4b5dba9cb7bd",
   "metadata": {},
   "outputs": [
    {
     "name": "stdout",
     "output_type": "stream",
     "text": [
      "<class 'pandas.core.frame.DataFrame'>\n",
      "RangeIndex: 1000000 entries, 0 to 999999\n",
      "Data columns (total 2 columns):\n",
      " #   Column  Non-Null Count    Dtype\n",
      "---  ------  --------------    -----\n",
      " 0   col_0   1000000 non-null  int64\n",
      " 1   col_1   1000000 non-null  int64\n",
      "dtypes: int64(2)\n",
      "memory usage: 15.3 MB\n"
     ]
    }
   ],
   "source": [
    "df.info(memory_usage='deep')"
   ]
  },
  {
   "cell_type": "code",
   "execution_count": 6,
   "id": "da26ec25-9343-4fcb-bc0c-580618387198",
   "metadata": {},
   "outputs": [
    {
     "name": "stdout",
     "output_type": "stream",
     "text": [
      "14.7 s ± 268 ms per loop (mean ± std. dev. of 7 runs, 1 loop each)\n"
     ]
    }
   ],
   "source": [
    "%%timeit\n",
    "\n",
    "ratios = []\n",
    "for _, row in df.iterrows():\n",
    "    ratio = 100 * (row['col_0'] / row['col_1'])\n",
    "    ratios.append(ratio)\n",
    "\n",
    "df['ratio'] = ratios\n",
    "\n",
    "# Using list comprehension if far better\n",
    "# ratios = [100 * (row['col_0'] / row['col_1']) for _, row in df.iterrows()]\n",
    "# df['ratio'] = ratios"
   ]
  },
  {
   "cell_type": "code",
   "execution_count": 7,
   "id": "b687bc08-0cbe-4b69-9aa5-f0485681ca33",
   "metadata": {},
   "outputs": [],
   "source": [
    "def ratio(row):\n",
    "    return 100 * (row['col_0'] / row['col_1'])"
   ]
  },
  {
   "cell_type": "code",
   "execution_count": 8,
   "id": "58518891-b866-4edf-82f1-bf570d05ff6f",
   "metadata": {},
   "outputs": [
    {
     "name": "stdout",
     "output_type": "stream",
     "text": [
      "3.96 s ± 115 ms per loop (mean ± std. dev. of 7 runs, 1 loop each)\n"
     ]
    }
   ],
   "source": [
    "%%timeit\n",
    "df['ratio'] = df.apply(ratio, axis=1)"
   ]
  },
  {
   "cell_type": "code",
   "execution_count": 9,
   "id": "2f1ee841-e267-403f-a47c-69786340888a",
   "metadata": {},
   "outputs": [
    {
     "name": "stdout",
     "output_type": "stream",
     "text": [
      "2.71 ms ± 20.3 μs per loop (mean ± std. dev. of 7 runs, 100 loops each)\n"
     ]
    }
   ],
   "source": [
    "%%timeit\n",
    "df['ratio'] = 100 * (df['col_0'] / df['col_1'])"
   ]
  },
  {
   "cell_type": "code",
   "execution_count": 10,
   "id": "e657123b-5030-4640-9200-01df6a7a1577",
   "metadata": {},
   "outputs": [
    {
     "name": "stdout",
     "output_type": "stream",
     "text": [
      "2.43 ms ± 22.8 μs per loop (mean ± std. dev. of 7 runs, 100 loops each)\n"
     ]
    }
   ],
   "source": [
    "%%timeit\n",
    "\n",
    "X_array = df['col_0'].to_numpy()\n",
    "Y_array = df['col_1'].to_numpy()\n",
    "\n",
    "ratios = 100 * (X_array / Y_array)\n",
    "\n",
    "df['ratio'] = ratios"
   ]
  },
  {
   "cell_type": "markdown",
   "id": "e2ac6eac-34b2-4d3f-8b16-97b458dbe9c4",
   "metadata": {},
   "source": [
    "## Conditional operations\n",
    "\n",
    "Conditional operations are very common during data manipulations in pandas, and it's a situation where people often use apply, especially when it involves using information from multiple columns in that row.\n",
    "\n",
    "However, it's possible to use vectorized operations for these scenarios with minimal effort.\n",
    "\n",
    "This benchmark demonstrates how to do this and highlights the differences in execution speed performance."
   ]
  },
  {
   "cell_type": "code",
   "execution_count": 11,
   "id": "639c7fb7-f349-482f-bb74-ca0f6cf2a4eb",
   "metadata": {},
   "outputs": [],
   "source": [
    "def generate_library_dataframe(n_rows):\n",
    "    titles = [f'Book {i}' for i in range(n_rows)]\n",
    "    genres = np.random.choice(['Fiction', 'Horror', 'Science'], n_rows)\n",
    "    year_published = np.random.randint(1980, 2023, n_rows)\n",
    "    num_pages = np.random.randint(50, 1000, n_rows)\n",
    "    \n",
    "    data = {\n",
    "        'title': titles,\n",
    "        'genre': genres,\n",
    "        'year_published': year_published,\n",
    "        'num_pages': num_pages\n",
    "    }\n",
    "    return pd.DataFrame(data)"
   ]
  },
  {
   "cell_type": "code",
   "execution_count": 12,
   "id": "a8371cbf-98ae-495d-a59c-b8fabe29629a",
   "metadata": {},
   "outputs": [
    {
     "data": {
      "text/html": [
       "<div>\n",
       "<style scoped>\n",
       "    .dataframe tbody tr th:only-of-type {\n",
       "        vertical-align: middle;\n",
       "    }\n",
       "\n",
       "    .dataframe tbody tr th {\n",
       "        vertical-align: top;\n",
       "    }\n",
       "\n",
       "    .dataframe thead th {\n",
       "        text-align: right;\n",
       "    }\n",
       "</style>\n",
       "<table border=\"1\" class=\"dataframe\">\n",
       "  <thead>\n",
       "    <tr style=\"text-align: right;\">\n",
       "      <th></th>\n",
       "      <th>title</th>\n",
       "      <th>genre</th>\n",
       "      <th>year_published</th>\n",
       "      <th>num_pages</th>\n",
       "    </tr>\n",
       "  </thead>\n",
       "  <tbody>\n",
       "    <tr>\n",
       "      <th>0</th>\n",
       "      <td>Book 0</td>\n",
       "      <td>Science</td>\n",
       "      <td>2003</td>\n",
       "      <td>366</td>\n",
       "    </tr>\n",
       "    <tr>\n",
       "      <th>1</th>\n",
       "      <td>Book 1</td>\n",
       "      <td>Fiction</td>\n",
       "      <td>1993</td>\n",
       "      <td>638</td>\n",
       "    </tr>\n",
       "    <tr>\n",
       "      <th>2</th>\n",
       "      <td>Book 2</td>\n",
       "      <td>Fiction</td>\n",
       "      <td>2013</td>\n",
       "      <td>809</td>\n",
       "    </tr>\n",
       "    <tr>\n",
       "      <th>3</th>\n",
       "      <td>Book 3</td>\n",
       "      <td>Fiction</td>\n",
       "      <td>2014</td>\n",
       "      <td>240</td>\n",
       "    </tr>\n",
       "    <tr>\n",
       "      <th>4</th>\n",
       "      <td>Book 4</td>\n",
       "      <td>Fiction</td>\n",
       "      <td>1994</td>\n",
       "      <td>984</td>\n",
       "    </tr>\n",
       "  </tbody>\n",
       "</table>\n",
       "</div>"
      ],
      "text/plain": [
       "    title    genre  year_published  num_pages\n",
       "0  Book 0  Science            2003        366\n",
       "1  Book 1  Fiction            1993        638\n",
       "2  Book 2  Fiction            2013        809\n",
       "3  Book 3  Fiction            2014        240\n",
       "4  Book 4  Fiction            1994        984"
      ]
     },
     "execution_count": 12,
     "metadata": {},
     "output_type": "execute_result"
    }
   ],
   "source": [
    "df = generate_library_dataframe(1_000_000)\n",
    "df.head()"
   ]
  },
  {
   "cell_type": "code",
   "execution_count": 13,
   "id": "c1d47e15-aebc-4b84-92c7-d7a0b08b5db9",
   "metadata": {},
   "outputs": [],
   "source": [
    "def should_read_on_row(row):\n",
    "    if row['genre'] == 'Science':\n",
    "        return True\n",
    "    else:\n",
    "        return False"
   ]
  },
  {
   "cell_type": "code",
   "execution_count": 14,
   "id": "c3434c30-3170-4aec-bbc5-93e2dfbdb7a4",
   "metadata": {},
   "outputs": [],
   "source": [
    "def should_read_on_field(genre):\n",
    "    if genre == 'Science':\n",
    "        return True\n",
    "    else:\n",
    "        return False"
   ]
  },
  {
   "cell_type": "code",
   "execution_count": 15,
   "id": "3d7ad1ac-315c-4334-a71f-d68a285efc52",
   "metadata": {},
   "outputs": [
    {
     "name": "stdout",
     "output_type": "stream",
     "text": [
      "2.87 s ± 387 ms per loop (mean ± std. dev. of 7 runs, 1 loop each)\n"
     ]
    }
   ],
   "source": [
    "%%timeit\n",
    "df['should_read'] = df.apply(should_read_on_row, axis=1)"
   ]
  },
  {
   "cell_type": "code",
   "execution_count": 16,
   "id": "b99719fb-8738-42ab-93e4-e2185eca219f",
   "metadata": {},
   "outputs": [
    {
     "name": "stdout",
     "output_type": "stream",
     "text": [
      "104 ms ± 483 μs per loop (mean ± std. dev. of 7 runs, 10 loops each)\n"
     ]
    }
   ],
   "source": [
    "%%timeit\n",
    "df['should_read'] = df['genre'].apply(should_read_on_field)"
   ]
  },
  {
   "cell_type": "code",
   "execution_count": 17,
   "id": "430ed033-5129-4f08-bb91-1f2c7d5dc083",
   "metadata": {},
   "outputs": [
    {
     "name": "stdout",
     "output_type": "stream",
     "text": [
      "104 ms ± 1.04 ms per loop (mean ± std. dev. of 7 runs, 10 loops each)\n"
     ]
    }
   ],
   "source": [
    "%%timeit\n",
    "df['should_read'] = df['genre'].map(should_read_on_field)"
   ]
  },
  {
   "cell_type": "code",
   "execution_count": 18,
   "id": "831d3d56-7973-4d75-8e5b-76a036e4f5aa",
   "metadata": {},
   "outputs": [
    {
     "name": "stdout",
     "output_type": "stream",
     "text": [
      "41.6 ms ± 881 μs per loop (mean ± std. dev. of 7 runs, 10 loops each)\n"
     ]
    }
   ],
   "source": [
    "%%timeit\n",
    "df['should_read'] = np.where(df['genre'] == 'Science', True, False)"
   ]
  },
  {
   "cell_type": "code",
   "execution_count": 19,
   "id": "5bf065d1-1e73-4287-84f6-6264f470643d",
   "metadata": {},
   "outputs": [
    {
     "name": "stdout",
     "output_type": "stream",
     "text": [
      "80.9 ms ± 3.37 ms per loop (mean ± std. dev. of 7 runs, 10 loops each)\n"
     ]
    }
   ],
   "source": [
    "%%timeit\n",
    "df['should_read'] = np.vectorize(should_read_on_field)(df['genre'])"
   ]
  },
  {
   "cell_type": "markdown",
   "id": "98aa9806-06b7-44d5-86e3-180d8c406a3c",
   "metadata": {},
   "source": [
    "#### Tip: Conditions with Dictionary Lookup\n",
    "\n",
    "In some scenarios, a large number of if-then-else statements are needed to apply the desired logic. A better approach, however, is to use dictionaries when the condition being tested is based solely on a single value.\n",
    "\n",
    "Below are some examples:"
   ]
  },
  {
   "cell_type": "code",
   "execution_count": 20,
   "id": "f94719f3-433f-4ee9-990b-196e4246e66f",
   "metadata": {},
   "outputs": [],
   "source": [
    "avg_rate = {\n",
    "    'Fiction': 5,\n",
    "    'Horror': 3,\n",
    "    'Science': 4,\n",
    "}\n",
    "\n",
    "def get_avg_rate(genre):\n",
    "    return avg_rate.get(genre, 0)"
   ]
  },
  {
   "cell_type": "code",
   "execution_count": 21,
   "id": "f97ba4e8-114d-46ff-81ce-aac028701d1b",
   "metadata": {},
   "outputs": [
    {
     "name": "stdout",
     "output_type": "stream",
     "text": [
      "33.6 ms ± 44 μs per loop (mean ± std. dev. of 7 runs, 10 loops each)\n"
     ]
    }
   ],
   "source": [
    "%%timeit\n",
    "\n",
    "df['genre'].map(avg_rate).fillna(0)"
   ]
  },
  {
   "cell_type": "code",
   "execution_count": 22,
   "id": "adc57e91-e970-4b26-871e-f78718495c46",
   "metadata": {},
   "outputs": [
    {
     "name": "stdout",
     "output_type": "stream",
     "text": [
      "93 ms ± 702 μs per loop (mean ± std. dev. of 7 runs, 10 loops each)\n"
     ]
    }
   ],
   "source": [
    "%%timeit\n",
    "\n",
    "np.vectorize(get_avg_rate)(df['genre'])"
   ]
  },
  {
   "cell_type": "markdown",
   "id": "306df281-c672-4ad2-bd11-d14be53a81d9",
   "metadata": {},
   "source": [
    "### Multiple and nested conditions\n",
    "\n",
    "Generally, scenarios that require the use of conditional operators are more complex than just a simple if-then-else. They may actually require multiple, nested conditions. In this case, we still have options for vectorized execution."
   ]
  },
  {
   "cell_type": "code",
   "execution_count": 23,
   "id": "04754779-b3ba-4653-8a5e-ed1ad16d67e7",
   "metadata": {},
   "outputs": [],
   "source": [
    "def categorize_book(row):\n",
    "    if row['genre'] == 'Fiction' and row['year_published'] > 2000:\n",
    "        return 'Modern Fiction'\n",
    "    elif row['genre'] == 'Horror' and row['year_published'] <= 2000:\n",
    "        return 'Old Horror'\n",
    "    elif row['genre'] == 'Science' and row['year_published'] > 2010:\n",
    "        return 'Recent Science'\n",
    "    elif row['genre'] == 'Biography' and row['num_pages'] > 400:\n",
    "        return 'Long Biography'\n",
    "    elif row['year_published'] < 1990 and row['num_pages'] < 100:\n",
    "        return 'Vintage Short Book'\n",
    "    else:\n",
    "        return 'Other'"
   ]
  },
  {
   "cell_type": "code",
   "execution_count": 24,
   "id": "2f9ac3c1-014e-4535-bc89-f19feb0359e0",
   "metadata": {},
   "outputs": [
    {
     "name": "stdout",
     "output_type": "stream",
     "text": [
      "6.99 s ± 50.5 ms per loop (mean ± std. dev. of 7 runs, 1 loop each)\n"
     ]
    }
   ],
   "source": [
    "%%timeit\n",
    "df['book_category'] = df.apply(categorize_book, axis=1)"
   ]
  },
  {
   "cell_type": "code",
   "execution_count": 25,
   "id": "0f58c6ff-3eb8-4760-8693-898584c16751",
   "metadata": {},
   "outputs": [],
   "source": [
    "conditions = [\n",
    "    (df['genre'] == 'Fiction') & (df['year_published'] > 2000),\n",
    "    (df['genre'] == 'Horror') & (df['year_published'] <= 2000),\n",
    "    (df['genre'] == 'Science') & (df['year_published'] > 2010),\n",
    "    (df['genre'] == 'Biography') & (df['num_pages'] > 400),\n",
    "    (df['year_published'] < 1990) & (df['num_pages'] < 100)\n",
    "]\n",
    "choices = [\n",
    "    'Modern Fiction',\n",
    "    'Old Horror',\n",
    "    'Recent Science',\n",
    "    'Long Biography',\n",
    "    'Vintage Short Book'\n",
    "]"
   ]
  },
  {
   "cell_type": "code",
   "execution_count": 26,
   "id": "0b4023ae-dbe6-4391-9c7f-41df44900212",
   "metadata": {},
   "outputs": [
    {
     "name": "stdout",
     "output_type": "stream",
     "text": [
      "82.4 ms ± 2.55 ms per loop (mean ± std. dev. of 7 runs, 10 loops each)\n"
     ]
    }
   ],
   "source": [
    "%%timeit\n",
    "df['book_category'] = np.select(conditions, choices, default='Other')"
   ]
  },
  {
   "cell_type": "markdown",
   "id": "072e5dba-9fd3-4157-84cc-39f723c422df",
   "metadata": {},
   "source": [
    "## Careful with Vectorized Strings\n",
    "\n",
    "The Python string built-in methods simplify most text operations considerably, while complex pattern matching operations are handled using regular expressions. To enable you to apply string methods and regular expressions concisely to entire arrays of data, while also managing missing data, pandas provides a `.str` accessor on Series that lets you run various vectorized operations on strings.\n",
    "\n",
    "However, it's important to note that \"vectorized\" in this context doesn't necessarily mean the code will run faster or use SIMD capabilities; it simply means that your operation will run on a whole Series at once."
   ]
  },
  {
   "cell_type": "code",
   "execution_count": 27,
   "id": "0453c8a9-ad07-4c02-95f2-dfc01de3828c",
   "metadata": {},
   "outputs": [
    {
     "data": {
      "text/html": [
       "<div>\n",
       "<style scoped>\n",
       "    .dataframe tbody tr th:only-of-type {\n",
       "        vertical-align: middle;\n",
       "    }\n",
       "\n",
       "    .dataframe tbody tr th {\n",
       "        vertical-align: top;\n",
       "    }\n",
       "\n",
       "    .dataframe thead th {\n",
       "        text-align: right;\n",
       "    }\n",
       "</style>\n",
       "<table border=\"1\" class=\"dataframe\">\n",
       "  <thead>\n",
       "    <tr style=\"text-align: right;\">\n",
       "      <th></th>\n",
       "      <th>title</th>\n",
       "      <th>genre</th>\n",
       "      <th>year_published</th>\n",
       "      <th>num_pages</th>\n",
       "      <th>should_read</th>\n",
       "      <th>book_category</th>\n",
       "    </tr>\n",
       "  </thead>\n",
       "  <tbody>\n",
       "    <tr>\n",
       "      <th>0</th>\n",
       "      <td>Book 0</td>\n",
       "      <td>Science</td>\n",
       "      <td>2003</td>\n",
       "      <td>366</td>\n",
       "      <td>True</td>\n",
       "      <td>Other</td>\n",
       "    </tr>\n",
       "    <tr>\n",
       "      <th>1</th>\n",
       "      <td>Book 1</td>\n",
       "      <td>Fiction</td>\n",
       "      <td>1993</td>\n",
       "      <td>638</td>\n",
       "      <td>False</td>\n",
       "      <td>Other</td>\n",
       "    </tr>\n",
       "    <tr>\n",
       "      <th>2</th>\n",
       "      <td>Book 2</td>\n",
       "      <td>Fiction</td>\n",
       "      <td>2013</td>\n",
       "      <td>809</td>\n",
       "      <td>False</td>\n",
       "      <td>Modern Fiction</td>\n",
       "    </tr>\n",
       "    <tr>\n",
       "      <th>3</th>\n",
       "      <td>Book 3</td>\n",
       "      <td>Fiction</td>\n",
       "      <td>2014</td>\n",
       "      <td>240</td>\n",
       "      <td>False</td>\n",
       "      <td>Modern Fiction</td>\n",
       "    </tr>\n",
       "    <tr>\n",
       "      <th>4</th>\n",
       "      <td>Book 4</td>\n",
       "      <td>Fiction</td>\n",
       "      <td>1994</td>\n",
       "      <td>984</td>\n",
       "      <td>False</td>\n",
       "      <td>Other</td>\n",
       "    </tr>\n",
       "  </tbody>\n",
       "</table>\n",
       "</div>"
      ],
      "text/plain": [
       "    title    genre  year_published  num_pages  should_read   book_category\n",
       "0  Book 0  Science            2003        366         True           Other\n",
       "1  Book 1  Fiction            1993        638        False           Other\n",
       "2  Book 2  Fiction            2013        809        False  Modern Fiction\n",
       "3  Book 3  Fiction            2014        240        False  Modern Fiction\n",
       "4  Book 4  Fiction            1994        984        False           Other"
      ]
     },
     "execution_count": 27,
     "metadata": {},
     "output_type": "execute_result"
    }
   ],
   "source": [
    "df.head()"
   ]
  },
  {
   "cell_type": "code",
   "execution_count": 28,
   "id": "0a8cf562-a191-40cb-880f-dbed3a0c2709",
   "metadata": {},
   "outputs": [],
   "source": [
    "def format_category(category):\n",
    "    return category.replace(' ', '_').lower()"
   ]
  },
  {
   "cell_type": "code",
   "execution_count": 29,
   "id": "1fd934ab-74b9-4599-a3a9-fa147006086f",
   "metadata": {},
   "outputs": [
    {
     "name": "stdout",
     "output_type": "stream",
     "text": [
      "196 ms ± 7.43 ms per loop (mean ± std. dev. of 7 runs, 1 loop each)\n"
     ]
    }
   ],
   "source": [
    "%%timeit\n",
    "df['fmt_book_category'] = df['book_category'].str.replace(\" \", \"_\").str.lower()"
   ]
  },
  {
   "cell_type": "code",
   "execution_count": 30,
   "id": "9ed4fc5c-34ec-49e3-9b8d-d039207f1e6b",
   "metadata": {},
   "outputs": [
    {
     "name": "stdout",
     "output_type": "stream",
     "text": [
      "142 ms ± 4.01 ms per loop (mean ± std. dev. of 7 runs, 10 loops each)\n"
     ]
    }
   ],
   "source": [
    "%%timeit\n",
    "df['fmt_book_category'] = df['book_category'].map(format_category)"
   ]
  },
  {
   "cell_type": "code",
   "execution_count": 31,
   "id": "d17664cf-478d-4870-aa5f-33c74c881f83",
   "metadata": {},
   "outputs": [
    {
     "name": "stdout",
     "output_type": "stream",
     "text": [
      "283 ms ± 29.9 ms per loop (mean ± std. dev. of 7 runs, 1 loop each)\n"
     ]
    }
   ],
   "source": [
    "%%timeit\n",
    "df['fmt_book_category'] = np.vectorize(format_category)(df['book_category'])"
   ]
  },
  {
   "cell_type": "markdown",
   "id": "43019117-cd52-42f2-ac79-4b4a51e6f11f",
   "metadata": {},
   "source": [
    "## Use the right data type\n",
    "\n",
    "Choosing the right data type in pandas can significantly speed up operations and reduce memory usage. For example, using `int64` for columns that only require `int8` can lead to unnecessary memory consumption and larger processing time."
   ]
  },
  {
   "cell_type": "code",
   "execution_count": 32,
   "id": "742f1ea4-e953-4357-8dd3-f7c3c1aa5d9a",
   "metadata": {},
   "outputs": [
    {
     "name": "stdout",
     "output_type": "stream",
     "text": [
      "<class 'pandas.core.frame.DataFrame'>\n",
      "RangeIndex: 100000000 entries, 0 to 99999999\n",
      "Data columns (total 1 columns):\n",
      " #   Column  Dtype\n",
      "---  ------  -----\n",
      " 0   0       int64\n",
      "dtypes: int64(1)\n",
      "memory usage: 762.9 MB\n"
     ]
    }
   ],
   "source": [
    "df_int64 = pd.DataFrame(np.random.randint(low=0, high=100, size=(100_000_000, 1)), columns=['0'])\n",
    "df_int64.info()"
   ]
  },
  {
   "cell_type": "code",
   "execution_count": 33,
   "id": "d9d7fc79-d1fa-4630-a9bb-7f2278e4bf56",
   "metadata": {},
   "outputs": [
    {
     "name": "stdout",
     "output_type": "stream",
     "text": [
      "<class 'pandas.core.frame.DataFrame'>\n",
      "RangeIndex: 100000000 entries, 0 to 99999999\n",
      "Data columns (total 1 columns):\n",
      " #   Column  Dtype\n",
      "---  ------  -----\n",
      " 0   0       int8 \n",
      "dtypes: int8(1)\n",
      "memory usage: 95.4 MB\n"
     ]
    }
   ],
   "source": [
    "df_int8 = pd.DataFrame(np.random.randint(low=0, high=100, size=(100_000_000, 1),dtype=np.int8), columns=['0'])\n",
    "df_int8.info()"
   ]
  },
  {
   "cell_type": "code",
   "execution_count": 34,
   "id": "f6518e4e-3726-4fe8-b093-da9e55300000",
   "metadata": {},
   "outputs": [
    {
     "name": "stdout",
     "output_type": "stream",
     "text": [
      "147 ms ± 27.6 ms per loop (mean ± std. dev. of 7 runs, 1 loop each)\n"
     ]
    }
   ],
   "source": [
    "%%timeit\n",
    "df_int64['sum_up'] = df_int64['0'] + 1"
   ]
  },
  {
   "cell_type": "code",
   "execution_count": 35,
   "id": "53ce5a68-a93e-4d99-a2da-2e2a1bf99175",
   "metadata": {},
   "outputs": [
    {
     "name": "stdout",
     "output_type": "stream",
     "text": [
      "9.95 ms ± 250 μs per loop (mean ± std. dev. of 7 runs, 100 loops each)\n"
     ]
    }
   ],
   "source": [
    "%%timeit\n",
    "df_int8['sum_up'] = df_int8['0'] + 1"
   ]
  },
  {
   "cell_type": "markdown",
   "id": "d19b4cab-f879-410e-8e40-663a3342e5f7",
   "metadata": {},
   "source": [
    "# Speeding up your code even more!\n",
    "\n",
    "Despite the various alternatives for running fast transformations in pandas, there are two key factors that significantly affect the performance of our code:\n",
    "\n",
    "- **Python is slow:** Python is a dynamic typed languague that runs, by default, using CPython interpreter which implements Python objects from a very generic perspective through `PyObject` C structs. Consequently, there's a lot of overhead to properly just run a simple arithmetic operation between two floating-point numbers.\n",
    "- **No multi-core:** Pandas doesn't use the full potential of the CPU (multi-threading/multi-core). Modern CPUs have multiple cores, and for data-level parallelism where there is no data dependency, it is crucial to split the work and process many rows in parallel. Pandas, however, does not fully leverage this capability, which can limit its performance.\n"
   ]
  },
  {
   "cell_type": "markdown",
   "id": "703d1ed7-4875-478f-9264-f861073f56eb",
   "metadata": {},
   "source": [
    "### Pandaralell\n",
    "\n",
    "Pandarallel is a package designed to parallelize pandas applying functions, enabling the usage of multiple CPU cores to improve performance in exchange for a considerable increase in memory usage."
   ]
  },
  {
   "cell_type": "code",
   "execution_count": 36,
   "id": "58100419-817c-4acd-9133-3c5d911421de",
   "metadata": {},
   "outputs": [
    {
     "name": "stdout",
     "output_type": "stream",
     "text": [
      "Collecting pandarallel\n",
      "  Using cached pandarallel-1.6.5.tar.gz (14 kB)\n",
      "  Preparing metadata (setup.py) ... \u001b[?25ldone\n",
      "\u001b[?25hCollecting dill>=0.3.1\n",
      "  Using cached dill-0.3.8-py3-none-any.whl (116 kB)\n",
      "Requirement already satisfied: pandas>=1 in /Users/ahayasic/.pyenv/versions/3.10.13/envs/pandas-zero-to-hero/lib/python3.10/site-packages (from pandarallel) (2.2.2)\n",
      "Requirement already satisfied: psutil in /Users/ahayasic/.pyenv/versions/3.10.13/envs/pandas-zero-to-hero/lib/python3.10/site-packages (from pandarallel) (6.0.0)\n",
      "Requirement already satisfied: python-dateutil>=2.8.2 in /Users/ahayasic/.pyenv/versions/3.10.13/envs/pandas-zero-to-hero/lib/python3.10/site-packages (from pandas>=1->pandarallel) (2.9.0.post0)\n",
      "Requirement already satisfied: numpy>=1.22.4 in /Users/ahayasic/.pyenv/versions/3.10.13/envs/pandas-zero-to-hero/lib/python3.10/site-packages (from pandas>=1->pandarallel) (2.0.0)\n",
      "Requirement already satisfied: tzdata>=2022.7 in /Users/ahayasic/.pyenv/versions/3.10.13/envs/pandas-zero-to-hero/lib/python3.10/site-packages (from pandas>=1->pandarallel) (2024.1)\n",
      "Requirement already satisfied: pytz>=2020.1 in /Users/ahayasic/.pyenv/versions/3.10.13/envs/pandas-zero-to-hero/lib/python3.10/site-packages (from pandas>=1->pandarallel) (2024.1)\n",
      "Requirement already satisfied: six>=1.5 in /Users/ahayasic/.pyenv/versions/3.10.13/envs/pandas-zero-to-hero/lib/python3.10/site-packages (from python-dateutil>=2.8.2->pandas>=1->pandarallel) (1.16.0)\n",
      "Installing collected packages: dill, pandarallel\n",
      "\u001b[33m  DEPRECATION: pandarallel is being installed using the legacy 'setup.py install' method, because it does not have a 'pyproject.toml' and the 'wheel' package is not installed. pip 23.1 will enforce this behaviour change. A possible replacement is to enable the '--use-pep517' option. Discussion can be found at https://github.com/pypa/pip/issues/8559\u001b[0m\u001b[33m\n",
      "\u001b[0m  Running setup.py install for pandarallel ... \u001b[?25ldone\n",
      "\u001b[?25hSuccessfully installed dill-0.3.8 pandarallel-1.6.5\n",
      "\n",
      "\u001b[1m[\u001b[0m\u001b[34;49mnotice\u001b[0m\u001b[1;39;49m]\u001b[0m\u001b[39;49m A new release of pip is available: \u001b[0m\u001b[31;49m23.0.1\u001b[0m\u001b[39;49m -> \u001b[0m\u001b[32;49m24.1.1\u001b[0m\n",
      "\u001b[1m[\u001b[0m\u001b[34;49mnotice\u001b[0m\u001b[1;39;49m]\u001b[0m\u001b[39;49m To update, run: \u001b[0m\u001b[32;49mpython3.10 -m pip install --upgrade pip\u001b[0m\n"
     ]
    }
   ],
   "source": [
    "!pip install pandarallel"
   ]
  },
  {
   "cell_type": "code",
   "execution_count": 37,
   "id": "87182e57-1cd8-4156-8d00-b14ca138d234",
   "metadata": {},
   "outputs": [
    {
     "data": {
      "text/html": [
       "<div>\n",
       "<style scoped>\n",
       "    .dataframe tbody tr th:only-of-type {\n",
       "        vertical-align: middle;\n",
       "    }\n",
       "\n",
       "    .dataframe tbody tr th {\n",
       "        vertical-align: top;\n",
       "    }\n",
       "\n",
       "    .dataframe thead th {\n",
       "        text-align: right;\n",
       "    }\n",
       "</style>\n",
       "<table border=\"1\" class=\"dataframe\">\n",
       "  <thead>\n",
       "    <tr style=\"text-align: right;\">\n",
       "      <th></th>\n",
       "      <th>title</th>\n",
       "      <th>genre</th>\n",
       "      <th>year_published</th>\n",
       "      <th>num_pages</th>\n",
       "    </tr>\n",
       "  </thead>\n",
       "  <tbody>\n",
       "    <tr>\n",
       "      <th>0</th>\n",
       "      <td>Book 0</td>\n",
       "      <td>Science</td>\n",
       "      <td>1985</td>\n",
       "      <td>639</td>\n",
       "    </tr>\n",
       "    <tr>\n",
       "      <th>1</th>\n",
       "      <td>Book 1</td>\n",
       "      <td>Horror</td>\n",
       "      <td>2017</td>\n",
       "      <td>720</td>\n",
       "    </tr>\n",
       "    <tr>\n",
       "      <th>2</th>\n",
       "      <td>Book 2</td>\n",
       "      <td>Fiction</td>\n",
       "      <td>2000</td>\n",
       "      <td>435</td>\n",
       "    </tr>\n",
       "    <tr>\n",
       "      <th>3</th>\n",
       "      <td>Book 3</td>\n",
       "      <td>Horror</td>\n",
       "      <td>1981</td>\n",
       "      <td>822</td>\n",
       "    </tr>\n",
       "    <tr>\n",
       "      <th>4</th>\n",
       "      <td>Book 4</td>\n",
       "      <td>Horror</td>\n",
       "      <td>2005</td>\n",
       "      <td>869</td>\n",
       "    </tr>\n",
       "  </tbody>\n",
       "</table>\n",
       "</div>"
      ],
      "text/plain": [
       "    title    genre  year_published  num_pages\n",
       "0  Book 0  Science            1985        639\n",
       "1  Book 1   Horror            2017        720\n",
       "2  Book 2  Fiction            2000        435\n",
       "3  Book 3   Horror            1981        822\n",
       "4  Book 4   Horror            2005        869"
      ]
     },
     "execution_count": 37,
     "metadata": {},
     "output_type": "execute_result"
    }
   ],
   "source": [
    "df = generate_library_dataframe(1_000_000)\n",
    "df.head()"
   ]
  },
  {
   "cell_type": "code",
   "execution_count": 38,
   "id": "8c329374-20d0-4120-82a9-04e21fe1f0f5",
   "metadata": {},
   "outputs": [],
   "source": [
    "def apply_hash(row):\n",
    "    composition = f\"{row['title'].lower()}_{row['genre'].lower()}\"\n",
    "    return hash(composition)"
   ]
  },
  {
   "cell_type": "code",
   "execution_count": 39,
   "id": "e661b1ef-d5dc-4a81-952b-1c7b6dc950f4",
   "metadata": {},
   "outputs": [
    {
     "name": "stdout",
     "output_type": "stream",
     "text": [
      "INFO: Pandarallel will run on 8 workers.\n",
      "INFO: Pandarallel will use standard multiprocessing data transfer (pipe) to transfer data between the main process and workers.\n"
     ]
    }
   ],
   "source": [
    "from pandarallel import pandarallel\n",
    "\n",
    "pandarallel.initialize(progress_bar=False)"
   ]
  },
  {
   "cell_type": "code",
   "execution_count": 40,
   "id": "15c7ab14-0cc1-4bee-8cde-4b830e394478",
   "metadata": {},
   "outputs": [
    {
     "name": "stdout",
     "output_type": "stream",
     "text": [
      "4.13 s ± 94.7 ms per loop (mean ± std. dev. of 7 runs, 1 loop each)\n"
     ]
    }
   ],
   "source": [
    "%%timeit\n",
    "\n",
    "df.apply(apply_hash, axis=1)"
   ]
  },
  {
   "cell_type": "code",
   "execution_count": 41,
   "id": "625b9402-49a6-4ca5-bd64-43e5eaa446b6",
   "metadata": {},
   "outputs": [
    {
     "name": "stdout",
     "output_type": "stream",
     "text": [
      "1.32 s ± 37.6 ms per loop (mean ± std. dev. of 7 runs, 1 loop each)\n"
     ]
    }
   ],
   "source": [
    "%%timeit\n",
    "\n",
    "df.parallel_apply(apply_hash, axis=1)"
   ]
  },
  {
   "cell_type": "markdown",
   "id": "9afb25ac-1969-420a-808b-30fdc5f22e50",
   "metadata": {},
   "source": [
    "### Numba\n",
    "\n",
    "Numba is a just-in-time (JIT) compiler for Python that transforms a subset of Python and NumPy code into efficient machine code at runtime, significantly improving performance for numerical computations.\n",
    "\n",
    "Numba uses the LLVM compiler infrastructure to generate optimized machine code at import time, runtime, or statically with the pycc tool. It supports both CPU and GPU execution and integrates well with the Python scientific stack. By decorating a Python function with @jit, you can achieve native machine performance comparable to C, C++, and Fortran.\n",
    "\n",
    "In pandas, you can use Numba in two ways:\n",
    "\n",
    "- Specify the `engine=\"numba\"` keyword in pandas methods that supports it.\n",
    "- Create a Python function decorated with `@jit`, pass the underlying NumPy array of a Series or DataFrame (e.g. using `Series.to_numpy()`), and perform operations in a loop or vectorized manner."
   ]
  },
  {
   "cell_type": "code",
   "execution_count": 42,
   "id": "e86ce136-3450-4227-a939-d7757cfb80ea",
   "metadata": {},
   "outputs": [
    {
     "name": "stdout",
     "output_type": "stream",
     "text": [
      "Collecting numba\n",
      "  Using cached numba-0.60.0-cp310-cp310-macosx_11_0_arm64.whl (2.7 MB)\n",
      "Collecting llvmlite<0.44,>=0.43.0dev0\n",
      "  Using cached llvmlite-0.43.0-cp310-cp310-macosx_11_0_arm64.whl (28.8 MB)\n",
      "Requirement already satisfied: numpy<2.1,>=1.22 in /Users/ahayasic/.pyenv/versions/3.10.13/envs/pandas-zero-to-hero/lib/python3.10/site-packages (from numba) (2.0.0)\n",
      "Installing collected packages: llvmlite, numba\n",
      "Successfully installed llvmlite-0.43.0 numba-0.60.0\n",
      "\n",
      "\u001b[1m[\u001b[0m\u001b[34;49mnotice\u001b[0m\u001b[1;39;49m]\u001b[0m\u001b[39;49m A new release of pip is available: \u001b[0m\u001b[31;49m23.0.1\u001b[0m\u001b[39;49m -> \u001b[0m\u001b[32;49m24.1.1\u001b[0m\n",
      "\u001b[1m[\u001b[0m\u001b[34;49mnotice\u001b[0m\u001b[1;39;49m]\u001b[0m\u001b[39;49m To update, run: \u001b[0m\u001b[32;49mpython3.10 -m pip install --upgrade pip\u001b[0m\n"
     ]
    }
   ],
   "source": [
    "!pip install numba"
   ]
  },
  {
   "cell_type": "code",
   "execution_count": 43,
   "id": "cfb19046-5312-4710-8719-2e2ce7f48ad7",
   "metadata": {},
   "outputs": [],
   "source": [
    "import numba"
   ]
  },
  {
   "cell_type": "code",
   "execution_count": 44,
   "id": "866db1c7-f1a4-4ec1-aceb-c8f72785d6c9",
   "metadata": {},
   "outputs": [
    {
     "data": {
      "text/html": [
       "<div>\n",
       "<style scoped>\n",
       "    .dataframe tbody tr th:only-of-type {\n",
       "        vertical-align: middle;\n",
       "    }\n",
       "\n",
       "    .dataframe tbody tr th {\n",
       "        vertical-align: top;\n",
       "    }\n",
       "\n",
       "    .dataframe thead th {\n",
       "        text-align: right;\n",
       "    }\n",
       "</style>\n",
       "<table border=\"1\" class=\"dataframe\">\n",
       "  <thead>\n",
       "    <tr style=\"text-align: right;\">\n",
       "      <th></th>\n",
       "      <th>a</th>\n",
       "      <th>b</th>\n",
       "    </tr>\n",
       "  </thead>\n",
       "  <tbody>\n",
       "    <tr>\n",
       "      <th>0</th>\n",
       "      <td>-0.543978</td>\n",
       "      <td>0.558654</td>\n",
       "    </tr>\n",
       "    <tr>\n",
       "      <th>1</th>\n",
       "      <td>-0.493950</td>\n",
       "      <td>0.384705</td>\n",
       "    </tr>\n",
       "    <tr>\n",
       "      <th>2</th>\n",
       "      <td>-0.986260</td>\n",
       "      <td>0.768287</td>\n",
       "    </tr>\n",
       "    <tr>\n",
       "      <th>3</th>\n",
       "      <td>-0.380660</td>\n",
       "      <td>-0.437055</td>\n",
       "    </tr>\n",
       "    <tr>\n",
       "      <th>4</th>\n",
       "      <td>0.604655</td>\n",
       "      <td>-0.256137</td>\n",
       "    </tr>\n",
       "    <tr>\n",
       "      <th>...</th>\n",
       "      <td>...</td>\n",
       "      <td>...</td>\n",
       "    </tr>\n",
       "    <tr>\n",
       "      <th>999995</th>\n",
       "      <td>-0.974327</td>\n",
       "      <td>0.444928</td>\n",
       "    </tr>\n",
       "    <tr>\n",
       "      <th>999996</th>\n",
       "      <td>-0.298591</td>\n",
       "      <td>-0.341347</td>\n",
       "    </tr>\n",
       "    <tr>\n",
       "      <th>999997</th>\n",
       "      <td>0.597318</td>\n",
       "      <td>0.851512</td>\n",
       "    </tr>\n",
       "    <tr>\n",
       "      <th>999998</th>\n",
       "      <td>0.039184</td>\n",
       "      <td>-0.829645</td>\n",
       "    </tr>\n",
       "    <tr>\n",
       "      <th>999999</th>\n",
       "      <td>0.985065</td>\n",
       "      <td>-0.169976</td>\n",
       "    </tr>\n",
       "  </tbody>\n",
       "</table>\n",
       "<p>1000000 rows × 2 columns</p>\n",
       "</div>"
      ],
      "text/plain": [
       "               a         b\n",
       "0      -0.543978  0.558654\n",
       "1      -0.493950  0.384705\n",
       "2      -0.986260  0.768287\n",
       "3      -0.380660 -0.437055\n",
       "4       0.604655 -0.256137\n",
       "...          ...       ...\n",
       "999995 -0.974327  0.444928\n",
       "999996 -0.298591 -0.341347\n",
       "999997  0.597318  0.851512\n",
       "999998  0.039184 -0.829645\n",
       "999999  0.985065 -0.169976\n",
       "\n",
       "[1000000 rows x 2 columns]"
      ]
     },
     "execution_count": 44,
     "metadata": {},
     "output_type": "execute_result"
    }
   ],
   "source": [
    "df = pd.DataFrame(np.random.uniform(-1, 1, size=(1_000_000, 2)), columns=['a', 'b'])\n",
    "df"
   ]
  },
  {
   "cell_type": "code",
   "execution_count": 45,
   "id": "e71b12d3-a096-4bcc-9c6f-dd7792e61ed8",
   "metadata": {},
   "outputs": [
    {
     "name": "stdout",
     "output_type": "stream",
     "text": [
      "16.1 s ± 239 ms per loop (mean ± std. dev. of 7 runs, 1 loop each)\n"
     ]
    }
   ],
   "source": [
    "%%timeit\n",
    "\n",
    "c_results = []\n",
    "for _, row in df.iterrows():\n",
    "    c_results.append(np.sqrt(row['a']**2 + row['b']**2))"
   ]
  },
  {
   "cell_type": "code",
   "execution_count": 46,
   "id": "7b1bb06e-bec0-4767-a11b-a63b05da6fbd",
   "metadata": {},
   "outputs": [],
   "source": [
    "def pythagoras_apply(row):\n",
    "    return np.sqrt(row['a']**2 + row['b']**2)"
   ]
  },
  {
   "cell_type": "code",
   "execution_count": 47,
   "id": "ece76904-e43f-4613-88b2-560cb7b36024",
   "metadata": {},
   "outputs": [
    {
     "name": "stdout",
     "output_type": "stream",
     "text": [
      "4.36 s ± 77.5 ms per loop (mean ± std. dev. of 7 runs, 1 loop each)\n"
     ]
    }
   ],
   "source": [
    "%%timeit\n",
    "\n",
    "df.apply(pythagoras_apply, axis='columns')"
   ]
  },
  {
   "cell_type": "code",
   "execution_count": 48,
   "id": "4c6db06e-7705-4a42-aa7d-66f661ea8ce2",
   "metadata": {},
   "outputs": [
    {
     "name": "stdout",
     "output_type": "stream",
     "text": [
      "4.43 ms ± 211 μs per loop (mean ± std. dev. of 7 runs, 100 loops each)\n"
     ]
    }
   ],
   "source": [
    "%%timeit\n",
    "\n",
    "np.sqrt(df['a']**2 + df['b']**2)"
   ]
  },
  {
   "cell_type": "code",
   "execution_count": 49,
   "id": "afa8abd3-4bc9-4f20-b0fa-91666292fa92",
   "metadata": {},
   "outputs": [],
   "source": [
    "@numba.jit\n",
    "def pythagoras_vectorized(a, b):\n",
    "    return np.sqrt(a**2 + b**2)"
   ]
  },
  {
   "cell_type": "code",
   "execution_count": 50,
   "id": "8cb1c404-4c2d-4a14-84ba-925f94df5906",
   "metadata": {},
   "outputs": [
    {
     "name": "stdout",
     "output_type": "stream",
     "text": [
      "1.16 ms ± 64.1 μs per loop (mean ± std. dev. of 7 runs, 1 loop each)\n"
     ]
    }
   ],
   "source": [
    "%%timeit\n",
    "\n",
    "pythagoras_vectorized(df['a'].to_numpy(), df['b'].to_numpy())"
   ]
  },
  {
   "cell_type": "code",
   "execution_count": 51,
   "id": "4bc9b306-9dcc-4140-9993-688d62f83b99",
   "metadata": {},
   "outputs": [],
   "source": [
    "@numba.jit\n",
    "def pythagoras_iterate(a, b):\n",
    "    n = len(a)\n",
    "    c = np.empty(n, dtype=\"float64\")\n",
    "    for i in range(n):\n",
    "        c[i] = np.sqrt(a[i]**2 + b[i]**2)\n",
    "    return c"
   ]
  },
  {
   "cell_type": "code",
   "execution_count": 52,
   "id": "9d2c058c-7e58-4b75-92be-7b7ece44e996",
   "metadata": {},
   "outputs": [
    {
     "name": "stdout",
     "output_type": "stream",
     "text": [
      "1.19 ms ± 20.4 μs per loop (mean ± std. dev. of 7 runs, 1,000 loops each)\n"
     ]
    }
   ],
   "source": [
    "%%timeit\n",
    "\n",
    "pythagoras_iterate(df['a'].to_numpy(), df['b'].to_numpy())"
   ]
  },
  {
   "cell_type": "markdown",
   "id": "c05e4f6a-ec48-4e69-a54c-a4bcbb617436",
   "metadata": {},
   "source": [
    "Numba has three major options that control important behaviors such as compilation flexibility, parallelism, and GIL effects. They are nopython, parallel, and nogil.\n",
    "\n",
    "- `nopython`: Numba will compile the function only if it can generate native machine code for the entire function. If it encounters code that it cannot compile, it will raise an error instead of falling back to object mode. The default is `False`.\n",
    "- `parallel`: When True, it enables parallel execution of loops using prange. The default is `False`.\n",
    "- `nogil`: When True, it releases the Global Interpreter Lock (GIL), allowing concurrent execution of multiple threads in the same process. The default is `False`.\n",
    "\n",
    "These parameters are important because not everything can be compiled or parallelized. Understanding Numba's support limitations and behaviors is crucial to maximize efficiency."
   ]
  },
  {
   "cell_type": "code",
   "execution_count": 53,
   "id": "8aa6150c-13ec-4a2f-a4f8-db62d6de8c1a",
   "metadata": {},
   "outputs": [],
   "source": [
    "@numba.jit(nopython=True, parallel=True, nogil=True)\n",
    "def power2(a):\n",
    "    n = len(a)\n",
    "    c = np.empty(n, dtype=\"float64\")\n",
    "    for i in numba.prange(n):\n",
    "        c[i] = a[i] ** 2\n",
    "    return c"
   ]
  },
  {
   "cell_type": "code",
   "execution_count": 54,
   "id": "b3d76155-49ba-418d-8849-0018869d6e09",
   "metadata": {},
   "outputs": [
    {
     "name": "stdout",
     "output_type": "stream",
     "text": [
      "918 μs ± 19.1 μs per loop (mean ± std. dev. of 7 runs, 1,000 loops each)\n"
     ]
    }
   ],
   "source": [
    "%%timeit\n",
    "\n",
    "df['a'] ** 2"
   ]
  },
  {
   "cell_type": "code",
   "execution_count": 55,
   "id": "878efeb1-aaf0-4a6d-a24e-f9acc604148c",
   "metadata": {},
   "outputs": [
    {
     "name": "stdout",
     "output_type": "stream",
     "text": [
      "713 μs ± 23.2 μs per loop (mean ± std. dev. of 7 runs, 1 loop each)\n"
     ]
    }
   ],
   "source": [
    "%%timeit\n",
    "\n",
    "power2(df['a'].to_numpy())"
   ]
  },
  {
   "cell_type": "markdown",
   "id": "394b99df-d1f8-4bde-98c8-8087bed5a00b",
   "metadata": {},
   "source": [
    "### Cython\n",
    "\n",
    "Cython is a programming language that makes writing C extensions for Python as easy as Python itself. It allows you to convert Python code into C or C++ code, enabling significant performance improvements, especially for computationally intensive tasks.\n",
    "\n",
    "For more information, check the following references:\n",
    "\n",
    "- [Cython (writing C extensions for pandas) on Pandas Docs](https://pandas.pydata.org/pandas-docs/stable/user_guide/enhancingperf.html#cython-writing-c-extensions-for-pandas)\n",
    "- [Cython on Cython Docs](https://cython.org/)"
   ]
  },
  {
   "cell_type": "markdown",
   "id": "5ca30b6f-16e8-4353-8130-e4ec839ed17f",
   "metadata": {},
   "source": [
    "## Numerical Expression Evaluators\n",
    "\n",
    "You can speed up certain binary numerical and boolean operations using the `numexpr` and `bottleneck` packages.\n",
    "\n",
    "- `numexpr` evaluates NumPy array expressions and accelerates them with better memory handling, multi-threading capabilities, and Intel's VML (Vector Math Library) for faster speeds and lower memory usage.\n",
    "- `bottleneck` implements optimized algorithms in C for numerical computations, addressing common performance bottlenecks. It uses techniques like parallelism, loop unrolling, SIMD, and even OpenMP to enhance performance.\n",
    "\n",
    "Pandas highly encourage the usage of both libraries which are used by default when installed. To install them, use:\n",
    "\n",
    "```\n",
    "pip install \"pandas[performance]\"\n",
    "```\n",
    "\n",
    "For more recommended dependencies, check the section [Recommended Dependencies on Pandas Docs](https://pandas.pydata.org/docs/getting_started/install.html#install-recommended-dependencies)."
   ]
  },
  {
   "cell_type": "markdown",
   "id": "25fe061b-c25d-44a2-9595-95deb20c8cda",
   "metadata": {},
   "source": [
    "# Conclusion\n",
    "\n",
    "When working with pandas, you often need to perform element-wise transformations. These transformations can vary widely, from simple arithmetic operations to more complex logic.\n",
    "\n",
    "Pandas offers various methods for these transformations, including arithmetic and boolean operators, as well as functions like `.apply`, `.map`, `.applymap`, `.transform` and the `.str` accessor for string manipulation. Each method has different performance characteristics, which is significant when aiming for efficient code, especially with large datasets. Efficient code that runs quickly is essential to minimize processing time and costs.\n",
    "\n",
    "To optimize your pandas code effectively, consider the following principles, adapted from the \"Zen of Pandas Optimization\" by Sofia Heisler:\n",
    "\n",
    "1. Avoid using iterrows, itertuples, or loops.\n",
    "2. If you must loop, use `.map` for Series and `.apply` for DataFrames.\n",
    "2. If you must `.apply`, consider using Cython, Numba, or Pandarallel to speed it up.\n",
    "4. Prefer vectorization over scalar operations.\n",
    "5. Vectorized operations on NumPy arrays may be more efficient than on Series.\n",
    "6. Use the appropriate data type for your columns.\n",
    "7. Use the recommended performance packages.\n",
    "\n",
    "Most of the time, it is possible to optimize your code significantly, however you don't need to optimize everything all the time. As said by Donald Knuth: \"Premature optimization is the root of all evil (or at least most of it).\"\n",
    "\n",
    "In the end, following these guidelines (\"Zen of Pandas Optimization\") is enough to lead to better performance."
   ]
  },
  {
   "attachments": {
    "03d11efa-7b58-428c-892d-434b62552733.png": {
     "image/png": "[encoded data removed]"
    }
   },
   "cell_type": "markdown",
   "id": "f0db3629-9fb9-49de-8ec0-492bd1775036",
   "metadata": {},
   "source": [
    "# Appendix: Vectorization (SIMD)\n",
    "\n",
    "There are several types of parallelism in computing, categorized based on task division and data processing methods. In Flynn's taxonomy, SIMD (Single Instruction, Multiple Data) is a form of parallel processing where a single instruction operates on multiple data segments (vectors) simultaneously, exploiting data-level parallelism.\n",
    "\n",
    "The process of converting an algorithm to use SIMD is called **vectorization**. This can be achieved manually by programmers using specialized directives or automatically by compilers through auto-vectorization.\n",
    "\n",
    "![image.png](attachment:03d11efa-7b58-428c-892d-434b62552733.png)\n",
    "\n",
    "Nowadays, most of Modern CPUs provide direct support for SIMD through hardware design and instruction set architecture (ISA). They can execute single instructions across increasingly large data sets using wider SIMD registers. For instance, a CPU with a 512-bit register can hold 16 32-bit single-precision floating-point numbers, performing operations on them 16 times faster than processing each element individually. When combined with threading and multicore architectures, this leads to significant performance gains.\n",
    "\n",
    "However, not all algorithms are easily vectorized. For instance, algorithms where computations depend on other elements or loops where each iteration depends on previous iterations are not suitable for vectorization.\n",
    "\n",
    "In addition, some important conditions must be met for SIMD to be effective. Examples are:\n",
    "\n",
    "- **Memory Alignment**: Data must be aligned in memory according to vector register sizes.\n",
    "- **Contiguous Data**: Data should be stored contiguously in memory.\n",
    "- **Memory Bandwidth**: Adequate memory bandwidth is needed to handle simultaneous data access.\n"
   ]
  },
  {
   "cell_type": "markdown",
   "id": "770a9b0a-7cef-45df-944d-7eb2fcdca4d4",
   "metadata": {},
   "source": [
    "# References\n",
    "\n",
    "- [Enhancing performance on Pandas Docs](https://pandas.pydata.org/pandas-docs/stable/user_guide/enhancingperf.html)\n",
    "- [Sofia Heisler No More Sad Pandas Optimizing Pandas Code for Speed and Efficiency PyCon 2017](https://www.youtube.com/watch?v=HN5d490_KKk)\n",
    "- [1000x faster data manipulation: vectorizing with Pandas and Numpy](https://www.youtube.com/watch?v=nxWginnBklU)\n",
    "- [Numba Explained in 30 Minutes - The Python and Numpy Compiler](https://www.youtube.com/watch?v=DPyPmoeUdcE)\n",
    "\n",
    "- [How vectorization speeds up your Python code](https://pythonspeed.com/articles/vectorization-python/)\n",
    "- [Pandas vectorization: faster code, slower code, bloated memory](https://pythonspeed.com/articles/pandas-vectorization/)\n",
    "- [Reducing NumPy memory usage with lossless compression](https://pythonspeed.com/articles/numpy-memory-footprint/)\n",
    "\n",
    "- [Vectorization: A Key Tool To Improve Performance On Modern CPUs](https://www.intel.com/content/www/us/en/developer/articles/technical/vectorization-a-key-tool-to-improve-performance-on-modern-cpus.html)\n"
   ]
  }
 ],
 "metadata": {
  "kernelspec": {
   "display_name": "Python 3 (ipykernel)",
   "language": "python",
   "name": "python3"
  },
  "language_info": {
   "codemirror_mode": {
    "name": "ipython",
    "version": 3
   },
   "file_extension": ".py",
   "mimetype": "text/x-python",
   "name": "python",
   "nbconvert_exporter": "python",
   "pygments_lexer": "ipython3",
   "version": "3.10.13"
  }
 },
 "nbformat": 4,
 "nbformat_minor": 5
}
