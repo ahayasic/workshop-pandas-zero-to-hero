{
 "cells": [
  {
   "cell_type": "code",
   "execution_count": 1,
   "id": "c5687108-49ec-4301-9c87-86d19d6e4c64",
   "metadata": {},
   "outputs": [],
   "source": [
    "import time"
   ]
  },
  {
   "cell_type": "code",
   "execution_count": 2,
   "id": "3af08a68-78c2-466d-8d51-b11a1df1ac8a",
   "metadata": {},
   "outputs": [],
   "source": [
    "import numpy as np\n",
    "import pandas as pd"
   ]
  },
  {
   "cell_type": "code",
   "execution_count": 3,
   "id": "66f3e5fe-85dd-4bf1-bce4-780f2efdd999",
   "metadata": {},
   "outputs": [],
   "source": [
    "np.random.seed(0)"
   ]
  },
  {
   "cell_type": "code",
   "execution_count": 4,
   "id": "666f99d1-06f1-4bdc-9ab1-1c735a3146a7",
   "metadata": {},
   "outputs": [],
   "source": [
    "pd.options.mode.copy_on_write = True"
   ]
  },
  {
   "cell_type": "markdown",
   "id": "7a3cc843-fd5f-472d-90cd-92cf94e7b56d",
   "metadata": {},
   "source": [
    "# String Manipulation\n",
    "\n",
    "Python is well-known for its ease of handling strings and text. The string object’s built-in methods simplify most text operations, while complex pattern matching tasks can be handled with regular expressions.\n",
    "\n",
    "To enable you to perform string methods and regular expressions concisely on entire arrays of data while managing missing values, pandas provides the `.str` accessor on Series. This accessor includes a lot of vectorized string operations that skip over and propagate NA values and contains some parameters to control regular expression behavior, case sensitivity, and handling of missing data.\n",
    "\n",
    "The `.str` attribute is accessible only for text data types, and pandas offers two ways to store text data:\n",
    "\n",
    "- **object** dtype NumPy array\n",
    "- **StringDtype** extension type\n",
    "\n",
    "It's recommended to use `StringDtype` for storing text data since the `object` dtype is a generic dtype inherited from NumPy arrays, used to store any Python object type.\n",
    "\n",
    "In contrast, StringDtype comes from pandas' new extension type system, allowing for new data types that are not natively supported by NumPy. These new data types can be treated as first-class citizens and contains specific optimizations to make it computally efficient."
   ]
  },
  {
   "cell_type": "markdown",
   "id": "2e6bc4f9-bd3c-4649-8caf-5010d0785b3b",
   "metadata": {},
   "source": [
    "## Vectorized String Methods \n",
    "\n",
    "The `str` accessor implements most of the built-in string handling methods available in Python, making it as straightforward to work with as traditional Python strings.\n",
    "\n",
    "The complete list of available methods can be found in the [official pandas docs](https://pandas.pydata.org/docs/user_guide/text.html#method-summary)."
   ]
  },
  {
   "cell_type": "code",
   "execution_count": 5,
   "id": "5d56d65a-985e-4a94-b1c5-88fd93704cd6",
   "metadata": {},
   "outputs": [
    {
     "data": {
      "text/plain": [
       "0       arthur.costa@email.com\n",
       "1        bruna.silva@email.com\n",
       "2    camila.oliveira@email.com\n",
       "dtype: object"
      ]
     },
     "execution_count": 5,
     "metadata": {},
     "output_type": "execute_result"
    }
   ],
   "source": [
    "# Concatenate strings in the Series/Index with a given separator.\n",
    "\n",
    "s1 = pd.Series(['arthur', 'bruna', 'camila'])\n",
    "s2 = pd.Series(['costa', 'silva', 'oliveira'])\n",
    "\n",
    "s1.str.cat(s2, sep='.') + '@email.com'"
   ]
  },
  {
   "cell_type": "code",
   "execution_count": 6,
   "id": "ef10e3e8-b0d7-4a85-a82d-916c23bd2a11",
   "metadata": {},
   "outputs": [
    {
     "data": {
      "text/plain": [
       "0    1\n",
       "1    3\n",
       "2    0\n",
       "dtype: int64"
      ]
     },
     "execution_count": 6,
     "metadata": {},
     "output_type": "execute_result"
    }
   ],
   "source": [
    "# Counts occurrences of a pattern in each string.\n",
    "\n",
    "s1 = pd.Series(['apple', 'banana', 'cherry'])\n",
    "s1.str.count('a')"
   ]
  },
  {
   "cell_type": "code",
   "execution_count": 7,
   "id": "8f6986de-734f-4719-a111-26d86ed7c9a9",
   "metadata": {},
   "outputs": [
    {
     "data": {
      "text/plain": [
       "0    5\n",
       "1    6\n",
       "2    6\n",
       "dtype: int64"
      ]
     },
     "execution_count": 7,
     "metadata": {},
     "output_type": "execute_result"
    }
   ],
   "source": [
    "# Computes length of each string in the Series/Index.\n",
    "\n",
    "s1 = pd.Series(['apple', 'banana', 'cherry'])\n",
    "s1.str.len()"
   ]
  },
  {
   "cell_type": "code",
   "execution_count": 8,
   "id": "d134092e-d95c-42a8-8422-60fadf545ae4",
   "metadata": {},
   "outputs": [
    {
     "data": {
      "text/plain": [
       "0     True\n",
       "1     True\n",
       "2    False\n",
       "dtype: bool"
      ]
     },
     "execution_count": 8,
     "metadata": {},
     "output_type": "execute_result"
    }
   ],
   "source": [
    "# Checks if each string in the Series/Index contains a pattern.\n",
    "\n",
    "s1 = pd.Series(['apple', 'banana', 'cherry'])\n",
    "s1.str.contains('a')"
   ]
  },
  {
   "cell_type": "code",
   "execution_count": 9,
   "id": "571895e3-652d-4cc1-9d5f-2c50e93ddf8d",
   "metadata": {},
   "outputs": [
    {
     "data": {
      "text/plain": [
       "0     True\n",
       "1    False\n",
       "2    False\n",
       "dtype: bool"
      ]
     },
     "execution_count": 9,
     "metadata": {},
     "output_type": "execute_result"
    }
   ],
   "source": [
    "# Check if each string starts with a match of a pattern.\n",
    "\n",
    "s1 = pd.Series(['apple', 'banana', 'cherry'])\n",
    "s1.str.match('a')"
   ]
  },
  {
   "cell_type": "code",
   "execution_count": 10,
   "id": "2bb298bd-91d6-4453-bfe8-67de31e06c63",
   "metadata": {},
   "outputs": [
    {
     "data": {
      "text/plain": [
       "0          [a]\n",
       "1    [a, a, a]\n",
       "2           []\n",
       "dtype: object"
      ]
     },
     "execution_count": 10,
     "metadata": {},
     "output_type": "execute_result"
    }
   ],
   "source": [
    "# Finds all occurrences of a pattern in each string.\n",
    "\n",
    "s1 = pd.Series(['apple', 'banana', 'cherry'])\n",
    "s1.str.findall('a')"
   ]
  },
  {
   "cell_type": "code",
   "execution_count": 11,
   "id": "68b14cb2-692d-4a51-aa88-2f44d2c73085",
   "metadata": {},
   "outputs": [
    {
     "data": {
      "text/plain": [
       "0     opple\n",
       "1    bonono\n",
       "2    cherry\n",
       "dtype: object"
      ]
     },
     "execution_count": 11,
     "metadata": {},
     "output_type": "execute_result"
    }
   ],
   "source": [
    "# Replaces occurrences of pattern/regex with another string.\n",
    "\n",
    "s1 = pd.Series(['apple', 'banana', 'cherry'])\n",
    "s1.str.replace('a', 'o')"
   ]
  },
  {
   "cell_type": "code",
   "execution_count": 12,
   "id": "7acc3785-04ce-4ad7-befa-6ae94ce7600e",
   "metadata": {},
   "outputs": [
    {
     "data": {
      "text/plain": [
       "0    a-b-c\n",
       "1    d-e-f\n",
       "dtype: object"
      ]
     },
     "execution_count": 12,
     "metadata": {},
     "output_type": "execute_result"
    }
   ],
   "source": [
    "# Joins lists contained as elements in the Series/Index with passed delimiter.\n",
    "\n",
    "s1 = pd.Series([['a', 'b', 'c'], ['d', 'e', 'f']])\n",
    "s1.str.join('-')"
   ]
  },
  {
   "cell_type": "code",
   "execution_count": 13,
   "id": "ea0aacbc-2488-4889-9219-ec828902e6e5",
   "metadata": {},
   "outputs": [
    {
     "data": {
      "text/plain": [
       "0    [a, b, c]\n",
       "1    [d, e, f]\n",
       "dtype: object"
      ]
     },
     "execution_count": 13,
     "metadata": {},
     "output_type": "execute_result"
    }
   ],
   "source": [
    "# Splits each string in the Series/Index by given delimiter.\n",
    "#\n",
    "# Tip: Elements in the split lists can be accessed using get or [] notation:\n",
    "# Or you can use 'expand' to transform the splitted elements\n",
    "# into columns\n",
    "\n",
    "s1 = pd.Series(['a-b-c', 'd-e-f'])\n",
    "s1.str.split('-')"
   ]
  },
  {
   "cell_type": "code",
   "execution_count": 14,
   "id": "af6b410e-9c45-4269-bdd8-afd83a01fca3",
   "metadata": {},
   "outputs": [
    {
     "data": {
      "text/plain": [
       "0     apple\n",
       "1    banana\n",
       "2    cherry\n",
       "dtype: object"
      ]
     },
     "execution_count": 14,
     "metadata": {},
     "output_type": "execute_result"
    }
   ],
   "source": [
    "# Removes leading and trailing characters from each string.\n",
    "\n",
    "s1 = pd.Series(['  apple  ', '  banana', 'cherry   '])\n",
    "s1.str.strip()"
   ]
  },
  {
   "cell_type": "code",
   "execution_count": 15,
   "id": "5fc0db60-9a8b-4bab-bc7b-2925804cd8de",
   "metadata": {},
   "outputs": [
    {
     "data": {
      "text/plain": [
       "0    app\n",
       "1    ban\n",
       "2    che\n",
       "dtype: object"
      ]
     },
     "execution_count": 15,
     "metadata": {},
     "output_type": "execute_result"
    }
   ],
   "source": [
    "# Slice the first 3 characters of each string\n",
    "\n",
    "s1 = pd.Series(['apple', 'banana', 'cherry'])\n",
    "s1.str.slice(start=0, stop=3)"
   ]
  },
  {
   "cell_type": "code",
   "execution_count": 16,
   "id": "a9461624-85ad-4ea1-b58b-907a2648dd42",
   "metadata": {},
   "outputs": [
    {
     "data": {
      "text/plain": [
       "0      a\n",
       "1    a|b\n",
       "2    NaN\n",
       "3    a|c\n",
       "dtype: object"
      ]
     },
     "execution_count": 16,
     "metadata": {},
     "output_type": "execute_result"
    }
   ],
   "source": [
    "# Extract dummy variables from string columns.\n",
    "# For example if they are separated by a '|':\n",
    "\n",
    "s1 = pd.Series([\"a\", \"a|b\", np.nan, \"a|c\"])\n",
    "s1"
   ]
  },
  {
   "cell_type": "code",
   "execution_count": 17,
   "id": "e0ccfced-9f5b-4c95-ba86-a1b84c2b7d41",
   "metadata": {},
   "outputs": [
    {
     "data": {
      "text/html": [
       "<div>\n",
       "<style scoped>\n",
       "    .dataframe tbody tr th:only-of-type {\n",
       "        vertical-align: middle;\n",
       "    }\n",
       "\n",
       "    .dataframe tbody tr th {\n",
       "        vertical-align: top;\n",
       "    }\n",
       "\n",
       "    .dataframe thead th {\n",
       "        text-align: right;\n",
       "    }\n",
       "</style>\n",
       "<table border=\"1\" class=\"dataframe\">\n",
       "  <thead>\n",
       "    <tr style=\"text-align: right;\">\n",
       "      <th></th>\n",
       "      <th>a</th>\n",
       "      <th>b</th>\n",
       "      <th>c</th>\n",
       "    </tr>\n",
       "  </thead>\n",
       "  <tbody>\n",
       "    <tr>\n",
       "      <th>0</th>\n",
       "      <td>1</td>\n",
       "      <td>0</td>\n",
       "      <td>0</td>\n",
       "    </tr>\n",
       "    <tr>\n",
       "      <th>1</th>\n",
       "      <td>1</td>\n",
       "      <td>1</td>\n",
       "      <td>0</td>\n",
       "    </tr>\n",
       "    <tr>\n",
       "      <th>2</th>\n",
       "      <td>0</td>\n",
       "      <td>0</td>\n",
       "      <td>0</td>\n",
       "    </tr>\n",
       "    <tr>\n",
       "      <th>3</th>\n",
       "      <td>1</td>\n",
       "      <td>0</td>\n",
       "      <td>1</td>\n",
       "    </tr>\n",
       "  </tbody>\n",
       "</table>\n",
       "</div>"
      ],
      "text/plain": [
       "   a  b  c\n",
       "0  1  0  0\n",
       "1  1  1  0\n",
       "2  0  0  0\n",
       "3  1  0  1"
      ]
     },
     "execution_count": 17,
     "metadata": {},
     "output_type": "execute_result"
    }
   ],
   "source": [
    "s1.str.get_dummies(sep=\"|\")"
   ]
  },
  {
   "cell_type": "markdown",
   "id": "cc3f2a2e-471f-42c4-92cd-fd1677a50141",
   "metadata": {},
   "source": [
    "## Regular Expressions\n",
    "\n",
    "Most methods of the `str` accessor support regular expressions (regex). By using regex patterns, we can perform powerful and flexible string manipulations."
   ]
  },
  {
   "cell_type": "code",
   "execution_count": 18,
   "id": "9cead625-c03e-436a-b82e-31dedb92fcb0",
   "metadata": {},
   "outputs": [
    {
     "data": {
      "text/plain": [
       "0    False\n",
       "1    False\n",
       "2    False\n",
       "dtype: bool"
      ]
     },
     "execution_count": 18,
     "metadata": {},
     "output_type": "execute_result"
    }
   ],
   "source": [
    "# Regex pattern to find 'a' followed by any character and then 'n'\n",
    "\n",
    "s1 = pd.Series(['apple', 'banana', 'cherry'])\n",
    "s1.str.contains(r'a.n')"
   ]
  },
  {
   "cell_type": "code",
   "execution_count": 19,
   "id": "b280f321-e4c5-4821-9bdf-f8befec0f363",
   "metadata": {},
   "outputs": [
    {
     "data": {
      "text/plain": [
       "0    0\n",
       "1    2\n",
       "2    0\n",
       "dtype: int64"
      ]
     },
     "execution_count": 19,
     "metadata": {},
     "output_type": "execute_result"
    }
   ],
   "source": [
    "# Counts occurrences of a pattern in each string.\n",
    "\n",
    "s1 = pd.Series(['apple', 'banana', 'cherry'])\n",
    "s1.str.count(r'na')"
   ]
  },
  {
   "cell_type": "code",
   "execution_count": 20,
   "id": "7bbf366f-2e19-45cd-be37-3e12f91503e7",
   "metadata": {},
   "outputs": [
    {
     "data": {
      "text/plain": [
       "0     True\n",
       "1    False\n",
       "2     True\n",
       "dtype: bool"
      ]
     },
     "execution_count": 20,
     "metadata": {},
     "output_type": "execute_result"
    }
   ],
   "source": [
    "# Check if strings match pattern of a letter followed by a digit\n",
    "\n",
    "s1 = pd.Series(['a1', 'bx', 'c3'])\n",
    "s1.str.match(r'[a-z]\\d')  "
   ]
  },
  {
   "cell_type": "markdown",
   "id": "b74cd7cd-0ce6-45fe-b5bd-5991e40d3487",
   "metadata": {},
   "source": [
    "## Python Operators: Arithmetic and Boolean\n",
    "\n",
    "As seen in the *Essential Basic Functionality* notebook, pandas supports using traditional arithmetic and boolean operators to handle text data on Series and DataFrames, enabling element-wise operations similar to those in traditional Python string manipulation.\n",
    "\n",
    "The drawback is that while `str` accessor methods offer many optional parameters to control a lot of behaviors and enable complex string manipulations in various scenarios, especially handling missing data, the overloaded Python operators are as simple as they come."
   ]
  },
  {
   "cell_type": "code",
   "execution_count": 21,
   "id": "a374c912-487a-472e-acb0-350b2261100a",
   "metadata": {},
   "outputs": [
    {
     "data": {
      "text/plain": [
       "0       arthur.costa@email.com\n",
       "1        bruna.silva@email.com\n",
       "2    camila.oliveira@email.com\n",
       "dtype: object"
      ]
     },
     "execution_count": 21,
     "metadata": {},
     "output_type": "execute_result"
    }
   ],
   "source": [
    "# Concatenate two Series element-wise or\n",
    "# Series with a scalar string.\n",
    "\n",
    "s1 = pd.Series(['arthur', 'bruna', 'camila'])\n",
    "s2 = pd.Series(['costa', 'silva', 'oliveira'])\n",
    "\n",
    "s1 + '.' + s2 + '@email.com'"
   ]
  },
  {
   "cell_type": "code",
   "execution_count": 22,
   "id": "b592a209-e7c3-411a-b06e-802dfd385155",
   "metadata": {},
   "outputs": [
    {
     "data": {
      "text/plain": [
       "0    aaa\n",
       "1    bbb\n",
       "2    ccc\n",
       "dtype: object"
      ]
     },
     "execution_count": 22,
     "metadata": {},
     "output_type": "execute_result"
    }
   ],
   "source": [
    "# Repeats each string in the Series\n",
    "# a specified number of times.\n",
    "\n",
    "s1 = pd.Series(['a', 'b', 'c'])\n",
    "s1 * 3"
   ]
  },
  {
   "cell_type": "code",
   "execution_count": 23,
   "id": "81d1e235-7f98-4e4e-844c-0e481cec6dc0",
   "metadata": {},
   "outputs": [
    {
     "data": {
      "text/plain": [
       "0     True\n",
       "1    False\n",
       "2    False\n",
       "dtype: bool"
      ]
     },
     "execution_count": 23,
     "metadata": {},
     "output_type": "execute_result"
    }
   ],
   "source": [
    "# Equality comparison\n",
    "s1 = pd.Series(['apple', 'banana', 'cherry'])\n",
    "s1 == 'apple'"
   ]
  },
  {
   "cell_type": "code",
   "execution_count": 24,
   "id": "d5866d25-7934-4f88-8a82-df163c7631b9",
   "metadata": {},
   "outputs": [
    {
     "data": {
      "text/plain": [
       "0    app\n",
       "1    ban\n",
       "2    che\n",
       "dtype: object"
      ]
     },
     "execution_count": 24,
     "metadata": {},
     "output_type": "execute_result"
    }
   ],
   "source": [
    "# Slicing\n",
    "\n",
    "s1 = pd.Series(['apple', 'banana', 'cherry'])\n",
    "s1.str[:3]"
   ]
  },
  {
   "cell_type": "markdown",
   "id": "586e3dad-a98f-490c-be2b-82449bef3d14",
   "metadata": {},
   "source": [
    "# String Manipulation on Index and Columns\n",
    "\n",
    "String methods on Index objects are especially useful for cleaning up or transforming DataFrame columns. For instance, if you have columns with leading or trailing whitespace, you can use the `.str` accessor on `df.columns` since it is an Index object."
   ]
  },
  {
   "cell_type": "code",
   "execution_count": 25,
   "id": "88dec4ce-c6da-4826-b122-42fbc184579a",
   "metadata": {},
   "outputs": [
    {
     "data": {
      "text/html": [
       "<div>\n",
       "<style scoped>\n",
       "    .dataframe tbody tr th:only-of-type {\n",
       "        vertical-align: middle;\n",
       "    }\n",
       "\n",
       "    .dataframe tbody tr th {\n",
       "        vertical-align: top;\n",
       "    }\n",
       "\n",
       "    .dataframe thead th {\n",
       "        text-align: right;\n",
       "    }\n",
       "</style>\n",
       "<table border=\"1\" class=\"dataframe\">\n",
       "  <thead>\n",
       "    <tr style=\"text-align: right;\">\n",
       "      <th></th>\n",
       "      <th>FruiTs</th>\n",
       "      <th>Color_</th>\n",
       "    </tr>\n",
       "  </thead>\n",
       "  <tbody>\n",
       "    <tr>\n",
       "      <th>a</th>\n",
       "      <td>apple</td>\n",
       "      <td>red</td>\n",
       "    </tr>\n",
       "    <tr>\n",
       "      <th>b</th>\n",
       "      <td>banana</td>\n",
       "      <td>yellow</td>\n",
       "    </tr>\n",
       "    <tr>\n",
       "      <th>c</th>\n",
       "      <td>cherry</td>\n",
       "      <td>red</td>\n",
       "    </tr>\n",
       "  </tbody>\n",
       "</table>\n",
       "</div>"
      ],
      "text/plain": [
       "   FruiTs    Color_  \n",
       "a   apple         red\n",
       "b  banana      yellow\n",
       "c  cherry         red"
      ]
     },
     "execution_count": 25,
     "metadata": {},
     "output_type": "execute_result"
    }
   ],
   "source": [
    "df = pd.DataFrame({\n",
    "    'FruiTs': ['apple', 'banana', 'cherry'],\n",
    "    '   Color_  ': ['red', 'yellow', 'red'],\n",
    "    }, index=['a', 'b', 'c']\n",
    ")\n",
    "df"
   ]
  },
  {
   "cell_type": "code",
   "execution_count": 26,
   "id": "9f2b3f1e-e2da-4d75-9f9a-0d58985a1a7d",
   "metadata": {},
   "outputs": [
    {
     "data": {
      "text/html": [
       "<div>\n",
       "<style scoped>\n",
       "    .dataframe tbody tr th:only-of-type {\n",
       "        vertical-align: middle;\n",
       "    }\n",
       "\n",
       "    .dataframe tbody tr th {\n",
       "        vertical-align: top;\n",
       "    }\n",
       "\n",
       "    .dataframe thead th {\n",
       "        text-align: right;\n",
       "    }\n",
       "</style>\n",
       "<table border=\"1\" class=\"dataframe\">\n",
       "  <thead>\n",
       "    <tr style=\"text-align: right;\">\n",
       "      <th></th>\n",
       "      <th>fruits</th>\n",
       "      <th>color</th>\n",
       "    </tr>\n",
       "  </thead>\n",
       "  <tbody>\n",
       "    <tr>\n",
       "      <th>a</th>\n",
       "      <td>apple</td>\n",
       "      <td>red</td>\n",
       "    </tr>\n",
       "    <tr>\n",
       "      <th>b</th>\n",
       "      <td>banana</td>\n",
       "      <td>yellow</td>\n",
       "    </tr>\n",
       "    <tr>\n",
       "      <th>c</th>\n",
       "      <td>cherry</td>\n",
       "      <td>red</td>\n",
       "    </tr>\n",
       "  </tbody>\n",
       "</table>\n",
       "</div>"
      ],
      "text/plain": [
       "   fruits   color\n",
       "a   apple     red\n",
       "b  banana  yellow\n",
       "c  cherry     red"
      ]
     },
     "execution_count": 26,
     "metadata": {},
     "output_type": "execute_result"
    }
   ],
   "source": [
    "# Clean up DataFrame column names\n",
    "\n",
    "df.columns = df.columns.str.lower().str.strip().str.replace('_', '')\n",
    "df"
   ]
  },
  {
   "cell_type": "code",
   "execution_count": 27,
   "id": "5a4a6b99-cfd4-4d8e-af8d-6290bb5b9f9e",
   "metadata": {},
   "outputs": [
    {
     "data": {
      "text/html": [
       "<div>\n",
       "<style scoped>\n",
       "    .dataframe tbody tr th:only-of-type {\n",
       "        vertical-align: middle;\n",
       "    }\n",
       "\n",
       "    .dataframe tbody tr th {\n",
       "        vertical-align: top;\n",
       "    }\n",
       "\n",
       "    .dataframe thead th {\n",
       "        text-align: right;\n",
       "    }\n",
       "</style>\n",
       "<table border=\"1\" class=\"dataframe\">\n",
       "  <thead>\n",
       "    <tr style=\"text-align: right;\">\n",
       "      <th></th>\n",
       "      <th>fruits</th>\n",
       "      <th>color</th>\n",
       "    </tr>\n",
       "  </thead>\n",
       "  <tbody>\n",
       "    <tr>\n",
       "      <th>a</th>\n",
       "      <td>apple</td>\n",
       "      <td>red</td>\n",
       "    </tr>\n",
       "  </tbody>\n",
       "</table>\n",
       "</div>"
      ],
      "text/plain": [
       "  fruits color\n",
       "a  apple   red"
      ]
     },
     "execution_count": 27,
     "metadata": {},
     "output_type": "execute_result"
    }
   ],
   "source": [
    "df[df.index.str.contains('a')]"
   ]
  },
  {
   "cell_type": "markdown",
   "id": "2ab6259e-e3c2-47e9-887b-29f1ec5c3a99",
   "metadata": {},
   "source": [
    "# Enhancing Performance\n",
    "\n",
    "As mentioned earlier, it's recommended to use `StringDtype` for storing text data because the `object` dtype is a generic type inherited from NumPy arrays, used to store any Python object type.\n",
    "\n",
    "In contrast, `StringDtype` comes from pandas' new extension type system and include specific optimizations to enhance computational efficiency. Indeed, `StringDtype` arrays generally use much less memory and are often more computationally efficient for operations on large datasets, especially when using the Apache Arrow memory layout.\n",
    "\n",
    "To illustrate the difference between the default `object` dtype and `StringDtype` in string manipulation, this section includes a very simple and naive benchmark.\n",
    "\n",
    "The benchmark creates two DataFrames, each with one column named `'fruits'` containing 1 million rows. The column values are five different fruit names. Three different operations are tested: length calculation, replacement, and containment, as well as the size of the DataFrame."
   ]
  },
  {
   "cell_type": "markdown",
   "id": "e5bb0e73",
   "metadata": {},
   "source": [
    "To use `StringDtype`, you need to have installed pyarrow."
   ]
  },
  {
   "cell_type": "code",
   "execution_count": 28,
   "id": "a926fe6f-68c4-48ee-84c0-e6e084485a51",
   "metadata": {},
   "outputs": [],
   "source": [
    "def show_time_results(object_results: dict, string_results: dict):\n",
    "    speedup = {op: object_results[op] / string_results[op] for op in object_results if op != 'memory_usage'}\n",
    "\n",
    "    table = f\"{'Operation':<15}{'Object Time (s)':<20}{'StringDtype Time (s)':<25}{'Speedup':<10}\\n\"\n",
    "    table += \"-\" * 70 + \"\\n\"\n",
    "    for op in speedup:\n",
    "        table += f\"{op:<15}{object_results[op]:<20.5f}{string_results[op]:<25.5f}{speedup[op]:<10.2f}\\n\"\n",
    "\n",
    "    print(table)\n",
    "\n",
    "\n",
    "def show_saving_results(object_results: dict, string_results: dict):\n",
    "    savings = object_results['memory_usage'] / string_results['memory_usage']\n",
    "\n",
    "    object_mem_use_mb = object_results['memory_usage'] / (1024 ** 2)\n",
    "    string_mem_use_mb = string_results['memory_usage'] / (1024 ** 2)\n",
    "\n",
    "    table = f\"{'Memory Usage (MB)':<20}{'Object Size (MB)':<20}{'StringDtype Size (MB)':<25}{'Savings (x)':<15}\\n\"\n",
    "    table += \"-\" * 80 + \"\\n\"\n",
    "    table += f\"{'Memory Usage':<20}{object_mem_use_mb:<20.2f}{string_mem_use_mb:<25.2f}{savings:<15.2f}\\n\"\n",
    "\n",
    "    print(table)"
   ]
  },
  {
   "cell_type": "code",
   "execution_count": 29,
   "id": "25dce0be-60e4-44e3-aae9-e570c0de5695",
   "metadata": {},
   "outputs": [],
   "source": [
    "def run_benchmark(df: pd.DataFrame):\n",
    "    results = {}\n",
    "    \n",
    "    start_time = time.time()\n",
    "    df['fruits'].str.len()\n",
    "    results['length'] = time.time() - start_time\n",
    "    \n",
    "    start_time = time.time()\n",
    "    df['fruits'].str.replace('a', 'o')\n",
    "    results['replace'] = time.time() - start_time\n",
    "\n",
    "    start_time = time.time()\n",
    "    df['fruits'].str.contains('a')\n",
    "    results['contains'] = time.time() - start_time\n",
    "\n",
    "    results['memory_usage'] = df['fruits'].memory_usage(deep=True)\n",
    "\n",
    "    return results"
   ]
  },
  {
   "cell_type": "code",
   "execution_count": 30,
   "id": "4d8e88ce-de20-49fe-9ca2-5e7059f802cd",
   "metadata": {},
   "outputs": [],
   "source": [
    "n_rows = 1_000_000\n",
    "\n",
    "data = np.random.choice(['apple', 'banana', 'cherry', 'dragon fruit', 'elderberry'], n_rows)\n",
    "\n",
    "df_object = pd.DataFrame({'fruits': data})\n",
    "df_string = pd.DataFrame({'fruits': data}, dtype=pd.StringDtype('pyarrow'))"
   ]
  },
  {
   "cell_type": "code",
   "execution_count": 31,
   "id": "83f8c65c-f905-4236-ab6b-c3bca2b6ffc8",
   "metadata": {},
   "outputs": [
    {
     "name": "stdout",
     "output_type": "stream",
     "text": [
      "df_object\n",
      "fruits    object\n",
      "dtype: object\n",
      "\n",
      "df_string\n",
      "fruits    string[pyarrow]\n",
      "dtype: object\n"
     ]
    }
   ],
   "source": [
    "print(f'df_object\\n{df_object.dtypes}', end='\\n\\n')\n",
    "print(f'df_string\\n{df_string.dtypes}')"
   ]
  },
  {
   "cell_type": "code",
   "execution_count": 32,
   "id": "fcb59bd5-9116-4260-88ae-557fb8bd74ce",
   "metadata": {},
   "outputs": [],
   "source": [
    "object_results = run_benchmark(df_object)\n",
    "string_results = run_benchmark(df_string)"
   ]
  },
  {
   "cell_type": "code",
   "execution_count": 33,
   "id": "fad57bd0-1a21-482d-b850-8c486ad272a7",
   "metadata": {},
   "outputs": [
    {
     "name": "stdout",
     "output_type": "stream",
     "text": [
      "Operation      Object Time (s)     StringDtype Time (s)     Speedup   \n",
      "----------------------------------------------------------------------\n",
      "length         0.19111             0.01234                  15.49     \n",
      "replace        0.13211             0.02197                  6.01      \n",
      "contains       0.14554             0.03839                  3.79      \n",
      "\n"
     ]
    }
   ],
   "source": [
    "show_time_results(object_results, string_results)"
   ]
  },
  {
   "cell_type": "code",
   "execution_count": 34,
   "id": "d8c7a9be-9c64-498f-bada-755ccafe4ba6",
   "metadata": {},
   "outputs": [
    {
     "name": "stdout",
     "output_type": "stream",
     "text": [
      "Memory Usage (MB)   Object Size (MB)    StringDtype Size (MB)    Savings (x)    \n",
      "--------------------------------------------------------------------------------\n",
      "Memory Usage        61.80               15.07                    4.10           \n",
      "\n"
     ]
    }
   ],
   "source": [
    "show_saving_results(object_results, string_results)"
   ]
  },
  {
   "cell_type": "markdown",
   "id": "e335b7ee-2902-44ed-9c5a-b0c578472fbf",
   "metadata": {},
   "source": [
    "# References\n",
    "\n",
    "- [Python for Data Analysis by Wes McKinney (3e)](https://wesmckinney.com/book/)\n",
    "- [Pandas Official Documentation](https://pandas.pydata.org/docs/user_guide/10min.html)\n",
    "- [Frequently Asked Questions (FAQ) on Pandas](https://pandas.pydata.org/docs/user_guide/gotchas.html)"
   ]
  },
  {
   "cell_type": "markdown",
   "id": "dc2d6bcf-3f34-407c-8f60-a14c0e57bd4a",
   "metadata": {},
   "source": [
    "# Exercises\n",
    "\n",
    "To help you understand the concepts covered in this notebook, here are some practice problems.\n",
    "\n",
    "These questions refer to a dataset containing information on the type, cast, director, description and name of Netflix titles over the years. The dataset is available on [Kaggle by Shivam Bansal](https://www.kaggle.com/datasets/shivamb/netflix-shows)."
   ]
  },
  {
   "cell_type": "code",
   "execution_count": 35,
   "id": "8039b357-c5a0-4e61-9b09-44e52f0f0674",
   "metadata": {},
   "outputs": [
    {
     "data": {
      "text/html": [
       "<div>\n",
       "<style scoped>\n",
       "    .dataframe tbody tr th:only-of-type {\n",
       "        vertical-align: middle;\n",
       "    }\n",
       "\n",
       "    .dataframe tbody tr th {\n",
       "        vertical-align: top;\n",
       "    }\n",
       "\n",
       "    .dataframe thead th {\n",
       "        text-align: right;\n",
       "    }\n",
       "</style>\n",
       "<table border=\"1\" class=\"dataframe\">\n",
       "  <thead>\n",
       "    <tr style=\"text-align: right;\">\n",
       "      <th></th>\n",
       "      <th>show_id</th>\n",
       "      <th>type</th>\n",
       "      <th>title</th>\n",
       "      <th>director</th>\n",
       "      <th>cast</th>\n",
       "      <th>country</th>\n",
       "      <th>date_added</th>\n",
       "      <th>release_year</th>\n",
       "      <th>rating</th>\n",
       "      <th>duration</th>\n",
       "      <th>listed_in</th>\n",
       "      <th>description</th>\n",
       "    </tr>\n",
       "  </thead>\n",
       "  <tbody>\n",
       "    <tr>\n",
       "      <th>0</th>\n",
       "      <td>s1</td>\n",
       "      <td>Movie</td>\n",
       "      <td>Dick Johnson Is Dead</td>\n",
       "      <td>Kirsten Johnson</td>\n",
       "      <td>NaN</td>\n",
       "      <td>United States</td>\n",
       "      <td>September 25, 2021</td>\n",
       "      <td>2020</td>\n",
       "      <td>PG-13</td>\n",
       "      <td>90 min</td>\n",
       "      <td>Documentaries</td>\n",
       "      <td>As her father nears the end of his life, filmm...</td>\n",
       "    </tr>\n",
       "    <tr>\n",
       "      <th>1</th>\n",
       "      <td>s2</td>\n",
       "      <td>TV Show</td>\n",
       "      <td>Blood &amp; Water</td>\n",
       "      <td>NaN</td>\n",
       "      <td>Ama Qamata, Khosi Ngema, Gail Mabalane, Thaban...</td>\n",
       "      <td>South Africa</td>\n",
       "      <td>September 24, 2021</td>\n",
       "      <td>2021</td>\n",
       "      <td>TV-MA</td>\n",
       "      <td>2 Seasons</td>\n",
       "      <td>International TV Shows, TV Dramas, TV Mysteries</td>\n",
       "      <td>After crossing paths at a party, a Cape Town t...</td>\n",
       "    </tr>\n",
       "    <tr>\n",
       "      <th>2</th>\n",
       "      <td>s3</td>\n",
       "      <td>TV Show</td>\n",
       "      <td>Ganglands</td>\n",
       "      <td>Julien Leclercq</td>\n",
       "      <td>Sami Bouajila, Tracy Gotoas, Samuel Jouy, Nabi...</td>\n",
       "      <td>NaN</td>\n",
       "      <td>September 24, 2021</td>\n",
       "      <td>2021</td>\n",
       "      <td>TV-MA</td>\n",
       "      <td>1 Season</td>\n",
       "      <td>Crime TV Shows, International TV Shows, TV Act...</td>\n",
       "      <td>To protect his family from a powerful drug lor...</td>\n",
       "    </tr>\n",
       "    <tr>\n",
       "      <th>3</th>\n",
       "      <td>s4</td>\n",
       "      <td>TV Show</td>\n",
       "      <td>Jailbirds New Orleans</td>\n",
       "      <td>NaN</td>\n",
       "      <td>NaN</td>\n",
       "      <td>NaN</td>\n",
       "      <td>September 24, 2021</td>\n",
       "      <td>2021</td>\n",
       "      <td>TV-MA</td>\n",
       "      <td>1 Season</td>\n",
       "      <td>Docuseries, Reality TV</td>\n",
       "      <td>Feuds, flirtations and toilet talk go down amo...</td>\n",
       "    </tr>\n",
       "    <tr>\n",
       "      <th>4</th>\n",
       "      <td>s5</td>\n",
       "      <td>TV Show</td>\n",
       "      <td>Kota Factory</td>\n",
       "      <td>NaN</td>\n",
       "      <td>Mayur More, Jitendra Kumar, Ranjan Raj, Alam K...</td>\n",
       "      <td>India</td>\n",
       "      <td>September 24, 2021</td>\n",
       "      <td>2021</td>\n",
       "      <td>TV-MA</td>\n",
       "      <td>2 Seasons</td>\n",
       "      <td>International TV Shows, Romantic TV Shows, TV ...</td>\n",
       "      <td>In a city of coaching centers known to train I...</td>\n",
       "    </tr>\n",
       "  </tbody>\n",
       "</table>\n",
       "</div>"
      ],
      "text/plain": [
       "  show_id     type                  title         director  \\\n",
       "0      s1    Movie   Dick Johnson Is Dead  Kirsten Johnson   \n",
       "1      s2  TV Show          Blood & Water              NaN   \n",
       "2      s3  TV Show              Ganglands  Julien Leclercq   \n",
       "3      s4  TV Show  Jailbirds New Orleans              NaN   \n",
       "4      s5  TV Show           Kota Factory              NaN   \n",
       "\n",
       "                                                cast        country  \\\n",
       "0                                                NaN  United States   \n",
       "1  Ama Qamata, Khosi Ngema, Gail Mabalane, Thaban...   South Africa   \n",
       "2  Sami Bouajila, Tracy Gotoas, Samuel Jouy, Nabi...            NaN   \n",
       "3                                                NaN            NaN   \n",
       "4  Mayur More, Jitendra Kumar, Ranjan Raj, Alam K...          India   \n",
       "\n",
       "           date_added  release_year rating   duration  \\\n",
       "0  September 25, 2021          2020  PG-13     90 min   \n",
       "1  September 24, 2021          2021  TV-MA  2 Seasons   \n",
       "2  September 24, 2021          2021  TV-MA   1 Season   \n",
       "3  September 24, 2021          2021  TV-MA   1 Season   \n",
       "4  September 24, 2021          2021  TV-MA  2 Seasons   \n",
       "\n",
       "                                           listed_in  \\\n",
       "0                                      Documentaries   \n",
       "1    International TV Shows, TV Dramas, TV Mysteries   \n",
       "2  Crime TV Shows, International TV Shows, TV Act...   \n",
       "3                             Docuseries, Reality TV   \n",
       "4  International TV Shows, Romantic TV Shows, TV ...   \n",
       "\n",
       "                                         description  \n",
       "0  As her father nears the end of his life, filmm...  \n",
       "1  After crossing paths at a party, a Cape Town t...  \n",
       "2  To protect his family from a powerful drug lor...  \n",
       "3  Feuds, flirtations and toilet talk go down amo...  \n",
       "4  In a city of coaching centers known to train I...  "
      ]
     },
     "execution_count": 35,
     "metadata": {},
     "output_type": "execute_result"
    }
   ],
   "source": [
    "df = pd.read_csv('https://raw.githubusercontent.com/ahayasic/workshop-pandas-zero-to-hero/main/datasets/netflix-movies-and-tv-shows/netflix_titles.csv')\n",
    "df.head()"
   ]
  },
  {
   "cell_type": "markdown",
   "id": "6858d566-2738-4a8a-9e4a-0f29064d7a32",
   "metadata": {},
   "source": [
    "1. Get all rows where country is \"Brazil\" and have \"Dramas\" in listed_in category"
   ]
  },
  {
   "cell_type": "code",
   "execution_count": null,
   "id": "7d7fc123-362c-4ea4-a239-f304bd309473",
   "metadata": {},
   "outputs": [],
   "source": []
  },
  {
   "cell_type": "markdown",
   "id": "7243d2cd-31e6-4fea-95da-403e772ddc24",
   "metadata": {},
   "source": [
    "2. Get all rows where the cast includes the actor \"Leonardo DiCaprio\""
   ]
  },
  {
   "cell_type": "code",
   "execution_count": null,
   "id": "59277d5f-aa73-4452-a907-ce77119cbeb6",
   "metadata": {},
   "outputs": [],
   "source": []
  },
  {
   "cell_type": "markdown",
   "id": "3a972cf3-38b1-409b-9d11-c93a987d4edc",
   "metadata": {},
   "source": [
    "3. Get all rows where the title is composed of more than 5 words"
   ]
  },
  {
   "cell_type": "code",
   "execution_count": null,
   "id": "25b693be-90f1-401b-9fec-7ba96acd70f6",
   "metadata": {},
   "outputs": [],
   "source": []
  },
  {
   "cell_type": "markdown",
   "id": "1542bdbe-ba7b-48ec-8d3a-2241ede1e6c8",
   "metadata": {},
   "source": [
    "4. Get all rows where the description contains the words \"power\" and \"love\"."
   ]
  },
  {
   "cell_type": "code",
   "execution_count": null,
   "id": "f3910686-917a-4609-a2e3-0023dd7a7125",
   "metadata": {},
   "outputs": [],
   "source": []
  },
  {
   "cell_type": "markdown",
   "id": "91c04187-fe17-460f-911f-681bf5a35808",
   "metadata": {},
   "source": [
    "5. Show the top 10 TV shows with the biggest cast size. Display only the title, director, cast, cast size, country, and release year columns."
   ]
  },
  {
   "cell_type": "code",
   "execution_count": null,
   "id": "1d9bacf9-ae88-4cde-8f82-e491bdeb85f9",
   "metadata": {},
   "outputs": [],
   "source": []
  },
  {
   "cell_type": "markdown",
   "id": "c521d9ef-8c70-4f8d-bc73-253cb2d2d534",
   "metadata": {},
   "source": [
    "6. Show the top 10 TV shows with the most listed_in categories."
   ]
  },
  {
   "cell_type": "code",
   "execution_count": null,
   "id": "db89e196-f07d-4971-a1de-779491e0e71e",
   "metadata": {},
   "outputs": [],
   "source": []
  },
  {
   "cell_type": "markdown",
   "id": "477e6fcd-c266-4435-a54b-11b9f7b03b1f",
   "metadata": {},
   "source": [
    "7. Show the top 5 TV shows with the most seasons."
   ]
  },
  {
   "cell_type": "code",
   "execution_count": null,
   "id": "a985f1c5-f5cb-4e19-a1e9-d2278cc120db",
   "metadata": {},
   "outputs": [],
   "source": []
  },
  {
   "cell_type": "markdown",
   "id": "e07f896e-b76a-46c9-9377-468a5aa3ac2b",
   "metadata": {},
   "source": [
    "8. Count how many titles \"Emma Stone\" has done."
   ]
  },
  {
   "cell_type": "code",
   "execution_count": null,
   "id": "94094135-a642-40d5-bf0b-fdae7a11af5e",
   "metadata": {},
   "outputs": [],
   "source": []
  },
  {
   "cell_type": "markdown",
   "id": "1187ca77-ebe7-442b-8d70-a377d6213f89",
   "metadata": {},
   "source": [
    "9. Count how many movies \"Steven Spielberg\" has done with the actor \"Harrison Ford\"."
   ]
  },
  {
   "cell_type": "code",
   "execution_count": null,
   "id": "4fa385e2-2144-4cbe-8d19-b016fc6f0181",
   "metadata": {},
   "outputs": [],
   "source": []
  },
  {
   "cell_type": "markdown",
   "id": "4ed19847-2833-49db-ab6f-28544d6028ef",
   "metadata": {},
   "source": [
    "10. Replace the country 'United States' for 'no geography knowledge' (rs)"
   ]
  },
  {
   "cell_type": "code",
   "execution_count": null,
   "id": "1018af24-b969-4e78-959c-6b504afaa3b0",
   "metadata": {},
   "outputs": [],
   "source": []
  },
  {
   "cell_type": "markdown",
   "id": "95e482b9-cb63-457d-b759-faf83bd52676",
   "metadata": {},
   "source": [
    "11. Create a new column date_added_datetime with a string in the pattern 'YYYY-MM-DD'. Extract the data from the date_added column to build this."
   ]
  },
  {
   "cell_type": "code",
   "execution_count": null,
   "id": "1ef1af37-7338-4e7d-95cf-abea1b3b4bc8",
   "metadata": {},
   "outputs": [],
   "source": []
  },
  {
   "cell_type": "markdown",
   "id": "c88020b6-721d-4583-bc61-640e65c8118f",
   "metadata": {},
   "source": [
    "12. (Plus) Find the top 5 most frequent genres"
   ]
  },
  {
   "cell_type": "code",
   "execution_count": null,
   "id": "debebb49-bdee-4760-83c6-4a2a2778c1fd",
   "metadata": {},
   "outputs": [],
   "source": []
  }
 ],
 "metadata": {
  "kernelspec": {
   "display_name": "Python 3 (ipykernel)",
   "language": "python",
   "name": "python3"
  },
  "language_info": {
   "codemirror_mode": {
    "name": "ipython",
    "version": 3
   },
   "file_extension": ".py",
   "mimetype": "text/x-python",
   "name": "python",
   "nbconvert_exporter": "python",
   "pygments_lexer": "ipython3",
   "version": "3.10.13"
  }
 },
 "nbformat": 4,
 "nbformat_minor": 5
}
