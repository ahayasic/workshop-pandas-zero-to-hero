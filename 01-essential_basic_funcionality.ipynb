{
 "cells": [
  {
   "cell_type": "code",
   "execution_count": 2,
   "id": "bcc0d540-eb28-4195-b0be-1a528e274bc1",
   "metadata": {},
   "outputs": [],
   "source": [
    "import numpy as np\n",
    "import pandas as pd"
   ]
  },
  {
   "cell_type": "code",
   "execution_count": 3,
   "id": "e1029064-5a0c-445c-b403-d0aefadf629e",
   "metadata": {},
   "outputs": [],
   "source": [
    "np.random.seed(0)"
   ]
  },
  {
   "cell_type": "markdown",
   "id": "52c2a312-77fb-4634-844e-d9097aff00ef",
   "metadata": {},
   "source": [
    "# Essential Basic Funcionality\n",
    "\n",
    "This notebook provides an introduction to the fundamental mechanics of pandas package. Here, we're going to learn about  indexing, filtering, arithmetic and binary operations, function application, descriptive statistics, sorting, ranking, and reindexing. We'll also explore some useful concepts like Copy-on-Write (CoW) and data alignment.\n",
    "\n",
    "We'll not cover exhaustively all capabilities of the methods presented. Instead, we'll focus on familiarizing you with commonly used features to equip you with the practical skills needed to efficiently handle real-world datasets.\n",
    "\n",
    "For comprehensive information, refer to the [official pandas documentation](https://pandas.pydata.org/docs/user_guide/basics.html)."
   ]
  },
  {
   "cell_type": "markdown",
   "id": "dd8555bc-29e8-4039-af06-48f20d81a552",
   "metadata": {},
   "source": [
    "# Indexing and Selection\n",
    "\n",
    "Indexing in pandas refers to selecting specific segments of data, such as rows and columns of a DataFrame. There are several ways to do this, categorized as follows:\n",
    "\n",
    "- **Selection by label:** This involves using axis labels (label-based indexing). Pandas provides different methods for this, depending on whether you're working with a Series or a DataFrame. Key points include:\n",
    "    - Every label you request must exist in the index, or you'll get a `KeyError`.\n",
    "    - When slicing, both the start and stop bounds are included if they exist in the index.\n",
    "    - Integers can be used as labels, but they refer to the label, not the position.\n",
    "\n",
    "- **Selection by position:** This involves using integer positions (position-based indexing). Pandas also provides methods for this, which vary depending on the data structure. Key points include:\n",
    "    - It follows 0-based indexing, similar to Python and NumPy.\n",
    "    - When slicing, the start bound is included, and the upper bound is excluded.\n",
    "    - Using a non-integer, even if it's a valid label, will result in an `IndexError`.\n",
    "\n",
    "- **Selection by callable:** Methods like `.loc`, `.iloc`, and `[]` can accept a callable as an indexer. The callable must be a function with one argument (the calling Series or DataFrame) that returns valid output for indexing.\n",
    "\n",
    "Indeed, `loc` and `iloc` are the recommended indexing methods to access data within a DataFrame or Series.\n",
    "\n",
    "- `.loc` is used for label-based indexing. It allows you to access rows and columns by labels, boolean arrays, label slicing, alignable boolean Series, and other methods (check the [documentation](https://pandas.pydata.org/docs/user_guide/indexing.html#selection-by-label) for full information).\n",
    "\n",
    "- `.iloc` is used for position-based indexing. It allows you to access data by integer positions, similar to how you would with a list or an array in Python. It expects integer positions for rows and columns and also supports slicing with integer positions or boolean arrays.\n",
    "\n",
    "The reason to prefer these methods is the different treatment of integers when using the `[]` operator. More precisely, data selection is always label-oriented, however, slicing with integers is always integer-oriented. To avoid confusion and ambiguity, it's prefer indexing with `loc` and `iloc`.\n",
    "\n",
    "> **NOTE:**\n",
    "> You can retrieve a DataFrame's column by using the dot attribute notation. However, it's not recommended"
   ]
  },
  {
   "cell_type": "markdown",
   "id": "ed7fd0e5-6aca-4ac4-beb7-a2c048edc22e",
   "metadata": {},
   "source": [
    "## Series\n",
    "\n",
    "Starting by Series, the `[]` indexing operator works in a label-based manner."
   ]
  },
  {
   "cell_type": "code",
   "execution_count": 3,
   "id": "ffc34925-6147-4b0d-8818-5d8e5f49655e",
   "metadata": {},
   "outputs": [
    {
     "data": {
      "text/plain": [
       "3    0.0\n",
       "1    1.0\n",
       "2    2.0\n",
       "0    3.0\n",
       "dtype: float64"
      ]
     },
     "execution_count": 3,
     "metadata": {},
     "output_type": "execute_result"
    }
   ],
   "source": [
    "# Indexing on Series\n",
    "\n",
    "s = pd.Series(np.arange(4.), index=[3, 1, 2, 0])\n",
    "s"
   ]
  },
  {
   "cell_type": "code",
   "execution_count": 4,
   "id": "2eb6a1ed-42e8-40c1-aba4-97ec33df5617",
   "metadata": {},
   "outputs": [
    {
     "data": {
      "text/plain": [
       "0.0"
      ]
     },
     "execution_count": 4,
     "metadata": {},
     "output_type": "execute_result"
    }
   ],
   "source": [
    "# Label-based indexing\n",
    "# of a single label\n",
    "\n",
    "s.loc[3]"
   ]
  },
  {
   "cell_type": "code",
   "execution_count": 5,
   "id": "0dae76f2-bcb9-46f3-b7df-4f7f5f00e1cb",
   "metadata": {},
   "outputs": [
    {
     "data": {
      "text/plain": [
       "3    0.0\n",
       "0    3.0\n",
       "dtype: float64"
      ]
     },
     "execution_count": 5,
     "metadata": {},
     "output_type": "execute_result"
    }
   ],
   "source": [
    "# List of labels\n",
    "\n",
    "s.loc[[3,0]]"
   ]
  },
  {
   "cell_type": "code",
   "execution_count": 6,
   "id": "b7955f3b-b654-49c6-9302-c12817fa6cab",
   "metadata": {},
   "outputs": [
    {
     "data": {
      "text/plain": [
       "3    0.0\n",
       "1    1.0\n",
       "2    2.0\n",
       "dtype: float64"
      ]
     },
     "execution_count": 6,
     "metadata": {},
     "output_type": "execute_result"
    }
   ],
   "source": [
    "# Slice of labels (included)\n",
    "\n",
    "s.loc[3:2]"
   ]
  },
  {
   "cell_type": "code",
   "execution_count": 7,
   "id": "ae7aea14-770c-4a43-8b99-489d709f001d",
   "metadata": {},
   "outputs": [
    {
     "data": {
      "text/plain": [
       "3    0.0\n",
       "2    2.0\n",
       "dtype: float64"
      ]
     },
     "execution_count": 7,
     "metadata": {},
     "output_type": "execute_result"
    }
   ],
   "source": [
    "# Alignable boolean Series\n",
    "\n",
    "s.loc[pd.Series([True, False, True, False], index=[3, 1, 2, 0])]"
   ]
  },
  {
   "cell_type": "code",
   "execution_count": 8,
   "id": "379ee768-d727-414a-894b-e329026875a7",
   "metadata": {},
   "outputs": [],
   "source": [
    "# Label-based indexing vs regular based indexing\n",
    "\n",
    "s1 = pd.Series(np.arange(4.), index=[0, 1, 2, 3])\n",
    "s2 = pd.Series(np.arange(4.), index=['a', 'b', 'c', 'd'])"
   ]
  },
  {
   "cell_type": "code",
   "execution_count": 9,
   "id": "e048f1d6-cecd-41ac-b954-ca21a45c0593",
   "metadata": {},
   "outputs": [
    {
     "data": {
      "text/plain": [
       "0    0.0\n",
       "1    1.0\n",
       "2    2.0\n",
       "3    3.0\n",
       "dtype: float64"
      ]
     },
     "execution_count": 9,
     "metadata": {},
     "output_type": "execute_result"
    }
   ],
   "source": [
    "s1"
   ]
  },
  {
   "cell_type": "code",
   "execution_count": 10,
   "id": "deceb041-48a0-4939-b0d2-72728de0806d",
   "metadata": {},
   "outputs": [
    {
     "data": {
      "text/plain": [
       "a    0.0\n",
       "b    1.0\n",
       "c    2.0\n",
       "d    3.0\n",
       "dtype: float64"
      ]
     },
     "execution_count": 10,
     "metadata": {},
     "output_type": "execute_result"
    }
   ],
   "source": [
    "s2"
   ]
  },
  {
   "cell_type": "code",
   "execution_count": 11,
   "id": "bb0be0d2-e4a8-4e36-863c-47328383104b",
   "metadata": {},
   "outputs": [
    {
     "data": {
      "text/plain": [
       "0    0.0\n",
       "1    1.0\n",
       "2    2.0\n",
       "dtype: float64"
      ]
     },
     "execution_count": 11,
     "metadata": {},
     "output_type": "execute_result"
    }
   ],
   "source": [
    "s1[[0, 1, 2]]"
   ]
  },
  {
   "cell_type": "code",
   "execution_count": 12,
   "id": "90712e2d-d633-42f7-ab85-fe6e7c377a86",
   "metadata": {
    "scrolled": true
   },
   "outputs": [
    {
     "name": "stderr",
     "output_type": "stream",
     "text": [
      "/var/folders/b6/l0rr20x91ys1hhpzy1g789380000gn/T/ipykernel_54871/4143895887.py:1: FutureWarning: Series.__getitem__ treating keys as positions is deprecated. In a future version, integer keys will always be treated as labels (consistent with DataFrame behavior). To access a value by position, use `ser.iloc[pos]`\n",
      "  s2[[0, 1, 2]]\n"
     ]
    },
    {
     "data": {
      "text/plain": [
       "a    0.0\n",
       "b    1.0\n",
       "c    2.0\n",
       "dtype: float64"
      ]
     },
     "execution_count": 12,
     "metadata": {},
     "output_type": "execute_result"
    }
   ],
   "source": [
    "s2[[0, 1, 2]]"
   ]
  },
  {
   "cell_type": "code",
   "execution_count": 13,
   "id": "71b750cf-9de4-474c-a04c-64660c223924",
   "metadata": {
    "scrolled": true
   },
   "outputs": [
    {
     "ename": "KeyError",
     "evalue": "\"None of [Index([0, 1, 2], dtype='int64')] are in the [index]\"",
     "output_type": "error",
     "traceback": [
      "\u001b[0;31m---------------------------------------------------------------------------\u001b[0m",
      "\u001b[0;31mKeyError\u001b[0m                                  Traceback (most recent call last)",
      "Cell \u001b[0;32mIn[13], line 5\u001b[0m\n\u001b[1;32m      1\u001b[0m \u001b[38;5;66;03m# When using loc, the expression s2.loc[[0, 1, 2]] will not work\u001b[39;00m\n\u001b[1;32m      2\u001b[0m \u001b[38;5;66;03m# because the loc operator indexes exclusively with labels,\u001b[39;00m\n\u001b[1;32m      3\u001b[0m \u001b[38;5;66;03m# and s2 does not contain integer labels.\"\u001b[39;00m\n\u001b[0;32m----> 5\u001b[0m \u001b[43ms2\u001b[49m\u001b[38;5;241;43m.\u001b[39;49m\u001b[43mloc\u001b[49m\u001b[43m[\u001b[49m\u001b[43m[\u001b[49m\u001b[38;5;241;43m0\u001b[39;49m\u001b[43m,\u001b[49m\u001b[43m \u001b[49m\u001b[38;5;241;43m1\u001b[39;49m\u001b[43m,\u001b[49m\u001b[43m \u001b[49m\u001b[38;5;241;43m2\u001b[39;49m\u001b[43m]\u001b[49m\u001b[43m]\u001b[49m\n",
      "File \u001b[0;32m~/.pyenv/versions/3.10.13/lib/python3.10/site-packages/pandas/core/indexing.py:1191\u001b[0m, in \u001b[0;36m_LocationIndexer.__getitem__\u001b[0;34m(self, key)\u001b[0m\n\u001b[1;32m   1189\u001b[0m maybe_callable \u001b[38;5;241m=\u001b[39m com\u001b[38;5;241m.\u001b[39mapply_if_callable(key, \u001b[38;5;28mself\u001b[39m\u001b[38;5;241m.\u001b[39mobj)\n\u001b[1;32m   1190\u001b[0m maybe_callable \u001b[38;5;241m=\u001b[39m \u001b[38;5;28mself\u001b[39m\u001b[38;5;241m.\u001b[39m_check_deprecated_callable_usage(key, maybe_callable)\n\u001b[0;32m-> 1191\u001b[0m \u001b[38;5;28;01mreturn\u001b[39;00m \u001b[38;5;28;43mself\u001b[39;49m\u001b[38;5;241;43m.\u001b[39;49m\u001b[43m_getitem_axis\u001b[49m\u001b[43m(\u001b[49m\u001b[43mmaybe_callable\u001b[49m\u001b[43m,\u001b[49m\u001b[43m \u001b[49m\u001b[43maxis\u001b[49m\u001b[38;5;241;43m=\u001b[39;49m\u001b[43maxis\u001b[49m\u001b[43m)\u001b[49m\n",
      "File \u001b[0;32m~/.pyenv/versions/3.10.13/lib/python3.10/site-packages/pandas/core/indexing.py:1420\u001b[0m, in \u001b[0;36m_LocIndexer._getitem_axis\u001b[0;34m(self, key, axis)\u001b[0m\n\u001b[1;32m   1417\u001b[0m     \u001b[38;5;28;01mif\u001b[39;00m \u001b[38;5;28mhasattr\u001b[39m(key, \u001b[38;5;124m\"\u001b[39m\u001b[38;5;124mndim\u001b[39m\u001b[38;5;124m\"\u001b[39m) \u001b[38;5;129;01mand\u001b[39;00m key\u001b[38;5;241m.\u001b[39mndim \u001b[38;5;241m>\u001b[39m \u001b[38;5;241m1\u001b[39m:\n\u001b[1;32m   1418\u001b[0m         \u001b[38;5;28;01mraise\u001b[39;00m \u001b[38;5;167;01mValueError\u001b[39;00m(\u001b[38;5;124m\"\u001b[39m\u001b[38;5;124mCannot index with multidimensional key\u001b[39m\u001b[38;5;124m\"\u001b[39m)\n\u001b[0;32m-> 1420\u001b[0m     \u001b[38;5;28;01mreturn\u001b[39;00m \u001b[38;5;28;43mself\u001b[39;49m\u001b[38;5;241;43m.\u001b[39;49m\u001b[43m_getitem_iterable\u001b[49m\u001b[43m(\u001b[49m\u001b[43mkey\u001b[49m\u001b[43m,\u001b[49m\u001b[43m \u001b[49m\u001b[43maxis\u001b[49m\u001b[38;5;241;43m=\u001b[39;49m\u001b[43maxis\u001b[49m\u001b[43m)\u001b[49m\n\u001b[1;32m   1422\u001b[0m \u001b[38;5;66;03m# nested tuple slicing\u001b[39;00m\n\u001b[1;32m   1423\u001b[0m \u001b[38;5;28;01mif\u001b[39;00m is_nested_tuple(key, labels):\n",
      "File \u001b[0;32m~/.pyenv/versions/3.10.13/lib/python3.10/site-packages/pandas/core/indexing.py:1360\u001b[0m, in \u001b[0;36m_LocIndexer._getitem_iterable\u001b[0;34m(self, key, axis)\u001b[0m\n\u001b[1;32m   1357\u001b[0m \u001b[38;5;28mself\u001b[39m\u001b[38;5;241m.\u001b[39m_validate_key(key, axis)\n\u001b[1;32m   1359\u001b[0m \u001b[38;5;66;03m# A collection of keys\u001b[39;00m\n\u001b[0;32m-> 1360\u001b[0m keyarr, indexer \u001b[38;5;241m=\u001b[39m \u001b[38;5;28;43mself\u001b[39;49m\u001b[38;5;241;43m.\u001b[39;49m\u001b[43m_get_listlike_indexer\u001b[49m\u001b[43m(\u001b[49m\u001b[43mkey\u001b[49m\u001b[43m,\u001b[49m\u001b[43m \u001b[49m\u001b[43maxis\u001b[49m\u001b[43m)\u001b[49m\n\u001b[1;32m   1361\u001b[0m \u001b[38;5;28;01mreturn\u001b[39;00m \u001b[38;5;28mself\u001b[39m\u001b[38;5;241m.\u001b[39mobj\u001b[38;5;241m.\u001b[39m_reindex_with_indexers(\n\u001b[1;32m   1362\u001b[0m     {axis: [keyarr, indexer]}, copy\u001b[38;5;241m=\u001b[39m\u001b[38;5;28;01mTrue\u001b[39;00m, allow_dups\u001b[38;5;241m=\u001b[39m\u001b[38;5;28;01mTrue\u001b[39;00m\n\u001b[1;32m   1363\u001b[0m )\n",
      "File \u001b[0;32m~/.pyenv/versions/3.10.13/lib/python3.10/site-packages/pandas/core/indexing.py:1558\u001b[0m, in \u001b[0;36m_LocIndexer._get_listlike_indexer\u001b[0;34m(self, key, axis)\u001b[0m\n\u001b[1;32m   1555\u001b[0m ax \u001b[38;5;241m=\u001b[39m \u001b[38;5;28mself\u001b[39m\u001b[38;5;241m.\u001b[39mobj\u001b[38;5;241m.\u001b[39m_get_axis(axis)\n\u001b[1;32m   1556\u001b[0m axis_name \u001b[38;5;241m=\u001b[39m \u001b[38;5;28mself\u001b[39m\u001b[38;5;241m.\u001b[39mobj\u001b[38;5;241m.\u001b[39m_get_axis_name(axis)\n\u001b[0;32m-> 1558\u001b[0m keyarr, indexer \u001b[38;5;241m=\u001b[39m \u001b[43max\u001b[49m\u001b[38;5;241;43m.\u001b[39;49m\u001b[43m_get_indexer_strict\u001b[49m\u001b[43m(\u001b[49m\u001b[43mkey\u001b[49m\u001b[43m,\u001b[49m\u001b[43m \u001b[49m\u001b[43maxis_name\u001b[49m\u001b[43m)\u001b[49m\n\u001b[1;32m   1560\u001b[0m \u001b[38;5;28;01mreturn\u001b[39;00m keyarr, indexer\n",
      "File \u001b[0;32m~/.pyenv/versions/3.10.13/lib/python3.10/site-packages/pandas/core/indexes/base.py:6200\u001b[0m, in \u001b[0;36mIndex._get_indexer_strict\u001b[0;34m(self, key, axis_name)\u001b[0m\n\u001b[1;32m   6197\u001b[0m \u001b[38;5;28;01melse\u001b[39;00m:\n\u001b[1;32m   6198\u001b[0m     keyarr, indexer, new_indexer \u001b[38;5;241m=\u001b[39m \u001b[38;5;28mself\u001b[39m\u001b[38;5;241m.\u001b[39m_reindex_non_unique(keyarr)\n\u001b[0;32m-> 6200\u001b[0m \u001b[38;5;28;43mself\u001b[39;49m\u001b[38;5;241;43m.\u001b[39;49m\u001b[43m_raise_if_missing\u001b[49m\u001b[43m(\u001b[49m\u001b[43mkeyarr\u001b[49m\u001b[43m,\u001b[49m\u001b[43m \u001b[49m\u001b[43mindexer\u001b[49m\u001b[43m,\u001b[49m\u001b[43m \u001b[49m\u001b[43maxis_name\u001b[49m\u001b[43m)\u001b[49m\n\u001b[1;32m   6202\u001b[0m keyarr \u001b[38;5;241m=\u001b[39m \u001b[38;5;28mself\u001b[39m\u001b[38;5;241m.\u001b[39mtake(indexer)\n\u001b[1;32m   6203\u001b[0m \u001b[38;5;28;01mif\u001b[39;00m \u001b[38;5;28misinstance\u001b[39m(key, Index):\n\u001b[1;32m   6204\u001b[0m     \u001b[38;5;66;03m# GH 42790 - Preserve name from an Index\u001b[39;00m\n",
      "File \u001b[0;32m~/.pyenv/versions/3.10.13/lib/python3.10/site-packages/pandas/core/indexes/base.py:6249\u001b[0m, in \u001b[0;36mIndex._raise_if_missing\u001b[0;34m(self, key, indexer, axis_name)\u001b[0m\n\u001b[1;32m   6247\u001b[0m \u001b[38;5;28;01mif\u001b[39;00m nmissing:\n\u001b[1;32m   6248\u001b[0m     \u001b[38;5;28;01mif\u001b[39;00m nmissing \u001b[38;5;241m==\u001b[39m \u001b[38;5;28mlen\u001b[39m(indexer):\n\u001b[0;32m-> 6249\u001b[0m         \u001b[38;5;28;01mraise\u001b[39;00m \u001b[38;5;167;01mKeyError\u001b[39;00m(\u001b[38;5;124mf\u001b[39m\u001b[38;5;124m\"\u001b[39m\u001b[38;5;124mNone of [\u001b[39m\u001b[38;5;132;01m{\u001b[39;00mkey\u001b[38;5;132;01m}\u001b[39;00m\u001b[38;5;124m] are in the [\u001b[39m\u001b[38;5;132;01m{\u001b[39;00maxis_name\u001b[38;5;132;01m}\u001b[39;00m\u001b[38;5;124m]\u001b[39m\u001b[38;5;124m\"\u001b[39m)\n\u001b[1;32m   6251\u001b[0m     not_found \u001b[38;5;241m=\u001b[39m \u001b[38;5;28mlist\u001b[39m(ensure_index(key)[missing_mask\u001b[38;5;241m.\u001b[39mnonzero()[\u001b[38;5;241m0\u001b[39m]]\u001b[38;5;241m.\u001b[39munique())\n\u001b[1;32m   6252\u001b[0m     \u001b[38;5;28;01mraise\u001b[39;00m \u001b[38;5;167;01mKeyError\u001b[39;00m(\u001b[38;5;124mf\u001b[39m\u001b[38;5;124m\"\u001b[39m\u001b[38;5;132;01m{\u001b[39;00mnot_found\u001b[38;5;132;01m}\u001b[39;00m\u001b[38;5;124m not in index\u001b[39m\u001b[38;5;124m\"\u001b[39m)\n",
      "\u001b[0;31mKeyError\u001b[0m: \"None of [Index([0, 1, 2], dtype='int64')] are in the [index]\""
     ]
    }
   ],
   "source": [
    "# When using loc, the expression s2.loc[[0, 1, 2]] will not work\n",
    "# because the loc operator indexes exclusively with labels,\n",
    "# and s2 does not contain integer labels.\"\n",
    "\n",
    "s2.loc[[0, 1, 2]]"
   ]
  },
  {
   "cell_type": "code",
   "execution_count": null,
   "id": "2cf0defe-a9a4-462a-8ad0-7570fcde7773",
   "metadata": {},
   "outputs": [],
   "source": [
    "# Position-based indexing\n",
    "\n",
    "s = pd.Series(np.arange(4.), index=[3, 1, 2, 0])\n",
    "s"
   ]
  },
  {
   "cell_type": "code",
   "execution_count": null,
   "id": "a327058a-085f-4039-9548-571ae1fa94ed",
   "metadata": {},
   "outputs": [],
   "source": [
    "s.iloc[3]"
   ]
  },
  {
   "cell_type": "code",
   "execution_count": 14,
   "id": "d6ef96b7-8c6e-44cd-8ddb-41a88af41aba",
   "metadata": {},
   "outputs": [
    {
     "data": {
      "text/plain": [
       "3    0.0\n",
       "0    3.0\n",
       "dtype: float64"
      ]
     },
     "execution_count": 14,
     "metadata": {},
     "output_type": "execute_result"
    }
   ],
   "source": [
    "s.iloc[[0, 3]]"
   ]
  },
  {
   "cell_type": "code",
   "execution_count": 15,
   "id": "bd9a1ae3-4707-4e12-9196-e444402ed260",
   "metadata": {},
   "outputs": [
    {
     "data": {
      "text/plain": [
       "3    0.0\n",
       "1    1.0\n",
       "dtype: float64"
      ]
     },
     "execution_count": 15,
     "metadata": {},
     "output_type": "execute_result"
    }
   ],
   "source": [
    "s.iloc[:2]"
   ]
  },
  {
   "cell_type": "code",
   "execution_count": 16,
   "id": "6d043501-1286-4b57-9b5a-9659fbf2da73",
   "metadata": {},
   "outputs": [
    {
     "data": {
      "text/plain": [
       "3    0.0\n",
       "2    2.0\n",
       "dtype: float64"
      ]
     },
     "execution_count": 16,
     "metadata": {},
     "output_type": "execute_result"
    }
   ],
   "source": [
    "s.iloc[[True, False, True, False]]"
   ]
  },
  {
   "cell_type": "markdown",
   "id": "3a1d9d24-d5f9-4c55-8628-c7f447b5a39d",
   "metadata": {},
   "source": [
    "## DataFrames\n",
    "\n",
    "Indexing into a DataFrame using regular based indexing retrieves one or more columns, either with a single value or a sequence."
   ]
  },
  {
   "cell_type": "code",
   "execution_count": 17,
   "id": "4befcdce-1034-42c6-9932-c27b51e0f3b1",
   "metadata": {},
   "outputs": [
    {
     "data": {
      "text/html": [
       "<div>\n",
       "<style scoped>\n",
       "    .dataframe tbody tr th:only-of-type {\n",
       "        vertical-align: middle;\n",
       "    }\n",
       "\n",
       "    .dataframe tbody tr th {\n",
       "        vertical-align: top;\n",
       "    }\n",
       "\n",
       "    .dataframe thead th {\n",
       "        text-align: right;\n",
       "    }\n",
       "</style>\n",
       "<table border=\"1\" class=\"dataframe\">\n",
       "  <thead>\n",
       "    <tr style=\"text-align: right;\">\n",
       "      <th></th>\n",
       "      <th>beauty</th>\n",
       "      <th>students</th>\n",
       "      <th>parties</th>\n",
       "      <th>tuscas</th>\n",
       "    </tr>\n",
       "  </thead>\n",
       "  <tbody>\n",
       "    <tr>\n",
       "      <th>USP</th>\n",
       "      <td>0</td>\n",
       "      <td>1</td>\n",
       "      <td>2</td>\n",
       "      <td>3</td>\n",
       "    </tr>\n",
       "    <tr>\n",
       "      <th>UFMG</th>\n",
       "      <td>4</td>\n",
       "      <td>5</td>\n",
       "      <td>6</td>\n",
       "      <td>7</td>\n",
       "    </tr>\n",
       "    <tr>\n",
       "      <th>Unicamp</th>\n",
       "      <td>8</td>\n",
       "      <td>9</td>\n",
       "      <td>10</td>\n",
       "      <td>11</td>\n",
       "    </tr>\n",
       "    <tr>\n",
       "      <th>UFSCar</th>\n",
       "      <td>12</td>\n",
       "      <td>13</td>\n",
       "      <td>14</td>\n",
       "      <td>15</td>\n",
       "    </tr>\n",
       "  </tbody>\n",
       "</table>\n",
       "</div>"
      ],
      "text/plain": [
       "         beauty  students  parties  tuscas\n",
       "USP           0         1        2       3\n",
       "UFMG          4         5        6       7\n",
       "Unicamp       8         9       10      11\n",
       "UFSCar       12        13       14      15"
      ]
     },
     "execution_count": 17,
     "metadata": {},
     "output_type": "execute_result"
    }
   ],
   "source": [
    "df = pd.DataFrame(\n",
    "    data=np.arange(16).reshape((4, 4)),\n",
    "    index=[\"USP\", \"UFMG\", \"Unicamp\", \"UFSCar\"],\n",
    "    columns=[\"beauty\", \"students\", \"parties\", \"tuscas\"]\n",
    ")\n",
    "df"
   ]
  },
  {
   "cell_type": "code",
   "execution_count": 18,
   "id": "6c41ed85-5fce-4715-be13-2f290f065868",
   "metadata": {},
   "outputs": [
    {
     "data": {
      "text/plain": [
       "USP         0\n",
       "UFMG        4\n",
       "Unicamp     8\n",
       "UFSCar     12\n",
       "Name: beauty, dtype: int64"
      ]
     },
     "execution_count": 18,
     "metadata": {},
     "output_type": "execute_result"
    }
   ],
   "source": [
    "# Note that a single column label returns a Series,\n",
    "# while a list of column labels returns a DataFrame\n",
    "\n",
    "df['beauty']"
   ]
  },
  {
   "cell_type": "code",
   "execution_count": 19,
   "id": "6417adb8-de5e-4005-aeab-aa8e21867852",
   "metadata": {},
   "outputs": [
    {
     "data": {
      "text/html": [
       "<div>\n",
       "<style scoped>\n",
       "    .dataframe tbody tr th:only-of-type {\n",
       "        vertical-align: middle;\n",
       "    }\n",
       "\n",
       "    .dataframe tbody tr th {\n",
       "        vertical-align: top;\n",
       "    }\n",
       "\n",
       "    .dataframe thead th {\n",
       "        text-align: right;\n",
       "    }\n",
       "</style>\n",
       "<table border=\"1\" class=\"dataframe\">\n",
       "  <thead>\n",
       "    <tr style=\"text-align: right;\">\n",
       "      <th></th>\n",
       "      <th>beauty</th>\n",
       "    </tr>\n",
       "  </thead>\n",
       "  <tbody>\n",
       "    <tr>\n",
       "      <th>USP</th>\n",
       "      <td>0</td>\n",
       "    </tr>\n",
       "    <tr>\n",
       "      <th>UFMG</th>\n",
       "      <td>4</td>\n",
       "    </tr>\n",
       "    <tr>\n",
       "      <th>Unicamp</th>\n",
       "      <td>8</td>\n",
       "    </tr>\n",
       "    <tr>\n",
       "      <th>UFSCar</th>\n",
       "      <td>12</td>\n",
       "    </tr>\n",
       "  </tbody>\n",
       "</table>\n",
       "</div>"
      ],
      "text/plain": [
       "         beauty\n",
       "USP           0\n",
       "UFMG          4\n",
       "Unicamp       8\n",
       "UFSCar       12"
      ]
     },
     "execution_count": 19,
     "metadata": {},
     "output_type": "execute_result"
    }
   ],
   "source": [
    "df[['beauty']]"
   ]
  },
  {
   "cell_type": "code",
   "execution_count": 20,
   "id": "f4b75c3f-8b42-49da-8b9f-3a99be8d84b4",
   "metadata": {},
   "outputs": [
    {
     "data": {
      "text/html": [
       "<div>\n",
       "<style scoped>\n",
       "    .dataframe tbody tr th:only-of-type {\n",
       "        vertical-align: middle;\n",
       "    }\n",
       "\n",
       "    .dataframe tbody tr th {\n",
       "        vertical-align: top;\n",
       "    }\n",
       "\n",
       "    .dataframe thead th {\n",
       "        text-align: right;\n",
       "    }\n",
       "</style>\n",
       "<table border=\"1\" class=\"dataframe\">\n",
       "  <thead>\n",
       "    <tr style=\"text-align: right;\">\n",
       "      <th></th>\n",
       "      <th>students</th>\n",
       "      <th>tuscas</th>\n",
       "    </tr>\n",
       "  </thead>\n",
       "  <tbody>\n",
       "    <tr>\n",
       "      <th>USP</th>\n",
       "      <td>1</td>\n",
       "      <td>3</td>\n",
       "    </tr>\n",
       "    <tr>\n",
       "      <th>UFMG</th>\n",
       "      <td>5</td>\n",
       "      <td>7</td>\n",
       "    </tr>\n",
       "    <tr>\n",
       "      <th>Unicamp</th>\n",
       "      <td>9</td>\n",
       "      <td>11</td>\n",
       "    </tr>\n",
       "    <tr>\n",
       "      <th>UFSCar</th>\n",
       "      <td>13</td>\n",
       "      <td>15</td>\n",
       "    </tr>\n",
       "  </tbody>\n",
       "</table>\n",
       "</div>"
      ],
      "text/plain": [
       "         students  tuscas\n",
       "USP             1       3\n",
       "UFMG            5       7\n",
       "Unicamp         9      11\n",
       "UFSCar         13      15"
      ]
     },
     "execution_count": 20,
     "metadata": {},
     "output_type": "execute_result"
    }
   ],
   "source": [
    "df[['students', 'tuscas']]"
   ]
  },
  {
   "cell_type": "code",
   "execution_count": 21,
   "id": "0b71169b-ff36-46ae-945b-281d497a1214",
   "metadata": {},
   "outputs": [
    {
     "data": {
      "text/html": [
       "<div>\n",
       "<style scoped>\n",
       "    .dataframe tbody tr th:only-of-type {\n",
       "        vertical-align: middle;\n",
       "    }\n",
       "\n",
       "    .dataframe tbody tr th {\n",
       "        vertical-align: top;\n",
       "    }\n",
       "\n",
       "    .dataframe thead th {\n",
       "        text-align: right;\n",
       "    }\n",
       "</style>\n",
       "<table border=\"1\" class=\"dataframe\">\n",
       "  <thead>\n",
       "    <tr style=\"text-align: right;\">\n",
       "      <th></th>\n",
       "      <th>beauty</th>\n",
       "      <th>students</th>\n",
       "      <th>parties</th>\n",
       "      <th>tuscas</th>\n",
       "    </tr>\n",
       "  </thead>\n",
       "  <tbody>\n",
       "    <tr>\n",
       "      <th>USP</th>\n",
       "      <td>0</td>\n",
       "      <td>1</td>\n",
       "      <td>2</td>\n",
       "      <td>3</td>\n",
       "    </tr>\n",
       "    <tr>\n",
       "      <th>UFMG</th>\n",
       "      <td>4</td>\n",
       "      <td>5</td>\n",
       "      <td>6</td>\n",
       "      <td>7</td>\n",
       "    </tr>\n",
       "  </tbody>\n",
       "</table>\n",
       "</div>"
      ],
      "text/plain": [
       "      beauty  students  parties  tuscas\n",
       "USP        0         1        2       3\n",
       "UFMG       4         5        6       7"
      ]
     },
     "execution_count": 21,
     "metadata": {},
     "output_type": "execute_result"
    }
   ],
   "source": [
    "# The slicing occurs over rows, not columns!\n",
    "\n",
    "df[:2]"
   ]
  },
  {
   "cell_type": "code",
   "execution_count": 22,
   "id": "13c92f95-7923-42e4-822a-67651b7b5bb7",
   "metadata": {},
   "outputs": [
    {
     "data": {
      "text/plain": [
       "beauty      12\n",
       "students    13\n",
       "parties     14\n",
       "tuscas      15\n",
       "Name: UFSCar, dtype: int64"
      ]
     },
     "execution_count": 22,
     "metadata": {},
     "output_type": "execute_result"
    }
   ],
   "source": [
    "# Label-based indexing using loc\n",
    "\n",
    "df.loc['UFSCar']"
   ]
  },
  {
   "cell_type": "code",
   "execution_count": 23,
   "id": "c48212cc-5b30-4620-a9ba-ce03932db3f9",
   "metadata": {},
   "outputs": [
    {
     "data": {
      "text/html": [
       "<div>\n",
       "<style scoped>\n",
       "    .dataframe tbody tr th:only-of-type {\n",
       "        vertical-align: middle;\n",
       "    }\n",
       "\n",
       "    .dataframe tbody tr th {\n",
       "        vertical-align: top;\n",
       "    }\n",
       "\n",
       "    .dataframe thead th {\n",
       "        text-align: right;\n",
       "    }\n",
       "</style>\n",
       "<table border=\"1\" class=\"dataframe\">\n",
       "  <thead>\n",
       "    <tr style=\"text-align: right;\">\n",
       "      <th></th>\n",
       "      <th>beauty</th>\n",
       "      <th>students</th>\n",
       "      <th>parties</th>\n",
       "      <th>tuscas</th>\n",
       "    </tr>\n",
       "  </thead>\n",
       "  <tbody>\n",
       "    <tr>\n",
       "      <th>UFSCar</th>\n",
       "      <td>12</td>\n",
       "      <td>13</td>\n",
       "      <td>14</td>\n",
       "      <td>15</td>\n",
       "    </tr>\n",
       "    <tr>\n",
       "      <th>USP</th>\n",
       "      <td>0</td>\n",
       "      <td>1</td>\n",
       "      <td>2</td>\n",
       "      <td>3</td>\n",
       "    </tr>\n",
       "  </tbody>\n",
       "</table>\n",
       "</div>"
      ],
      "text/plain": [
       "        beauty  students  parties  tuscas\n",
       "UFSCar      12        13       14      15\n",
       "USP          0         1        2       3"
      ]
     },
     "execution_count": 23,
     "metadata": {},
     "output_type": "execute_result"
    }
   ],
   "source": [
    "# Again, note that a single column label returns a Series,\n",
    "# while a list of column labels returns a DataFrame\n",
    "\n",
    "df.loc[['UFSCar', 'USP']]"
   ]
  },
  {
   "cell_type": "code",
   "execution_count": 24,
   "id": "10af8995-9c3b-46db-a184-13553736001b",
   "metadata": {},
   "outputs": [
    {
     "data": {
      "text/plain": [
       "UFSCar    15\n",
       "USP        3\n",
       "Name: tuscas, dtype: int64"
      ]
     },
     "execution_count": 24,
     "metadata": {},
     "output_type": "execute_result"
    }
   ],
   "source": [
    "# Label-based indexing to retrieve rows and columns\n",
    "\n",
    "df.loc[['UFSCar', 'USP'], 'tuscas']"
   ]
  },
  {
   "cell_type": "code",
   "execution_count": 25,
   "id": "ab609d90-437c-49ab-821c-edb23604db44",
   "metadata": {},
   "outputs": [
    {
     "data": {
      "text/html": [
       "<div>\n",
       "<style scoped>\n",
       "    .dataframe tbody tr th:only-of-type {\n",
       "        vertical-align: middle;\n",
       "    }\n",
       "\n",
       "    .dataframe tbody tr th {\n",
       "        vertical-align: top;\n",
       "    }\n",
       "\n",
       "    .dataframe thead th {\n",
       "        text-align: right;\n",
       "    }\n",
       "</style>\n",
       "<table border=\"1\" class=\"dataframe\">\n",
       "  <thead>\n",
       "    <tr style=\"text-align: right;\">\n",
       "      <th></th>\n",
       "      <th>beauty</th>\n",
       "      <th>tuscas</th>\n",
       "    </tr>\n",
       "  </thead>\n",
       "  <tbody>\n",
       "    <tr>\n",
       "      <th>UFSCar</th>\n",
       "      <td>12</td>\n",
       "      <td>15</td>\n",
       "    </tr>\n",
       "    <tr>\n",
       "      <th>USP</th>\n",
       "      <td>0</td>\n",
       "      <td>3</td>\n",
       "    </tr>\n",
       "  </tbody>\n",
       "</table>\n",
       "</div>"
      ],
      "text/plain": [
       "        beauty  tuscas\n",
       "UFSCar      12      15\n",
       "USP          0       3"
      ]
     },
     "execution_count": 25,
     "metadata": {},
     "output_type": "execute_result"
    }
   ],
   "source": [
    "df.loc[['UFSCar', 'USP'], ['beauty', 'tuscas']]"
   ]
  },
  {
   "cell_type": "code",
   "execution_count": 26,
   "id": "f367b9fd-a595-40aa-a336-7d73676f979b",
   "metadata": {},
   "outputs": [
    {
     "data": {
      "text/plain": [
       "beauty      12\n",
       "students    13\n",
       "parties     14\n",
       "tuscas      15\n",
       "Name: UFSCar, dtype: int64"
      ]
     },
     "execution_count": 26,
     "metadata": {},
     "output_type": "execute_result"
    }
   ],
   "source": [
    "# Position-based indexing\n",
    "\n",
    "df.iloc[3]"
   ]
  },
  {
   "cell_type": "code",
   "execution_count": 27,
   "id": "f613ff80-f971-4844-a25f-23f0258478a2",
   "metadata": {},
   "outputs": [
    {
     "data": {
      "text/html": [
       "<div>\n",
       "<style scoped>\n",
       "    .dataframe tbody tr th:only-of-type {\n",
       "        vertical-align: middle;\n",
       "    }\n",
       "\n",
       "    .dataframe tbody tr th {\n",
       "        vertical-align: top;\n",
       "    }\n",
       "\n",
       "    .dataframe thead th {\n",
       "        text-align: right;\n",
       "    }\n",
       "</style>\n",
       "<table border=\"1\" class=\"dataframe\">\n",
       "  <thead>\n",
       "    <tr style=\"text-align: right;\">\n",
       "      <th></th>\n",
       "      <th>beauty</th>\n",
       "      <th>students</th>\n",
       "      <th>parties</th>\n",
       "      <th>tuscas</th>\n",
       "    </tr>\n",
       "  </thead>\n",
       "  <tbody>\n",
       "    <tr>\n",
       "      <th>USP</th>\n",
       "      <td>0</td>\n",
       "      <td>1</td>\n",
       "      <td>2</td>\n",
       "      <td>3</td>\n",
       "    </tr>\n",
       "    <tr>\n",
       "      <th>UFSCar</th>\n",
       "      <td>12</td>\n",
       "      <td>13</td>\n",
       "      <td>14</td>\n",
       "      <td>15</td>\n",
       "    </tr>\n",
       "  </tbody>\n",
       "</table>\n",
       "</div>"
      ],
      "text/plain": [
       "        beauty  students  parties  tuscas\n",
       "USP          0         1        2       3\n",
       "UFSCar      12        13       14      15"
      ]
     },
     "execution_count": 27,
     "metadata": {},
     "output_type": "execute_result"
    }
   ],
   "source": [
    "df.iloc[[0,3]]"
   ]
  },
  {
   "cell_type": "code",
   "execution_count": 28,
   "id": "732da608-af6b-4b25-ae95-ed92633f9a85",
   "metadata": {},
   "outputs": [
    {
     "data": {
      "text/html": [
       "<div>\n",
       "<style scoped>\n",
       "    .dataframe tbody tr th:only-of-type {\n",
       "        vertical-align: middle;\n",
       "    }\n",
       "\n",
       "    .dataframe tbody tr th {\n",
       "        vertical-align: top;\n",
       "    }\n",
       "\n",
       "    .dataframe thead th {\n",
       "        text-align: right;\n",
       "    }\n",
       "</style>\n",
       "<table border=\"1\" class=\"dataframe\">\n",
       "  <thead>\n",
       "    <tr style=\"text-align: right;\">\n",
       "      <th></th>\n",
       "      <th>beauty</th>\n",
       "      <th>students</th>\n",
       "      <th>parties</th>\n",
       "    </tr>\n",
       "  </thead>\n",
       "  <tbody>\n",
       "    <tr>\n",
       "      <th>USP</th>\n",
       "      <td>0</td>\n",
       "      <td>1</td>\n",
       "      <td>2</td>\n",
       "    </tr>\n",
       "    <tr>\n",
       "      <th>UFSCar</th>\n",
       "      <td>12</td>\n",
       "      <td>13</td>\n",
       "      <td>14</td>\n",
       "    </tr>\n",
       "  </tbody>\n",
       "</table>\n",
       "</div>"
      ],
      "text/plain": [
       "        beauty  students  parties\n",
       "USP          0         1        2\n",
       "UFSCar      12        13       14"
      ]
     },
     "execution_count": 28,
     "metadata": {},
     "output_type": "execute_result"
    }
   ],
   "source": [
    "df.iloc[[0,3], 0:3]"
   ]
  },
  {
   "cell_type": "code",
   "execution_count": 29,
   "id": "b0d8ced5-06f0-4957-9a28-856bffe8cc6c",
   "metadata": {},
   "outputs": [
    {
     "data": {
      "text/plain": [
       "USP     1\n",
       "UFMG    5\n",
       "Name: students, dtype: int64"
      ]
     },
     "execution_count": 29,
     "metadata": {},
     "output_type": "execute_result"
    }
   ],
   "source": [
    "# Combining both label-based and position-based indexing\n",
    "\n",
    "df.loc[df.index[:2], 'students']"
   ]
  },
  {
   "cell_type": "code",
   "execution_count": 30,
   "id": "c434bc4a-abfb-470d-ba60-b56ff0d5e682",
   "metadata": {},
   "outputs": [
    {
     "data": {
      "text/plain": [
       "USP     1\n",
       "UFMG    5\n",
       "Name: students, dtype: int64"
      ]
     },
     "execution_count": 30,
     "metadata": {},
     "output_type": "execute_result"
    }
   ],
   "source": [
    "df.iloc[:2, df.columns.get_loc('students')]"
   ]
  },
  {
   "cell_type": "code",
   "execution_count": 31,
   "id": "5a588314-a02d-4a9c-9c84-b4b5b122424a",
   "metadata": {},
   "outputs": [
    {
     "data": {
      "text/plain": [
       "UFSCar    12\n",
       "Name: beauty, dtype: int64"
      ]
     },
     "execution_count": 31,
     "metadata": {},
     "output_type": "execute_result"
    }
   ],
   "source": [
    "# Using a callable on a Series resulting from a column selection on a DataFrame\n",
    "\n",
    "df['beauty'].loc[lambda beauty: beauty >= 10]"
   ]
  },
  {
   "cell_type": "markdown",
   "id": "6763f83b-062e-455f-a597-3a4cd903669a",
   "metadata": {},
   "source": [
    "There are many ways to select and rearrange the data contained in a pandas object. These were just examples of the most common practices.\n",
    "\n",
    "For more information and examples, take a look at the [official pandas tutorial](https://pandas.pydata.org/docs/user_guide/indexing.html)."
   ]
  },
  {
   "cell_type": "markdown",
   "id": "6335b14a-7c1f-4510-803e-d2f33e6facd7",
   "metadata": {},
   "source": [
    "# Filtering and Attribution\n",
    "\n",
    "Indexing behavior is mostly used to filter data based on conditions and assign values to rows or columns that meet those criteria.\n",
    "\n",
    "To perform boolean comparisons, pandas provides a variety of boolean operators along with overloaded traditional Python operators, as shown in the table below. You can combine these operators with `|` (or), `&` (and), and `~` (not) for advanced filtering.\n",
    "\n",
    "| Method | Python Operator |\n",
    "|--------|-----------------|\n",
    "| eq     | ==              |\n",
    "| ne     | !=              |\n",
    "| lt     | <               |\n",
    "| le     | <=              |\n",
    "| gt     | >               |\n",
    "| ge     | >=              |\n",
    "\n",
    "By using alignable boolean vectors to filter data (a technique called masking), you can efficiently select and modify subsets of the DataFrame."
   ]
  },
  {
   "cell_type": "code",
   "execution_count": 32,
   "id": "830ac362-0c81-41c2-b20a-f8f57e033f70",
   "metadata": {},
   "outputs": [
    {
     "data": {
      "text/html": [
       "<div>\n",
       "<style scoped>\n",
       "    .dataframe tbody tr th:only-of-type {\n",
       "        vertical-align: middle;\n",
       "    }\n",
       "\n",
       "    .dataframe tbody tr th {\n",
       "        vertical-align: top;\n",
       "    }\n",
       "\n",
       "    .dataframe thead th {\n",
       "        text-align: right;\n",
       "    }\n",
       "</style>\n",
       "<table border=\"1\" class=\"dataframe\">\n",
       "  <thead>\n",
       "    <tr style=\"text-align: right;\">\n",
       "      <th></th>\n",
       "      <th>beauty</th>\n",
       "      <th>students</th>\n",
       "      <th>parties</th>\n",
       "      <th>tuscas</th>\n",
       "    </tr>\n",
       "  </thead>\n",
       "  <tbody>\n",
       "    <tr>\n",
       "      <th>A</th>\n",
       "      <td>0</td>\n",
       "      <td>1</td>\n",
       "      <td>2</td>\n",
       "      <td>3</td>\n",
       "    </tr>\n",
       "    <tr>\n",
       "      <th>B</th>\n",
       "      <td>4</td>\n",
       "      <td>5</td>\n",
       "      <td>6</td>\n",
       "      <td>7</td>\n",
       "    </tr>\n",
       "    <tr>\n",
       "      <th>C</th>\n",
       "      <td>8</td>\n",
       "      <td>9</td>\n",
       "      <td>10</td>\n",
       "      <td>11</td>\n",
       "    </tr>\n",
       "    <tr>\n",
       "      <th>D</th>\n",
       "      <td>12</td>\n",
       "      <td>13</td>\n",
       "      <td>14</td>\n",
       "      <td>15</td>\n",
       "    </tr>\n",
       "  </tbody>\n",
       "</table>\n",
       "</div>"
      ],
      "text/plain": [
       "   beauty  students  parties  tuscas\n",
       "A       0         1        2       3\n",
       "B       4         5        6       7\n",
       "C       8         9       10      11\n",
       "D      12        13       14      15"
      ]
     },
     "execution_count": 32,
     "metadata": {},
     "output_type": "execute_result"
    }
   ],
   "source": [
    "df = pd.DataFrame(\n",
    "    data=np.arange(16).reshape((4, 4)),\n",
    "    index=[\"A\", \"B\", \"C\", \"D\"],\n",
    "    columns=[\"beauty\", \"students\", \"parties\", \"tuscas\"]\n",
    ")\n",
    "df"
   ]
  },
  {
   "cell_type": "code",
   "execution_count": 33,
   "id": "cbd759c0-36ae-4231-ad4e-f8389940f5dc",
   "metadata": {},
   "outputs": [
    {
     "data": {
      "text/plain": [
       "A    False\n",
       "B    False\n",
       "C    False\n",
       "D     True\n",
       "Name: students, dtype: bool"
      ]
     },
     "execution_count": 33,
     "metadata": {},
     "output_type": "execute_result"
    }
   ],
   "source": [
    "# The boolean comparison '>=' returns an alignable boolean series with the df DataFrame.\n",
    "# We can use it to filter rows based on desired criteria.\n",
    "\n",
    "df['students'] >= 10"
   ]
  },
  {
   "cell_type": "code",
   "execution_count": 34,
   "id": "98a3ff3b-f127-4ac2-8ee3-c833c0b42242",
   "metadata": {},
   "outputs": [
    {
     "data": {
      "text/html": [
       "<div>\n",
       "<style scoped>\n",
       "    .dataframe tbody tr th:only-of-type {\n",
       "        vertical-align: middle;\n",
       "    }\n",
       "\n",
       "    .dataframe tbody tr th {\n",
       "        vertical-align: top;\n",
       "    }\n",
       "\n",
       "    .dataframe thead th {\n",
       "        text-align: right;\n",
       "    }\n",
       "</style>\n",
       "<table border=\"1\" class=\"dataframe\">\n",
       "  <thead>\n",
       "    <tr style=\"text-align: right;\">\n",
       "      <th></th>\n",
       "      <th>beauty</th>\n",
       "      <th>students</th>\n",
       "      <th>parties</th>\n",
       "      <th>tuscas</th>\n",
       "    </tr>\n",
       "  </thead>\n",
       "  <tbody>\n",
       "    <tr>\n",
       "      <th>D</th>\n",
       "      <td>12</td>\n",
       "      <td>13</td>\n",
       "      <td>14</td>\n",
       "      <td>15</td>\n",
       "    </tr>\n",
       "  </tbody>\n",
       "</table>\n",
       "</div>"
      ],
      "text/plain": [
       "   beauty  students  parties  tuscas\n",
       "D      12        13       14      15"
      ]
     },
     "execution_count": 34,
     "metadata": {},
     "output_type": "execute_result"
    }
   ],
   "source": [
    "# Alternatively:\n",
    "# mask = df['students'] >= 10\n",
    "# df[mask]\n",
    "\n",
    "# Very common practice\n",
    "\n",
    "df[df['students'] >= 10]"
   ]
  },
  {
   "cell_type": "markdown",
   "id": "18535de4-4558-4796-bea3-a7fe571c08eb",
   "metadata": {},
   "source": [
    "Always group your conditions using parentheses! Since the overloaded operators will follow the default Python behavior, it's important to guarantee the desired operations order. For example, in our case Python will evaluate an expression such as `df['students'] >= 1 & df['tuscas'] <= 5` as `df['students'] > (1 & df['tuscas']) <= 5`, while the desired evaluation order is `(df['students'] >= 1) & (df['tuscas'] <= 5)`."
   ]
  },
  {
   "cell_type": "code",
   "execution_count": 35,
   "id": "9eba3fa4-b992-41ff-a257-104c9cbb2548",
   "metadata": {},
   "outputs": [
    {
     "data": {
      "text/html": [
       "<div>\n",
       "<style scoped>\n",
       "    .dataframe tbody tr th:only-of-type {\n",
       "        vertical-align: middle;\n",
       "    }\n",
       "\n",
       "    .dataframe tbody tr th {\n",
       "        vertical-align: top;\n",
       "    }\n",
       "\n",
       "    .dataframe thead th {\n",
       "        text-align: right;\n",
       "    }\n",
       "</style>\n",
       "<table border=\"1\" class=\"dataframe\">\n",
       "  <thead>\n",
       "    <tr style=\"text-align: right;\">\n",
       "      <th></th>\n",
       "      <th>beauty</th>\n",
       "      <th>students</th>\n",
       "      <th>parties</th>\n",
       "      <th>tuscas</th>\n",
       "    </tr>\n",
       "  </thead>\n",
       "  <tbody>\n",
       "    <tr>\n",
       "      <th>A</th>\n",
       "      <td>0</td>\n",
       "      <td>1</td>\n",
       "      <td>2</td>\n",
       "      <td>3</td>\n",
       "    </tr>\n",
       "  </tbody>\n",
       "</table>\n",
       "</div>"
      ],
      "text/plain": [
       "   beauty  students  parties  tuscas\n",
       "A       0         1        2       3"
      ]
     },
     "execution_count": 35,
     "metadata": {},
     "output_type": "execute_result"
    }
   ],
   "source": [
    "# Using regular index based (very common practice)\n",
    "\n",
    "df[(df['students']>=1) & (df['tuscas']<=5)]"
   ]
  },
  {
   "cell_type": "code",
   "execution_count": 36,
   "id": "aff72728-34b4-4f14-ad03-bce3ddbb0c71",
   "metadata": {},
   "outputs": [
    {
     "data": {
      "text/html": [
       "<div>\n",
       "<style scoped>\n",
       "    .dataframe tbody tr th:only-of-type {\n",
       "        vertical-align: middle;\n",
       "    }\n",
       "\n",
       "    .dataframe tbody tr th {\n",
       "        vertical-align: top;\n",
       "    }\n",
       "\n",
       "    .dataframe thead th {\n",
       "        text-align: right;\n",
       "    }\n",
       "</style>\n",
       "<table border=\"1\" class=\"dataframe\">\n",
       "  <thead>\n",
       "    <tr style=\"text-align: right;\">\n",
       "      <th></th>\n",
       "      <th>beauty</th>\n",
       "      <th>students</th>\n",
       "      <th>parties</th>\n",
       "      <th>tuscas</th>\n",
       "    </tr>\n",
       "  </thead>\n",
       "  <tbody>\n",
       "    <tr>\n",
       "      <th>A</th>\n",
       "      <td>0</td>\n",
       "      <td>1</td>\n",
       "      <td>2</td>\n",
       "      <td>3</td>\n",
       "    </tr>\n",
       "  </tbody>\n",
       "</table>\n",
       "</div>"
      ],
      "text/plain": [
       "   beauty  students  parties  tuscas\n",
       "A       0         1        2       3"
      ]
     },
     "execution_count": 36,
     "metadata": {},
     "output_type": "execute_result"
    }
   ],
   "source": [
    "# Using loc (also very common)\n",
    "\n",
    "df.loc[(df['students']>=1) & (df['tuscas']<=5)]"
   ]
  },
  {
   "cell_type": "code",
   "execution_count": 37,
   "id": "e3bcc7c5-d649-482f-85fe-ab9e1196d1ff",
   "metadata": {},
   "outputs": [
    {
     "data": {
      "text/html": [
       "<div>\n",
       "<style scoped>\n",
       "    .dataframe tbody tr th:only-of-type {\n",
       "        vertical-align: middle;\n",
       "    }\n",
       "\n",
       "    .dataframe tbody tr th {\n",
       "        vertical-align: top;\n",
       "    }\n",
       "\n",
       "    .dataframe thead th {\n",
       "        text-align: right;\n",
       "    }\n",
       "</style>\n",
       "<table border=\"1\" class=\"dataframe\">\n",
       "  <thead>\n",
       "    <tr style=\"text-align: right;\">\n",
       "      <th></th>\n",
       "      <th>beauty</th>\n",
       "      <th>students</th>\n",
       "      <th>parties</th>\n",
       "      <th>tuscas</th>\n",
       "    </tr>\n",
       "  </thead>\n",
       "  <tbody>\n",
       "    <tr>\n",
       "      <th>A</th>\n",
       "      <td>0</td>\n",
       "      <td>0</td>\n",
       "      <td>0</td>\n",
       "      <td>0</td>\n",
       "    </tr>\n",
       "    <tr>\n",
       "      <th>B</th>\n",
       "      <td>4</td>\n",
       "      <td>5</td>\n",
       "      <td>6</td>\n",
       "      <td>7</td>\n",
       "    </tr>\n",
       "    <tr>\n",
       "      <th>C</th>\n",
       "      <td>8</td>\n",
       "      <td>9</td>\n",
       "      <td>10</td>\n",
       "      <td>11</td>\n",
       "    </tr>\n",
       "    <tr>\n",
       "      <th>D</th>\n",
       "      <td>12</td>\n",
       "      <td>13</td>\n",
       "      <td>14</td>\n",
       "      <td>15</td>\n",
       "    </tr>\n",
       "  </tbody>\n",
       "</table>\n",
       "</div>"
      ],
      "text/plain": [
       "   beauty  students  parties  tuscas\n",
       "A       0         0        0       0\n",
       "B       4         5        6       7\n",
       "C       8         9       10      11\n",
       "D      12        13       14      15"
      ]
     },
     "execution_count": 37,
     "metadata": {},
     "output_type": "execute_result"
    }
   ],
   "source": [
    "# Once we're able to filter the desired data based on custom criteria conditions,\n",
    "# we can apply some changes to it as well.\n",
    "\n",
    "df[(df['students']>=1) & (df['tuscas']<=5)] = 0\n",
    "df"
   ]
  },
  {
   "cell_type": "code",
   "execution_count": 38,
   "id": "a848c2d7-670d-4169-b078-6ebb32fad17a",
   "metadata": {},
   "outputs": [
    {
     "data": {
      "text/html": [
       "<div>\n",
       "<style scoped>\n",
       "    .dataframe tbody tr th:only-of-type {\n",
       "        vertical-align: middle;\n",
       "    }\n",
       "\n",
       "    .dataframe tbody tr th {\n",
       "        vertical-align: top;\n",
       "    }\n",
       "\n",
       "    .dataframe thead th {\n",
       "        text-align: right;\n",
       "    }\n",
       "</style>\n",
       "<table border=\"1\" class=\"dataframe\">\n",
       "  <thead>\n",
       "    <tr style=\"text-align: right;\">\n",
       "      <th></th>\n",
       "      <th>beauty</th>\n",
       "      <th>students</th>\n",
       "      <th>parties</th>\n",
       "      <th>tuscas</th>\n",
       "    </tr>\n",
       "  </thead>\n",
       "  <tbody>\n",
       "    <tr>\n",
       "      <th>A</th>\n",
       "      <td>0</td>\n",
       "      <td>0</td>\n",
       "      <td>0</td>\n",
       "      <td>0</td>\n",
       "    </tr>\n",
       "    <tr>\n",
       "      <th>B</th>\n",
       "      <td>4</td>\n",
       "      <td>5</td>\n",
       "      <td>6</td>\n",
       "      <td>7</td>\n",
       "    </tr>\n",
       "    <tr>\n",
       "      <th>C</th>\n",
       "      <td>8</td>\n",
       "      <td>9</td>\n",
       "      <td>10</td>\n",
       "      <td>1000</td>\n",
       "    </tr>\n",
       "    <tr>\n",
       "      <th>D</th>\n",
       "      <td>1000</td>\n",
       "      <td>1000</td>\n",
       "      <td>1000</td>\n",
       "      <td>1000</td>\n",
       "    </tr>\n",
       "  </tbody>\n",
       "</table>\n",
       "</div>"
      ],
      "text/plain": [
       "   beauty  students  parties  tuscas\n",
       "A       0         0        0       0\n",
       "B       4         5        6       7\n",
       "C       8         9       10    1000\n",
       "D    1000      1000     1000    1000"
      ]
     },
     "execution_count": 38,
     "metadata": {},
     "output_type": "execute_result"
    }
   ],
   "source": [
    "df[df > 10] = 1000\n",
    "df"
   ]
  },
  {
   "cell_type": "markdown",
   "id": "cc5e5768-b522-466b-87e1-61a286895e13",
   "metadata": {},
   "source": [
    "## Attribution\n",
    "\n",
    "Assigning a column that doesn’t exist will create a new column. To assign lists or arrays to a column, the array lenght must match the lenght of the DataFrame. If you assign a Series, its labels will be realigned exactly to the DataFrame’s index, inserting missing values in any index values not present."
   ]
  },
  {
   "cell_type": "code",
   "execution_count": 39,
   "id": "4e759ada-df61-431b-97de-f0182fd0e463",
   "metadata": {},
   "outputs": [
    {
     "data": {
      "text/html": [
       "<div>\n",
       "<style scoped>\n",
       "    .dataframe tbody tr th:only-of-type {\n",
       "        vertical-align: middle;\n",
       "    }\n",
       "\n",
       "    .dataframe tbody tr th {\n",
       "        vertical-align: top;\n",
       "    }\n",
       "\n",
       "    .dataframe thead th {\n",
       "        text-align: right;\n",
       "    }\n",
       "</style>\n",
       "<table border=\"1\" class=\"dataframe\">\n",
       "  <thead>\n",
       "    <tr style=\"text-align: right;\">\n",
       "      <th></th>\n",
       "      <th>beauty</th>\n",
       "      <th>students</th>\n",
       "      <th>parties</th>\n",
       "      <th>tuscas</th>\n",
       "      <th>rating</th>\n",
       "    </tr>\n",
       "  </thead>\n",
       "  <tbody>\n",
       "    <tr>\n",
       "      <th>A</th>\n",
       "      <td>0</td>\n",
       "      <td>0</td>\n",
       "      <td>0</td>\n",
       "      <td>0</td>\n",
       "      <td>5</td>\n",
       "    </tr>\n",
       "    <tr>\n",
       "      <th>B</th>\n",
       "      <td>4</td>\n",
       "      <td>5</td>\n",
       "      <td>6</td>\n",
       "      <td>7</td>\n",
       "      <td>5</td>\n",
       "    </tr>\n",
       "    <tr>\n",
       "      <th>C</th>\n",
       "      <td>8</td>\n",
       "      <td>9</td>\n",
       "      <td>10</td>\n",
       "      <td>1000</td>\n",
       "      <td>5</td>\n",
       "    </tr>\n",
       "    <tr>\n",
       "      <th>D</th>\n",
       "      <td>1000</td>\n",
       "      <td>1000</td>\n",
       "      <td>1000</td>\n",
       "      <td>1000</td>\n",
       "      <td>5</td>\n",
       "    </tr>\n",
       "  </tbody>\n",
       "</table>\n",
       "</div>"
      ],
      "text/plain": [
       "   beauty  students  parties  tuscas  rating\n",
       "A       0         0        0       0       5\n",
       "B       4         5        6       7       5\n",
       "C       8         9       10    1000       5\n",
       "D    1000      1000     1000    1000       5"
      ]
     },
     "execution_count": 39,
     "metadata": {},
     "output_type": "execute_result"
    }
   ],
   "source": [
    "df['rating'] = 5\n",
    "df"
   ]
  },
  {
   "cell_type": "code",
   "execution_count": 40,
   "id": "4ecdc116-9f4b-472b-a71f-80685cc8b9b2",
   "metadata": {},
   "outputs": [
    {
     "data": {
      "text/html": [
       "<div>\n",
       "<style scoped>\n",
       "    .dataframe tbody tr th:only-of-type {\n",
       "        vertical-align: middle;\n",
       "    }\n",
       "\n",
       "    .dataframe tbody tr th {\n",
       "        vertical-align: top;\n",
       "    }\n",
       "\n",
       "    .dataframe thead th {\n",
       "        text-align: right;\n",
       "    }\n",
       "</style>\n",
       "<table border=\"1\" class=\"dataframe\">\n",
       "  <thead>\n",
       "    <tr style=\"text-align: right;\">\n",
       "      <th></th>\n",
       "      <th>beauty</th>\n",
       "      <th>students</th>\n",
       "      <th>parties</th>\n",
       "      <th>tuscas</th>\n",
       "      <th>rating</th>\n",
       "    </tr>\n",
       "  </thead>\n",
       "  <tbody>\n",
       "    <tr>\n",
       "      <th>A</th>\n",
       "      <td>0</td>\n",
       "      <td>0</td>\n",
       "      <td>0</td>\n",
       "      <td>0</td>\n",
       "      <td>0</td>\n",
       "    </tr>\n",
       "    <tr>\n",
       "      <th>B</th>\n",
       "      <td>4</td>\n",
       "      <td>5</td>\n",
       "      <td>6</td>\n",
       "      <td>7</td>\n",
       "      <td>1</td>\n",
       "    </tr>\n",
       "    <tr>\n",
       "      <th>C</th>\n",
       "      <td>8</td>\n",
       "      <td>9</td>\n",
       "      <td>10</td>\n",
       "      <td>1000</td>\n",
       "      <td>2</td>\n",
       "    </tr>\n",
       "    <tr>\n",
       "      <th>D</th>\n",
       "      <td>1000</td>\n",
       "      <td>1000</td>\n",
       "      <td>1000</td>\n",
       "      <td>1000</td>\n",
       "      <td>3</td>\n",
       "    </tr>\n",
       "  </tbody>\n",
       "</table>\n",
       "</div>"
      ],
      "text/plain": [
       "   beauty  students  parties  tuscas  rating\n",
       "A       0         0        0       0       0\n",
       "B       4         5        6       7       1\n",
       "C       8         9       10    1000       2\n",
       "D    1000      1000     1000    1000       3"
      ]
     },
     "execution_count": 40,
     "metadata": {},
     "output_type": "execute_result"
    }
   ],
   "source": [
    "df['rating'] = np.arange(4)\n",
    "df"
   ]
  },
  {
   "cell_type": "code",
   "execution_count": 41,
   "id": "8c79df3b-027c-4df7-ac51-564575dcac96",
   "metadata": {},
   "outputs": [
    {
     "data": {
      "text/html": [
       "<div>\n",
       "<style scoped>\n",
       "    .dataframe tbody tr th:only-of-type {\n",
       "        vertical-align: middle;\n",
       "    }\n",
       "\n",
       "    .dataframe tbody tr th {\n",
       "        vertical-align: top;\n",
       "    }\n",
       "\n",
       "    .dataframe thead th {\n",
       "        text-align: right;\n",
       "    }\n",
       "</style>\n",
       "<table border=\"1\" class=\"dataframe\">\n",
       "  <thead>\n",
       "    <tr style=\"text-align: right;\">\n",
       "      <th></th>\n",
       "      <th>beauty</th>\n",
       "      <th>students</th>\n",
       "      <th>parties</th>\n",
       "      <th>tuscas</th>\n",
       "      <th>rating</th>\n",
       "    </tr>\n",
       "  </thead>\n",
       "  <tbody>\n",
       "    <tr>\n",
       "      <th>A</th>\n",
       "      <td>0</td>\n",
       "      <td>0</td>\n",
       "      <td>0</td>\n",
       "      <td>0</td>\n",
       "      <td>NaN</td>\n",
       "    </tr>\n",
       "    <tr>\n",
       "      <th>B</th>\n",
       "      <td>4</td>\n",
       "      <td>5</td>\n",
       "      <td>6</td>\n",
       "      <td>7</td>\n",
       "      <td>NaN</td>\n",
       "    </tr>\n",
       "    <tr>\n",
       "      <th>C</th>\n",
       "      <td>8</td>\n",
       "      <td>9</td>\n",
       "      <td>10</td>\n",
       "      <td>1000</td>\n",
       "      <td>NaN</td>\n",
       "    </tr>\n",
       "    <tr>\n",
       "      <th>D</th>\n",
       "      <td>1000</td>\n",
       "      <td>1000</td>\n",
       "      <td>1000</td>\n",
       "      <td>1000</td>\n",
       "      <td>NaN</td>\n",
       "    </tr>\n",
       "  </tbody>\n",
       "</table>\n",
       "</div>"
      ],
      "text/plain": [
       "   beauty  students  parties  tuscas  rating\n",
       "A       0         0        0       0     NaN\n",
       "B       4         5        6       7     NaN\n",
       "C       8         9       10    1000     NaN\n",
       "D    1000      1000     1000    1000     NaN"
      ]
     },
     "execution_count": 41,
     "metadata": {},
     "output_type": "execute_result"
    }
   ],
   "source": [
    "# df['rating'] = pd.Series([1, 2, 3], index=['A', 'B', 'C'])\n",
    "\n",
    "df['rating'] = pd.Series([1, 2, 3])\n",
    "df"
   ]
  },
  {
   "cell_type": "markdown",
   "id": "ab7f1c90-b1dc-4b99-8d4e-fdca86a28bd5",
   "metadata": {},
   "source": [
    "## Caution: Views, Copies and Copy-on-Write\n",
    "\n",
    "When manipulating data with pandas, it's important to understand the distinction between views and copies. Some operations return views of the underlying data, while others create actual copies. This behavior can lead to unintended mutations if not understood correctly.\n",
    "\n",
    "Pandas issues a `SettingWithCopyWarning` to alert users that they might be assigning to a copy of a slice, which is often unintentional. This warning can sometimes be a false positive, but it mostly helps users identify and catch potential bugs.\n",
    "\n",
    "To address these inconsistencies, pandas introduced a Copy-on-Write (CoW) feature in version 1.5, which will become the default behavior in pandas 3.0."
   ]
  },
  {
   "cell_type": "code",
   "execution_count": 42,
   "id": "9ba73f73-dcab-42b8-943e-5e3d6f6a404c",
   "metadata": {},
   "outputs": [
    {
     "data": {
      "text/html": [
       "<div>\n",
       "<style scoped>\n",
       "    .dataframe tbody tr th:only-of-type {\n",
       "        vertical-align: middle;\n",
       "    }\n",
       "\n",
       "    .dataframe tbody tr th {\n",
       "        vertical-align: top;\n",
       "    }\n",
       "\n",
       "    .dataframe thead th {\n",
       "        text-align: right;\n",
       "    }\n",
       "</style>\n",
       "<table border=\"1\" class=\"dataframe\">\n",
       "  <thead>\n",
       "    <tr style=\"text-align: right;\">\n",
       "      <th></th>\n",
       "      <th>dish</th>\n",
       "      <th>total_price</th>\n",
       "      <th>quantity</th>\n",
       "    </tr>\n",
       "  </thead>\n",
       "  <tbody>\n",
       "    <tr>\n",
       "      <th>0</th>\n",
       "      <td>Salad</td>\n",
       "      <td>36.0</td>\n",
       "      <td>3</td>\n",
       "    </tr>\n",
       "    <tr>\n",
       "      <th>1</th>\n",
       "      <td>Pasta</td>\n",
       "      <td>120.0</td>\n",
       "      <td>2</td>\n",
       "    </tr>\n",
       "    <tr>\n",
       "      <th>2</th>\n",
       "      <td>Ice Cream</td>\n",
       "      <td>14.5</td>\n",
       "      <td>1</td>\n",
       "    </tr>\n",
       "    <tr>\n",
       "      <th>3</th>\n",
       "      <td>Cake</td>\n",
       "      <td>54.0</td>\n",
       "      <td>4</td>\n",
       "    </tr>\n",
       "    <tr>\n",
       "      <th>4</th>\n",
       "      <td>Steak</td>\n",
       "      <td>172.5</td>\n",
       "      <td>3</td>\n",
       "    </tr>\n",
       "  </tbody>\n",
       "</table>\n",
       "</div>"
      ],
      "text/plain": [
       "        dish  total_price  quantity\n",
       "0      Salad         36.0         3\n",
       "1      Pasta        120.0         2\n",
       "2  Ice Cream         14.5         1\n",
       "3       Cake         54.0         4\n",
       "4      Steak        172.5         3"
      ]
     },
     "execution_count": 42,
     "metadata": {},
     "output_type": "execute_result"
    }
   ],
   "source": [
    "df = pd.DataFrame({\n",
    "    'dish': ['Salad', 'Pasta', 'Ice Cream', 'Cake', 'Steak'],\n",
    "    'total_price': [36.00, 120.00, 14.5, 54.00, 172.5],\n",
    "    'quantity': [3, 2, 1, 4, 3],\n",
    "})\n",
    "df"
   ]
  },
  {
   "cell_type": "code",
   "execution_count": 43,
   "id": "dda770e6-b3b3-42cc-b98d-f9278ef2b583",
   "metadata": {},
   "outputs": [
    {
     "name": "stderr",
     "output_type": "stream",
     "text": [
      "/var/folders/b6/l0rr20x91ys1hhpzy1g789380000gn/T/ipykernel_54871/431038968.py:5: SettingWithCopyWarning: \n",
      "A value is trying to be set on a copy of a slice from a DataFrame\n",
      "\n",
      "See the caveats in the documentation: https://pandas.pydata.org/pandas-docs/stable/user_guide/indexing.html#returning-a-view-versus-a-copy\n",
      "  salad.iloc[0] = 'oops'\n"
     ]
    }
   ],
   "source": [
    "# Get a view and change it\n",
    "# (warning expected)\n",
    "\n",
    "salad = df['dish']\n",
    "salad.iloc[0] = 'oops'"
   ]
  },
  {
   "cell_type": "code",
   "execution_count": 44,
   "id": "67c572dd-b188-4599-80fb-f117cd17fbd7",
   "metadata": {},
   "outputs": [
    {
     "data": {
      "text/plain": [
       "0         oops\n",
       "1        Pasta\n",
       "2    Ice Cream\n",
       "3         Cake\n",
       "4        Steak\n",
       "Name: dish, dtype: object"
      ]
     },
     "execution_count": 44,
     "metadata": {},
     "output_type": "execute_result"
    }
   ],
   "source": [
    "salad"
   ]
  },
  {
   "cell_type": "code",
   "execution_count": 45,
   "id": "e31584d3-e70f-4df7-9aec-4d2659763559",
   "metadata": {},
   "outputs": [
    {
     "data": {
      "text/html": [
       "<div>\n",
       "<style scoped>\n",
       "    .dataframe tbody tr th:only-of-type {\n",
       "        vertical-align: middle;\n",
       "    }\n",
       "\n",
       "    .dataframe tbody tr th {\n",
       "        vertical-align: top;\n",
       "    }\n",
       "\n",
       "    .dataframe thead th {\n",
       "        text-align: right;\n",
       "    }\n",
       "</style>\n",
       "<table border=\"1\" class=\"dataframe\">\n",
       "  <thead>\n",
       "    <tr style=\"text-align: right;\">\n",
       "      <th></th>\n",
       "      <th>dish</th>\n",
       "      <th>total_price</th>\n",
       "      <th>quantity</th>\n",
       "    </tr>\n",
       "  </thead>\n",
       "  <tbody>\n",
       "    <tr>\n",
       "      <th>0</th>\n",
       "      <td>oops</td>\n",
       "      <td>36.0</td>\n",
       "      <td>3</td>\n",
       "    </tr>\n",
       "    <tr>\n",
       "      <th>1</th>\n",
       "      <td>Pasta</td>\n",
       "      <td>120.0</td>\n",
       "      <td>2</td>\n",
       "    </tr>\n",
       "    <tr>\n",
       "      <th>2</th>\n",
       "      <td>Ice Cream</td>\n",
       "      <td>14.5</td>\n",
       "      <td>1</td>\n",
       "    </tr>\n",
       "    <tr>\n",
       "      <th>3</th>\n",
       "      <td>Cake</td>\n",
       "      <td>54.0</td>\n",
       "      <td>4</td>\n",
       "    </tr>\n",
       "    <tr>\n",
       "      <th>4</th>\n",
       "      <td>Steak</td>\n",
       "      <td>172.5</td>\n",
       "      <td>3</td>\n",
       "    </tr>\n",
       "  </tbody>\n",
       "</table>\n",
       "</div>"
      ],
      "text/plain": [
       "        dish  total_price  quantity\n",
       "0       oops         36.0         3\n",
       "1      Pasta        120.0         2\n",
       "2  Ice Cream         14.5         1\n",
       "3       Cake         54.0         4\n",
       "4      Steak        172.5         3"
      ]
     },
     "execution_count": 45,
     "metadata": {},
     "output_type": "execute_result"
    }
   ],
   "source": [
    "# Side-effect !\n",
    "df"
   ]
  },
  {
   "cell_type": "markdown",
   "id": "d6d0a942-355d-4d71-9ff2-b891664d3d69",
   "metadata": {},
   "source": [
    "Effects of the View & Copy behavior is especially common with chained indexing, which refers to accessing or setting values in a pandas object through two consecutive indexing operations.\n",
    "\n",
    "Assigning a value to the result of chained indexing usually lead to unexpected results since pandas doesn't guarantee whether the operation returns a view of the underlying data or a copy.\n",
    "\n",
    "This uncertainty depends on several technical factors, most notably the internal memory layout of the data, especially when pandas utilizes NumPy as backend.\n",
    "\n",
    "For example:"
   ]
  },
  {
   "cell_type": "code",
   "execution_count": 46,
   "id": "1b373278-984b-414c-b658-64e8b493e24d",
   "metadata": {},
   "outputs": [
    {
     "name": "stderr",
     "output_type": "stream",
     "text": [
      "/var/folders/b6/l0rr20x91ys1hhpzy1g789380000gn/T/ipykernel_54871/1646339193.py:3: FutureWarning: ChainedAssignmentError: behaviour will change in pandas 3.0!\n",
      "You are setting values through chained assignment. Currently this works in certain cases, but when using Copy-on-Write (which will become the default behaviour in pandas 3.0) this will never work to update the original DataFrame or Series, because the intermediate object on which we are setting values will behave as a copy.\n",
      "A typical example is when you are setting values in a column of a DataFrame, like:\n",
      "\n",
      "df[\"col\"][row_indexer] = value\n",
      "\n",
      "Use `df.loc[row_indexer, \"col\"] = values` instead, to perform the assignment in a single step and ensure this keeps updating the original `df`.\n",
      "\n",
      "See the caveats in the documentation: https://pandas.pydata.org/pandas-docs/stable/user_guide/indexing.html#returning-a-view-versus-a-copy\n",
      "\n",
      "  df['total_price'][df['total_price'] > 100] = 99\n",
      "/var/folders/b6/l0rr20x91ys1hhpzy1g789380000gn/T/ipykernel_54871/1646339193.py:3: SettingWithCopyWarning: \n",
      "A value is trying to be set on a copy of a slice from a DataFrame\n",
      "\n",
      "See the caveats in the documentation: https://pandas.pydata.org/pandas-docs/stable/user_guide/indexing.html#returning-a-view-versus-a-copy\n",
      "  df['total_price'][df['total_price'] > 100] = 99\n"
     ]
    },
    {
     "data": {
      "text/html": [
       "<div>\n",
       "<style scoped>\n",
       "    .dataframe tbody tr th:only-of-type {\n",
       "        vertical-align: middle;\n",
       "    }\n",
       "\n",
       "    .dataframe tbody tr th {\n",
       "        vertical-align: top;\n",
       "    }\n",
       "\n",
       "    .dataframe thead th {\n",
       "        text-align: right;\n",
       "    }\n",
       "</style>\n",
       "<table border=\"1\" class=\"dataframe\">\n",
       "  <thead>\n",
       "    <tr style=\"text-align: right;\">\n",
       "      <th></th>\n",
       "      <th>dish</th>\n",
       "      <th>total_price</th>\n",
       "      <th>quantity</th>\n",
       "    </tr>\n",
       "  </thead>\n",
       "  <tbody>\n",
       "    <tr>\n",
       "      <th>0</th>\n",
       "      <td>oops</td>\n",
       "      <td>36.0</td>\n",
       "      <td>3</td>\n",
       "    </tr>\n",
       "    <tr>\n",
       "      <th>1</th>\n",
       "      <td>Pasta</td>\n",
       "      <td>99.0</td>\n",
       "      <td>2</td>\n",
       "    </tr>\n",
       "    <tr>\n",
       "      <th>2</th>\n",
       "      <td>Ice Cream</td>\n",
       "      <td>14.5</td>\n",
       "      <td>1</td>\n",
       "    </tr>\n",
       "    <tr>\n",
       "      <th>3</th>\n",
       "      <td>Cake</td>\n",
       "      <td>54.0</td>\n",
       "      <td>4</td>\n",
       "    </tr>\n",
       "    <tr>\n",
       "      <th>4</th>\n",
       "      <td>Steak</td>\n",
       "      <td>99.0</td>\n",
       "      <td>3</td>\n",
       "    </tr>\n",
       "  </tbody>\n",
       "</table>\n",
       "</div>"
      ],
      "text/plain": [
       "        dish  total_price  quantity\n",
       "0       oops         36.0         3\n",
       "1      Pasta         99.0         2\n",
       "2  Ice Cream         14.5         1\n",
       "3       Cake         54.0         4\n",
       "4      Steak         99.0         3"
      ]
     },
     "execution_count": 46,
     "metadata": {},
     "output_type": "execute_result"
    }
   ],
   "source": [
    "# Chained indexing\n",
    "\n",
    "df['total_price'][df['total_price'] > 100] = 99\n",
    "df"
   ]
  },
  {
   "cell_type": "code",
   "execution_count": 47,
   "id": "cb5496cd-3924-4e67-bbaa-bccfdd5e68a7",
   "metadata": {},
   "outputs": [
    {
     "name": "stderr",
     "output_type": "stream",
     "text": [
      "/var/folders/b6/l0rr20x91ys1hhpzy1g789380000gn/T/ipykernel_54871/202190318.py:2: ChainedAssignmentError: A value is trying to be set on a copy of a DataFrame or Series through chained assignment.\n",
      "When using the Copy-on-Write mode, such chained assignment never works to update the original DataFrame or Series, because the intermediate object on which we are setting values always behaves as a copy.\n",
      "\n",
      "Try using '.loc[row_indexer, col_indexer] = value' instead, to perform the assignment in a single step.\n",
      "\n",
      "See the caveats in the documentation: https://pandas.pydata.org/pandas-docs/stable/user_guide/indexing.html#returning-a-view-versus-a-copy\n",
      "  df['total_price'][df['total_price'] > 100] = 99\n"
     ]
    },
    {
     "data": {
      "text/html": [
       "<div>\n",
       "<style scoped>\n",
       "    .dataframe tbody tr th:only-of-type {\n",
       "        vertical-align: middle;\n",
       "    }\n",
       "\n",
       "    .dataframe tbody tr th {\n",
       "        vertical-align: top;\n",
       "    }\n",
       "\n",
       "    .dataframe thead th {\n",
       "        text-align: right;\n",
       "    }\n",
       "</style>\n",
       "<table border=\"1\" class=\"dataframe\">\n",
       "  <thead>\n",
       "    <tr style=\"text-align: right;\">\n",
       "      <th></th>\n",
       "      <th>dish</th>\n",
       "      <th>total_price</th>\n",
       "      <th>quantity</th>\n",
       "    </tr>\n",
       "  </thead>\n",
       "  <tbody>\n",
       "    <tr>\n",
       "      <th>0</th>\n",
       "      <td>oops</td>\n",
       "      <td>36.0</td>\n",
       "      <td>3</td>\n",
       "    </tr>\n",
       "    <tr>\n",
       "      <th>1</th>\n",
       "      <td>Pasta</td>\n",
       "      <td>99.0</td>\n",
       "      <td>2</td>\n",
       "    </tr>\n",
       "    <tr>\n",
       "      <th>2</th>\n",
       "      <td>Ice Cream</td>\n",
       "      <td>14.5</td>\n",
       "      <td>1</td>\n",
       "    </tr>\n",
       "    <tr>\n",
       "      <th>3</th>\n",
       "      <td>Cake</td>\n",
       "      <td>54.0</td>\n",
       "      <td>4</td>\n",
       "    </tr>\n",
       "    <tr>\n",
       "      <th>4</th>\n",
       "      <td>Steak</td>\n",
       "      <td>99.0</td>\n",
       "      <td>3</td>\n",
       "    </tr>\n",
       "  </tbody>\n",
       "</table>\n",
       "</div>"
      ],
      "text/plain": [
       "        dish  total_price  quantity\n",
       "0       oops         36.0         3\n",
       "1      Pasta         99.0         2\n",
       "2  Ice Cream         14.5         1\n",
       "3       Cake         54.0         4\n",
       "4      Steak         99.0         3"
      ]
     },
     "metadata": {},
     "output_type": "display_data"
    }
   ],
   "source": [
    "with pd.option_context(\"mode.copy_on_write\", True):\n",
    "    df['total_price'][df['total_price'] > 100] = 99\n",
    "    display(df)"
   ]
  },
  {
   "cell_type": "code",
   "execution_count": 48,
   "id": "aacc5f94-e568-4979-b351-095f9326cb9a",
   "metadata": {},
   "outputs": [
    {
     "data": {
      "text/html": [
       "<div>\n",
       "<style scoped>\n",
       "    .dataframe tbody tr th:only-of-type {\n",
       "        vertical-align: middle;\n",
       "    }\n",
       "\n",
       "    .dataframe tbody tr th {\n",
       "        vertical-align: top;\n",
       "    }\n",
       "\n",
       "    .dataframe thead th {\n",
       "        text-align: right;\n",
       "    }\n",
       "</style>\n",
       "<table border=\"1\" class=\"dataframe\">\n",
       "  <thead>\n",
       "    <tr style=\"text-align: right;\">\n",
       "      <th></th>\n",
       "      <th>dish</th>\n",
       "      <th>total_price</th>\n",
       "      <th>quantity</th>\n",
       "    </tr>\n",
       "  </thead>\n",
       "  <tbody>\n",
       "    <tr>\n",
       "      <th>0</th>\n",
       "      <td>oops</td>\n",
       "      <td>36.0</td>\n",
       "      <td>3</td>\n",
       "    </tr>\n",
       "    <tr>\n",
       "      <th>1</th>\n",
       "      <td>Pasta</td>\n",
       "      <td>99.0</td>\n",
       "      <td>2</td>\n",
       "    </tr>\n",
       "    <tr>\n",
       "      <th>2</th>\n",
       "      <td>Ice Cream</td>\n",
       "      <td>14.5</td>\n",
       "      <td>1</td>\n",
       "    </tr>\n",
       "    <tr>\n",
       "      <th>3</th>\n",
       "      <td>Cake</td>\n",
       "      <td>54.0</td>\n",
       "      <td>4</td>\n",
       "    </tr>\n",
       "    <tr>\n",
       "      <th>4</th>\n",
       "      <td>Steak</td>\n",
       "      <td>99.0</td>\n",
       "      <td>3</td>\n",
       "    </tr>\n",
       "  </tbody>\n",
       "</table>\n",
       "</div>"
      ],
      "text/plain": [
       "        dish  total_price  quantity\n",
       "0       oops         36.0         3\n",
       "1      Pasta         99.0         2\n",
       "2  Ice Cream         14.5         1\n",
       "3       Cake         54.0         4\n",
       "4      Steak         99.0         3"
      ]
     },
     "metadata": {},
     "output_type": "display_data"
    }
   ],
   "source": [
    "with pd.option_context(\"mode.copy_on_write\", True):\n",
    "    df.loc[df['total_price'] > 100, 'total_price'] = 99\n",
    "    display(df)"
   ]
  },
  {
   "cell_type": "markdown",
   "id": "050e1a8f-9f4a-4d44-a8ff-0c842921ee08",
   "metadata": {},
   "source": [
    "### Copy-on-Write\n",
    "\n",
    "Copy-on-Write (CoW) ensures that any DataFrame or Series derived from another always behaves as a copy. As a result, you can only change the values of an object by modifying the object itself. CoW prevents inplace updates to a DataFrame or Series that shares data with another object.\n",
    "\n",
    "In this case, to avoid issues with chained indexing, we must always use `.loc`.\n",
    "\n",
    "The implementation of `.loc` ensures that you can operate on DataFrames and Series without causing unintended side effects (since it's a single operation).\n",
    "\n",
    "> Although CoW has implications on performance and memory management, we'll not talk about it here."
   ]
  },
  {
   "cell_type": "markdown",
   "id": "42f87847-ec75-4c9e-a5dc-b66c3d6ca7d9",
   "metadata": {},
   "source": [
    "## `where()` and `mask()` methods\n",
    "\n",
    "The `where(cond, other, ...)` method in pandas implements the if-then logic, allowing conditional replacement of elements in a DataFrame. For each element in the DataFrame, if `cond` is True, the original element is kept; otherwise, the element from `other` is used. If the axis of other does not align with the axis of the condition (`cond`), the misaligned index positions will be filled with `False`.\n",
    "\n",
    "By default, `where()` returns a modified copy of the DataFrame. To modify the original DataFrame in place, set `inplace=True`.\n",
    "\n",
    "Alternatively, we can use the `mask()` method which is the opposite of `where()`. It replaces the values where the `cond` is True."
   ]
  },
  {
   "cell_type": "code",
   "execution_count": 49,
   "id": "d20c272c-1127-4581-ba50-65d1d63b03b6",
   "metadata": {},
   "outputs": [
    {
     "data": {
      "text/html": [
       "<div>\n",
       "<style scoped>\n",
       "    .dataframe tbody tr th:only-of-type {\n",
       "        vertical-align: middle;\n",
       "    }\n",
       "\n",
       "    .dataframe tbody tr th {\n",
       "        vertical-align: top;\n",
       "    }\n",
       "\n",
       "    .dataframe thead th {\n",
       "        text-align: right;\n",
       "    }\n",
       "</style>\n",
       "<table border=\"1\" class=\"dataframe\">\n",
       "  <thead>\n",
       "    <tr style=\"text-align: right;\">\n",
       "      <th></th>\n",
       "      <th>0</th>\n",
       "      <th>1</th>\n",
       "      <th>2</th>\n",
       "      <th>3</th>\n",
       "      <th>4</th>\n",
       "    </tr>\n",
       "  </thead>\n",
       "  <tbody>\n",
       "    <tr>\n",
       "      <th>0</th>\n",
       "      <td>0.097627</td>\n",
       "      <td>0.430379</td>\n",
       "      <td>0.205527</td>\n",
       "      <td>0.089766</td>\n",
       "      <td>-0.152690</td>\n",
       "    </tr>\n",
       "    <tr>\n",
       "      <th>1</th>\n",
       "      <td>0.291788</td>\n",
       "      <td>-0.124826</td>\n",
       "      <td>0.783546</td>\n",
       "      <td>0.927326</td>\n",
       "      <td>-0.233117</td>\n",
       "    </tr>\n",
       "    <tr>\n",
       "      <th>2</th>\n",
       "      <td>0.583450</td>\n",
       "      <td>0.057790</td>\n",
       "      <td>0.136089</td>\n",
       "      <td>0.851193</td>\n",
       "      <td>-0.857928</td>\n",
       "    </tr>\n",
       "    <tr>\n",
       "      <th>3</th>\n",
       "      <td>-0.825741</td>\n",
       "      <td>-0.959563</td>\n",
       "      <td>0.665240</td>\n",
       "      <td>0.556314</td>\n",
       "      <td>0.740024</td>\n",
       "    </tr>\n",
       "    <tr>\n",
       "      <th>4</th>\n",
       "      <td>0.957237</td>\n",
       "      <td>0.598317</td>\n",
       "      <td>-0.077041</td>\n",
       "      <td>0.561058</td>\n",
       "      <td>-0.763451</td>\n",
       "    </tr>\n",
       "  </tbody>\n",
       "</table>\n",
       "</div>"
      ],
      "text/plain": [
       "          0         1         2         3         4\n",
       "0  0.097627  0.430379  0.205527  0.089766 -0.152690\n",
       "1  0.291788 -0.124826  0.783546  0.927326 -0.233117\n",
       "2  0.583450  0.057790  0.136089  0.851193 -0.857928\n",
       "3 -0.825741 -0.959563  0.665240  0.556314  0.740024\n",
       "4  0.957237  0.598317 -0.077041  0.561058 -0.763451"
      ]
     },
     "execution_count": 49,
     "metadata": {},
     "output_type": "execute_result"
    }
   ],
   "source": [
    "df = pd.DataFrame(np.random.uniform(-1, 1, size=(5,5)))\n",
    "df"
   ]
  },
  {
   "cell_type": "code",
   "execution_count": 50,
   "id": "48aa8881-c58c-48c1-a14e-0e11b5fe985b",
   "metadata": {},
   "outputs": [
    {
     "data": {
      "text/html": [
       "<div>\n",
       "<style scoped>\n",
       "    .dataframe tbody tr th:only-of-type {\n",
       "        vertical-align: middle;\n",
       "    }\n",
       "\n",
       "    .dataframe tbody tr th {\n",
       "        vertical-align: top;\n",
       "    }\n",
       "\n",
       "    .dataframe thead th {\n",
       "        text-align: right;\n",
       "    }\n",
       "</style>\n",
       "<table border=\"1\" class=\"dataframe\">\n",
       "  <thead>\n",
       "    <tr style=\"text-align: right;\">\n",
       "      <th></th>\n",
       "      <th>0</th>\n",
       "      <th>1</th>\n",
       "      <th>2</th>\n",
       "      <th>3</th>\n",
       "      <th>4</th>\n",
       "    </tr>\n",
       "  </thead>\n",
       "  <tbody>\n",
       "    <tr>\n",
       "      <th>0</th>\n",
       "      <td>NaN</td>\n",
       "      <td>NaN</td>\n",
       "      <td>NaN</td>\n",
       "      <td>NaN</td>\n",
       "      <td>-0.152690</td>\n",
       "    </tr>\n",
       "    <tr>\n",
       "      <th>1</th>\n",
       "      <td>NaN</td>\n",
       "      <td>-0.124826</td>\n",
       "      <td>NaN</td>\n",
       "      <td>NaN</td>\n",
       "      <td>-0.233117</td>\n",
       "    </tr>\n",
       "    <tr>\n",
       "      <th>2</th>\n",
       "      <td>NaN</td>\n",
       "      <td>NaN</td>\n",
       "      <td>NaN</td>\n",
       "      <td>NaN</td>\n",
       "      <td>-0.857928</td>\n",
       "    </tr>\n",
       "    <tr>\n",
       "      <th>3</th>\n",
       "      <td>-0.825741</td>\n",
       "      <td>-0.959563</td>\n",
       "      <td>NaN</td>\n",
       "      <td>NaN</td>\n",
       "      <td>NaN</td>\n",
       "    </tr>\n",
       "    <tr>\n",
       "      <th>4</th>\n",
       "      <td>NaN</td>\n",
       "      <td>NaN</td>\n",
       "      <td>-0.077041</td>\n",
       "      <td>NaN</td>\n",
       "      <td>-0.763451</td>\n",
       "    </tr>\n",
       "  </tbody>\n",
       "</table>\n",
       "</div>"
      ],
      "text/plain": [
       "          0         1         2   3         4\n",
       "0       NaN       NaN       NaN NaN -0.152690\n",
       "1       NaN -0.124826       NaN NaN -0.233117\n",
       "2       NaN       NaN       NaN NaN -0.857928\n",
       "3 -0.825741 -0.959563       NaN NaN       NaN\n",
       "4       NaN       NaN -0.077041 NaN -0.763451"
      ]
     },
     "execution_count": 50,
     "metadata": {},
     "output_type": "execute_result"
    }
   ],
   "source": [
    "# For cond is True, keep the original element.\n",
    "# Otherwise, set other (default is NaN)\n",
    "\n",
    "df.where(df < 0)"
   ]
  },
  {
   "cell_type": "code",
   "execution_count": 51,
   "id": "7a1896f0-3bfd-4ca2-8136-16ca3c2250bb",
   "metadata": {},
   "outputs": [
    {
     "data": {
      "text/html": [
       "<div>\n",
       "<style scoped>\n",
       "    .dataframe tbody tr th:only-of-type {\n",
       "        vertical-align: middle;\n",
       "    }\n",
       "\n",
       "    .dataframe tbody tr th {\n",
       "        vertical-align: top;\n",
       "    }\n",
       "\n",
       "    .dataframe thead th {\n",
       "        text-align: right;\n",
       "    }\n",
       "</style>\n",
       "<table border=\"1\" class=\"dataframe\">\n",
       "  <thead>\n",
       "    <tr style=\"text-align: right;\">\n",
       "      <th></th>\n",
       "      <th>0</th>\n",
       "      <th>1</th>\n",
       "      <th>2</th>\n",
       "      <th>3</th>\n",
       "      <th>4</th>\n",
       "    </tr>\n",
       "  </thead>\n",
       "  <tbody>\n",
       "    <tr>\n",
       "      <th>0</th>\n",
       "      <td>0.000000</td>\n",
       "      <td>0.000000</td>\n",
       "      <td>0.000000</td>\n",
       "      <td>0.0</td>\n",
       "      <td>-0.152690</td>\n",
       "    </tr>\n",
       "    <tr>\n",
       "      <th>1</th>\n",
       "      <td>0.000000</td>\n",
       "      <td>-0.124826</td>\n",
       "      <td>0.000000</td>\n",
       "      <td>0.0</td>\n",
       "      <td>-0.233117</td>\n",
       "    </tr>\n",
       "    <tr>\n",
       "      <th>2</th>\n",
       "      <td>0.000000</td>\n",
       "      <td>0.000000</td>\n",
       "      <td>0.000000</td>\n",
       "      <td>0.0</td>\n",
       "      <td>-0.857928</td>\n",
       "    </tr>\n",
       "    <tr>\n",
       "      <th>3</th>\n",
       "      <td>-0.825741</td>\n",
       "      <td>-0.959563</td>\n",
       "      <td>0.000000</td>\n",
       "      <td>0.0</td>\n",
       "      <td>0.000000</td>\n",
       "    </tr>\n",
       "    <tr>\n",
       "      <th>4</th>\n",
       "      <td>0.000000</td>\n",
       "      <td>0.000000</td>\n",
       "      <td>-0.077041</td>\n",
       "      <td>0.0</td>\n",
       "      <td>-0.763451</td>\n",
       "    </tr>\n",
       "  </tbody>\n",
       "</table>\n",
       "</div>"
      ],
      "text/plain": [
       "          0         1         2    3         4\n",
       "0  0.000000  0.000000  0.000000  0.0 -0.152690\n",
       "1  0.000000 -0.124826  0.000000  0.0 -0.233117\n",
       "2  0.000000  0.000000  0.000000  0.0 -0.857928\n",
       "3 -0.825741 -0.959563  0.000000  0.0  0.000000\n",
       "4  0.000000  0.000000 -0.077041  0.0 -0.763451"
      ]
     },
     "execution_count": 51,
     "metadata": {},
     "output_type": "execute_result"
    }
   ],
   "source": [
    "# which is equivalent to:\n",
    "# df2 = df.copy()\n",
    "# df2[~(df2 < 0)] = 0\n",
    "# df2\n",
    "\n",
    "df.where(df < 0, 0)"
   ]
  },
  {
   "cell_type": "code",
   "execution_count": 52,
   "id": "bc4c4599-3997-47cf-b473-59a3d3c7948c",
   "metadata": {},
   "outputs": [
    {
     "data": {
      "text/html": [
       "<div>\n",
       "<style scoped>\n",
       "    .dataframe tbody tr th:only-of-type {\n",
       "        vertical-align: middle;\n",
       "    }\n",
       "\n",
       "    .dataframe tbody tr th {\n",
       "        vertical-align: top;\n",
       "    }\n",
       "\n",
       "    .dataframe thead th {\n",
       "        text-align: right;\n",
       "    }\n",
       "</style>\n",
       "<table border=\"1\" class=\"dataframe\">\n",
       "  <thead>\n",
       "    <tr style=\"text-align: right;\">\n",
       "      <th></th>\n",
       "      <th>0</th>\n",
       "      <th>1</th>\n",
       "      <th>2</th>\n",
       "      <th>3</th>\n",
       "      <th>4</th>\n",
       "    </tr>\n",
       "  </thead>\n",
       "  <tbody>\n",
       "    <tr>\n",
       "      <th>0</th>\n",
       "      <td>0.097627</td>\n",
       "      <td>0.430379</td>\n",
       "      <td>0.205527</td>\n",
       "      <td>0.089766</td>\n",
       "      <td>0.000000</td>\n",
       "    </tr>\n",
       "    <tr>\n",
       "      <th>1</th>\n",
       "      <td>0.291788</td>\n",
       "      <td>0.000000</td>\n",
       "      <td>0.783546</td>\n",
       "      <td>0.927326</td>\n",
       "      <td>0.000000</td>\n",
       "    </tr>\n",
       "    <tr>\n",
       "      <th>2</th>\n",
       "      <td>0.583450</td>\n",
       "      <td>0.057790</td>\n",
       "      <td>0.136089</td>\n",
       "      <td>0.851193</td>\n",
       "      <td>0.000000</td>\n",
       "    </tr>\n",
       "    <tr>\n",
       "      <th>3</th>\n",
       "      <td>0.000000</td>\n",
       "      <td>0.000000</td>\n",
       "      <td>0.665240</td>\n",
       "      <td>0.556314</td>\n",
       "      <td>0.740024</td>\n",
       "    </tr>\n",
       "    <tr>\n",
       "      <th>4</th>\n",
       "      <td>0.957237</td>\n",
       "      <td>0.598317</td>\n",
       "      <td>0.000000</td>\n",
       "      <td>0.561058</td>\n",
       "      <td>0.000000</td>\n",
       "    </tr>\n",
       "  </tbody>\n",
       "</table>\n",
       "</div>"
      ],
      "text/plain": [
       "          0         1         2         3         4\n",
       "0  0.097627  0.430379  0.205527  0.089766  0.000000\n",
       "1  0.291788  0.000000  0.783546  0.927326  0.000000\n",
       "2  0.583450  0.057790  0.136089  0.851193  0.000000\n",
       "3  0.000000  0.000000  0.665240  0.556314  0.740024\n",
       "4  0.957237  0.598317  0.000000  0.561058  0.000000"
      ]
     },
     "execution_count": 52,
     "metadata": {},
     "output_type": "execute_result"
    }
   ],
   "source": [
    "# Opposite of the where() method.\n",
    "# It replaces the values of the rows where the condition evaluates to True.\n",
    "\n",
    "df.mask(df < 0, 0)"
   ]
  },
  {
   "cell_type": "markdown",
   "id": "bccf4c69-2eb0-4338-a786-28eb48d6b9f2",
   "metadata": {},
   "source": [
    "# Arithmetic and Binary Operations\n",
    "\n",
    "Performing element-wise operations such as arithmetic, boolean comparisons, and binary operations is one of the most essential data manipulation actions day to day.\n",
    "\n",
    "Pandas DataFrames and Series offer several methods for these operations, including `add()`, `sub()`, `mul()`, `div()`, and their corresponding reverse operations `radd()`, `rsub()`, etc. These methods, along with overloaded Python operators, enable binary operations between DataFrame/Series and various data types (scalar, sequence, Series, or DataFrame).\n",
    "\n",
    "| Method              | Python Operator |\n",
    "|---------------------|-----------------|\n",
    "| add, radd           | +               |\n",
    "| sub, rsub           | -               |\n",
    "| div, rdiv           | /               |\n",
    "| floordiv, rfloordiv | //              |\n",
    "| mul, rmul           | *               |\n",
    "| pow, rpow           | **              |\n",
    "\n",
    "These methods include three optional parameters to control their behavior:\n",
    "\n",
    "- `axis:` Specifies alignment by index (`0` or `'index'`) or columns (`1` or `'columns'`) being `'columns'` the default. For Series input, this parameter aligns with the Series index. \n",
    "- `level:` Enables broadcasting across a specified level in a MultiIndex, matching index values at the given level.\n",
    "- `fill_value:` Specifies a value to use for filling in missing (NaN) values before performing the operation. If both corresponding values in the DataFrame or Series are missing, the result will also be missing. Default is `None`."
   ]
  },
  {
   "cell_type": "code",
   "execution_count": 53,
   "id": "ff269413-d728-43bd-992a-76e69d99ce71",
   "metadata": {},
   "outputs": [
    {
     "data": {
      "text/html": [
       "<div>\n",
       "<style scoped>\n",
       "    .dataframe tbody tr th:only-of-type {\n",
       "        vertical-align: middle;\n",
       "    }\n",
       "\n",
       "    .dataframe tbody tr th {\n",
       "        vertical-align: top;\n",
       "    }\n",
       "\n",
       "    .dataframe thead th {\n",
       "        text-align: right;\n",
       "    }\n",
       "</style>\n",
       "<table border=\"1\" class=\"dataframe\">\n",
       "  <thead>\n",
       "    <tr style=\"text-align: right;\">\n",
       "      <th></th>\n",
       "      <th>A</th>\n",
       "      <th>B</th>\n",
       "      <th>C</th>\n",
       "      <th>D</th>\n",
       "    </tr>\n",
       "  </thead>\n",
       "  <tbody>\n",
       "    <tr>\n",
       "      <th>0</th>\n",
       "      <td>1.0</td>\n",
       "      <td>1.0</td>\n",
       "      <td>1.0</td>\n",
       "      <td>1.0</td>\n",
       "    </tr>\n",
       "    <tr>\n",
       "      <th>1</th>\n",
       "      <td>1.0</td>\n",
       "      <td>1.0</td>\n",
       "      <td>1.0</td>\n",
       "      <td>1.0</td>\n",
       "    </tr>\n",
       "    <tr>\n",
       "      <th>2</th>\n",
       "      <td>1.0</td>\n",
       "      <td>1.0</td>\n",
       "      <td>1.0</td>\n",
       "      <td>1.0</td>\n",
       "    </tr>\n",
       "    <tr>\n",
       "      <th>3</th>\n",
       "      <td>1.0</td>\n",
       "      <td>1.0</td>\n",
       "      <td>1.0</td>\n",
       "      <td>1.0</td>\n",
       "    </tr>\n",
       "  </tbody>\n",
       "</table>\n",
       "</div>"
      ],
      "text/plain": [
       "     A    B    C    D\n",
       "0  1.0  1.0  1.0  1.0\n",
       "1  1.0  1.0  1.0  1.0\n",
       "2  1.0  1.0  1.0  1.0\n",
       "3  1.0  1.0  1.0  1.0"
      ]
     },
     "execution_count": 53,
     "metadata": {},
     "output_type": "execute_result"
    }
   ],
   "source": [
    "df = pd.DataFrame(np.ones((4,4)), columns=['A', 'B', 'C', 'D'])\n",
    "df"
   ]
  },
  {
   "cell_type": "code",
   "execution_count": 54,
   "id": "ca5e2d69-b102-4f14-a973-6024905b4ec7",
   "metadata": {},
   "outputs": [
    {
     "data": {
      "text/plain": [
       "0    1.0\n",
       "1    1.0\n",
       "2    1.0\n",
       "3    1.0\n",
       "dtype: float64"
      ]
     },
     "execution_count": 54,
     "metadata": {},
     "output_type": "execute_result"
    }
   ],
   "source": [
    "s = pd.Series(np.ones((4,)))\n",
    "s"
   ]
  },
  {
   "cell_type": "code",
   "execution_count": 55,
   "id": "691b1df9-87d5-4918-aeef-93b70edf9bbc",
   "metadata": {},
   "outputs": [
    {
     "data": {
      "text/html": [
       "<div>\n",
       "<style scoped>\n",
       "    .dataframe tbody tr th:only-of-type {\n",
       "        vertical-align: middle;\n",
       "    }\n",
       "\n",
       "    .dataframe tbody tr th {\n",
       "        vertical-align: top;\n",
       "    }\n",
       "\n",
       "    .dataframe thead th {\n",
       "        text-align: right;\n",
       "    }\n",
       "</style>\n",
       "<table border=\"1\" class=\"dataframe\">\n",
       "  <thead>\n",
       "    <tr style=\"text-align: right;\">\n",
       "      <th></th>\n",
       "      <th>A</th>\n",
       "      <th>B</th>\n",
       "      <th>C</th>\n",
       "      <th>D</th>\n",
       "    </tr>\n",
       "  </thead>\n",
       "  <tbody>\n",
       "    <tr>\n",
       "      <th>0</th>\n",
       "      <td>2.0</td>\n",
       "      <td>2.0</td>\n",
       "      <td>2.0</td>\n",
       "      <td>2.0</td>\n",
       "    </tr>\n",
       "    <tr>\n",
       "      <th>1</th>\n",
       "      <td>2.0</td>\n",
       "      <td>2.0</td>\n",
       "      <td>2.0</td>\n",
       "      <td>2.0</td>\n",
       "    </tr>\n",
       "    <tr>\n",
       "      <th>2</th>\n",
       "      <td>2.0</td>\n",
       "      <td>2.0</td>\n",
       "      <td>2.0</td>\n",
       "      <td>2.0</td>\n",
       "    </tr>\n",
       "    <tr>\n",
       "      <th>3</th>\n",
       "      <td>2.0</td>\n",
       "      <td>2.0</td>\n",
       "      <td>2.0</td>\n",
       "      <td>2.0</td>\n",
       "    </tr>\n",
       "  </tbody>\n",
       "</table>\n",
       "</div>"
      ],
      "text/plain": [
       "     A    B    C    D\n",
       "0  2.0  2.0  2.0  2.0\n",
       "1  2.0  2.0  2.0  2.0\n",
       "2  2.0  2.0  2.0  2.0\n",
       "3  2.0  2.0  2.0  2.0"
      ]
     },
     "execution_count": 55,
     "metadata": {},
     "output_type": "execute_result"
    }
   ],
   "source": [
    "df + 1"
   ]
  },
  {
   "cell_type": "code",
   "execution_count": 56,
   "id": "05ecffd7-5729-4d76-898d-38d61cf17700",
   "metadata": {},
   "outputs": [
    {
     "data": {
      "text/plain": [
       "0    10.0\n",
       "1    10.0\n",
       "2    10.0\n",
       "3    10.0\n",
       "Name: A, dtype: float64"
      ]
     },
     "execution_count": 56,
     "metadata": {},
     "output_type": "execute_result"
    }
   ],
   "source": [
    "df['A'] * 10"
   ]
  },
  {
   "cell_type": "code",
   "execution_count": 57,
   "id": "85020d49-fe69-416a-8dc6-bfcacfd63fc3",
   "metadata": {},
   "outputs": [
    {
     "data": {
      "text/plain": [
       "0   -2.0\n",
       "1   -2.0\n",
       "2   -2.0\n",
       "3   -2.0\n",
       "dtype: float64"
      ]
     },
     "execution_count": 57,
     "metadata": {},
     "output_type": "execute_result"
    }
   ],
   "source": [
    "(df['A'] + df['B']) * (df['C'] - 2)"
   ]
  },
  {
   "cell_type": "code",
   "execution_count": 58,
   "id": "47605914-cbe9-42b9-95cc-cf7fe37d1d7e",
   "metadata": {},
   "outputs": [
    {
     "data": {
      "text/plain": [
       "0    1.0\n",
       "1    1.0\n",
       "2    1.0\n",
       "3    1.0\n",
       "dtype: float64"
      ]
     },
     "execution_count": 58,
     "metadata": {},
     "output_type": "execute_result"
    }
   ],
   "source": [
    "df['A'] / s"
   ]
  },
  {
   "cell_type": "code",
   "execution_count": 59,
   "id": "f0ad8aaa-5ca7-4736-9878-b4821a38d527",
   "metadata": {},
   "outputs": [
    {
     "data": {
      "text/plain": [
       "0    2.0\n",
       "1    2.0\n",
       "2    2.0\n",
       "3    2.0\n",
       "dtype: float64"
      ]
     },
     "execution_count": 59,
     "metadata": {},
     "output_type": "execute_result"
    }
   ],
   "source": [
    "df['A'] + s"
   ]
  },
  {
   "cell_type": "markdown",
   "id": "e8f29dca-36c0-4efd-a9f0-12434fe5fa7a",
   "metadata": {},
   "source": [
    "\n",
    "So if you wanna update a column of a DataFrame for instance, you need to attribute the result of operaton on it"
   ]
  },
  {
   "cell_type": "code",
   "execution_count": 60,
   "id": "a71add9d-0332-4029-a39f-774b7681b65f",
   "metadata": {},
   "outputs": [
    {
     "data": {
      "text/html": [
       "<div>\n",
       "<style scoped>\n",
       "    .dataframe tbody tr th:only-of-type {\n",
       "        vertical-align: middle;\n",
       "    }\n",
       "\n",
       "    .dataframe tbody tr th {\n",
       "        vertical-align: top;\n",
       "    }\n",
       "\n",
       "    .dataframe thead th {\n",
       "        text-align: right;\n",
       "    }\n",
       "</style>\n",
       "<table border=\"1\" class=\"dataframe\">\n",
       "  <thead>\n",
       "    <tr style=\"text-align: right;\">\n",
       "      <th></th>\n",
       "      <th>A</th>\n",
       "      <th>B</th>\n",
       "      <th>C</th>\n",
       "      <th>D</th>\n",
       "    </tr>\n",
       "  </thead>\n",
       "  <tbody>\n",
       "    <tr>\n",
       "      <th>0</th>\n",
       "      <td>2.0</td>\n",
       "      <td>1.0</td>\n",
       "      <td>1.0</td>\n",
       "      <td>1.0</td>\n",
       "    </tr>\n",
       "    <tr>\n",
       "      <th>1</th>\n",
       "      <td>2.0</td>\n",
       "      <td>1.0</td>\n",
       "      <td>1.0</td>\n",
       "      <td>1.0</td>\n",
       "    </tr>\n",
       "    <tr>\n",
       "      <th>2</th>\n",
       "      <td>2.0</td>\n",
       "      <td>1.0</td>\n",
       "      <td>1.0</td>\n",
       "      <td>1.0</td>\n",
       "    </tr>\n",
       "    <tr>\n",
       "      <th>3</th>\n",
       "      <td>2.0</td>\n",
       "      <td>1.0</td>\n",
       "      <td>1.0</td>\n",
       "      <td>1.0</td>\n",
       "    </tr>\n",
       "  </tbody>\n",
       "</table>\n",
       "</div>"
      ],
      "text/plain": [
       "     A    B    C    D\n",
       "0  2.0  1.0  1.0  1.0\n",
       "1  2.0  1.0  1.0  1.0\n",
       "2  2.0  1.0  1.0  1.0\n",
       "3  2.0  1.0  1.0  1.0"
      ]
     },
     "execution_count": 60,
     "metadata": {},
     "output_type": "execute_result"
    }
   ],
   "source": [
    "# Note that the operations return a copy of the original data.\n",
    "# If you want to update a column of a DataFrame, for instance,\n",
    "# you need to assign the result of the operation to it.\n",
    "\n",
    "df['A'] = df['A'] + s\n",
    "df"
   ]
  },
  {
   "cell_type": "markdown",
   "id": "68846319-71e2-475b-b15c-8de5d8707826",
   "metadata": {},
   "source": [
    "## Data Alignment\n",
    "\n",
    "In pandas, operations like arithmetic, indexing, and filtering rely on data alignment. This means that these operations are performed based on the matching of indexes and columns between the involved DataFrames or Series.\n",
    "\n",
    "Data alignment ensures that operations occur only on elements that share the same index and column labels. If the indexes or columns do not align, pandas will reindex the data structures to enforce alignment before performing the operation. As a result, any mismatched labels will produce NaN values in the output, indicating the absence of corresponding data points.\n",
    "\n",
    "By preserving the alignment of indexes and columns, pandas ensure that operations maintain data context and consequently prevent errors that might occur when working with heterogeneous or misaligned data.\n",
    "\n",
    "For example, to illustrate data alignment behavior, consider the following DataFrames:"
   ]
  },
  {
   "cell_type": "code",
   "execution_count": 61,
   "id": "1091a1e4-85ca-4f5b-b761-2ff2fe6b62f6",
   "metadata": {},
   "outputs": [],
   "source": [
    "df1 = pd.DataFrame({'A': [1, 2, 3], 'B': [4, 5, 6]}, index=['a', 'b', 'c'])\n",
    "df2 = pd.DataFrame({'B': [7, 8, 9], 'C': [10, 11, 12]}, index=['b', 'c', 'd'])"
   ]
  },
  {
   "cell_type": "code",
   "execution_count": 62,
   "id": "41637207-e691-49e4-a6fa-f5ff429f0734",
   "metadata": {},
   "outputs": [
    {
     "data": {
      "text/html": [
       "<div>\n",
       "<style scoped>\n",
       "    .dataframe tbody tr th:only-of-type {\n",
       "        vertical-align: middle;\n",
       "    }\n",
       "\n",
       "    .dataframe tbody tr th {\n",
       "        vertical-align: top;\n",
       "    }\n",
       "\n",
       "    .dataframe thead th {\n",
       "        text-align: right;\n",
       "    }\n",
       "</style>\n",
       "<table border=\"1\" class=\"dataframe\">\n",
       "  <thead>\n",
       "    <tr style=\"text-align: right;\">\n",
       "      <th></th>\n",
       "      <th>A</th>\n",
       "      <th>B</th>\n",
       "    </tr>\n",
       "  </thead>\n",
       "  <tbody>\n",
       "    <tr>\n",
       "      <th>a</th>\n",
       "      <td>1</td>\n",
       "      <td>4</td>\n",
       "    </tr>\n",
       "    <tr>\n",
       "      <th>b</th>\n",
       "      <td>2</td>\n",
       "      <td>5</td>\n",
       "    </tr>\n",
       "    <tr>\n",
       "      <th>c</th>\n",
       "      <td>3</td>\n",
       "      <td>6</td>\n",
       "    </tr>\n",
       "  </tbody>\n",
       "</table>\n",
       "</div>"
      ],
      "text/plain": [
       "   A  B\n",
       "a  1  4\n",
       "b  2  5\n",
       "c  3  6"
      ]
     },
     "execution_count": 62,
     "metadata": {},
     "output_type": "execute_result"
    }
   ],
   "source": [
    "df1"
   ]
  },
  {
   "cell_type": "code",
   "execution_count": 63,
   "id": "ae7545d9-e788-4b3e-ad0d-3e1b106d884c",
   "metadata": {},
   "outputs": [
    {
     "data": {
      "text/html": [
       "<div>\n",
       "<style scoped>\n",
       "    .dataframe tbody tr th:only-of-type {\n",
       "        vertical-align: middle;\n",
       "    }\n",
       "\n",
       "    .dataframe tbody tr th {\n",
       "        vertical-align: top;\n",
       "    }\n",
       "\n",
       "    .dataframe thead th {\n",
       "        text-align: right;\n",
       "    }\n",
       "</style>\n",
       "<table border=\"1\" class=\"dataframe\">\n",
       "  <thead>\n",
       "    <tr style=\"text-align: right;\">\n",
       "      <th></th>\n",
       "      <th>B</th>\n",
       "      <th>C</th>\n",
       "    </tr>\n",
       "  </thead>\n",
       "  <tbody>\n",
       "    <tr>\n",
       "      <th>b</th>\n",
       "      <td>7</td>\n",
       "      <td>10</td>\n",
       "    </tr>\n",
       "    <tr>\n",
       "      <th>c</th>\n",
       "      <td>8</td>\n",
       "      <td>11</td>\n",
       "    </tr>\n",
       "    <tr>\n",
       "      <th>d</th>\n",
       "      <td>9</td>\n",
       "      <td>12</td>\n",
       "    </tr>\n",
       "  </tbody>\n",
       "</table>\n",
       "</div>"
      ],
      "text/plain": [
       "   B   C\n",
       "b  7  10\n",
       "c  8  11\n",
       "d  9  12"
      ]
     },
     "execution_count": 63,
     "metadata": {},
     "output_type": "execute_result"
    }
   ],
   "source": [
    "df2"
   ]
  },
  {
   "cell_type": "code",
   "execution_count": 64,
   "id": "29cdba6d-1913-4aea-9294-990037a29054",
   "metadata": {},
   "outputs": [
    {
     "data": {
      "text/html": [
       "<div>\n",
       "<style scoped>\n",
       "    .dataframe tbody tr th:only-of-type {\n",
       "        vertical-align: middle;\n",
       "    }\n",
       "\n",
       "    .dataframe tbody tr th {\n",
       "        vertical-align: top;\n",
       "    }\n",
       "\n",
       "    .dataframe thead th {\n",
       "        text-align: right;\n",
       "    }\n",
       "</style>\n",
       "<table border=\"1\" class=\"dataframe\">\n",
       "  <thead>\n",
       "    <tr style=\"text-align: right;\">\n",
       "      <th></th>\n",
       "      <th>A</th>\n",
       "      <th>B</th>\n",
       "      <th>C</th>\n",
       "    </tr>\n",
       "  </thead>\n",
       "  <tbody>\n",
       "    <tr>\n",
       "      <th>a</th>\n",
       "      <td>NaN</td>\n",
       "      <td>NaN</td>\n",
       "      <td>NaN</td>\n",
       "    </tr>\n",
       "    <tr>\n",
       "      <th>b</th>\n",
       "      <td>NaN</td>\n",
       "      <td>12.0</td>\n",
       "      <td>NaN</td>\n",
       "    </tr>\n",
       "    <tr>\n",
       "      <th>c</th>\n",
       "      <td>NaN</td>\n",
       "      <td>14.0</td>\n",
       "      <td>NaN</td>\n",
       "    </tr>\n",
       "    <tr>\n",
       "      <th>d</th>\n",
       "      <td>NaN</td>\n",
       "      <td>NaN</td>\n",
       "      <td>NaN</td>\n",
       "    </tr>\n",
       "  </tbody>\n",
       "</table>\n",
       "</div>"
      ],
      "text/plain": [
       "    A     B   C\n",
       "a NaN   NaN NaN\n",
       "b NaN  12.0 NaN\n",
       "c NaN  14.0 NaN\n",
       "d NaN   NaN NaN"
      ]
     },
     "execution_count": 64,
     "metadata": {},
     "output_type": "execute_result"
    }
   ],
   "source": [
    "df1 + df2"
   ]
  },
  {
   "cell_type": "markdown",
   "id": "5c6833e7-d44a-4d65-bf4d-de0d2a9d678a",
   "metadata": {},
   "source": [
    "## Broadcasting DataFrames and Series\n",
    "\n",
    "Broadcasting allows performing arithmetic operations between arrays of different shapes under certain conditions, making it seem as if the arrays had the same shape. The smaller array is \"broadcast\" across the larger array to make their shapes compatible.\n",
    "\n",
    "In pandas, broadcasting enables interaction between list-like data structures, scalar values, Series, and DataFrames. Specially, for Series and DataFrames, broadcasting is managed by the `axis` parameter, allowing element-wise operations across rows and columns.\n",
    "\n",
    "This means that when performing operations like addition (`add()`) or subtraction (`sub()`) between a Series and a DataFrame, the alignment of the Series index with the DataFrame's columns is necessary for row-wise operations (`axis=1`) to run successfully. In this case, the Series is broadcast across each row of the DataFrame, applying the operation element-wise to each corresponding column. Conversely, for column-wise operations (`axis=0`), the Series is broadcast across each column, and its index should align with the DataFrame's index.\n",
    "\n",
    "For example, consider the following scenario:"
   ]
  },
  {
   "cell_type": "code",
   "execution_count": 65,
   "id": "3caef64c-e921-4a31-b973-64a694955b64",
   "metadata": {},
   "outputs": [
    {
     "data": {
      "text/html": [
       "<div>\n",
       "<style scoped>\n",
       "    .dataframe tbody tr th:only-of-type {\n",
       "        vertical-align: middle;\n",
       "    }\n",
       "\n",
       "    .dataframe tbody tr th {\n",
       "        vertical-align: top;\n",
       "    }\n",
       "\n",
       "    .dataframe thead th {\n",
       "        text-align: right;\n",
       "    }\n",
       "</style>\n",
       "<table border=\"1\" class=\"dataframe\">\n",
       "  <thead>\n",
       "    <tr style=\"text-align: right;\">\n",
       "      <th></th>\n",
       "      <th>A</th>\n",
       "      <th>B</th>\n",
       "    </tr>\n",
       "  </thead>\n",
       "  <tbody>\n",
       "    <tr>\n",
       "      <th>0</th>\n",
       "      <td>1</td>\n",
       "      <td>4</td>\n",
       "    </tr>\n",
       "    <tr>\n",
       "      <th>1</th>\n",
       "      <td>2</td>\n",
       "      <td>5</td>\n",
       "    </tr>\n",
       "    <tr>\n",
       "      <th>2</th>\n",
       "      <td>3</td>\n",
       "      <td>6</td>\n",
       "    </tr>\n",
       "  </tbody>\n",
       "</table>\n",
       "</div>"
      ],
      "text/plain": [
       "   A  B\n",
       "0  1  4\n",
       "1  2  5\n",
       "2  3  6"
      ]
     },
     "execution_count": 65,
     "metadata": {},
     "output_type": "execute_result"
    }
   ],
   "source": [
    "df = pd.DataFrame({\n",
    "    'A': [1, 2, 3],\n",
    "    'B': [4, 5, 6]\n",
    "})\n",
    "df"
   ]
  },
  {
   "cell_type": "code",
   "execution_count": 66,
   "id": "9c87bd90-c887-4b36-97e5-6e5a2ca998d0",
   "metadata": {},
   "outputs": [
    {
     "data": {
      "text/plain": [
       "0    10\n",
       "1    20\n",
       "2    30\n",
       "dtype: int64"
      ]
     },
     "execution_count": 66,
     "metadata": {},
     "output_type": "execute_result"
    }
   ],
   "source": [
    "s = pd.Series([10, 20, 30])\n",
    "s"
   ]
  },
  {
   "cell_type": "code",
   "execution_count": 67,
   "id": "e64d020b-6990-40a9-b54a-bf8d8128baef",
   "metadata": {},
   "outputs": [
    {
     "data": {
      "text/html": [
       "<div>\n",
       "<style scoped>\n",
       "    .dataframe tbody tr th:only-of-type {\n",
       "        vertical-align: middle;\n",
       "    }\n",
       "\n",
       "    .dataframe tbody tr th {\n",
       "        vertical-align: top;\n",
       "    }\n",
       "\n",
       "    .dataframe thead th {\n",
       "        text-align: right;\n",
       "    }\n",
       "</style>\n",
       "<table border=\"1\" class=\"dataframe\">\n",
       "  <thead>\n",
       "    <tr style=\"text-align: right;\">\n",
       "      <th></th>\n",
       "      <th>A</th>\n",
       "      <th>B</th>\n",
       "    </tr>\n",
       "  </thead>\n",
       "  <tbody>\n",
       "    <tr>\n",
       "      <th>0</th>\n",
       "      <td>11</td>\n",
       "      <td>14</td>\n",
       "    </tr>\n",
       "    <tr>\n",
       "      <th>1</th>\n",
       "      <td>22</td>\n",
       "      <td>25</td>\n",
       "    </tr>\n",
       "    <tr>\n",
       "      <th>2</th>\n",
       "      <td>33</td>\n",
       "      <td>36</td>\n",
       "    </tr>\n",
       "  </tbody>\n",
       "</table>\n",
       "</div>"
      ],
      "text/plain": [
       "    A   B\n",
       "0  11  14\n",
       "1  22  25\n",
       "2  33  36"
      ]
     },
     "execution_count": 67,
     "metadata": {},
     "output_type": "execute_result"
    }
   ],
   "source": [
    "df.add(s, axis='index')"
   ]
  },
  {
   "cell_type": "code",
   "execution_count": 68,
   "id": "7f9c691a-0eab-4716-acc1-baf8a1433e48",
   "metadata": {},
   "outputs": [
    {
     "data": {
      "text/html": [
       "<div>\n",
       "<style scoped>\n",
       "    .dataframe tbody tr th:only-of-type {\n",
       "        vertical-align: middle;\n",
       "    }\n",
       "\n",
       "    .dataframe tbody tr th {\n",
       "        vertical-align: top;\n",
       "    }\n",
       "\n",
       "    .dataframe thead th {\n",
       "        text-align: right;\n",
       "    }\n",
       "</style>\n",
       "<table border=\"1\" class=\"dataframe\">\n",
       "  <thead>\n",
       "    <tr style=\"text-align: right;\">\n",
       "      <th></th>\n",
       "      <th>A</th>\n",
       "      <th>B</th>\n",
       "      <th>0</th>\n",
       "      <th>1</th>\n",
       "      <th>2</th>\n",
       "    </tr>\n",
       "  </thead>\n",
       "  <tbody>\n",
       "    <tr>\n",
       "      <th>0</th>\n",
       "      <td>NaN</td>\n",
       "      <td>NaN</td>\n",
       "      <td>NaN</td>\n",
       "      <td>NaN</td>\n",
       "      <td>NaN</td>\n",
       "    </tr>\n",
       "    <tr>\n",
       "      <th>1</th>\n",
       "      <td>NaN</td>\n",
       "      <td>NaN</td>\n",
       "      <td>NaN</td>\n",
       "      <td>NaN</td>\n",
       "      <td>NaN</td>\n",
       "    </tr>\n",
       "    <tr>\n",
       "      <th>2</th>\n",
       "      <td>NaN</td>\n",
       "      <td>NaN</td>\n",
       "      <td>NaN</td>\n",
       "      <td>NaN</td>\n",
       "      <td>NaN</td>\n",
       "    </tr>\n",
       "  </tbody>\n",
       "</table>\n",
       "</div>"
      ],
      "text/plain": [
       "    A   B   0   1   2\n",
       "0 NaN NaN NaN NaN NaN\n",
       "1 NaN NaN NaN NaN NaN\n",
       "2 NaN NaN NaN NaN NaN"
      ]
     },
     "execution_count": 68,
     "metadata": {},
     "output_type": "execute_result"
    }
   ],
   "source": [
    "df.add(s, axis='columns')"
   ]
  },
  {
   "cell_type": "code",
   "execution_count": 69,
   "id": "10a4e740-3b35-4274-948b-c29a9c575887",
   "metadata": {},
   "outputs": [
    {
     "data": {
      "text/plain": [
       "A    10\n",
       "B    20\n",
       "dtype: int64"
      ]
     },
     "execution_count": 69,
     "metadata": {},
     "output_type": "execute_result"
    }
   ],
   "source": [
    "s = pd.Series([10, 20], index=['A', 'B'])\n",
    "s"
   ]
  },
  {
   "cell_type": "code",
   "execution_count": 70,
   "id": "1c365f69-0ee5-40d4-819e-4bf77294bb1e",
   "metadata": {},
   "outputs": [
    {
     "data": {
      "text/html": [
       "<div>\n",
       "<style scoped>\n",
       "    .dataframe tbody tr th:only-of-type {\n",
       "        vertical-align: middle;\n",
       "    }\n",
       "\n",
       "    .dataframe tbody tr th {\n",
       "        vertical-align: top;\n",
       "    }\n",
       "\n",
       "    .dataframe thead th {\n",
       "        text-align: right;\n",
       "    }\n",
       "</style>\n",
       "<table border=\"1\" class=\"dataframe\">\n",
       "  <thead>\n",
       "    <tr style=\"text-align: right;\">\n",
       "      <th></th>\n",
       "      <th>A</th>\n",
       "      <th>B</th>\n",
       "    </tr>\n",
       "  </thead>\n",
       "  <tbody>\n",
       "    <tr>\n",
       "      <th>0</th>\n",
       "      <td>-9</td>\n",
       "      <td>-16</td>\n",
       "    </tr>\n",
       "    <tr>\n",
       "      <th>1</th>\n",
       "      <td>-8</td>\n",
       "      <td>-15</td>\n",
       "    </tr>\n",
       "    <tr>\n",
       "      <th>2</th>\n",
       "      <td>-7</td>\n",
       "      <td>-14</td>\n",
       "    </tr>\n",
       "  </tbody>\n",
       "</table>\n",
       "</div>"
      ],
      "text/plain": [
       "   A   B\n",
       "0 -9 -16\n",
       "1 -8 -15\n",
       "2 -7 -14"
      ]
     },
     "execution_count": 70,
     "metadata": {},
     "output_type": "execute_result"
    }
   ],
   "source": [
    "df.sub(s, axis=1)"
   ]
  },
  {
   "cell_type": "markdown",
   "id": "baac4ca7-74f1-4aee-be47-2c0827854d2e",
   "metadata": {},
   "source": [
    "## Filling Missing Data\n",
    "\n",
    "It is pretty common for real-world datasets to have missing data. Those missing values especially impact arithmetic operations. After all, what should we do when summing 1 + Null? To handle such cases, pandas arithmetic methods provide a mechanism to have a fallback value to substitute when one of the values at a location is missing, which is controlled by the `fill_value` parameter.\n",
    "\n",
    "`fill_value` accepts a float or None (with the default being `None`) and ensures that missing values are filled before performing the operation, providing a seamless calculation even in the presence of `NaN`s."
   ]
  },
  {
   "cell_type": "code",
   "execution_count": 71,
   "id": "50aeb366-a5a8-4a23-9345-88f2a7a0fc0b",
   "metadata": {},
   "outputs": [],
   "source": [
    "df1 = pd.DataFrame({\n",
    "    'A': [1, 2, np.nan, 4],\n",
    "    'B': [5, np.nan, 7, 8]\n",
    "})\n",
    "df2 = pd.DataFrame({\n",
    "    'A': [np.nan, 2, 3, 4],\n",
    "    'B': [5, 6, np.nan, 8]\n",
    "})"
   ]
  },
  {
   "cell_type": "code",
   "execution_count": 72,
   "id": "eaa20b0f-81bf-4fe3-aa4b-296f87b51438",
   "metadata": {},
   "outputs": [
    {
     "data": {
      "text/html": [
       "<div>\n",
       "<style scoped>\n",
       "    .dataframe tbody tr th:only-of-type {\n",
       "        vertical-align: middle;\n",
       "    }\n",
       "\n",
       "    .dataframe tbody tr th {\n",
       "        vertical-align: top;\n",
       "    }\n",
       "\n",
       "    .dataframe thead th {\n",
       "        text-align: right;\n",
       "    }\n",
       "</style>\n",
       "<table border=\"1\" class=\"dataframe\">\n",
       "  <thead>\n",
       "    <tr style=\"text-align: right;\">\n",
       "      <th></th>\n",
       "      <th>A</th>\n",
       "      <th>B</th>\n",
       "    </tr>\n",
       "  </thead>\n",
       "  <tbody>\n",
       "    <tr>\n",
       "      <th>0</th>\n",
       "      <td>1.0</td>\n",
       "      <td>5.0</td>\n",
       "    </tr>\n",
       "    <tr>\n",
       "      <th>1</th>\n",
       "      <td>2.0</td>\n",
       "      <td>NaN</td>\n",
       "    </tr>\n",
       "    <tr>\n",
       "      <th>2</th>\n",
       "      <td>NaN</td>\n",
       "      <td>7.0</td>\n",
       "    </tr>\n",
       "    <tr>\n",
       "      <th>3</th>\n",
       "      <td>4.0</td>\n",
       "      <td>8.0</td>\n",
       "    </tr>\n",
       "  </tbody>\n",
       "</table>\n",
       "</div>"
      ],
      "text/plain": [
       "     A    B\n",
       "0  1.0  5.0\n",
       "1  2.0  NaN\n",
       "2  NaN  7.0\n",
       "3  4.0  8.0"
      ]
     },
     "execution_count": 72,
     "metadata": {},
     "output_type": "execute_result"
    }
   ],
   "source": [
    "df1"
   ]
  },
  {
   "cell_type": "code",
   "execution_count": 73,
   "id": "5b0704cc-e007-4ed3-9df9-5ad4fb24ba7b",
   "metadata": {},
   "outputs": [
    {
     "data": {
      "text/html": [
       "<div>\n",
       "<style scoped>\n",
       "    .dataframe tbody tr th:only-of-type {\n",
       "        vertical-align: middle;\n",
       "    }\n",
       "\n",
       "    .dataframe tbody tr th {\n",
       "        vertical-align: top;\n",
       "    }\n",
       "\n",
       "    .dataframe thead th {\n",
       "        text-align: right;\n",
       "    }\n",
       "</style>\n",
       "<table border=\"1\" class=\"dataframe\">\n",
       "  <thead>\n",
       "    <tr style=\"text-align: right;\">\n",
       "      <th></th>\n",
       "      <th>A</th>\n",
       "      <th>B</th>\n",
       "    </tr>\n",
       "  </thead>\n",
       "  <tbody>\n",
       "    <tr>\n",
       "      <th>0</th>\n",
       "      <td>NaN</td>\n",
       "      <td>5.0</td>\n",
       "    </tr>\n",
       "    <tr>\n",
       "      <th>1</th>\n",
       "      <td>2.0</td>\n",
       "      <td>6.0</td>\n",
       "    </tr>\n",
       "    <tr>\n",
       "      <th>2</th>\n",
       "      <td>3.0</td>\n",
       "      <td>NaN</td>\n",
       "    </tr>\n",
       "    <tr>\n",
       "      <th>3</th>\n",
       "      <td>4.0</td>\n",
       "      <td>8.0</td>\n",
       "    </tr>\n",
       "  </tbody>\n",
       "</table>\n",
       "</div>"
      ],
      "text/plain": [
       "     A    B\n",
       "0  NaN  5.0\n",
       "1  2.0  6.0\n",
       "2  3.0  NaN\n",
       "3  4.0  8.0"
      ]
     },
     "execution_count": 73,
     "metadata": {},
     "output_type": "execute_result"
    }
   ],
   "source": [
    "df2"
   ]
  },
  {
   "cell_type": "code",
   "execution_count": 74,
   "id": "63f1330f-7d92-41cb-ac0a-da640305d97d",
   "metadata": {},
   "outputs": [
    {
     "data": {
      "text/html": [
       "<div>\n",
       "<style scoped>\n",
       "    .dataframe tbody tr th:only-of-type {\n",
       "        vertical-align: middle;\n",
       "    }\n",
       "\n",
       "    .dataframe tbody tr th {\n",
       "        vertical-align: top;\n",
       "    }\n",
       "\n",
       "    .dataframe thead th {\n",
       "        text-align: right;\n",
       "    }\n",
       "</style>\n",
       "<table border=\"1\" class=\"dataframe\">\n",
       "  <thead>\n",
       "    <tr style=\"text-align: right;\">\n",
       "      <th></th>\n",
       "      <th>A</th>\n",
       "      <th>B</th>\n",
       "    </tr>\n",
       "  </thead>\n",
       "  <tbody>\n",
       "    <tr>\n",
       "      <th>0</th>\n",
       "      <td>1.0</td>\n",
       "      <td>10.0</td>\n",
       "    </tr>\n",
       "    <tr>\n",
       "      <th>1</th>\n",
       "      <td>4.0</td>\n",
       "      <td>6.0</td>\n",
       "    </tr>\n",
       "    <tr>\n",
       "      <th>2</th>\n",
       "      <td>3.0</td>\n",
       "      <td>7.0</td>\n",
       "    </tr>\n",
       "    <tr>\n",
       "      <th>3</th>\n",
       "      <td>8.0</td>\n",
       "      <td>16.0</td>\n",
       "    </tr>\n",
       "  </tbody>\n",
       "</table>\n",
       "</div>"
      ],
      "text/plain": [
       "     A     B\n",
       "0  1.0  10.0\n",
       "1  4.0   6.0\n",
       "2  3.0   7.0\n",
       "3  8.0  16.0"
      ]
     },
     "execution_count": 74,
     "metadata": {},
     "output_type": "execute_result"
    }
   ],
   "source": [
    "df1.add(df2, fill_value=0)"
   ]
  },
  {
   "cell_type": "markdown",
   "id": "9505c1c4-ccff-46e4-80e2-ec5254f08a4d",
   "metadata": {},
   "source": [
    "## Boolean Reductions\n",
    "\n",
    "Boolean reductions are methods that reduce a DataFrame or Series to a single boolean value based on certain conditions. These operations evaluate whether all or any elements in the data structure meet a specified criterion.\n",
    "\n",
    "The methods available for this are `all()` and `any()`. Both methods accept the following parameters:\n",
    "\n",
    "- `axis:` Specifies which axis or axes to reduce. For Series, this parameter is unused and defaults to `0` (or `'index'`).\n",
    "- `bool_only`: Includes only boolean columns. Not implemented for Series.\n",
    "- `skipna:` Excludes null values. If the entire row/column is null and `skipna=True`, the result will be `False`, as for an empty row or column. Otherwise, null values are treated as `True` because they are not equal to zero."
   ]
  },
  {
   "cell_type": "code",
   "execution_count": 75,
   "id": "969a61ba-4447-439d-81a2-278abb531d01",
   "metadata": {},
   "outputs": [
    {
     "data": {
      "text/html": [
       "<div>\n",
       "<style scoped>\n",
       "    .dataframe tbody tr th:only-of-type {\n",
       "        vertical-align: middle;\n",
       "    }\n",
       "\n",
       "    .dataframe tbody tr th {\n",
       "        vertical-align: top;\n",
       "    }\n",
       "\n",
       "    .dataframe thead th {\n",
       "        text-align: right;\n",
       "    }\n",
       "</style>\n",
       "<table border=\"1\" class=\"dataframe\">\n",
       "  <thead>\n",
       "    <tr style=\"text-align: right;\">\n",
       "      <th></th>\n",
       "      <th>A</th>\n",
       "      <th>B</th>\n",
       "      <th>C</th>\n",
       "      <th>D</th>\n",
       "      <th>E</th>\n",
       "    </tr>\n",
       "  </thead>\n",
       "  <tbody>\n",
       "    <tr>\n",
       "      <th>0</th>\n",
       "      <td>0.279842</td>\n",
       "      <td>-0.713293</td>\n",
       "      <td>0.889338</td>\n",
       "      <td>0.043697</td>\n",
       "      <td>-0.170676</td>\n",
       "    </tr>\n",
       "    <tr>\n",
       "      <th>1</th>\n",
       "      <td>-0.470889</td>\n",
       "      <td>0.548467</td>\n",
       "      <td>-0.087699</td>\n",
       "      <td>0.136868</td>\n",
       "      <td>-0.962420</td>\n",
       "    </tr>\n",
       "    <tr>\n",
       "      <th>2</th>\n",
       "      <td>0.235271</td>\n",
       "      <td>0.224191</td>\n",
       "      <td>0.233868</td>\n",
       "      <td>0.887496</td>\n",
       "      <td>0.363641</td>\n",
       "    </tr>\n",
       "    <tr>\n",
       "      <th>3</th>\n",
       "      <td>-0.280984</td>\n",
       "      <td>-0.125936</td>\n",
       "      <td>0.395262</td>\n",
       "      <td>-0.879549</td>\n",
       "      <td>0.333533</td>\n",
       "    </tr>\n",
       "    <tr>\n",
       "      <th>4</th>\n",
       "      <td>0.341276</td>\n",
       "      <td>-0.579235</td>\n",
       "      <td>-0.742147</td>\n",
       "      <td>-0.369143</td>\n",
       "      <td>-0.272578</td>\n",
       "    </tr>\n",
       "  </tbody>\n",
       "</table>\n",
       "</div>"
      ],
      "text/plain": [
       "          A         B         C         D         E\n",
       "0  0.279842 -0.713293  0.889338  0.043697 -0.170676\n",
       "1 -0.470889  0.548467 -0.087699  0.136868 -0.962420\n",
       "2  0.235271  0.224191  0.233868  0.887496  0.363641\n",
       "3 -0.280984 -0.125936  0.395262 -0.879549  0.333533\n",
       "4  0.341276 -0.579235 -0.742147 -0.369143 -0.272578"
      ]
     },
     "execution_count": 75,
     "metadata": {},
     "output_type": "execute_result"
    }
   ],
   "source": [
    "df = pd.DataFrame(\n",
    "    np.random.uniform(-1, 1, size=(5,5)),\n",
    "    columns=['A', 'B', 'C', 'D', 'E'],\n",
    ")\n",
    "df"
   ]
  },
  {
   "cell_type": "code",
   "execution_count": 76,
   "id": "f3e6f67e-10b2-415b-a9a1-67cf277eb234",
   "metadata": {},
   "outputs": [
    {
     "data": {
      "text/html": [
       "<div>\n",
       "<style scoped>\n",
       "    .dataframe tbody tr th:only-of-type {\n",
       "        vertical-align: middle;\n",
       "    }\n",
       "\n",
       "    .dataframe tbody tr th {\n",
       "        vertical-align: top;\n",
       "    }\n",
       "\n",
       "    .dataframe thead th {\n",
       "        text-align: right;\n",
       "    }\n",
       "</style>\n",
       "<table border=\"1\" class=\"dataframe\">\n",
       "  <thead>\n",
       "    <tr style=\"text-align: right;\">\n",
       "      <th></th>\n",
       "      <th>A</th>\n",
       "      <th>B</th>\n",
       "      <th>C</th>\n",
       "      <th>D</th>\n",
       "      <th>E</th>\n",
       "    </tr>\n",
       "  </thead>\n",
       "  <tbody>\n",
       "    <tr>\n",
       "      <th>0</th>\n",
       "      <td>True</td>\n",
       "      <td>False</td>\n",
       "      <td>True</td>\n",
       "      <td>True</td>\n",
       "      <td>False</td>\n",
       "    </tr>\n",
       "    <tr>\n",
       "      <th>1</th>\n",
       "      <td>False</td>\n",
       "      <td>True</td>\n",
       "      <td>False</td>\n",
       "      <td>True</td>\n",
       "      <td>False</td>\n",
       "    </tr>\n",
       "    <tr>\n",
       "      <th>2</th>\n",
       "      <td>True</td>\n",
       "      <td>True</td>\n",
       "      <td>True</td>\n",
       "      <td>True</td>\n",
       "      <td>True</td>\n",
       "    </tr>\n",
       "    <tr>\n",
       "      <th>3</th>\n",
       "      <td>False</td>\n",
       "      <td>False</td>\n",
       "      <td>True</td>\n",
       "      <td>False</td>\n",
       "      <td>True</td>\n",
       "    </tr>\n",
       "    <tr>\n",
       "      <th>4</th>\n",
       "      <td>True</td>\n",
       "      <td>False</td>\n",
       "      <td>False</td>\n",
       "      <td>False</td>\n",
       "      <td>False</td>\n",
       "    </tr>\n",
       "  </tbody>\n",
       "</table>\n",
       "</div>"
      ],
      "text/plain": [
       "       A      B      C      D      E\n",
       "0   True  False   True   True  False\n",
       "1  False   True  False   True  False\n",
       "2   True   True   True   True   True\n",
       "3  False  False   True  False   True\n",
       "4   True  False  False  False  False"
      ]
     },
     "execution_count": 76,
     "metadata": {},
     "output_type": "execute_result"
    }
   ],
   "source": [
    "df > 0"
   ]
  },
  {
   "cell_type": "code",
   "execution_count": 77,
   "id": "1114dabc-3fc6-416f-a579-2ec73e999bbf",
   "metadata": {},
   "outputs": [
    {
     "data": {
      "text/plain": [
       "A    False\n",
       "B    False\n",
       "C    False\n",
       "D    False\n",
       "E    False\n",
       "dtype: bool"
      ]
     },
     "execution_count": 77,
     "metadata": {},
     "output_type": "execute_result"
    }
   ],
   "source": [
    "# Default axis='index'\n",
    "\n",
    "(df > 0).all()"
   ]
  },
  {
   "cell_type": "code",
   "execution_count": 78,
   "id": "15ff8e8b-3967-4ec4-8bfc-92222fa5d27f",
   "metadata": {},
   "outputs": [
    {
     "data": {
      "text/plain": [
       "0    False\n",
       "1    False\n",
       "2     True\n",
       "3    False\n",
       "4    False\n",
       "dtype: bool"
      ]
     },
     "execution_count": 78,
     "metadata": {},
     "output_type": "execute_result"
    }
   ],
   "source": [
    "(df > 0).all(axis='columns')"
   ]
  },
  {
   "cell_type": "code",
   "execution_count": 79,
   "id": "fc03ec54-2859-4da8-b7fb-409e9d1d530c",
   "metadata": {},
   "outputs": [
    {
     "data": {
      "text/plain": [
       "False"
      ]
     },
     "execution_count": 79,
     "metadata": {},
     "output_type": "execute_result"
    }
   ],
   "source": [
    "# Whe axis=None, reduce the whole DataFrame\n",
    "\n",
    "(df > 0).all(axis=None)"
   ]
  },
  {
   "cell_type": "code",
   "execution_count": 80,
   "id": "c52208d2-19d6-4b4a-af8e-19f479758895",
   "metadata": {},
   "outputs": [
    {
     "data": {
      "text/plain": [
       "A    True\n",
       "B    True\n",
       "C    True\n",
       "D    True\n",
       "E    True\n",
       "dtype: bool"
      ]
     },
     "execution_count": 80,
     "metadata": {},
     "output_type": "execute_result"
    }
   ],
   "source": [
    "(df > 0).any()"
   ]
  },
  {
   "cell_type": "code",
   "execution_count": 81,
   "id": "e5d819e4-6894-413d-96de-da13398e10c5",
   "metadata": {},
   "outputs": [
    {
     "data": {
      "text/plain": [
       "0    True\n",
       "1    True\n",
       "2    True\n",
       "3    True\n",
       "4    True\n",
       "dtype: bool"
      ]
     },
     "execution_count": 81,
     "metadata": {},
     "output_type": "execute_result"
    }
   ],
   "source": [
    "(df > 0).any(axis='columns')"
   ]
  },
  {
   "cell_type": "code",
   "execution_count": 82,
   "id": "c1a0582f-92ad-43cc-9cec-63e07a5e4314",
   "metadata": {},
   "outputs": [
    {
     "data": {
      "text/plain": [
       "False"
      ]
     },
     "execution_count": 82,
     "metadata": {},
     "output_type": "execute_result"
    }
   ],
   "source": [
    "# When reducing Series,\n",
    "# it always return an single scalar\n",
    "# (behavior is the same for axis='index' and None)\n",
    "\n",
    "(df['A'] > 0).all()"
   ]
  },
  {
   "cell_type": "code",
   "execution_count": 83,
   "id": "c252546d-ff64-4f61-a59b-7ed48e3f9923",
   "metadata": {},
   "outputs": [
    {
     "data": {
      "text/plain": [
       "False"
      ]
     },
     "execution_count": 83,
     "metadata": {},
     "output_type": "execute_result"
    }
   ],
   "source": [
    "(df.loc[0, :] > 0).all()"
   ]
  },
  {
   "cell_type": "markdown",
   "id": "8c93153e-3f0a-4eea-85d4-565219c8d765",
   "metadata": {},
   "source": [
    "# Iteration\n",
    "\n",
    "In pandas, you can iterate over Series and DataFrames, with behavior varying based on the object in question. Iterating over a Series treats it as array-like, producing values. DataFrames, on the other hand, follow a dict-like convention, iterating over the column labels.\n",
    "\n",
    "To summarize, basic iteration (`for i in object`) yields:\n",
    "\n",
    "- **Series:** values\n",
    "- **DataFrame:** column labels\n",
    "\n",
    "To iterate over DataFrame rows, you can use these methods:\n",
    "\n",
    "- **iterrows():** Iterates over DataFrame rows as (index, Series) pairs. This converts rows to Series objects, which can change data types and affect performance.\n",
    "- **itertuples():** Iterates over DataFrame rows as namedtuples of the values. This method is much faster than iterrows() and is generally preferable for accessing DataFrame values.\n",
    "\n",
    "However, keep in mind that iterating through pandas objects is **VERY SLOW**. Manual row iteration is usually **unnecessary** and should be **avoided**."
   ]
  },
  {
   "cell_type": "code",
   "execution_count": 84,
   "id": "861d3fca-491d-4d13-8ede-a162cf0bd3ec",
   "metadata": {},
   "outputs": [
    {
     "data": {
      "text/html": [
       "<div>\n",
       "<style scoped>\n",
       "    .dataframe tbody tr th:only-of-type {\n",
       "        vertical-align: middle;\n",
       "    }\n",
       "\n",
       "    .dataframe tbody tr th {\n",
       "        vertical-align: top;\n",
       "    }\n",
       "\n",
       "    .dataframe thead th {\n",
       "        text-align: right;\n",
       "    }\n",
       "</style>\n",
       "<table border=\"1\" class=\"dataframe\">\n",
       "  <thead>\n",
       "    <tr style=\"text-align: right;\">\n",
       "      <th></th>\n",
       "      <th>dish</th>\n",
       "      <th>total_price</th>\n",
       "      <th>quantity</th>\n",
       "    </tr>\n",
       "  </thead>\n",
       "  <tbody>\n",
       "    <tr>\n",
       "      <th>0</th>\n",
       "      <td>Salad</td>\n",
       "      <td>36.0</td>\n",
       "      <td>3</td>\n",
       "    </tr>\n",
       "    <tr>\n",
       "      <th>1</th>\n",
       "      <td>Pasta</td>\n",
       "      <td>120.0</td>\n",
       "      <td>2</td>\n",
       "    </tr>\n",
       "    <tr>\n",
       "      <th>2</th>\n",
       "      <td>Ice Cream</td>\n",
       "      <td>14.5</td>\n",
       "      <td>1</td>\n",
       "    </tr>\n",
       "    <tr>\n",
       "      <th>3</th>\n",
       "      <td>Cake</td>\n",
       "      <td>54.0</td>\n",
       "      <td>4</td>\n",
       "    </tr>\n",
       "    <tr>\n",
       "      <th>4</th>\n",
       "      <td>Steak</td>\n",
       "      <td>172.5</td>\n",
       "      <td>3</td>\n",
       "    </tr>\n",
       "  </tbody>\n",
       "</table>\n",
       "</div>"
      ],
      "text/plain": [
       "        dish  total_price  quantity\n",
       "0      Salad         36.0         3\n",
       "1      Pasta        120.0         2\n",
       "2  Ice Cream         14.5         1\n",
       "3       Cake         54.0         4\n",
       "4      Steak        172.5         3"
      ]
     },
     "execution_count": 84,
     "metadata": {},
     "output_type": "execute_result"
    }
   ],
   "source": [
    "df = pd.DataFrame({\n",
    "    'dish': ['Salad', 'Pasta', 'Ice Cream', 'Cake', 'Steak'],\n",
    "    'total_price': [36.00, 120.00, 14.5, 54.00, 172.5],\n",
    "    'quantity': [3, 2, 1, 4, 3],\n",
    "})\n",
    "df"
   ]
  },
  {
   "cell_type": "code",
   "execution_count": 85,
   "id": "82123b3b-5e55-4d9b-98ea-e7cb48082a20",
   "metadata": {},
   "outputs": [
    {
     "name": "stdout",
     "output_type": "stream",
     "text": [
      "dish\n",
      "total_price\n",
      "quantity\n"
     ]
    }
   ],
   "source": [
    "# Iterating over DataFrame column labels\n",
    "\n",
    "for col in df:\n",
    "    print(col)"
   ]
  },
  {
   "cell_type": "code",
   "execution_count": 86,
   "id": "4c91b992-acb8-4991-955e-5860dafc7129",
   "metadata": {},
   "outputs": [
    {
     "name": "stdout",
     "output_type": "stream",
     "text": [
      "0\n",
      "dish           Salad\n",
      "total_price     36.0\n",
      "quantity           3\n",
      "Name: 0, dtype: object\n",
      "1\n",
      "dish           Pasta\n",
      "total_price    120.0\n",
      "quantity           2\n",
      "Name: 1, dtype: object\n",
      "2\n",
      "dish           Ice Cream\n",
      "total_price         14.5\n",
      "quantity               1\n",
      "Name: 2, dtype: object\n",
      "3\n",
      "dish           Cake\n",
      "total_price    54.0\n",
      "quantity          4\n",
      "Name: 3, dtype: object\n",
      "4\n",
      "dish           Steak\n",
      "total_price    172.5\n",
      "quantity           3\n",
      "Name: 4, dtype: object\n"
     ]
    }
   ],
   "source": [
    "# Iterating over DataFrame\n",
    "\n",
    "for index, row in df.iterrows():\n",
    "    print(index, row, sep=\"\\n\")"
   ]
  },
  {
   "cell_type": "markdown",
   "id": "0f7e844d-5b39-4f6a-965e-4539454cdecd",
   "metadata": {},
   "source": [
    "# Function Application and Mapping\n",
    "\n",
    "When working with pandas, applying custom logic to data is a common task which often involves using User-Defined Functions (UDFs). UDFs allow you to encapsulate your own logic or leverage functions from other libraries to operate on pandas objects.\n",
    "\n",
    "Pandas provides two main methods for applying UDFs: `apply` and `map`. The choice between these methods depends on the level of operation your UDF performs—whether it processes an entire DataFrame, a Series, or individual elements.\n",
    "\n",
    "- **Row or Column-wise Function Application:** Use the `apply()` method for functions applied along the axes of a DataFrame. The `axis` argument (default to `'index'`) controls where (row or column) the function is applied. Note that the return type of the function affects the final output:\n",
    "    - If the function returns a Series, the output is a DataFrame, with columns matching the Series index.\n",
    "    - If the function returns any other type, the output is a Series.\n",
    "\n",
    "    You can adjust this behavior using the `result_type` parameter.\n",
    "\n",
    "- **Elementwise Function Application**: Use the `map()` method to apply a function that operates on single values. On a Series, `map()` accepts any function that takes and returns a single value. On DataFrames, it applies the function elementwise.\n",
    "\n",
    "To chain multiple apply and map calls, use `pipe()`."
   ]
  },
  {
   "cell_type": "code",
   "execution_count": 87,
   "id": "8ed84937-c0d4-4b22-b4b4-92a1a6f92425",
   "metadata": {},
   "outputs": [
    {
     "data": {
      "text/html": [
       "<div>\n",
       "<style scoped>\n",
       "    .dataframe tbody tr th:only-of-type {\n",
       "        vertical-align: middle;\n",
       "    }\n",
       "\n",
       "    .dataframe tbody tr th {\n",
       "        vertical-align: top;\n",
       "    }\n",
       "\n",
       "    .dataframe thead th {\n",
       "        text-align: right;\n",
       "    }\n",
       "</style>\n",
       "<table border=\"1\" class=\"dataframe\">\n",
       "  <thead>\n",
       "    <tr style=\"text-align: right;\">\n",
       "      <th></th>\n",
       "      <th>dish</th>\n",
       "      <th>total_price</th>\n",
       "      <th>quantity</th>\n",
       "    </tr>\n",
       "  </thead>\n",
       "  <tbody>\n",
       "    <tr>\n",
       "      <th>0</th>\n",
       "      <td>Salad</td>\n",
       "      <td>36.0</td>\n",
       "      <td>3</td>\n",
       "    </tr>\n",
       "    <tr>\n",
       "      <th>1</th>\n",
       "      <td>Pasta</td>\n",
       "      <td>120.0</td>\n",
       "      <td>2</td>\n",
       "    </tr>\n",
       "    <tr>\n",
       "      <th>2</th>\n",
       "      <td>Ice Cream</td>\n",
       "      <td>14.5</td>\n",
       "      <td>1</td>\n",
       "    </tr>\n",
       "    <tr>\n",
       "      <th>3</th>\n",
       "      <td>Cake</td>\n",
       "      <td>54.0</td>\n",
       "      <td>4</td>\n",
       "    </tr>\n",
       "    <tr>\n",
       "      <th>4</th>\n",
       "      <td>Steak</td>\n",
       "      <td>172.5</td>\n",
       "      <td>3</td>\n",
       "    </tr>\n",
       "  </tbody>\n",
       "</table>\n",
       "</div>"
      ],
      "text/plain": [
       "        dish  total_price  quantity\n",
       "0      Salad         36.0         3\n",
       "1      Pasta        120.0         2\n",
       "2  Ice Cream         14.5         1\n",
       "3       Cake         54.0         4\n",
       "4      Steak        172.5         3"
      ]
     },
     "execution_count": 87,
     "metadata": {},
     "output_type": "execute_result"
    }
   ],
   "source": [
    "df = pd.DataFrame({\n",
    "    'dish': ['Salad', 'Pasta', 'Ice Cream', 'Cake', 'Steak'],\n",
    "    'total_price': [36.00, 120.00, 14.5, 54.00, 172.5],\n",
    "    'quantity': [3, 2, 1, 4, 3],\n",
    "})\n",
    "df"
   ]
  },
  {
   "cell_type": "code",
   "execution_count": 88,
   "id": "5448169e-68bf-43d4-ad3d-ec92a16068a0",
   "metadata": {},
   "outputs": [
    {
     "data": {
      "text/plain": [
       "0    12.0\n",
       "1    60.0\n",
       "2    14.5\n",
       "3    13.5\n",
       "4    57.5\n",
       "dtype: float64"
      ]
     },
     "execution_count": 88,
     "metadata": {},
     "output_type": "execute_result"
    }
   ],
   "source": [
    "def individual_price(row: pd.Series):\n",
    "    return row['total_price'] / row['quantity']\n",
    "    \n",
    "df.apply(individual_price, axis='columns')"
   ]
  },
  {
   "cell_type": "code",
   "execution_count": 89,
   "id": "cda4d52c-ab4a-4524-a808-d41e6aa1ecff",
   "metadata": {},
   "outputs": [
    {
     "data": {
      "text/plain": [
       "0    18.00\n",
       "1    60.00\n",
       "2     7.25\n",
       "3    27.00\n",
       "4    86.25\n",
       "Name: total_price, dtype: float64"
      ]
     },
     "execution_count": 89,
     "metadata": {},
     "output_type": "execute_result"
    }
   ],
   "source": [
    "df['total_price'].apply(lambda x: x / 2)"
   ]
  },
  {
   "cell_type": "code",
   "execution_count": 90,
   "id": "b4f3a58f-ee45-41cc-a09d-eb35af19f419",
   "metadata": {},
   "outputs": [
    {
     "data": {
      "text/plain": [
       "0    18.00\n",
       "1    60.00\n",
       "2     7.25\n",
       "3    27.00\n",
       "4    86.25\n",
       "Name: total_price, dtype: float64"
      ]
     },
     "execution_count": 90,
     "metadata": {},
     "output_type": "execute_result"
    }
   ],
   "source": [
    "# We can achieve the same behavior using map.\n",
    "# However, unlike apply, it doesn't expect parameters\n",
    "# but still can handle missing values.\n",
    "\n",
    "df['total_price'].map(lambda x: x / 2, na_action='ignore')"
   ]
  },
  {
   "cell_type": "code",
   "execution_count": 91,
   "id": "03aa6440-603e-49dc-8e98-443ce62267d4",
   "metadata": {},
   "outputs": [
    {
     "data": {
      "text/plain": [
       "0            Caesar salad\n",
       "1      Fettuccine Alfredo\n",
       "2                     NaN\n",
       "3    Ninho and Strawberry\n",
       "4                     NaN\n",
       "Name: dish, dtype: object"
      ]
     },
     "execution_count": 91,
     "metadata": {},
     "output_type": "execute_result"
    }
   ],
   "source": [
    "# When using map, you can pass a dict too\n",
    "# It's useful for multiples if-then idiom\n",
    "\n",
    "real_name = {\n",
    "    'Salad': 'Caesar salad',\n",
    "    'Pasta': 'Fettuccine Alfredo',\n",
    "    'Cake': 'Ninho and Strawberry',\n",
    "}\n",
    "df['dish'].map(real_name)"
   ]
  },
  {
   "cell_type": "code",
   "execution_count": 92,
   "id": "876afca1-e52e-4398-8139-b940c17be9e1",
   "metadata": {},
   "outputs": [
    {
     "data": {
      "text/plain": [
       "0     216.0\n",
       "1     720.0\n",
       "2      87.0\n",
       "3     324.0\n",
       "4    1035.0\n",
       "Name: total_price, dtype: float64"
      ]
     },
     "execution_count": 92,
     "metadata": {},
     "output_type": "execute_result"
    }
   ],
   "source": [
    "# Invoking function with parameter\n",
    "\n",
    "def final_price(price: pd.Series, dolar: bool) -> float:\n",
    "    multiplier = 6 if dolar else 1\n",
    "    return price * multiplier\n",
    "\n",
    "df['total_price'].apply(final_price, dolar=True)"
   ]
  },
  {
   "cell_type": "code",
   "execution_count": 93,
   "id": "9a9045d1-8ee0-4c75-abe6-3f1d2a2550b7",
   "metadata": {},
   "outputs": [
    {
     "data": {
      "text/html": [
       "<div>\n",
       "<style scoped>\n",
       "    .dataframe tbody tr th:only-of-type {\n",
       "        vertical-align: middle;\n",
       "    }\n",
       "\n",
       "    .dataframe tbody tr th {\n",
       "        vertical-align: top;\n",
       "    }\n",
       "\n",
       "    .dataframe thead th {\n",
       "        text-align: right;\n",
       "    }\n",
       "</style>\n",
       "<table border=\"1\" class=\"dataframe\">\n",
       "  <thead>\n",
       "    <tr style=\"text-align: right;\">\n",
       "      <th></th>\n",
       "      <th>quantity</th>\n",
       "      <th>total_price</th>\n",
       "    </tr>\n",
       "  </thead>\n",
       "  <tbody>\n",
       "    <tr>\n",
       "      <th>0</th>\n",
       "      <td>1.732051</td>\n",
       "      <td>6.000000</td>\n",
       "    </tr>\n",
       "    <tr>\n",
       "      <th>1</th>\n",
       "      <td>1.414214</td>\n",
       "      <td>10.954451</td>\n",
       "    </tr>\n",
       "    <tr>\n",
       "      <th>2</th>\n",
       "      <td>1.000000</td>\n",
       "      <td>3.807887</td>\n",
       "    </tr>\n",
       "    <tr>\n",
       "      <th>3</th>\n",
       "      <td>2.000000</td>\n",
       "      <td>7.348469</td>\n",
       "    </tr>\n",
       "    <tr>\n",
       "      <th>4</th>\n",
       "      <td>1.732051</td>\n",
       "      <td>13.133926</td>\n",
       "    </tr>\n",
       "  </tbody>\n",
       "</table>\n",
       "</div>"
      ],
      "text/plain": [
       "   quantity  total_price\n",
       "0  1.732051     6.000000\n",
       "1  1.414214    10.954451\n",
       "2  1.000000     3.807887\n",
       "3  2.000000     7.348469\n",
       "4  1.732051    13.133926"
      ]
     },
     "execution_count": 93,
     "metadata": {},
     "output_type": "execute_result"
    }
   ],
   "source": [
    "# Apply an element-wise operation on a DataFrame,\n",
    "# applying it element by element\n",
    "\n",
    "df[['quantity', 'total_price']].apply(np.sqrt)"
   ]
  },
  {
   "cell_type": "code",
   "execution_count": 94,
   "id": "6a3090de-f6cb-4b48-afd4-8c2399ce3c94",
   "metadata": {},
   "outputs": [
    {
     "data": {
      "text/html": [
       "<div>\n",
       "<style scoped>\n",
       "    .dataframe tbody tr th:only-of-type {\n",
       "        vertical-align: middle;\n",
       "    }\n",
       "\n",
       "    .dataframe tbody tr th {\n",
       "        vertical-align: top;\n",
       "    }\n",
       "\n",
       "    .dataframe thead th {\n",
       "        text-align: right;\n",
       "    }\n",
       "</style>\n",
       "<table border=\"1\" class=\"dataframe\">\n",
       "  <thead>\n",
       "    <tr style=\"text-align: right;\">\n",
       "      <th></th>\n",
       "      <th>quantity</th>\n",
       "      <th>total_price</th>\n",
       "    </tr>\n",
       "  </thead>\n",
       "  <tbody>\n",
       "    <tr>\n",
       "      <th>0</th>\n",
       "      <td>1.732051</td>\n",
       "      <td>6.000000</td>\n",
       "    </tr>\n",
       "    <tr>\n",
       "      <th>1</th>\n",
       "      <td>1.414214</td>\n",
       "      <td>10.954451</td>\n",
       "    </tr>\n",
       "    <tr>\n",
       "      <th>2</th>\n",
       "      <td>1.000000</td>\n",
       "      <td>3.807887</td>\n",
       "    </tr>\n",
       "    <tr>\n",
       "      <th>3</th>\n",
       "      <td>2.000000</td>\n",
       "      <td>7.348469</td>\n",
       "    </tr>\n",
       "    <tr>\n",
       "      <th>4</th>\n",
       "      <td>1.732051</td>\n",
       "      <td>13.133926</td>\n",
       "    </tr>\n",
       "  </tbody>\n",
       "</table>\n",
       "</div>"
      ],
      "text/plain": [
       "   quantity  total_price\n",
       "0  1.732051     6.000000\n",
       "1  1.414214    10.954451\n",
       "2  1.000000     3.807887\n",
       "3  2.000000     7.348469\n",
       "4  1.732051    13.133926"
      ]
     },
     "execution_count": 94,
     "metadata": {},
     "output_type": "execute_result"
    }
   ],
   "source": [
    "# We can achieve the same behavior\n",
    "# using map on DataFrame\n",
    "\n",
    "df[['quantity', 'total_price']].map(np.sqrt)"
   ]
  },
  {
   "cell_type": "code",
   "execution_count": 95,
   "id": "11aa1db5-3c10-45d2-948a-3c27ae8b527e",
   "metadata": {},
   "outputs": [
    {
     "data": {
      "text/plain": [
       "quantity        13.0\n",
       "total_price    397.0\n",
       "dtype: float64"
      ]
     },
     "execution_count": 95,
     "metadata": {},
     "output_type": "execute_result"
    }
   ],
   "source": [
    "# Using reducing/aggregation functions column-wise\n",
    "\n",
    "df[['quantity', 'total_price']].apply(np.sum, axis=0)"
   ]
  },
  {
   "cell_type": "code",
   "execution_count": 96,
   "id": "21206e05-8552-403e-b607-a5602beb5a34",
   "metadata": {},
   "outputs": [
    {
     "data": {
      "text/plain": [
       "0     39.0\n",
       "1    122.0\n",
       "2     15.5\n",
       "3     58.0\n",
       "4    175.5\n",
       "dtype: float64"
      ]
     },
     "execution_count": 96,
     "metadata": {},
     "output_type": "execute_result"
    }
   ],
   "source": [
    "# Using reducing/aggregation functions column-wise\n",
    "\n",
    "df[['quantity', 'total_price']].apply(np.sum, axis=1)"
   ]
  },
  {
   "cell_type": "code",
   "execution_count": 97,
   "id": "10ff9c5c-2d31-43a7-81a2-a2c3b8808cdb",
   "metadata": {},
   "outputs": [
    {
     "data": {
      "text/html": [
       "<div>\n",
       "<style scoped>\n",
       "    .dataframe tbody tr th:only-of-type {\n",
       "        vertical-align: middle;\n",
       "    }\n",
       "\n",
       "    .dataframe tbody tr th {\n",
       "        vertical-align: top;\n",
       "    }\n",
       "\n",
       "    .dataframe thead th {\n",
       "        text-align: right;\n",
       "    }\n",
       "</style>\n",
       "<table border=\"1\" class=\"dataframe\">\n",
       "  <thead>\n",
       "    <tr style=\"text-align: right;\">\n",
       "      <th></th>\n",
       "      <th>dish</th>\n",
       "      <th>total_price</th>\n",
       "      <th>quantity</th>\n",
       "    </tr>\n",
       "  </thead>\n",
       "  <tbody>\n",
       "    <tr>\n",
       "      <th>0</th>\n",
       "      <td>Salad</td>\n",
       "      <td>397.0</td>\n",
       "      <td>13</td>\n",
       "    </tr>\n",
       "    <tr>\n",
       "      <th>1</th>\n",
       "      <td>Pasta</td>\n",
       "      <td>397.0</td>\n",
       "      <td>13</td>\n",
       "    </tr>\n",
       "    <tr>\n",
       "      <th>2</th>\n",
       "      <td>Ice Cream</td>\n",
       "      <td>397.0</td>\n",
       "      <td>13</td>\n",
       "    </tr>\n",
       "    <tr>\n",
       "      <th>3</th>\n",
       "      <td>Cake</td>\n",
       "      <td>397.0</td>\n",
       "      <td>13</td>\n",
       "    </tr>\n",
       "    <tr>\n",
       "      <th>4</th>\n",
       "      <td>Steak</td>\n",
       "      <td>397.0</td>\n",
       "      <td>13</td>\n",
       "    </tr>\n",
       "  </tbody>\n",
       "</table>\n",
       "</div>"
      ],
      "text/plain": [
       "        dish  total_price  quantity\n",
       "0      Salad        397.0        13\n",
       "1      Pasta        397.0        13\n",
       "2  Ice Cream        397.0        13\n",
       "3       Cake        397.0        13\n",
       "4      Steak        397.0        13"
      ]
     },
     "execution_count": 97,
     "metadata": {},
     "output_type": "execute_result"
    }
   ],
   "source": [
    "# Control result type (broadcasting)\n",
    "\n",
    "df2 = df.copy()\n",
    "df2.loc[:, ['quantity', 'total_price']] = df2[['quantity', 'total_price']].apply(np.sum, axis=0, result_type='broadcast')\n",
    "df2"
   ]
  },
  {
   "cell_type": "code",
   "execution_count": 98,
   "id": "71c9cc1f-2d5c-4a9f-a7b5-bed28f03c714",
   "metadata": {},
   "outputs": [
    {
     "data": {
      "text/html": [
       "<div>\n",
       "<style scoped>\n",
       "    .dataframe tbody tr th:only-of-type {\n",
       "        vertical-align: middle;\n",
       "    }\n",
       "\n",
       "    .dataframe tbody tr th {\n",
       "        vertical-align: top;\n",
       "    }\n",
       "\n",
       "    .dataframe thead th {\n",
       "        text-align: right;\n",
       "    }\n",
       "</style>\n",
       "<table border=\"1\" class=\"dataframe\">\n",
       "  <thead>\n",
       "    <tr style=\"text-align: right;\">\n",
       "      <th></th>\n",
       "      <th>individual_price</th>\n",
       "      <th>price_for_two</th>\n",
       "    </tr>\n",
       "  </thead>\n",
       "  <tbody>\n",
       "    <tr>\n",
       "      <th>0</th>\n",
       "      <td>12.0</td>\n",
       "      <td>18.00</td>\n",
       "    </tr>\n",
       "    <tr>\n",
       "      <th>1</th>\n",
       "      <td>60.0</td>\n",
       "      <td>60.00</td>\n",
       "    </tr>\n",
       "    <tr>\n",
       "      <th>2</th>\n",
       "      <td>14.5</td>\n",
       "      <td>7.25</td>\n",
       "    </tr>\n",
       "    <tr>\n",
       "      <th>3</th>\n",
       "      <td>13.5</td>\n",
       "      <td>27.00</td>\n",
       "    </tr>\n",
       "    <tr>\n",
       "      <th>4</th>\n",
       "      <td>57.5</td>\n",
       "      <td>86.25</td>\n",
       "    </tr>\n",
       "  </tbody>\n",
       "</table>\n",
       "</div>"
      ],
      "text/plain": [
       "   individual_price  price_for_two\n",
       "0              12.0          18.00\n",
       "1              60.0          60.00\n",
       "2              14.5           7.25\n",
       "3              13.5          27.00\n",
       "4              57.5          86.25"
      ]
     },
     "execution_count": 98,
     "metadata": {},
     "output_type": "execute_result"
    }
   ],
   "source": [
    "# Control result type (extend)\n",
    "\n",
    "def enrich(row: pd.Series):\n",
    "    return pd.Series(\n",
    "        [row['total_price'] / row['quantity'], row['total_price'] / 2],\n",
    "        index=['individual_price', 'price_for_two']\n",
    "    )\n",
    "\n",
    "df.apply(enrich, axis='columns', result_type='expand')"
   ]
  },
  {
   "cell_type": "markdown",
   "id": "6bc5e7a0-ba7a-46cd-b21e-61d39a4cce0e",
   "metadata": {
    "jp-MarkdownHeadingCollapsed": true
   },
   "source": [
    "## No Need for Loops\n",
    "\n",
    "The `apply()` method is the recommended alternative to looping over pandas DataFrames. It lets you apply any function (specially UDFs) along a DataFrame's axis, providing the flexibility to implement custom logic without manual loops."
   ]
  },
  {
   "cell_type": "markdown",
   "id": "3a892ef0-c5db-4ffe-ab22-41d55f2fdc24",
   "metadata": {},
   "source": [
    "# Descriptive Statistics\n",
    "\n",
    "Pandas objects provide a range of mathematical and statistical built-in methods for computing descriptive statistics on Series and DataFrame objects with support to handle missing data by default. These methods are primarily aggregations, which produces lower-dimensional results such as `sum()`, `mean()`, and `quantile()`.\n",
    "\n",
    "Still yet, there are also some methods like `cumsum()` and `cumprod()` which return an object of the same size.\n",
    "\n",
    "The table below shows some popular aggregation methods.\n",
    "\n",
    "| Method         | Description                                                                                  |\n",
    "|----------------|----------------------------------------------------------------------------------------------|\n",
    "| count          | Number of non-NA values                                                                      |\n",
    "| min, max       | Compute minimum and maximum values                                                           |\n",
    "| idxmin, idxmax | Compute index labels at which minimum or maximum value is obtained, respectively             |\n",
    "| quantile       | Compute sample quantile ranging from 0 to 1 (default: 0.5)                                   |\n",
    "| sum            | Sum of values                                                                                |\n",
    "| mean           | Mean of values                                                                               |\n",
    "| median         | Arithmetic median (50% quantile) of values                                                   |\n",
    "| var            | Sample variance of values                                                                    |\n",
    "| std            | Sample standard deviation of values                                                          |"
   ]
  },
  {
   "cell_type": "code",
   "execution_count": 99,
   "id": "0a548453-ce2e-4191-b085-1d43bfa01a4a",
   "metadata": {},
   "outputs": [
    {
     "data": {
      "text/plain": [
       "array([[ 0.14039354, -0.12279697,  0.97674768],\n",
       "       [-0.79591038, -0.58224649, -0.67738096],\n",
       "       [ 0.30621665, -0.49341679, -0.06737845],\n",
       "       [-0.51114882, -0.68206083, -0.77924972]])"
      ]
     },
     "execution_count": 99,
     "metadata": {},
     "output_type": "execute_result"
    }
   ],
   "source": [
    "np.random.uniform(-1, 1, size=(4,3))"
   ]
  },
  {
   "cell_type": "code",
   "execution_count": 100,
   "id": "21a88559-e417-4d55-9cfe-450364e80674",
   "metadata": {},
   "outputs": [
    {
     "data": {
      "text/html": [
       "<div>\n",
       "<style scoped>\n",
       "    .dataframe tbody tr th:only-of-type {\n",
       "        vertical-align: middle;\n",
       "    }\n",
       "\n",
       "    .dataframe tbody tr th {\n",
       "        vertical-align: top;\n",
       "    }\n",
       "\n",
       "    .dataframe thead th {\n",
       "        text-align: right;\n",
       "    }\n",
       "</style>\n",
       "<table border=\"1\" class=\"dataframe\">\n",
       "  <thead>\n",
       "    <tr style=\"text-align: right;\">\n",
       "      <th></th>\n",
       "      <th>col1</th>\n",
       "      <th>col2</th>\n",
       "      <th>col3</th>\n",
       "    </tr>\n",
       "  </thead>\n",
       "  <tbody>\n",
       "    <tr>\n",
       "      <th>a</th>\n",
       "      <td>0.140394</td>\n",
       "      <td>-0.122797</td>\n",
       "      <td>0.976748</td>\n",
       "    </tr>\n",
       "    <tr>\n",
       "      <th>b</th>\n",
       "      <td>-0.795910</td>\n",
       "      <td>NaN</td>\n",
       "      <td>-0.677381</td>\n",
       "    </tr>\n",
       "    <tr>\n",
       "      <th>c</th>\n",
       "      <td>0.306217</td>\n",
       "      <td>-0.493417</td>\n",
       "      <td>NaN</td>\n",
       "    </tr>\n",
       "    <tr>\n",
       "      <th>d</th>\n",
       "      <td>0.173026</td>\n",
       "      <td>-0.959785</td>\n",
       "      <td>NaN</td>\n",
       "    </tr>\n",
       "  </tbody>\n",
       "</table>\n",
       "</div>"
      ],
      "text/plain": [
       "       col1      col2      col3\n",
       "a  0.140394 -0.122797  0.976748\n",
       "b -0.795910       NaN -0.677381\n",
       "c  0.306217 -0.493417       NaN\n",
       "d  0.173026 -0.959785       NaN"
      ]
     },
     "execution_count": 100,
     "metadata": {},
     "output_type": "execute_result"
    }
   ],
   "source": [
    "data = np.array([\n",
    "    [0.14039354, -0.12279697, 0.97674768],\n",
    "    [-0.79591038, np.nan, -0.67738096],\n",
    "    [0.30621665, -0.49341679, np.nan],\n",
    "    [0.17302587, -0.95978491, np.nan]\n",
    "])\n",
    "\n",
    "df = pd.DataFrame(data, index=['a', 'b', 'c', 'd'], columns=['col1', 'col2', 'col3'])\n",
    "df"
   ]
  },
  {
   "cell_type": "code",
   "execution_count": 101,
   "id": "61c17ec5-930b-414c-b24c-312fcd90915d",
   "metadata": {},
   "outputs": [
    {
     "data": {
      "text/plain": [
       "col1   -0.176274\n",
       "col2   -1.575999\n",
       "col3    0.299367\n",
       "dtype: float64"
      ]
     },
     "execution_count": 101,
     "metadata": {},
     "output_type": "execute_result"
    }
   ],
   "source": [
    "# Calling DataFrame’s sum method returns a Series containing column sums\n",
    "\n",
    "df.sum()"
   ]
  },
  {
   "cell_type": "code",
   "execution_count": 102,
   "id": "325ec66e-abfb-494c-a257-8537459547a1",
   "metadata": {},
   "outputs": [
    {
     "data": {
      "text/plain": [
       "a    0.994344\n",
       "b   -1.473291\n",
       "c   -0.187200\n",
       "d   -0.786759\n",
       "dtype: float64"
      ]
     },
     "execution_count": 102,
     "metadata": {},
     "output_type": "execute_result"
    }
   ],
   "source": [
    "# Passing axis=\"columns\" or axis=1 sums across the columns instead\n",
    "\n",
    "df.sum(axis='columns')"
   ]
  },
  {
   "cell_type": "markdown",
   "id": "7c63dcc1-f9d5-4bb7-973f-2bde5ef3bf55",
   "metadata": {},
   "source": [
    "## Skipping Missing Data\n",
    "\n",
    "By default, pandas exclude NaN values when computing the result. This behavior is controlled by `skipna` parameter. If `skipna` is set to `True`, any NaN value in a row or column will result in NaN for the corresponding computing axis."
   ]
  },
  {
   "cell_type": "code",
   "execution_count": 103,
   "id": "8c0c351b-b24d-436c-8600-1deca5955c2a",
   "metadata": {},
   "outputs": [
    {
     "data": {
      "text/plain": [
       "col1   -0.044069\n",
       "col2         NaN\n",
       "col3         NaN\n",
       "dtype: float64"
      ]
     },
     "execution_count": 103,
     "metadata": {},
     "output_type": "execute_result"
    }
   ],
   "source": [
    "df.mean(axis='index', skipna=False)"
   ]
  },
  {
   "cell_type": "code",
   "execution_count": 104,
   "id": "eb3ac025-6157-4582-8879-e4d29d6ba70a",
   "metadata": {},
   "outputs": [
    {
     "data": {
      "text/plain": [
       "col1   -0.044069\n",
       "col2   -0.525333\n",
       "col3    0.149683\n",
       "dtype: float64"
      ]
     },
     "execution_count": 104,
     "metadata": {},
     "output_type": "execute_result"
    }
   ],
   "source": [
    "df.mean(axis='index', skipna=True)"
   ]
  },
  {
   "cell_type": "markdown",
   "id": "409763f7-da50-49a8-80db-702f92a5bb01",
   "metadata": {},
   "source": [
    "## `unique()`, `value_counts()`, `isin()` \n",
    "\n",
    "In addition to descriptive statistics operations, pandas offers the `unique()` and `value_counts()` built-in methods to evaluate data uniqueness and counting occurrences, respectively.\n",
    "\n",
    "- `unique():` Return the unique values in a Series or Index.\n",
    "- `value_counts():` Returns a Series containing counts of unique values in descending order. Parameters include normalize to return proportions instead of counts, sort to control the sorting order, ascending to specify the order, and dropna to include or exclude NaN values.\n",
    "\n",
    "Additionally, there's the `isin()` method, which checks whether each element in the DataFrame or Series is contained in a specified list-like object. This is useful for filtering data based on membership in a given set of values."
   ]
  },
  {
   "cell_type": "code",
   "execution_count": 105,
   "id": "a3f6d783-59f6-47cc-893a-dbdf44e3fe25",
   "metadata": {},
   "outputs": [
    {
     "data": {
      "text/plain": [
       "0      apple\n",
       "1    coconut\n",
       "2     banana\n",
       "3     banana\n",
       "4      apple\n",
       "5     banana\n",
       "dtype: object"
      ]
     },
     "execution_count": 105,
     "metadata": {},
     "output_type": "execute_result"
    }
   ],
   "source": [
    "s = pd.Series(['apple', 'coconut', 'banana', 'banana', 'apple', 'banana'])\n",
    "s"
   ]
  },
  {
   "cell_type": "code",
   "execution_count": 106,
   "id": "bc89313f-def1-44f6-a620-269e9d3a744b",
   "metadata": {},
   "outputs": [
    {
     "data": {
      "text/plain": [
       "array(['apple', 'coconut', 'banana'], dtype=object)"
      ]
     },
     "execution_count": 106,
     "metadata": {},
     "output_type": "execute_result"
    }
   ],
   "source": [
    "s.unique()"
   ]
  },
  {
   "cell_type": "code",
   "execution_count": 107,
   "id": "be38c7de-a8e1-4a83-902c-7ea76a26b7c0",
   "metadata": {},
   "outputs": [
    {
     "data": {
      "text/plain": [
       "banana     3\n",
       "apple      2\n",
       "coconut    1\n",
       "Name: count, dtype: int64"
      ]
     },
     "execution_count": 107,
     "metadata": {},
     "output_type": "execute_result"
    }
   ],
   "source": [
    "s.value_counts()"
   ]
  },
  {
   "cell_type": "code",
   "execution_count": 108,
   "id": "00403176-8044-465b-9197-2142bd3fb4ba",
   "metadata": {},
   "outputs": [
    {
     "data": {
      "text/plain": [
       "0     True\n",
       "1    False\n",
       "2    False\n",
       "3    False\n",
       "4     True\n",
       "5    False\n",
       "dtype: bool"
      ]
     },
     "execution_count": 108,
     "metadata": {},
     "output_type": "execute_result"
    }
   ],
   "source": [
    "s.isin(['apple'])"
   ]
  },
  {
   "cell_type": "markdown",
   "id": "086318f8-23f6-487d-ae5e-c713e5acdb27",
   "metadata": {},
   "source": [
    "# Sorting and Ranking\n",
    "\n",
    "Sorting and ranking DataFrames or Series is an essential operation when manipulating data. It ensures your data is organized according to your needs, enhancing readability and usability.\n",
    "\n",
    "## Sorting\n",
    "\n",
    "Pandas supports three types of sorting: by index labels, by column values, and by a combination of both.\n",
    "\n",
    "- `sort_index()`: Sort lexicographically row labels (index) or column labels. This method returns a new and sorted object. You specify the index (row labels or columns) using the `axis` parameter.\n",
    "- `sort_values()`: Sort a DataFrame (or Series) by its column or row values. Specify one or more columns to determine the sorted order using the optional by parameter.\n",
    "- To sort by index and values, combine the use of both methods.\n",
    "\n",
    "By default, data is sorted in ascending order. To sort in descending order, set the `ascending` parameter to `False`."
   ]
  },
  {
   "cell_type": "code",
   "execution_count": 109,
   "id": "6d5f6a8d-085f-4d17-9bf0-54185d44f67f",
   "metadata": {},
   "outputs": [
    {
     "data": {
      "text/html": [
       "<div>\n",
       "<style scoped>\n",
       "    .dataframe tbody tr th:only-of-type {\n",
       "        vertical-align: middle;\n",
       "    }\n",
       "\n",
       "    .dataframe tbody tr th {\n",
       "        vertical-align: top;\n",
       "    }\n",
       "\n",
       "    .dataframe thead th {\n",
       "        text-align: right;\n",
       "    }\n",
       "</style>\n",
       "<table border=\"1\" class=\"dataframe\">\n",
       "  <thead>\n",
       "    <tr style=\"text-align: right;\">\n",
       "      <th></th>\n",
       "      <th>C</th>\n",
       "      <th>B</th>\n",
       "      <th>D</th>\n",
       "      <th>A</th>\n",
       "    </tr>\n",
       "  </thead>\n",
       "  <tbody>\n",
       "    <tr>\n",
       "      <th>3</th>\n",
       "      <td>0</td>\n",
       "      <td>1</td>\n",
       "      <td>2</td>\n",
       "      <td>3</td>\n",
       "    </tr>\n",
       "    <tr>\n",
       "      <th>1</th>\n",
       "      <td>4</td>\n",
       "      <td>5</td>\n",
       "      <td>6</td>\n",
       "      <td>7</td>\n",
       "    </tr>\n",
       "    <tr>\n",
       "      <th>2</th>\n",
       "      <td>8</td>\n",
       "      <td>9</td>\n",
       "      <td>10</td>\n",
       "      <td>11</td>\n",
       "    </tr>\n",
       "    <tr>\n",
       "      <th>0</th>\n",
       "      <td>12</td>\n",
       "      <td>13</td>\n",
       "      <td>14</td>\n",
       "      <td>15</td>\n",
       "    </tr>\n",
       "  </tbody>\n",
       "</table>\n",
       "</div>"
      ],
      "text/plain": [
       "    C   B   D   A\n",
       "3   0   1   2   3\n",
       "1   4   5   6   7\n",
       "2   8   9  10  11\n",
       "0  12  13  14  15"
      ]
     },
     "execution_count": 109,
     "metadata": {},
     "output_type": "execute_result"
    }
   ],
   "source": [
    "df = pd.DataFrame(np.arange(16).reshape(4,4), index=[3, 1, 2, 0], columns=['C', 'B', 'D', 'A'])\n",
    "df"
   ]
  },
  {
   "cell_type": "code",
   "execution_count": 110,
   "id": "3777b2dd-f73b-4f7f-ac27-078ceff60235",
   "metadata": {},
   "outputs": [
    {
     "data": {
      "text/html": [
       "<div>\n",
       "<style scoped>\n",
       "    .dataframe tbody tr th:only-of-type {\n",
       "        vertical-align: middle;\n",
       "    }\n",
       "\n",
       "    .dataframe tbody tr th {\n",
       "        vertical-align: top;\n",
       "    }\n",
       "\n",
       "    .dataframe thead th {\n",
       "        text-align: right;\n",
       "    }\n",
       "</style>\n",
       "<table border=\"1\" class=\"dataframe\">\n",
       "  <thead>\n",
       "    <tr style=\"text-align: right;\">\n",
       "      <th></th>\n",
       "      <th>C</th>\n",
       "      <th>B</th>\n",
       "      <th>D</th>\n",
       "      <th>A</th>\n",
       "    </tr>\n",
       "  </thead>\n",
       "  <tbody>\n",
       "    <tr>\n",
       "      <th>0</th>\n",
       "      <td>12</td>\n",
       "      <td>13</td>\n",
       "      <td>14</td>\n",
       "      <td>15</td>\n",
       "    </tr>\n",
       "    <tr>\n",
       "      <th>1</th>\n",
       "      <td>4</td>\n",
       "      <td>5</td>\n",
       "      <td>6</td>\n",
       "      <td>7</td>\n",
       "    </tr>\n",
       "    <tr>\n",
       "      <th>2</th>\n",
       "      <td>8</td>\n",
       "      <td>9</td>\n",
       "      <td>10</td>\n",
       "      <td>11</td>\n",
       "    </tr>\n",
       "    <tr>\n",
       "      <th>3</th>\n",
       "      <td>0</td>\n",
       "      <td>1</td>\n",
       "      <td>2</td>\n",
       "      <td>3</td>\n",
       "    </tr>\n",
       "  </tbody>\n",
       "</table>\n",
       "</div>"
      ],
      "text/plain": [
       "    C   B   D   A\n",
       "0  12  13  14  15\n",
       "1   4   5   6   7\n",
       "2   8   9  10  11\n",
       "3   0   1   2   3"
      ]
     },
     "execution_count": 110,
     "metadata": {},
     "output_type": "execute_result"
    }
   ],
   "source": [
    "df.sort_index()"
   ]
  },
  {
   "cell_type": "code",
   "execution_count": 111,
   "id": "5bdceb30-f03d-4e0d-a901-1a0e9e477023",
   "metadata": {},
   "outputs": [
    {
     "data": {
      "text/html": [
       "<div>\n",
       "<style scoped>\n",
       "    .dataframe tbody tr th:only-of-type {\n",
       "        vertical-align: middle;\n",
       "    }\n",
       "\n",
       "    .dataframe tbody tr th {\n",
       "        vertical-align: top;\n",
       "    }\n",
       "\n",
       "    .dataframe thead th {\n",
       "        text-align: right;\n",
       "    }\n",
       "</style>\n",
       "<table border=\"1\" class=\"dataframe\">\n",
       "  <thead>\n",
       "    <tr style=\"text-align: right;\">\n",
       "      <th></th>\n",
       "      <th>A</th>\n",
       "      <th>B</th>\n",
       "      <th>C</th>\n",
       "      <th>D</th>\n",
       "    </tr>\n",
       "  </thead>\n",
       "  <tbody>\n",
       "    <tr>\n",
       "      <th>3</th>\n",
       "      <td>3</td>\n",
       "      <td>1</td>\n",
       "      <td>0</td>\n",
       "      <td>2</td>\n",
       "    </tr>\n",
       "    <tr>\n",
       "      <th>1</th>\n",
       "      <td>7</td>\n",
       "      <td>5</td>\n",
       "      <td>4</td>\n",
       "      <td>6</td>\n",
       "    </tr>\n",
       "    <tr>\n",
       "      <th>2</th>\n",
       "      <td>11</td>\n",
       "      <td>9</td>\n",
       "      <td>8</td>\n",
       "      <td>10</td>\n",
       "    </tr>\n",
       "    <tr>\n",
       "      <th>0</th>\n",
       "      <td>15</td>\n",
       "      <td>13</td>\n",
       "      <td>12</td>\n",
       "      <td>14</td>\n",
       "    </tr>\n",
       "  </tbody>\n",
       "</table>\n",
       "</div>"
      ],
      "text/plain": [
       "    A   B   C   D\n",
       "3   3   1   0   2\n",
       "1   7   5   4   6\n",
       "2  11   9   8  10\n",
       "0  15  13  12  14"
      ]
     },
     "execution_count": 111,
     "metadata": {},
     "output_type": "execute_result"
    }
   ],
   "source": [
    "df.sort_index(axis='columns')"
   ]
  },
  {
   "cell_type": "code",
   "execution_count": 112,
   "id": "d5c22b48-c325-44f1-9da5-2986d5fa9003",
   "metadata": {},
   "outputs": [
    {
     "data": {
      "text/html": [
       "<div>\n",
       "<style scoped>\n",
       "    .dataframe tbody tr th:only-of-type {\n",
       "        vertical-align: middle;\n",
       "    }\n",
       "\n",
       "    .dataframe tbody tr th {\n",
       "        vertical-align: top;\n",
       "    }\n",
       "\n",
       "    .dataframe thead th {\n",
       "        text-align: right;\n",
       "    }\n",
       "</style>\n",
       "<table border=\"1\" class=\"dataframe\">\n",
       "  <thead>\n",
       "    <tr style=\"text-align: right;\">\n",
       "      <th></th>\n",
       "      <th>C</th>\n",
       "      <th>B</th>\n",
       "      <th>D</th>\n",
       "      <th>A</th>\n",
       "    </tr>\n",
       "  </thead>\n",
       "  <tbody>\n",
       "    <tr>\n",
       "      <th>0</th>\n",
       "      <td>12</td>\n",
       "      <td>13</td>\n",
       "      <td>14</td>\n",
       "      <td>15</td>\n",
       "    </tr>\n",
       "    <tr>\n",
       "      <th>2</th>\n",
       "      <td>8</td>\n",
       "      <td>9</td>\n",
       "      <td>10</td>\n",
       "      <td>11</td>\n",
       "    </tr>\n",
       "    <tr>\n",
       "      <th>1</th>\n",
       "      <td>4</td>\n",
       "      <td>5</td>\n",
       "      <td>6</td>\n",
       "      <td>7</td>\n",
       "    </tr>\n",
       "    <tr>\n",
       "      <th>3</th>\n",
       "      <td>0</td>\n",
       "      <td>1</td>\n",
       "      <td>2</td>\n",
       "      <td>3</td>\n",
       "    </tr>\n",
       "  </tbody>\n",
       "</table>\n",
       "</div>"
      ],
      "text/plain": [
       "    C   B   D   A\n",
       "0  12  13  14  15\n",
       "2   8   9  10  11\n",
       "1   4   5   6   7\n",
       "3   0   1   2   3"
      ]
     },
     "execution_count": 112,
     "metadata": {},
     "output_type": "execute_result"
    }
   ],
   "source": [
    "df.sort_values(by=['C', 'B'], ascending=False)"
   ]
  },
  {
   "cell_type": "code",
   "execution_count": 113,
   "id": "822aff02-be23-4934-9c78-40d7834fa61e",
   "metadata": {},
   "outputs": [
    {
     "data": {
      "text/plain": [
       "0    15\n",
       "2    11\n",
       "1     7\n",
       "3     3\n",
       "Name: A, dtype: int64"
      ]
     },
     "execution_count": 113,
     "metadata": {},
     "output_type": "execute_result"
    }
   ],
   "source": [
    "df['A'].sort_values(ascending=False)"
   ]
  },
  {
   "cell_type": "markdown",
   "id": "2d84c030-043f-41e4-97f6-1f72619fb02d",
   "metadata": {},
   "source": [
    "## Ranking\n",
    "\n",
    "Ranking involves assigning ranks from one to the number of valid data points in an array, starting with the lowest value. Pandas provides `rank` method for both Series and DataFrame objects to achieve this. By default, the rank method handles ties by assigning the mean rank to each group.\n",
    "\n",
    "You can also control the assignment of ranks based on their order of appearance in the data. This is managed using the method parameter, which which offers options such as `'average'`, `'min'`, `'max'`, `'first'`, and `'dense'`"
   ]
  },
  {
   "cell_type": "code",
   "execution_count": 114,
   "id": "8582afdb-84b8-4cc5-a609-9845280774db",
   "metadata": {},
   "outputs": [
    {
     "data": {
      "text/html": [
       "<div>\n",
       "<style scoped>\n",
       "    .dataframe tbody tr th:only-of-type {\n",
       "        vertical-align: middle;\n",
       "    }\n",
       "\n",
       "    .dataframe tbody tr th {\n",
       "        vertical-align: top;\n",
       "    }\n",
       "\n",
       "    .dataframe thead th {\n",
       "        text-align: right;\n",
       "    }\n",
       "</style>\n",
       "<table border=\"1\" class=\"dataframe\">\n",
       "  <thead>\n",
       "    <tr style=\"text-align: right;\">\n",
       "      <th></th>\n",
       "      <th>dish</th>\n",
       "      <th>quantity</th>\n",
       "    </tr>\n",
       "  </thead>\n",
       "  <tbody>\n",
       "    <tr>\n",
       "      <th>0</th>\n",
       "      <td>Salad</td>\n",
       "      <td>3</td>\n",
       "    </tr>\n",
       "    <tr>\n",
       "      <th>1</th>\n",
       "      <td>Pasta</td>\n",
       "      <td>2</td>\n",
       "    </tr>\n",
       "    <tr>\n",
       "      <th>2</th>\n",
       "      <td>Ice Cream</td>\n",
       "      <td>1</td>\n",
       "    </tr>\n",
       "    <tr>\n",
       "      <th>3</th>\n",
       "      <td>Cake</td>\n",
       "      <td>4</td>\n",
       "    </tr>\n",
       "    <tr>\n",
       "      <th>4</th>\n",
       "      <td>Steak</td>\n",
       "      <td>3</td>\n",
       "    </tr>\n",
       "  </tbody>\n",
       "</table>\n",
       "</div>"
      ],
      "text/plain": [
       "        dish  quantity\n",
       "0      Salad         3\n",
       "1      Pasta         2\n",
       "2  Ice Cream         1\n",
       "3       Cake         4\n",
       "4      Steak         3"
      ]
     },
     "execution_count": 114,
     "metadata": {},
     "output_type": "execute_result"
    }
   ],
   "source": [
    "df = pd.DataFrame({\n",
    "    'dish': ['Salad', 'Pasta', 'Ice Cream', 'Cake', 'Steak'],\n",
    "    'quantity': [3, 2, 1, 4, 3],\n",
    "})\n",
    "df"
   ]
  },
  {
   "cell_type": "code",
   "execution_count": 115,
   "id": "be5a8f55-d4c6-4c20-b76b-f4608a4aef37",
   "metadata": {},
   "outputs": [
    {
     "data": {
      "text/html": [
       "<div>\n",
       "<style scoped>\n",
       "    .dataframe tbody tr th:only-of-type {\n",
       "        vertical-align: middle;\n",
       "    }\n",
       "\n",
       "    .dataframe tbody tr th {\n",
       "        vertical-align: top;\n",
       "    }\n",
       "\n",
       "    .dataframe thead th {\n",
       "        text-align: right;\n",
       "    }\n",
       "</style>\n",
       "<table border=\"1\" class=\"dataframe\">\n",
       "  <thead>\n",
       "    <tr style=\"text-align: right;\">\n",
       "      <th></th>\n",
       "      <th>dish</th>\n",
       "      <th>quantity</th>\n",
       "      <th>default_tank</th>\n",
       "      <th>1st_rank</th>\n",
       "      <th>max_rank</th>\n",
       "      <th>min_rank</th>\n",
       "    </tr>\n",
       "  </thead>\n",
       "  <tbody>\n",
       "    <tr>\n",
       "      <th>0</th>\n",
       "      <td>Salad</td>\n",
       "      <td>3</td>\n",
       "      <td>3.5</td>\n",
       "      <td>3.0</td>\n",
       "      <td>4.0</td>\n",
       "      <td>3.0</td>\n",
       "    </tr>\n",
       "    <tr>\n",
       "      <th>1</th>\n",
       "      <td>Pasta</td>\n",
       "      <td>2</td>\n",
       "      <td>2.0</td>\n",
       "      <td>2.0</td>\n",
       "      <td>2.0</td>\n",
       "      <td>2.0</td>\n",
       "    </tr>\n",
       "    <tr>\n",
       "      <th>2</th>\n",
       "      <td>Ice Cream</td>\n",
       "      <td>1</td>\n",
       "      <td>1.0</td>\n",
       "      <td>1.0</td>\n",
       "      <td>1.0</td>\n",
       "      <td>1.0</td>\n",
       "    </tr>\n",
       "    <tr>\n",
       "      <th>3</th>\n",
       "      <td>Cake</td>\n",
       "      <td>4</td>\n",
       "      <td>5.0</td>\n",
       "      <td>5.0</td>\n",
       "      <td>5.0</td>\n",
       "      <td>5.0</td>\n",
       "    </tr>\n",
       "    <tr>\n",
       "      <th>4</th>\n",
       "      <td>Steak</td>\n",
       "      <td>3</td>\n",
       "      <td>3.5</td>\n",
       "      <td>4.0</td>\n",
       "      <td>4.0</td>\n",
       "      <td>3.0</td>\n",
       "    </tr>\n",
       "  </tbody>\n",
       "</table>\n",
       "</div>"
      ],
      "text/plain": [
       "        dish  quantity  default_tank  1st_rank  max_rank  min_rank\n",
       "0      Salad         3           3.5       3.0       4.0       3.0\n",
       "1      Pasta         2           2.0       2.0       2.0       2.0\n",
       "2  Ice Cream         1           1.0       1.0       1.0       1.0\n",
       "3       Cake         4           5.0       5.0       5.0       5.0\n",
       "4      Steak         3           3.5       4.0       4.0       3.0"
      ]
     },
     "execution_count": 115,
     "metadata": {},
     "output_type": "execute_result"
    }
   ],
   "source": [
    "df['default_tank'] = df['quantity'].rank()\n",
    "df['1st_rank'] = df['quantity'].rank(method='first')\n",
    "df['max_rank'] = df['quantity'].rank(method='max')\n",
    "df['min_rank'] = df['quantity'].rank(method='min')\n",
    "df"
   ]
  },
  {
   "cell_type": "markdown",
   "id": "dc30f27e-9511-4f1a-b0e1-7b929b722492",
   "metadata": {},
   "source": [
    "# Reindexing\n",
    "\n",
    "As we already know, the Index object is a key component in pandas' data manipulation toolkit, so handling it properly is important.\n",
    "\n",
    "When loading a dataset or creating a DataFrame, setting an index is a common task specially if there's some column subset useful as index. You can achieve this using the `set_index()` method of a DataFrame, which accepts a column name for a regular Index or a list of column names for a MultiIndex, resulting in a new, re-indexed DataFrame.\n",
    "\n",
    "Conversely, the `reset_index()` method reverses this operation. It moves the index values back into the DataFrame's columns and reverts to a simple integer index."
   ]
  },
  {
   "cell_type": "code",
   "execution_count": 116,
   "id": "5ae5fe0c-96ef-4ad1-befc-72e6c71b58a0",
   "metadata": {},
   "outputs": [
    {
     "data": {
      "text/html": [
       "<div>\n",
       "<style scoped>\n",
       "    .dataframe tbody tr th:only-of-type {\n",
       "        vertical-align: middle;\n",
       "    }\n",
       "\n",
       "    .dataframe tbody tr th {\n",
       "        vertical-align: top;\n",
       "    }\n",
       "\n",
       "    .dataframe thead th {\n",
       "        text-align: right;\n",
       "    }\n",
       "</style>\n",
       "<table border=\"1\" class=\"dataframe\">\n",
       "  <thead>\n",
       "    <tr style=\"text-align: right;\">\n",
       "      <th></th>\n",
       "      <th>dish</th>\n",
       "      <th>total_price</th>\n",
       "      <th>quantity</th>\n",
       "    </tr>\n",
       "  </thead>\n",
       "  <tbody>\n",
       "    <tr>\n",
       "      <th>0</th>\n",
       "      <td>Salad</td>\n",
       "      <td>36.0</td>\n",
       "      <td>3</td>\n",
       "    </tr>\n",
       "    <tr>\n",
       "      <th>1</th>\n",
       "      <td>Pasta</td>\n",
       "      <td>120.0</td>\n",
       "      <td>2</td>\n",
       "    </tr>\n",
       "    <tr>\n",
       "      <th>2</th>\n",
       "      <td>Ice Cream</td>\n",
       "      <td>14.5</td>\n",
       "      <td>1</td>\n",
       "    </tr>\n",
       "    <tr>\n",
       "      <th>3</th>\n",
       "      <td>Cake</td>\n",
       "      <td>54.0</td>\n",
       "      <td>4</td>\n",
       "    </tr>\n",
       "    <tr>\n",
       "      <th>4</th>\n",
       "      <td>Steak</td>\n",
       "      <td>172.5</td>\n",
       "      <td>3</td>\n",
       "    </tr>\n",
       "  </tbody>\n",
       "</table>\n",
       "</div>"
      ],
      "text/plain": [
       "        dish  total_price  quantity\n",
       "0      Salad         36.0         3\n",
       "1      Pasta        120.0         2\n",
       "2  Ice Cream         14.5         1\n",
       "3       Cake         54.0         4\n",
       "4      Steak        172.5         3"
      ]
     },
     "execution_count": 116,
     "metadata": {},
     "output_type": "execute_result"
    }
   ],
   "source": [
    "df = pd.DataFrame({\n",
    "    'dish': ['Salad', 'Pasta', 'Ice Cream', 'Cake', 'Steak'],\n",
    "    'total_price': [36.00, 120.00, 14.5, 54.00, 172.5],\n",
    "    'quantity': [3, 2, 1, 4, 3],\n",
    "})\n",
    "df"
   ]
  },
  {
   "cell_type": "code",
   "execution_count": 117,
   "id": "75be7c41-d27d-4af7-b578-a4f640fa8ddc",
   "metadata": {},
   "outputs": [
    {
     "data": {
      "text/html": [
       "<div>\n",
       "<style scoped>\n",
       "    .dataframe tbody tr th:only-of-type {\n",
       "        vertical-align: middle;\n",
       "    }\n",
       "\n",
       "    .dataframe tbody tr th {\n",
       "        vertical-align: top;\n",
       "    }\n",
       "\n",
       "    .dataframe thead th {\n",
       "        text-align: right;\n",
       "    }\n",
       "</style>\n",
       "<table border=\"1\" class=\"dataframe\">\n",
       "  <thead>\n",
       "    <tr style=\"text-align: right;\">\n",
       "      <th></th>\n",
       "      <th>total_price</th>\n",
       "      <th>quantity</th>\n",
       "    </tr>\n",
       "    <tr>\n",
       "      <th>dish</th>\n",
       "      <th></th>\n",
       "      <th></th>\n",
       "    </tr>\n",
       "  </thead>\n",
       "  <tbody>\n",
       "    <tr>\n",
       "      <th>Salad</th>\n",
       "      <td>36.0</td>\n",
       "      <td>3</td>\n",
       "    </tr>\n",
       "    <tr>\n",
       "      <th>Pasta</th>\n",
       "      <td>120.0</td>\n",
       "      <td>2</td>\n",
       "    </tr>\n",
       "    <tr>\n",
       "      <th>Ice Cream</th>\n",
       "      <td>14.5</td>\n",
       "      <td>1</td>\n",
       "    </tr>\n",
       "    <tr>\n",
       "      <th>Cake</th>\n",
       "      <td>54.0</td>\n",
       "      <td>4</td>\n",
       "    </tr>\n",
       "    <tr>\n",
       "      <th>Steak</th>\n",
       "      <td>172.5</td>\n",
       "      <td>3</td>\n",
       "    </tr>\n",
       "  </tbody>\n",
       "</table>\n",
       "</div>"
      ],
      "text/plain": [
       "           total_price  quantity\n",
       "dish                            \n",
       "Salad             36.0         3\n",
       "Pasta            120.0         2\n",
       "Ice Cream         14.5         1\n",
       "Cake              54.0         4\n",
       "Steak            172.5         3"
      ]
     },
     "execution_count": 117,
     "metadata": {},
     "output_type": "execute_result"
    }
   ],
   "source": [
    "# Setup index\n",
    "\n",
    "df = df.set_index('dish')\n",
    "df"
   ]
  },
  {
   "cell_type": "code",
   "execution_count": 118,
   "id": "df826163-246d-490a-8d0f-4a3ddf6529a3",
   "metadata": {},
   "outputs": [
    {
     "data": {
      "text/html": [
       "<div>\n",
       "<style scoped>\n",
       "    .dataframe tbody tr th:only-of-type {\n",
       "        vertical-align: middle;\n",
       "    }\n",
       "\n",
       "    .dataframe tbody tr th {\n",
       "        vertical-align: top;\n",
       "    }\n",
       "\n",
       "    .dataframe thead th {\n",
       "        text-align: right;\n",
       "    }\n",
       "</style>\n",
       "<table border=\"1\" class=\"dataframe\">\n",
       "  <thead>\n",
       "    <tr style=\"text-align: right;\">\n",
       "      <th></th>\n",
       "      <th>dish</th>\n",
       "      <th>total_price</th>\n",
       "      <th>quantity</th>\n",
       "    </tr>\n",
       "  </thead>\n",
       "  <tbody>\n",
       "    <tr>\n",
       "      <th>0</th>\n",
       "      <td>Salad</td>\n",
       "      <td>36.0</td>\n",
       "      <td>3</td>\n",
       "    </tr>\n",
       "    <tr>\n",
       "      <th>1</th>\n",
       "      <td>Pasta</td>\n",
       "      <td>120.0</td>\n",
       "      <td>2</td>\n",
       "    </tr>\n",
       "    <tr>\n",
       "      <th>2</th>\n",
       "      <td>Ice Cream</td>\n",
       "      <td>14.5</td>\n",
       "      <td>1</td>\n",
       "    </tr>\n",
       "    <tr>\n",
       "      <th>3</th>\n",
       "      <td>Cake</td>\n",
       "      <td>54.0</td>\n",
       "      <td>4</td>\n",
       "    </tr>\n",
       "    <tr>\n",
       "      <th>4</th>\n",
       "      <td>Steak</td>\n",
       "      <td>172.5</td>\n",
       "      <td>3</td>\n",
       "    </tr>\n",
       "  </tbody>\n",
       "</table>\n",
       "</div>"
      ],
      "text/plain": [
       "        dish  total_price  quantity\n",
       "0      Salad         36.0         3\n",
       "1      Pasta        120.0         2\n",
       "2  Ice Cream         14.5         1\n",
       "3       Cake         54.0         4\n",
       "4      Steak        172.5         3"
      ]
     },
     "execution_count": 118,
     "metadata": {},
     "output_type": "execute_result"
    }
   ],
   "source": [
    "# Reset index\n",
    "\n",
    "df = df.reset_index()\n",
    "df"
   ]
  },
  {
   "cell_type": "markdown",
   "id": "e89cfd0a-6610-4c2f-9697-ce67d55f8681",
   "metadata": {},
   "source": [
    "Aditionally, if you need to create a new object with values rearranged to match a new axis index, you can use the `reindex` method.\n",
    "\n",
    "The `reindex` method generates a new object with values aligned to a specified new axis index, either for rows or columns. This alignment adds missing values where necessary. The `method` parameter in `reindex` supports various interpolation or filling approaches to handle these missing values."
   ]
  },
  {
   "cell_type": "code",
   "execution_count": 119,
   "id": "d4853440-0d7d-4101-9c0e-983656ed67a5",
   "metadata": {},
   "outputs": [
    {
     "data": {
      "text/html": [
       "<div>\n",
       "<style scoped>\n",
       "    .dataframe tbody tr th:only-of-type {\n",
       "        vertical-align: middle;\n",
       "    }\n",
       "\n",
       "    .dataframe tbody tr th {\n",
       "        vertical-align: top;\n",
       "    }\n",
       "\n",
       "    .dataframe thead th {\n",
       "        text-align: right;\n",
       "    }\n",
       "</style>\n",
       "<table border=\"1\" class=\"dataframe\">\n",
       "  <thead>\n",
       "    <tr style=\"text-align: right;\">\n",
       "      <th></th>\n",
       "      <th>total_price</th>\n",
       "      <th>dish</th>\n",
       "    </tr>\n",
       "  </thead>\n",
       "  <tbody>\n",
       "    <tr>\n",
       "      <th>0</th>\n",
       "      <td>36.0</td>\n",
       "      <td>Salad</td>\n",
       "    </tr>\n",
       "    <tr>\n",
       "      <th>1</th>\n",
       "      <td>120.0</td>\n",
       "      <td>Pasta</td>\n",
       "    </tr>\n",
       "    <tr>\n",
       "      <th>2</th>\n",
       "      <td>14.5</td>\n",
       "      <td>Ice Cream</td>\n",
       "    </tr>\n",
       "    <tr>\n",
       "      <th>3</th>\n",
       "      <td>54.0</td>\n",
       "      <td>Cake</td>\n",
       "    </tr>\n",
       "    <tr>\n",
       "      <th>4</th>\n",
       "      <td>172.5</td>\n",
       "      <td>Steak</td>\n",
       "    </tr>\n",
       "  </tbody>\n",
       "</table>\n",
       "</div>"
      ],
      "text/plain": [
       "   total_price       dish\n",
       "0         36.0      Salad\n",
       "1        120.0      Pasta\n",
       "2         14.5  Ice Cream\n",
       "3         54.0       Cake\n",
       "4        172.5      Steak"
      ]
     },
     "execution_count": 119,
     "metadata": {},
     "output_type": "execute_result"
    }
   ],
   "source": [
    "df.reindex(columns=['total_price', 'dish'])"
   ]
  },
  {
   "cell_type": "markdown",
   "id": "219c43f7-5cdb-4868-a75f-81018874478c",
   "metadata": {},
   "source": [
    "# References\n",
    "\n",
    "- [Python for Data Analysis by Wes McKinney (3e)](https://wesmckinney.com/book/)\n",
    "- [Pandas Official Documentation](https://pandas.pydata.org/docs/user_guide/10min.html)\n",
    "- [Frequently Asked Questions (FAQ) on Pandas](https://pandas.pydata.org/docs/user_guide/gotchas.html)\n",
    "- [Deep Dive into pandas Copy-on-Write Mode: Part I](https://towardsdatascience.com/deep-dive-into-pandas-copy-on-write-mode-part-i-26982e7408c6)\n"
   ]
  },
  {
   "cell_type": "markdown",
   "id": "ea0c85c1-729d-43f2-b724-4d0cce16c598",
   "metadata": {},
   "source": [
    "# Appendix: Multi-Indexing / Advanced Indexing\n",
    "\n",
    "Multi-indexing in pandas is a very important and useful concept that allows for more complex data structures by enabling multiple levels of indexing on rows and columns. This hierarchical indexing system lets you work with higher-dimensional data in a more intuitive and accessible way.\n",
    "\n",
    "Multi-indexing provides a way to group and aggregate data across multiple dimensions, supporting advanced data manipulation and analysis. This makes it a powerful tool for handling real-world datasets that often come with nested or hierarchical relationships."
   ]
  },
  {
   "cell_type": "markdown",
   "id": "a5d3e00f-30e3-4650-9d32-41cf554dfa97",
   "metadata": {},
   "source": [
    "# Exercises\n",
    "\n",
    "To help you understand the concepts covered in this notebook, here are some practice problems.\n",
    "\n",
    "These questions refer to a dataset containing information on the salary, position, and employability of professionals in the data field, primarily in the US. The dataset is available on [Kaggle by Zee solver](https://www.kaggle.com/datasets/zeesolver/data-eng-salary-2024/data).\n",
    "\n",
    "## Dataset Description\n",
    "\n",
    "*\"The 2024 dataset on data developer salaries and employment attributes offers valuable insights into the evolving landscape of data developers. It includes key variables such as salary, job title, experience level, employment type, employee residence, remote work ratio, company location, and company size. This data enables detailed analysis of salary trends, employment patterns, and geographic variations in data developer roles. Researchers, analysts, and organizations can leverage this dataset to better understand compensation trends, the distribution of data developer roles across different regions, and the impact of remote work and company size on employment in this field.\"*\n",
    "\n",
    "## Columns Description\n",
    "\n",
    "- **experience_level:** Level of professional experience (e.g., junior, mid, senior).\n",
    "- **employment_type:** Type of job contract (e.g., full-time, part-time, contract).\n",
    "- **job_title:** The specific role or title of the employee (e.g., Data Engineer).\n",
    "- **salary:** The compensation received, in the original currency.\n",
    "- **salary_currency:** The currency in which the salary is paid.\n",
    "- **salary_in_usd:** The salary converted into US dollars for comparison.\n",
    "- **employee_residence:** The location where the employee resides.\n",
    "- **remote_ratio:** Percentage of work done remotely.\n",
    "- **company_location:** The geographical location of the company.\n",
    "- **company_size:** The scale of the company, often based on employee count.\n",
    "\n"
   ]
  },
  {
   "cell_type": "code",
   "execution_count": 4,
   "id": "2bec7698-8405-4b57-8cf3-92d1007c39fd",
   "metadata": {},
   "outputs": [],
   "source": [
    "pd.options.mode.copy_on_write = True"
   ]
  },
  {
   "cell_type": "code",
   "execution_count": 5,
   "id": "1d99c925-7aa8-4818-9da6-190aa40aa3e2",
   "metadata": {},
   "outputs": [
    {
     "data": {
      "text/html": [
       "<div>\n",
       "<style scoped>\n",
       "    .dataframe tbody tr th:only-of-type {\n",
       "        vertical-align: middle;\n",
       "    }\n",
       "\n",
       "    .dataframe tbody tr th {\n",
       "        vertical-align: top;\n",
       "    }\n",
       "\n",
       "    .dataframe thead th {\n",
       "        text-align: right;\n",
       "    }\n",
       "</style>\n",
       "<table border=\"1\" class=\"dataframe\">\n",
       "  <thead>\n",
       "    <tr style=\"text-align: right;\">\n",
       "      <th></th>\n",
       "      <th>work_year</th>\n",
       "      <th>experience_level</th>\n",
       "      <th>employment_type</th>\n",
       "      <th>job_title</th>\n",
       "      <th>salary</th>\n",
       "      <th>salary_currency</th>\n",
       "      <th>salary_in_usd</th>\n",
       "      <th>employee_residence</th>\n",
       "      <th>remote_ratio</th>\n",
       "      <th>company_location</th>\n",
       "      <th>company_size</th>\n",
       "    </tr>\n",
       "  </thead>\n",
       "  <tbody>\n",
       "    <tr>\n",
       "      <th>0</th>\n",
       "      <td>2024</td>\n",
       "      <td>SE</td>\n",
       "      <td>FT</td>\n",
       "      <td>AI Engineer</td>\n",
       "      <td>202730</td>\n",
       "      <td>USD</td>\n",
       "      <td>202730</td>\n",
       "      <td>US</td>\n",
       "      <td>0</td>\n",
       "      <td>US</td>\n",
       "      <td>M</td>\n",
       "    </tr>\n",
       "    <tr>\n",
       "      <th>1</th>\n",
       "      <td>2024</td>\n",
       "      <td>SE</td>\n",
       "      <td>FT</td>\n",
       "      <td>AI Engineer</td>\n",
       "      <td>92118</td>\n",
       "      <td>USD</td>\n",
       "      <td>92118</td>\n",
       "      <td>US</td>\n",
       "      <td>0</td>\n",
       "      <td>US</td>\n",
       "      <td>M</td>\n",
       "    </tr>\n",
       "    <tr>\n",
       "      <th>2</th>\n",
       "      <td>2024</td>\n",
       "      <td>SE</td>\n",
       "      <td>FT</td>\n",
       "      <td>Data Engineer</td>\n",
       "      <td>130500</td>\n",
       "      <td>USD</td>\n",
       "      <td>130500</td>\n",
       "      <td>US</td>\n",
       "      <td>0</td>\n",
       "      <td>US</td>\n",
       "      <td>M</td>\n",
       "    </tr>\n",
       "    <tr>\n",
       "      <th>3</th>\n",
       "      <td>2024</td>\n",
       "      <td>SE</td>\n",
       "      <td>FT</td>\n",
       "      <td>Data Engineer</td>\n",
       "      <td>96000</td>\n",
       "      <td>USD</td>\n",
       "      <td>96000</td>\n",
       "      <td>US</td>\n",
       "      <td>0</td>\n",
       "      <td>US</td>\n",
       "      <td>M</td>\n",
       "    </tr>\n",
       "    <tr>\n",
       "      <th>4</th>\n",
       "      <td>2024</td>\n",
       "      <td>SE</td>\n",
       "      <td>FT</td>\n",
       "      <td>Machine Learning Engineer</td>\n",
       "      <td>190000</td>\n",
       "      <td>USD</td>\n",
       "      <td>190000</td>\n",
       "      <td>US</td>\n",
       "      <td>0</td>\n",
       "      <td>US</td>\n",
       "      <td>M</td>\n",
       "    </tr>\n",
       "  </tbody>\n",
       "</table>\n",
       "</div>"
      ],
      "text/plain": [
       "   work_year experience_level employment_type                  job_title  \\\n",
       "0       2024               SE              FT                AI Engineer   \n",
       "1       2024               SE              FT                AI Engineer   \n",
       "2       2024               SE              FT              Data Engineer   \n",
       "3       2024               SE              FT              Data Engineer   \n",
       "4       2024               SE              FT  Machine Learning Engineer   \n",
       "\n",
       "   salary salary_currency  salary_in_usd employee_residence  remote_ratio  \\\n",
       "0  202730             USD         202730                 US             0   \n",
       "1   92118             USD          92118                 US             0   \n",
       "2  130500             USD         130500                 US             0   \n",
       "3   96000             USD          96000                 US             0   \n",
       "4  190000             USD         190000                 US             0   \n",
       "\n",
       "  company_location company_size  \n",
       "0               US            M  \n",
       "1               US            M  \n",
       "2               US            M  \n",
       "3               US            M  \n",
       "4               US            M  "
      ]
     },
     "execution_count": 5,
     "metadata": {},
     "output_type": "execute_result"
    }
   ],
   "source": [
    "df = pd.read_csv('https://raw.githubusercontent.com/ahayasic/workshop-pandas-zero-to-hero/main/datasets/data-jobs-salary-2024/Dataset_salary_2024.csv')\n",
    "df.head()"
   ]
  },
  {
   "cell_type": "markdown",
   "id": "085472c5-5bba-4baa-bc41-6c07e8ac36c7",
   "metadata": {},
   "source": [
    "1. Select rows where experience_level is 'SE' and display the mean salary_in_usd for these rows."
   ]
  },
  {
   "cell_type": "code",
   "execution_count": null,
   "id": "6d1a189b-0d7f-41bb-92bf-b3538fdecdb4",
   "metadata": {},
   "outputs": [],
   "source": []
  },
  {
   "cell_type": "markdown",
   "id": "b61efb45-a740-4bfe-8d11-07d85c1c9019",
   "metadata": {},
   "source": [
    "2. Select rows where job_title is 'Machine Learning Engineer' or 'Data Engineer' and show the top 10 salary_in_usd. Display the job_title, salary_in_usd, employee_residence, and experience_level."
   ]
  },
  {
   "cell_type": "code",
   "execution_count": null,
   "id": "d25c4cf6-e006-4e00-ad8f-be92caca4d6e",
   "metadata": {},
   "outputs": [],
   "source": []
  },
  {
   "cell_type": "markdown",
   "id": "3d14b296-5556-435e-a8a6-1721b29f98b6",
   "metadata": {},
   "source": [
    "3. Select rows where the salary_in_usd is between 100000 and 150000 and show the count of each experience_level."
   ]
  },
  {
   "cell_type": "code",
   "execution_count": null,
   "id": "33e42cb4-a4d9-4389-977b-a7cc92cd5758",
   "metadata": {},
   "outputs": [],
   "source": []
  },
  {
   "cell_type": "markdown",
   "id": "b949e8aa-5575-473b-9627-9764d1897ee4",
   "metadata": {},
   "source": [
    "4. Select rows where the employee_residence is in ['US', 'CA', 'UK'] and calculate the sum of salary_in_usd for these rows."
   ]
  },
  {
   "cell_type": "code",
   "execution_count": null,
   "id": "64f96a0d-a5f6-451b-b04e-639f69a14a93",
   "metadata": {},
   "outputs": [],
   "source": []
  },
  {
   "cell_type": "markdown",
   "id": "523f41bb-acfd-4857-ad48-866a16fc900c",
   "metadata": {},
   "source": [
    "5. What are the job_title, experience_level, and employment_type of the highest and lowest salary_in_usd for employees whose employee_residence is not 'US'?"
   ]
  },
  {
   "cell_type": "code",
   "execution_count": null,
   "id": "73cf24cf-0aa1-4597-8a7f-7c1bf878b05a",
   "metadata": {},
   "outputs": [],
   "source": []
  },
  {
   "cell_type": "markdown",
   "id": "923656bc-9a66-48ee-aa9a-4f67de4263dd",
   "metadata": {},
   "source": [
    "6. What are the minimum, maximum, and average salary_in_usd for the year 2021 for experience_level 'EX'?"
   ]
  },
  {
   "cell_type": "code",
   "execution_count": null,
   "id": "1200a43b-8fe7-4d79-9b85-f5dbf98e5acf",
   "metadata": {},
   "outputs": [],
   "source": []
  },
  {
   "cell_type": "markdown",
   "id": "a692fc76-76bd-4ac4-8af6-d4badf3c2a7d",
   "metadata": {},
   "source": [
    "7. Create a new column salary_in_brl and convert salary_in_usd to BRL (use a 6x conversion rate to <2023 year and 5x for 2024)."
   ]
  },
  {
   "cell_type": "code",
   "execution_count": null,
   "id": "c617d508-7038-4b18-9363-6c57665c1808",
   "metadata": {},
   "outputs": [],
   "source": []
  },
  {
   "cell_type": "markdown",
   "id": "f8bd5460-ec2b-4c93-8120-3de5f2c4c21b",
   "metadata": {},
   "source": [
    "8. Create a new column job_category based on job_title where titles containing 'Engineer' are categorized as 'Engineering', and others are categorized as 'Other'."
   ]
  },
  {
   "cell_type": "code",
   "execution_count": null,
   "id": "a1a4f8fc-adbe-48dc-a736-dca38043f2ee",
   "metadata": {},
   "outputs": [],
   "source": []
  },
  {
   "cell_type": "markdown",
   "id": "da6ea223-419f-42ac-9685-e2c6d3941ed5",
   "metadata": {},
   "source": [
    "9. Create a new column tax_rate where the rate is 5% if experience_level is 'EN' and 20% otherwise."
   ]
  },
  {
   "cell_type": "code",
   "execution_count": null,
   "id": "17b63bc9-3cb7-43cb-9361-89866be4c0e8",
   "metadata": {},
   "outputs": [],
   "source": []
  },
  {
   "cell_type": "markdown",
   "id": "44170499-0fdf-453a-bcd0-3e153e2f961a",
   "metadata": {},
   "source": [
    "10. Create a new column annual_bonus where it is 5% of salary_in_usd for 'EN', 8% for 'MI', 12% for 'SE', and 20% for 'EX'."
   ]
  },
  {
   "cell_type": "code",
   "execution_count": null,
   "id": "66fe345a-bb18-438d-a386-26ff4f926d43",
   "metadata": {},
   "outputs": [],
   "source": []
  },
  {
   "cell_type": "markdown",
   "id": "a2b48452-8b22-4443-9288-fb912af46162",
   "metadata": {
    "jp-MarkdownHeadingCollapsed": true
   },
   "source": [
    "11. Increase all salary_in_usd values by 10%"
   ]
  },
  {
   "cell_type": "code",
   "execution_count": null,
   "id": "3b26d7c1-cc1c-4454-bd90-0f7528177447",
   "metadata": {},
   "outputs": [],
   "source": []
  },
  {
   "cell_type": "markdown",
   "id": "fd723b24-ad1a-4a1e-801b-9a665566f9fc",
   "metadata": {},
   "source": [
    "12. Add a new column happy_birthday_bonus which is 5% of salary_in_usd"
   ]
  },
  {
   "cell_type": "code",
   "execution_count": null,
   "id": "4d73b4ed-65c0-478d-a828-37d30bc7d0d3",
   "metadata": {},
   "outputs": [],
   "source": []
  },
  {
   "cell_type": "markdown",
   "id": "dff5b174-b76f-444c-9c6b-ea862f852a57",
   "metadata": {},
   "source": [
    "13. Calculate the total compensation (salary_in_usd + happy_birthday_bonus + annual_bonus)"
   ]
  },
  {
   "cell_type": "code",
   "execution_count": null,
   "id": "ebc65a7b-7bdc-4b0a-ad9d-1ad9742f5f04",
   "metadata": {},
   "outputs": [],
   "source": []
  },
  {
   "cell_type": "markdown",
   "id": "c4b6d09e-bb8f-4053-a9a3-3d403810a78f",
   "metadata": {},
   "source": [
    "14. Calculate the final compensation (salary_in_usd + happy_birthday_bonus + annual_bonus - tax)"
   ]
  },
  {
   "cell_type": "code",
   "execution_count": null,
   "id": "ea80a38e-0f4b-408d-9ff0-d6095b435ca0",
   "metadata": {},
   "outputs": [],
   "source": []
  },
  {
   "cell_type": "markdown",
   "id": "9f5e4510-1d34-4042-a65d-be44c13d1f45",
   "metadata": {},
   "source": [
    "15. (Plus) Given questions 10 to 14, create a solution using `iterrows()`, `apply()`, and *arithmetic operators*, each one in a specific cell. At the start of each cell, add the `%%timeit` magic command."
   ]
  },
  {
   "cell_type": "code",
   "execution_count": null,
   "id": "f7b7437a-bc21-4165-8a93-3da574ce884a",
   "metadata": {},
   "outputs": [],
   "source": []
  }
 ],
 "metadata": {
  "kernelspec": {
   "display_name": "Python 3 (ipykernel)",
   "language": "python",
   "name": "python3"
  },
  "language_info": {
   "codemirror_mode": {
    "name": "ipython",
    "version": 3
   },
   "file_extension": ".py",
   "mimetype": "text/x-python",
   "name": "python",
   "nbconvert_exporter": "python",
   "pygments_lexer": "ipython3",
   "version": "3.10.13"
  }
 },
 "nbformat": 4,
 "nbformat_minor": 5
}
