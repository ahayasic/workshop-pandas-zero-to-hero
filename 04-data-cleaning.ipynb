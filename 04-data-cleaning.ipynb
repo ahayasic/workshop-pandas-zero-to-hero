{
 "cells": [
  {
   "cell_type": "code",
   "execution_count": 1,
   "id": "a57491a7-4766-47d7-90db-9bd00c116e98",
   "metadata": {},
   "outputs": [],
   "source": [
    "import numpy as np\n",
    "import pandas as pd"
   ]
  },
  {
   "cell_type": "code",
   "execution_count": 2,
   "id": "c97fdec4-0233-472c-8463-4262152e01f7",
   "metadata": {},
   "outputs": [],
   "source": [
    "np.random.seed(0)"
   ]
  },
  {
   "cell_type": "code",
   "execution_count": 3,
   "id": "1d4d2473-38b9-484b-822d-ad3b4fb12780",
   "metadata": {},
   "outputs": [],
   "source": [
    "pd.options.mode.copy_on_write = True"
   ]
  },
  {
   "cell_type": "markdown",
   "id": "7437c6e2-1134-4c81-9cbd-fb1a76e54ad3",
   "metadata": {},
   "source": [
    "# Data Cleaning\n",
    "\n",
    "Real-world data can be pretty messy, so you’ll often spend a significant amount of time on data cleaning and rearranging.\n",
    "\n",
    "Common data cleaning tasks include dealing with missing and duplicate data, applying simple transformations, type casts and making changes like renaming columns or indexes."
   ]
  },
  {
   "cell_type": "markdown",
   "id": "c93341ba-d36a-4514-aa9c-fe51be19cb25",
   "metadata": {},
   "source": [
    "# Handling Missing Data\n",
    "\n",
    "Missing data is common in most datasets, and pandas makes it easy to handle. After all, a lot of methods have options to manage missing data by default.\n",
    "\n",
    "In pandas, missing data representation might seem confusing at first, but it's generally effective for most real-world scenarios. The \"sentinel values\" used vary depending on the data type. Here are some examples:\n",
    "\n",
    "- `numpy.nan` for NumPy data types. The downside of using NumPy data types is that the original data type will be converted to `np.float64` or `object`.\n",
    "- `NaT` for NumPy `np.datetime64`, `np.timedelta64`, and `PeriodDtype`.\n",
    "- `NA` for `StringDtype`, `Int64Dtype` (and other bit widths), `Float64Dtype` (and other bit widths), `BooleanDtype`, and `ArrowDtype`. These types retain the original data type. For typing applications, use `api.types.NAType`.\n",
    "\n",
    "The built-in Python `None` value is also treated as `NA`.\n"
   ]
  },
  {
   "cell_type": "code",
   "execution_count": 4,
   "id": "d247811d-a14e-444f-a10b-2b35f805a213",
   "metadata": {},
   "outputs": [
    {
     "data": {
      "text/plain": [
       "0      apple\n",
       "1        NaN\n",
       "2       None\n",
       "3    avocado\n",
       "dtype: object"
      ]
     },
     "execution_count": 4,
     "metadata": {},
     "output_type": "execute_result"
    }
   ],
   "source": [
    "s = pd.Series([\"apple\", np.nan, None, \"avocado\"])\n",
    "s"
   ]
  },
  {
   "cell_type": "code",
   "execution_count": 5,
   "id": "b65bce88-263a-48c2-8813-0dc9e7a90dfd",
   "metadata": {},
   "outputs": [
    {
     "data": {
      "text/plain": [
       "0    False\n",
       "1     True\n",
       "2     True\n",
       "3    False\n",
       "dtype: bool"
      ]
     },
     "execution_count": 5,
     "metadata": {},
     "output_type": "execute_result"
    }
   ],
   "source": [
    "# To detect missing value\n",
    "# use the isna()\n",
    "# or notna() methods\n",
    "\n",
    "s.isna()"
   ]
  },
  {
   "cell_type": "code",
   "execution_count": 6,
   "id": "09a230a1-c8c8-4d42-b544-2ac6c04521ca",
   "metadata": {},
   "outputs": [
    {
     "data": {
      "text/plain": [
       "0     True\n",
       "1    False\n",
       "2    False\n",
       "3     True\n",
       "dtype: bool"
      ]
     },
     "execution_count": 6,
     "metadata": {},
     "output_type": "execute_result"
    }
   ],
   "source": [
    "s.notna()"
   ]
  },
  {
   "cell_type": "markdown",
   "id": "79b2b90b-7a05-4839-bcd5-7145e1de9583",
   "metadata": {},
   "source": [
    "## Filtering out missing data\n",
    "\n",
    "There are several ways to filter out missing data in pandas. While you can always use `pandas.isna` and Boolean indexing manually, `dropna` is particularly useful.\n",
    "\n",
    "- `dropna`: Filters axis labels based on whether values for each label have missing data, with adjustable thresholds for how much missing data to tolerate.\n",
    "\n",
    "For a `Series`, it returns the Series with only the non-null data and index value. For `DataFrame`, you can choose to drop rows or columns that are entirely `NA` or only those containing any `NAs`:\n",
    "\n",
    "Note that these functions return new objects by default and do not modify the original data. To change this behavior, use `inplace=True`."
   ]
  },
  {
   "cell_type": "code",
   "execution_count": 7,
   "id": "fc3624a9-1c48-4465-869f-18c66c6c084e",
   "metadata": {},
   "outputs": [
    {
     "data": {
      "text/plain": [
       "0      apple\n",
       "1        NaN\n",
       "2       None\n",
       "3    avocado\n",
       "dtype: object"
      ]
     },
     "execution_count": 7,
     "metadata": {},
     "output_type": "execute_result"
    }
   ],
   "source": [
    "s = pd.Series([\"apple\", np.nan, None, \"avocado\"])\n",
    "s"
   ]
  },
  {
   "cell_type": "code",
   "execution_count": 8,
   "id": "96a8a9f7-4b0d-4bcc-acc5-a0e5381574b1",
   "metadata": {},
   "outputs": [
    {
     "data": {
      "text/plain": [
       "0      apple\n",
       "3    avocado\n",
       "dtype: object"
      ]
     },
     "execution_count": 8,
     "metadata": {},
     "output_type": "execute_result"
    }
   ],
   "source": [
    "# Drop NA values\n",
    "# Equivalent to:\n",
    "# s[s.notna()]\n",
    "\n",
    "s.dropna()"
   ]
  },
  {
   "cell_type": "code",
   "execution_count": 9,
   "id": "8bce5fd7-959e-4d15-8a17-2296ba45ffb1",
   "metadata": {},
   "outputs": [
    {
     "data": {
      "text/html": [
       "<div>\n",
       "<style scoped>\n",
       "    .dataframe tbody tr th:only-of-type {\n",
       "        vertical-align: middle;\n",
       "    }\n",
       "\n",
       "    .dataframe tbody tr th {\n",
       "        vertical-align: top;\n",
       "    }\n",
       "\n",
       "    .dataframe thead th {\n",
       "        text-align: right;\n",
       "    }\n",
       "</style>\n",
       "<table border=\"1\" class=\"dataframe\">\n",
       "  <thead>\n",
       "    <tr style=\"text-align: right;\">\n",
       "      <th></th>\n",
       "      <th>a</th>\n",
       "      <th>b</th>\n",
       "    </tr>\n",
       "  </thead>\n",
       "  <tbody>\n",
       "    <tr>\n",
       "      <th>0</th>\n",
       "      <td>apple</td>\n",
       "      <td>banana</td>\n",
       "    </tr>\n",
       "    <tr>\n",
       "      <th>1</th>\n",
       "      <td>acerola</td>\n",
       "      <td>None</td>\n",
       "    </tr>\n",
       "    <tr>\n",
       "      <th>2</th>\n",
       "      <td>avocado</td>\n",
       "      <td>blackberry</td>\n",
       "    </tr>\n",
       "    <tr>\n",
       "      <th>3</th>\n",
       "      <td>acai</td>\n",
       "      <td>NaN</td>\n",
       "    </tr>\n",
       "  </tbody>\n",
       "</table>\n",
       "</div>"
      ],
      "text/plain": [
       "         a           b\n",
       "0    apple      banana\n",
       "1  acerola        None\n",
       "2  avocado  blackberry\n",
       "3     acai         NaN"
      ]
     },
     "execution_count": 9,
     "metadata": {},
     "output_type": "execute_result"
    }
   ],
   "source": [
    "df = pd.DataFrame({\n",
    "    'a': ['apple', 'acerola', 'avocado', 'acai'],\n",
    "    'b': ['banana', None, 'blackberry', np.nan]\n",
    "})\n",
    "df"
   ]
  },
  {
   "cell_type": "code",
   "execution_count": 10,
   "id": "0fa186ad-6dfe-46d3-97ae-0eb7a9222e10",
   "metadata": {},
   "outputs": [
    {
     "data": {
      "text/html": [
       "<div>\n",
       "<style scoped>\n",
       "    .dataframe tbody tr th:only-of-type {\n",
       "        vertical-align: middle;\n",
       "    }\n",
       "\n",
       "    .dataframe tbody tr th {\n",
       "        vertical-align: top;\n",
       "    }\n",
       "\n",
       "    .dataframe thead th {\n",
       "        text-align: right;\n",
       "    }\n",
       "</style>\n",
       "<table border=\"1\" class=\"dataframe\">\n",
       "  <thead>\n",
       "    <tr style=\"text-align: right;\">\n",
       "      <th></th>\n",
       "      <th>a</th>\n",
       "    </tr>\n",
       "  </thead>\n",
       "  <tbody>\n",
       "    <tr>\n",
       "      <th>0</th>\n",
       "      <td>apple</td>\n",
       "    </tr>\n",
       "    <tr>\n",
       "      <th>1</th>\n",
       "      <td>acerola</td>\n",
       "    </tr>\n",
       "    <tr>\n",
       "      <th>2</th>\n",
       "      <td>avocado</td>\n",
       "    </tr>\n",
       "    <tr>\n",
       "      <th>3</th>\n",
       "      <td>acai</td>\n",
       "    </tr>\n",
       "  </tbody>\n",
       "</table>\n",
       "</div>"
      ],
      "text/plain": [
       "         a\n",
       "0    apple\n",
       "1  acerola\n",
       "2  avocado\n",
       "3     acai"
      ]
     },
     "execution_count": 10,
     "metadata": {},
     "output_type": "execute_result"
    }
   ],
   "source": [
    "# Drop NA values\n",
    "# based on axis\n",
    "\n",
    "df.dropna(axis='columns')"
   ]
  },
  {
   "cell_type": "code",
   "execution_count": 11,
   "id": "323893c2-690c-401d-8f20-980a5337564c",
   "metadata": {},
   "outputs": [
    {
     "data": {
      "text/html": [
       "<div>\n",
       "<style scoped>\n",
       "    .dataframe tbody tr th:only-of-type {\n",
       "        vertical-align: middle;\n",
       "    }\n",
       "\n",
       "    .dataframe tbody tr th {\n",
       "        vertical-align: top;\n",
       "    }\n",
       "\n",
       "    .dataframe thead th {\n",
       "        text-align: right;\n",
       "    }\n",
       "</style>\n",
       "<table border=\"1\" class=\"dataframe\">\n",
       "  <thead>\n",
       "    <tr style=\"text-align: right;\">\n",
       "      <th></th>\n",
       "      <th>a</th>\n",
       "      <th>b</th>\n",
       "      <th>c</th>\n",
       "    </tr>\n",
       "  </thead>\n",
       "  <tbody>\n",
       "    <tr>\n",
       "      <th>0</th>\n",
       "      <td>apple</td>\n",
       "      <td>banana</td>\n",
       "      <td>None</td>\n",
       "    </tr>\n",
       "    <tr>\n",
       "      <th>1</th>\n",
       "      <td>acerola</td>\n",
       "      <td>None</td>\n",
       "      <td>None</td>\n",
       "    </tr>\n",
       "    <tr>\n",
       "      <th>2</th>\n",
       "      <td>avocado</td>\n",
       "      <td>blackberry</td>\n",
       "      <td>None</td>\n",
       "    </tr>\n",
       "    <tr>\n",
       "      <th>3</th>\n",
       "      <td>acai</td>\n",
       "      <td>NaN</td>\n",
       "      <td>None</td>\n",
       "    </tr>\n",
       "  </tbody>\n",
       "</table>\n",
       "</div>"
      ],
      "text/plain": [
       "         a           b     c\n",
       "0    apple      banana  None\n",
       "1  acerola        None  None\n",
       "2  avocado  blackberry  None\n",
       "3     acai         NaN  None"
      ]
     },
     "execution_count": 11,
     "metadata": {},
     "output_type": "execute_result"
    }
   ],
   "source": [
    "# By default, dropna removes rows and columns\n",
    "# that have at least one null\n",
    "# You can change it to all\n",
    "\n",
    "df = pd.DataFrame({\n",
    "    'a': ['apple', 'acerola', 'avocado', 'acai'],\n",
    "    'b': ['banana', None, 'blackberry', np.nan],\n",
    "    'c': [None, None, None, None],\n",
    "})\n",
    "df"
   ]
  },
  {
   "cell_type": "code",
   "execution_count": 12,
   "id": "090a621a-c405-4e67-bb4d-38b1fd63ff4b",
   "metadata": {},
   "outputs": [
    {
     "data": {
      "text/html": [
       "<div>\n",
       "<style scoped>\n",
       "    .dataframe tbody tr th:only-of-type {\n",
       "        vertical-align: middle;\n",
       "    }\n",
       "\n",
       "    .dataframe tbody tr th {\n",
       "        vertical-align: top;\n",
       "    }\n",
       "\n",
       "    .dataframe thead th {\n",
       "        text-align: right;\n",
       "    }\n",
       "</style>\n",
       "<table border=\"1\" class=\"dataframe\">\n",
       "  <thead>\n",
       "    <tr style=\"text-align: right;\">\n",
       "      <th></th>\n",
       "      <th>a</th>\n",
       "      <th>b</th>\n",
       "    </tr>\n",
       "  </thead>\n",
       "  <tbody>\n",
       "    <tr>\n",
       "      <th>0</th>\n",
       "      <td>apple</td>\n",
       "      <td>banana</td>\n",
       "    </tr>\n",
       "    <tr>\n",
       "      <th>1</th>\n",
       "      <td>acerola</td>\n",
       "      <td>None</td>\n",
       "    </tr>\n",
       "    <tr>\n",
       "      <th>2</th>\n",
       "      <td>avocado</td>\n",
       "      <td>blackberry</td>\n",
       "    </tr>\n",
       "    <tr>\n",
       "      <th>3</th>\n",
       "      <td>acai</td>\n",
       "      <td>NaN</td>\n",
       "    </tr>\n",
       "  </tbody>\n",
       "</table>\n",
       "</div>"
      ],
      "text/plain": [
       "         a           b\n",
       "0    apple      banana\n",
       "1  acerola        None\n",
       "2  avocado  blackberry\n",
       "3     acai         NaN"
      ]
     },
     "execution_count": 12,
     "metadata": {},
     "output_type": "execute_result"
    }
   ],
   "source": [
    "df.dropna(axis='columns', how='all')"
   ]
  },
  {
   "cell_type": "code",
   "execution_count": 13,
   "id": "0a2c18ef-2cf2-4253-80fb-b3355c99f70e",
   "metadata": {},
   "outputs": [
    {
     "data": {
      "text/html": [
       "<div>\n",
       "<style scoped>\n",
       "    .dataframe tbody tr th:only-of-type {\n",
       "        vertical-align: middle;\n",
       "    }\n",
       "\n",
       "    .dataframe tbody tr th {\n",
       "        vertical-align: top;\n",
       "    }\n",
       "\n",
       "    .dataframe thead th {\n",
       "        text-align: right;\n",
       "    }\n",
       "</style>\n",
       "<table border=\"1\" class=\"dataframe\">\n",
       "  <thead>\n",
       "    <tr style=\"text-align: right;\">\n",
       "      <th></th>\n",
       "      <th>a</th>\n",
       "      <th>b</th>\n",
       "      <th>c</th>\n",
       "    </tr>\n",
       "  </thead>\n",
       "  <tbody>\n",
       "    <tr>\n",
       "      <th>0</th>\n",
       "      <td>apple</td>\n",
       "      <td>None</td>\n",
       "      <td>cherry</td>\n",
       "    </tr>\n",
       "    <tr>\n",
       "      <th>1</th>\n",
       "      <td>None</td>\n",
       "      <td>blueberry</td>\n",
       "      <td>coconut</td>\n",
       "    </tr>\n",
       "    <tr>\n",
       "      <th>2</th>\n",
       "      <td>avocado</td>\n",
       "      <td>blackberry</td>\n",
       "      <td>None</td>\n",
       "    </tr>\n",
       "    <tr>\n",
       "      <th>3</th>\n",
       "      <td>acai</td>\n",
       "      <td>banana</td>\n",
       "      <td>None</td>\n",
       "    </tr>\n",
       "  </tbody>\n",
       "</table>\n",
       "</div>"
      ],
      "text/plain": [
       "         a           b        c\n",
       "0    apple        None   cherry\n",
       "1     None   blueberry  coconut\n",
       "2  avocado  blackberry     None\n",
       "3     acai      banana     None"
      ]
     },
     "execution_count": 13,
     "metadata": {},
     "output_type": "execute_result"
    }
   ],
   "source": [
    "# You can also define a subset of rows or columns\n",
    "# to apply the operation\n",
    "\n",
    "df = pd.DataFrame({\n",
    "    'a': ['apple', None, 'avocado', 'acai'],\n",
    "    'b': [None, 'blueberry', 'blackberry', 'banana'],\n",
    "    'c': ['cherry', 'coconut', None, None],\n",
    "})\n",
    "df"
   ]
  },
  {
   "cell_type": "code",
   "execution_count": 14,
   "id": "db8a4a6b-997f-495a-874d-092e4b1cbc15",
   "metadata": {},
   "outputs": [
    {
     "data": {
      "text/html": [
       "<div>\n",
       "<style scoped>\n",
       "    .dataframe tbody tr th:only-of-type {\n",
       "        vertical-align: middle;\n",
       "    }\n",
       "\n",
       "    .dataframe tbody tr th {\n",
       "        vertical-align: top;\n",
       "    }\n",
       "\n",
       "    .dataframe thead th {\n",
       "        text-align: right;\n",
       "    }\n",
       "</style>\n",
       "<table border=\"1\" class=\"dataframe\">\n",
       "  <thead>\n",
       "    <tr style=\"text-align: right;\">\n",
       "      <th></th>\n",
       "      <th>a</th>\n",
       "      <th>b</th>\n",
       "      <th>c</th>\n",
       "    </tr>\n",
       "  </thead>\n",
       "  <tbody>\n",
       "    <tr>\n",
       "      <th>2</th>\n",
       "      <td>avocado</td>\n",
       "      <td>blackberry</td>\n",
       "      <td>None</td>\n",
       "    </tr>\n",
       "    <tr>\n",
       "      <th>3</th>\n",
       "      <td>acai</td>\n",
       "      <td>banana</td>\n",
       "      <td>None</td>\n",
       "    </tr>\n",
       "  </tbody>\n",
       "</table>\n",
       "</div>"
      ],
      "text/plain": [
       "         a           b     c\n",
       "2  avocado  blackberry  None\n",
       "3     acai      banana  None"
      ]
     },
     "execution_count": 14,
     "metadata": {},
     "output_type": "execute_result"
    }
   ],
   "source": [
    "df.dropna(subset=['a', 'b'])"
   ]
  },
  {
   "cell_type": "markdown",
   "id": "f8f5d799-56b1-44dc-b027-00b0a9100604",
   "metadata": {},
   "source": [
    "## Filtering in missing data\n",
    "\n",
    "Instead of filtering out missing data and potentially losing valuable information, you might want to replace NAs with some alternative value.\n",
    "\n",
    "There are a couple of efficient ways to do this. Using map or apply, for instance, is a valid approach. However, you can benefit even more by using `fillna` and `replace`.\n",
    "\n",
    "- `fillna`: Fill in missing data with a specified value or by using methods like \"ffill\" (forward fill) or \"bfill\" (backward fill).\n",
    "- `replace`: Replace values in the Series/DataFrame with other specified values dynamically (this method differs from updating with `.loc` or `.iloc`, as it does not require specifying the exact location)"
   ]
  },
  {
   "cell_type": "code",
   "execution_count": 15,
   "id": "d4bb0ebb-3b52-416e-9580-b02a894387e3",
   "metadata": {},
   "outputs": [
    {
     "data": {
      "text/plain": [
       "0      1.0\n",
       "1      2.0\n",
       "2    100.0\n",
       "3      4.0\n",
       "dtype: float64"
      ]
     },
     "execution_count": 15,
     "metadata": {},
     "output_type": "execute_result"
    }
   ],
   "source": [
    "# Filling NA with a constant\n",
    "\n",
    "s = pd.Series([1, 2, None, 4])\n",
    "s.fillna(100)"
   ]
  },
  {
   "cell_type": "code",
   "execution_count": 16,
   "id": "e59315bc-5287-47f4-8a04-be28c2b0e2d7",
   "metadata": {},
   "outputs": [
    {
     "data": {
      "text/plain": [
       "0    1.0\n",
       "1    2.0\n",
       "2    2.0\n",
       "3    4.0\n",
       "4    4.0\n",
       "5    4.0\n",
       "dtype: float64"
      ]
     },
     "execution_count": 16,
     "metadata": {},
     "output_type": "execute_result"
    }
   ],
   "source": [
    "# Filling NA with ffill (interpolation)\n",
    "\n",
    "s = pd.Series([1, 2, None, 4, None, None])\n",
    "s.ffill()"
   ]
  },
  {
   "cell_type": "code",
   "execution_count": 17,
   "id": "a9269c42-21f8-4a38-b2e7-7459153b192f",
   "metadata": {},
   "outputs": [
    {
     "data": {
      "text/plain": [
       "0    1.0\n",
       "1    2.0\n",
       "2    2.0\n",
       "3    4.0\n",
       "4    2.0\n",
       "5    2.0\n",
       "dtype: float64"
      ]
     },
     "execution_count": 17,
     "metadata": {},
     "output_type": "execute_result"
    }
   ],
   "source": [
    "# Filling NA with median\n",
    "\n",
    "s = pd.Series([1, 2, None, 4, None, None])\n",
    "s.fillna(s.median())"
   ]
  },
  {
   "cell_type": "code",
   "execution_count": 18,
   "id": "3d8e520d-4979-4ccd-a63a-13a8098ec249",
   "metadata": {},
   "outputs": [
    {
     "data": {
      "text/html": [
       "<div>\n",
       "<style scoped>\n",
       "    .dataframe tbody tr th:only-of-type {\n",
       "        vertical-align: middle;\n",
       "    }\n",
       "\n",
       "    .dataframe tbody tr th {\n",
       "        vertical-align: top;\n",
       "    }\n",
       "\n",
       "    .dataframe thead th {\n",
       "        text-align: right;\n",
       "    }\n",
       "</style>\n",
       "<table border=\"1\" class=\"dataframe\">\n",
       "  <thead>\n",
       "    <tr style=\"text-align: right;\">\n",
       "      <th></th>\n",
       "      <th>a</th>\n",
       "      <th>b</th>\n",
       "      <th>c</th>\n",
       "    </tr>\n",
       "  </thead>\n",
       "  <tbody>\n",
       "    <tr>\n",
       "      <th>0</th>\n",
       "      <td>NaN</td>\n",
       "      <td>0.430379</td>\n",
       "      <td>0.205527</td>\n",
       "    </tr>\n",
       "    <tr>\n",
       "      <th>1</th>\n",
       "      <td>NaN</td>\n",
       "      <td>-0.152690</td>\n",
       "      <td>0.291788</td>\n",
       "    </tr>\n",
       "    <tr>\n",
       "      <th>2</th>\n",
       "      <td>-0.124826</td>\n",
       "      <td>0.783546</td>\n",
       "      <td>NaN</td>\n",
       "    </tr>\n",
       "  </tbody>\n",
       "</table>\n",
       "</div>"
      ],
      "text/plain": [
       "          a         b         c\n",
       "0       NaN  0.430379  0.205527\n",
       "1       NaN -0.152690  0.291788\n",
       "2 -0.124826  0.783546       NaN"
      ]
     },
     "execution_count": 18,
     "metadata": {},
     "output_type": "execute_result"
    }
   ],
   "source": [
    "# Filling NA with maps (for each column)\n",
    "\n",
    "df = pd.DataFrame(\n",
    "    data=np.random.uniform(-1, 1, size=(3,3)),\n",
    "    columns=['a', 'b', 'c']\n",
    ")\n",
    "df.iloc[:2, 0] = np.nan\n",
    "df.iloc[2:, 2] = np.nan\n",
    "df"
   ]
  },
  {
   "cell_type": "code",
   "execution_count": 19,
   "id": "19f67b0e-4f52-4d49-b578-bb2949dd6a7f",
   "metadata": {},
   "outputs": [
    {
     "data": {
      "text/html": [
       "<div>\n",
       "<style scoped>\n",
       "    .dataframe tbody tr th:only-of-type {\n",
       "        vertical-align: middle;\n",
       "    }\n",
       "\n",
       "    .dataframe tbody tr th {\n",
       "        vertical-align: top;\n",
       "    }\n",
       "\n",
       "    .dataframe thead th {\n",
       "        text-align: right;\n",
       "    }\n",
       "</style>\n",
       "<table border=\"1\" class=\"dataframe\">\n",
       "  <thead>\n",
       "    <tr style=\"text-align: right;\">\n",
       "      <th></th>\n",
       "      <th>a</th>\n",
       "      <th>b</th>\n",
       "      <th>c</th>\n",
       "    </tr>\n",
       "  </thead>\n",
       "  <tbody>\n",
       "    <tr>\n",
       "      <th>0</th>\n",
       "      <td>0.000000</td>\n",
       "      <td>0.430379</td>\n",
       "      <td>0.205527</td>\n",
       "    </tr>\n",
       "    <tr>\n",
       "      <th>1</th>\n",
       "      <td>0.000000</td>\n",
       "      <td>-0.152690</td>\n",
       "      <td>0.291788</td>\n",
       "    </tr>\n",
       "    <tr>\n",
       "      <th>2</th>\n",
       "      <td>-0.124826</td>\n",
       "      <td>0.783546</td>\n",
       "      <td>2.000000</td>\n",
       "    </tr>\n",
       "  </tbody>\n",
       "</table>\n",
       "</div>"
      ],
      "text/plain": [
       "          a         b         c\n",
       "0  0.000000  0.430379  0.205527\n",
       "1  0.000000 -0.152690  0.291788\n",
       "2 -0.124826  0.783546  2.000000"
      ]
     },
     "execution_count": 19,
     "metadata": {},
     "output_type": "execute_result"
    }
   ],
   "source": [
    "df.fillna({'a': 0, 'b': 1, 'c': 2})"
   ]
  },
  {
   "cell_type": "code",
   "execution_count": 20,
   "id": "7fde7930-b3f0-457d-b04d-8e759333ea71",
   "metadata": {},
   "outputs": [
    {
     "data": {
      "text/html": [
       "<div>\n",
       "<style scoped>\n",
       "    .dataframe tbody tr th:only-of-type {\n",
       "        vertical-align: middle;\n",
       "    }\n",
       "\n",
       "    .dataframe tbody tr th {\n",
       "        vertical-align: top;\n",
       "    }\n",
       "\n",
       "    .dataframe thead th {\n",
       "        text-align: right;\n",
       "    }\n",
       "</style>\n",
       "<table border=\"1\" class=\"dataframe\">\n",
       "  <thead>\n",
       "    <tr style=\"text-align: right;\">\n",
       "      <th></th>\n",
       "      <th>A</th>\n",
       "      <th>B</th>\n",
       "    </tr>\n",
       "  </thead>\n",
       "  <tbody>\n",
       "    <tr>\n",
       "      <th>0</th>\n",
       "      <td>1.0</td>\n",
       "      <td>NaN</td>\n",
       "    </tr>\n",
       "    <tr>\n",
       "      <th>1</th>\n",
       "      <td>2.0</td>\n",
       "      <td>2.0</td>\n",
       "    </tr>\n",
       "    <tr>\n",
       "      <th>2</th>\n",
       "      <td>NaN</td>\n",
       "      <td>3.0</td>\n",
       "    </tr>\n",
       "    <tr>\n",
       "      <th>3</th>\n",
       "      <td>4.0</td>\n",
       "      <td>NaN</td>\n",
       "    </tr>\n",
       "  </tbody>\n",
       "</table>\n",
       "</div>"
      ],
      "text/plain": [
       "     A    B\n",
       "0  1.0  NaN\n",
       "1  2.0  2.0\n",
       "2  NaN  3.0\n",
       "3  4.0  NaN"
      ]
     },
     "execution_count": 20,
     "metadata": {},
     "output_type": "execute_result"
    }
   ],
   "source": [
    "# Replacing values\n",
    "\n",
    "df = pd.DataFrame({\n",
    "        'A': [1, 2, None, 4],\n",
    "        'B': [None, 2, 3, None]\n",
    "})\n",
    "df"
   ]
  },
  {
   "cell_type": "code",
   "execution_count": 21,
   "id": "6b0c02de-e866-4baf-bad7-a89a5506323d",
   "metadata": {},
   "outputs": [
    {
     "data": {
      "text/html": [
       "<div>\n",
       "<style scoped>\n",
       "    .dataframe tbody tr th:only-of-type {\n",
       "        vertical-align: middle;\n",
       "    }\n",
       "\n",
       "    .dataframe tbody tr th {\n",
       "        vertical-align: top;\n",
       "    }\n",
       "\n",
       "    .dataframe thead th {\n",
       "        text-align: right;\n",
       "    }\n",
       "</style>\n",
       "<table border=\"1\" class=\"dataframe\">\n",
       "  <thead>\n",
       "    <tr style=\"text-align: right;\">\n",
       "      <th></th>\n",
       "      <th>A</th>\n",
       "      <th>B</th>\n",
       "    </tr>\n",
       "  </thead>\n",
       "  <tbody>\n",
       "    <tr>\n",
       "      <th>0</th>\n",
       "      <td>1.0</td>\n",
       "      <td>NaN</td>\n",
       "    </tr>\n",
       "    <tr>\n",
       "      <th>1</th>\n",
       "      <td>100.0</td>\n",
       "      <td>100.0</td>\n",
       "    </tr>\n",
       "    <tr>\n",
       "      <th>2</th>\n",
       "      <td>NaN</td>\n",
       "      <td>3.0</td>\n",
       "    </tr>\n",
       "    <tr>\n",
       "      <th>3</th>\n",
       "      <td>4.0</td>\n",
       "      <td>NaN</td>\n",
       "    </tr>\n",
       "  </tbody>\n",
       "</table>\n",
       "</div>"
      ],
      "text/plain": [
       "       A      B\n",
       "0    1.0    NaN\n",
       "1  100.0  100.0\n",
       "2    NaN    3.0\n",
       "3    4.0    NaN"
      ]
     },
     "execution_count": 21,
     "metadata": {},
     "output_type": "execute_result"
    }
   ],
   "source": [
    "# Note that NaN is an np.nan\n",
    "# which is different from None (NA)\n",
    "# So it'll not be replaced\n",
    "\n",
    "df.replace({None: 0, 2: 100})"
   ]
  },
  {
   "cell_type": "markdown",
   "id": "6aa295e8-4fb4-43cc-a9e0-66e13ccf5cd8",
   "metadata": {},
   "source": [
    "# Removing duplicates\n",
    "\n",
    "Handling duplicate records is another important and frequent step in data cleaning. Again, pandas offers several mechanisms to deal with duplicates in Series and DataFrames, with the most commonly used being:\n",
    "\n",
    "- `duplicated`: Returns a Boolean Series indicating whether each row is a duplicate (i.e., its column values are exactly the same as those in an earlier row).\n",
    "- `drop_duplicates`: Returns a DataFrame with duplicate rows (where the duplicated array is `False`) removed."
   ]
  },
  {
   "cell_type": "code",
   "execution_count": 22,
   "id": "2f79d49a-4773-48c6-b76b-083818796011",
   "metadata": {},
   "outputs": [
    {
     "data": {
      "text/html": [
       "<div>\n",
       "<style scoped>\n",
       "    .dataframe tbody tr th:only-of-type {\n",
       "        vertical-align: middle;\n",
       "    }\n",
       "\n",
       "    .dataframe tbody tr th {\n",
       "        vertical-align: top;\n",
       "    }\n",
       "\n",
       "    .dataframe thead th {\n",
       "        text-align: right;\n",
       "    }\n",
       "</style>\n",
       "<table border=\"1\" class=\"dataframe\">\n",
       "  <thead>\n",
       "    <tr style=\"text-align: right;\">\n",
       "      <th></th>\n",
       "      <th>A</th>\n",
       "      <th>B</th>\n",
       "    </tr>\n",
       "  </thead>\n",
       "  <tbody>\n",
       "    <tr>\n",
       "      <th>0</th>\n",
       "      <td>1</td>\n",
       "      <td>5</td>\n",
       "    </tr>\n",
       "    <tr>\n",
       "      <th>1</th>\n",
       "      <td>2</td>\n",
       "      <td>6</td>\n",
       "    </tr>\n",
       "    <tr>\n",
       "      <th>2</th>\n",
       "      <td>2</td>\n",
       "      <td>6</td>\n",
       "    </tr>\n",
       "    <tr>\n",
       "      <th>3</th>\n",
       "      <td>2</td>\n",
       "      <td>1</td>\n",
       "    </tr>\n",
       "    <tr>\n",
       "      <th>4</th>\n",
       "      <td>1</td>\n",
       "      <td>1</td>\n",
       "    </tr>\n",
       "  </tbody>\n",
       "</table>\n",
       "</div>"
      ],
      "text/plain": [
       "   A  B\n",
       "0  1  5\n",
       "1  2  6\n",
       "2  2  6\n",
       "3  2  1\n",
       "4  1  1"
      ]
     },
     "execution_count": 22,
     "metadata": {},
     "output_type": "execute_result"
    }
   ],
   "source": [
    "df = pd.DataFrame({\n",
    "    'A': [1, 2, 2, 2, 1],\n",
    "    'B': [5, 6, 6, 1, 1]\n",
    "})\n",
    "df"
   ]
  },
  {
   "cell_type": "code",
   "execution_count": 23,
   "id": "bdba5ef8-76d6-43ba-9e92-ff2f04230018",
   "metadata": {},
   "outputs": [
    {
     "data": {
      "text/plain": [
       "0    False\n",
       "1    False\n",
       "2     True\n",
       "3    False\n",
       "4    False\n",
       "dtype: bool"
      ]
     },
     "execution_count": 23,
     "metadata": {},
     "output_type": "execute_result"
    }
   ],
   "source": [
    "# By default, duplicated mark duplicates as True\n",
    "# except for the first occurrence.\n",
    "\n",
    "df.duplicated()"
   ]
  },
  {
   "cell_type": "code",
   "execution_count": 24,
   "id": "0b8c1671-43e1-4137-b77f-75a158e87eed",
   "metadata": {},
   "outputs": [
    {
     "data": {
      "text/plain": [
       "0    False\n",
       "1     True\n",
       "2     True\n",
       "3    False\n",
       "4    False\n",
       "dtype: bool"
      ]
     },
     "execution_count": 24,
     "metadata": {},
     "output_type": "execute_result"
    }
   ],
   "source": [
    "# Alternatively, we can mark the 'last' occurrence\n",
    "# or 'False' to mark all occurrences\n",
    "\n",
    "df.duplicated(keep=False)"
   ]
  },
  {
   "cell_type": "code",
   "execution_count": 25,
   "id": "9b8fee75-6924-43c6-9647-6ce98ff440b9",
   "metadata": {},
   "outputs": [
    {
     "data": {
      "text/plain": [
       "0    False\n",
       "1    False\n",
       "2     True\n",
       "3    False\n",
       "4     True\n",
       "dtype: bool"
      ]
     },
     "execution_count": 25,
     "metadata": {},
     "output_type": "execute_result"
    }
   ],
   "source": [
    "# We can also select a subset of columns\n",
    "\n",
    "df.duplicated(subset=['B'])"
   ]
  },
  {
   "cell_type": "code",
   "execution_count": 26,
   "id": "7347a498-31f5-4303-86ff-88b3cdb35027",
   "metadata": {},
   "outputs": [
    {
     "data": {
      "text/html": [
       "<div>\n",
       "<style scoped>\n",
       "    .dataframe tbody tr th:only-of-type {\n",
       "        vertical-align: middle;\n",
       "    }\n",
       "\n",
       "    .dataframe tbody tr th {\n",
       "        vertical-align: top;\n",
       "    }\n",
       "\n",
       "    .dataframe thead th {\n",
       "        text-align: right;\n",
       "    }\n",
       "</style>\n",
       "<table border=\"1\" class=\"dataframe\">\n",
       "  <thead>\n",
       "    <tr style=\"text-align: right;\">\n",
       "      <th></th>\n",
       "      <th>A</th>\n",
       "      <th>B</th>\n",
       "    </tr>\n",
       "  </thead>\n",
       "  <tbody>\n",
       "    <tr>\n",
       "      <th>0</th>\n",
       "      <td>1</td>\n",
       "      <td>5</td>\n",
       "    </tr>\n",
       "    <tr>\n",
       "      <th>1</th>\n",
       "      <td>2</td>\n",
       "      <td>6</td>\n",
       "    </tr>\n",
       "    <tr>\n",
       "      <th>3</th>\n",
       "      <td>2</td>\n",
       "      <td>1</td>\n",
       "    </tr>\n",
       "    <tr>\n",
       "      <th>4</th>\n",
       "      <td>1</td>\n",
       "      <td>1</td>\n",
       "    </tr>\n",
       "  </tbody>\n",
       "</table>\n",
       "</div>"
      ],
      "text/plain": [
       "   A  B\n",
       "0  1  5\n",
       "1  2  6\n",
       "3  2  1\n",
       "4  1  1"
      ]
     },
     "execution_count": 26,
     "metadata": {},
     "output_type": "execute_result"
    }
   ],
   "source": [
    "# To drop duplicates directly,\n",
    "# we can use drop_duplicates\n",
    "#\n",
    "# The behavior (parameters) is pretty similar\n",
    "# to .duplicated\n",
    "\n",
    "df = pd.DataFrame({\n",
    "    'A': [1, 2, 2, 2, 1],\n",
    "    'B': [5, 6, 6, 1, 1]\n",
    "})\n",
    "df.drop_duplicates()"
   ]
  },
  {
   "cell_type": "markdown",
   "id": "f850f3f7-f3bc-4979-b8d9-7acadbd21439",
   "metadata": {},
   "source": [
    "# Renaming Axis Indexes\n",
    "\n",
    "Axis labels in a Series or DataFrame can also be transformed using a function or mapping (just like values), producing a new and differently labeled objects. To modify the axes in place, you can just overwrite them.\n",
    "\n",
    "Otherwise, if you prefer to create a transformed version of a dataset without modifying the original, you can use the `rename` method. This method allows you to rename axis labels using a dictionary-like object, which provides new values for a subset of the axis labels. This saves you from manually copying the DataFrame and assigning new values to its index and columns attributes."
   ]
  },
  {
   "cell_type": "code",
   "execution_count": 27,
   "id": "87d21189-b245-470a-9215-4c30d2fffd32",
   "metadata": {},
   "outputs": [
    {
     "data": {
      "text/html": [
       "<div>\n",
       "<style scoped>\n",
       "    .dataframe tbody tr th:only-of-type {\n",
       "        vertical-align: middle;\n",
       "    }\n",
       "\n",
       "    .dataframe tbody tr th {\n",
       "        vertical-align: top;\n",
       "    }\n",
       "\n",
       "    .dataframe thead th {\n",
       "        text-align: right;\n",
       "    }\n",
       "</style>\n",
       "<table border=\"1\" class=\"dataframe\">\n",
       "  <thead>\n",
       "    <tr style=\"text-align: right;\">\n",
       "      <th></th>\n",
       "      <th>alpha</th>\n",
       "      <th>beta</th>\n",
       "    </tr>\n",
       "  </thead>\n",
       "  <tbody>\n",
       "    <tr>\n",
       "      <th>0</th>\n",
       "      <td>1</td>\n",
       "      <td>4</td>\n",
       "    </tr>\n",
       "    <tr>\n",
       "      <th>1</th>\n",
       "      <td>2</td>\n",
       "      <td>5</td>\n",
       "    </tr>\n",
       "    <tr>\n",
       "      <th>2</th>\n",
       "      <td>3</td>\n",
       "      <td>6</td>\n",
       "    </tr>\n",
       "  </tbody>\n",
       "</table>\n",
       "</div>"
      ],
      "text/plain": [
       "   alpha  beta\n",
       "0      1     4\n",
       "1      2     5\n",
       "2      3     6"
      ]
     },
     "execution_count": 27,
     "metadata": {},
     "output_type": "execute_result"
    }
   ],
   "source": [
    "df = pd.DataFrame({\n",
    "    'MY DirtXXl Alpha': [1, 2, 3],\n",
    "    'Bxta-_': [4, 5, 6]\n",
    "})\n",
    "df.rename(columns={'MY DirtXXl Alpha': 'alpha', 'Bxta-_': 'beta'})"
   ]
  },
  {
   "cell_type": "markdown",
   "id": "dd854027-1129-4441-8176-561a03ee969b",
   "metadata": {},
   "source": [
    "# Dropping Axis Indexes\n",
    "\n",
    "There are various methods to drop one or more entries from an pandas object axis. For example, you can use `reindex`, label-based indexing or `del` keyword.\n",
    "\n",
    "However, if you wanna a more clean and expressive alternative, you can use the `drop` method. It provides a straightforward way to remove entrie and returns a new object with the specified value or values removed from the axis."
   ]
  },
  {
   "cell_type": "code",
   "execution_count": 28,
   "id": "80efefdd-26c5-4c7c-a3c7-996699423dc1",
   "metadata": {},
   "outputs": [
    {
     "data": {
      "text/html": [
       "<div>\n",
       "<style scoped>\n",
       "    .dataframe tbody tr th:only-of-type {\n",
       "        vertical-align: middle;\n",
       "    }\n",
       "\n",
       "    .dataframe tbody tr th {\n",
       "        vertical-align: top;\n",
       "    }\n",
       "\n",
       "    .dataframe thead th {\n",
       "        text-align: right;\n",
       "    }\n",
       "</style>\n",
       "<table border=\"1\" class=\"dataframe\">\n",
       "  <thead>\n",
       "    <tr style=\"text-align: right;\">\n",
       "      <th></th>\n",
       "      <th>month</th>\n",
       "      <th>year</th>\n",
       "      <th>sale</th>\n",
       "    </tr>\n",
       "  </thead>\n",
       "  <tbody>\n",
       "    <tr>\n",
       "      <th>0</th>\n",
       "      <td>1</td>\n",
       "      <td>2012</td>\n",
       "      <td>55</td>\n",
       "    </tr>\n",
       "    <tr>\n",
       "      <th>1</th>\n",
       "      <td>4</td>\n",
       "      <td>2014</td>\n",
       "      <td>40</td>\n",
       "    </tr>\n",
       "    <tr>\n",
       "      <th>2</th>\n",
       "      <td>7</td>\n",
       "      <td>2013</td>\n",
       "      <td>84</td>\n",
       "    </tr>\n",
       "    <tr>\n",
       "      <th>3</th>\n",
       "      <td>10</td>\n",
       "      <td>2014</td>\n",
       "      <td>31</td>\n",
       "    </tr>\n",
       "  </tbody>\n",
       "</table>\n",
       "</div>"
      ],
      "text/plain": [
       "   month  year  sale\n",
       "0      1  2012    55\n",
       "1      4  2014    40\n",
       "2      7  2013    84\n",
       "3     10  2014    31"
      ]
     },
     "execution_count": 28,
     "metadata": {},
     "output_type": "execute_result"
    }
   ],
   "source": [
    "df = pd.DataFrame({\n",
    "    'month': [1, 4, 7, 10],\n",
    "    'year': [2012, 2014, 2013, 2014],\n",
    "    'sale': [55, 40, 84, 31]\n",
    "})\n",
    "df"
   ]
  },
  {
   "cell_type": "code",
   "execution_count": 29,
   "id": "2e3b83d9-3ea5-4d7f-a872-a94fea7f130b",
   "metadata": {},
   "outputs": [
    {
     "data": {
      "text/html": [
       "<div>\n",
       "<style scoped>\n",
       "    .dataframe tbody tr th:only-of-type {\n",
       "        vertical-align: middle;\n",
       "    }\n",
       "\n",
       "    .dataframe tbody tr th {\n",
       "        vertical-align: top;\n",
       "    }\n",
       "\n",
       "    .dataframe thead th {\n",
       "        text-align: right;\n",
       "    }\n",
       "</style>\n",
       "<table border=\"1\" class=\"dataframe\">\n",
       "  <thead>\n",
       "    <tr style=\"text-align: right;\">\n",
       "      <th></th>\n",
       "      <th>month</th>\n",
       "      <th>sale</th>\n",
       "    </tr>\n",
       "  </thead>\n",
       "  <tbody>\n",
       "    <tr>\n",
       "      <th>0</th>\n",
       "      <td>1</td>\n",
       "      <td>55</td>\n",
       "    </tr>\n",
       "    <tr>\n",
       "      <th>1</th>\n",
       "      <td>4</td>\n",
       "      <td>40</td>\n",
       "    </tr>\n",
       "    <tr>\n",
       "      <th>2</th>\n",
       "      <td>7</td>\n",
       "      <td>84</td>\n",
       "    </tr>\n",
       "    <tr>\n",
       "      <th>3</th>\n",
       "      <td>10</td>\n",
       "      <td>31</td>\n",
       "    </tr>\n",
       "  </tbody>\n",
       "</table>\n",
       "</div>"
      ],
      "text/plain": [
       "   month  sale\n",
       "0      1    55\n",
       "1      4    40\n",
       "2      7    84\n",
       "3     10    31"
      ]
     },
     "execution_count": 29,
     "metadata": {},
     "output_type": "execute_result"
    }
   ],
   "source": [
    "df.drop(columns=['year'])"
   ]
  },
  {
   "cell_type": "code",
   "execution_count": 30,
   "id": "eb73baa0-0ba9-4268-b859-a094602ac5e7",
   "metadata": {},
   "outputs": [
    {
     "data": {
      "text/html": [
       "<div>\n",
       "<style scoped>\n",
       "    .dataframe tbody tr th:only-of-type {\n",
       "        vertical-align: middle;\n",
       "    }\n",
       "\n",
       "    .dataframe tbody tr th {\n",
       "        vertical-align: top;\n",
       "    }\n",
       "\n",
       "    .dataframe thead th {\n",
       "        text-align: right;\n",
       "    }\n",
       "</style>\n",
       "<table border=\"1\" class=\"dataframe\">\n",
       "  <thead>\n",
       "    <tr style=\"text-align: right;\">\n",
       "      <th></th>\n",
       "      <th>month</th>\n",
       "      <th>year</th>\n",
       "      <th>sale</th>\n",
       "    </tr>\n",
       "  </thead>\n",
       "  <tbody>\n",
       "    <tr>\n",
       "      <th>1</th>\n",
       "      <td>4</td>\n",
       "      <td>2014</td>\n",
       "      <td>40</td>\n",
       "    </tr>\n",
       "    <tr>\n",
       "      <th>2</th>\n",
       "      <td>7</td>\n",
       "      <td>2013</td>\n",
       "      <td>84</td>\n",
       "    </tr>\n",
       "    <tr>\n",
       "      <th>3</th>\n",
       "      <td>10</td>\n",
       "      <td>2014</td>\n",
       "      <td>31</td>\n",
       "    </tr>\n",
       "  </tbody>\n",
       "</table>\n",
       "</div>"
      ],
      "text/plain": [
       "   month  year  sale\n",
       "1      4  2014    40\n",
       "2      7  2013    84\n",
       "3     10  2014    31"
      ]
     },
     "execution_count": 30,
     "metadata": {},
     "output_type": "execute_result"
    }
   ],
   "source": [
    "df.drop(index=[0])"
   ]
  },
  {
   "cell_type": "markdown",
   "id": "c03e44b7-eebd-4ed2-acb7-2bfd31c077c5",
   "metadata": {},
   "source": [
    "# Axis Indexes with Duplicate Label\n",
    "\n",
    "While many pandas functions, such as `reindex`, works only with unique axis labels, having it isn't a strict requirement. You can have duplicate row or column labels, which can affect data selection behavior. When you index a label with multiple occurrences, pandas returns a Series, while a single occurrence returns a scalar value.\n",
    "\n",
    "From a pragmatic perspective, index labels should be unique and pandas provides tools to help ensure this. To check if an index's labels are unique, use the `is_unique` property of the index. Alternativel, `Index.duplicated()` method provides a boolean ndarray indicating if a label is repeated, which can be used as a filter to remove duplicate rows.\n",
    "\n",
    "For more sophisticated handling of duplicate labels, beyond simply removing them, using `groupby()` on the index is a powerful technique. For example, you can resolve duplicates by averaging all rows with the same label. This allows for more nuanced data manipulation and aggregation, ensuring your dataset is accurate and meaningful."
   ]
  },
  {
   "cell_type": "markdown",
   "id": "b70e891b-d229-4ce6-9cdb-50f11a47c25d",
   "metadata": {},
   "source": [
    "# References \n",
    "\n",
    "- [Python for Data Analysis by Wes McKinney (3e)](https://wesmckinney.com/book/)\n",
    "- [Pandas Official Documentation](https://pandas.pydata.org/docs/user_guide/10min.html)\n",
    "- [Frequently Asked Questions (FAQ) on Pandas](https://pandas.pydata.org/docs/user_guide/gotchas.html)"
   ]
  }
 ],
 "metadata": {
  "kernelspec": {
   "display_name": "Python 3 (ipykernel)",
   "language": "python",
   "name": "python3"
  },
  "language_info": {
   "codemirror_mode": {
    "name": "ipython",
    "version": 3
   },
   "file_extension": ".py",
   "mimetype": "text/x-python",
   "name": "python",
   "nbconvert_exporter": "python",
   "pygments_lexer": "ipython3",
   "version": "3.10.13"
  }
 },
 "nbformat": 4,
 "nbformat_minor": 5
}
